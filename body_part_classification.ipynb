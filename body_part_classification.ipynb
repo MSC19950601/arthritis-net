{
 "cells": [
  {
   "cell_type": "markdown",
   "metadata": {},
   "source": [
    "# Body part classification\n",
    "\n",
    "This notebook classifies the x-ray images into different body parts.\n",
    "\n",
    "## 1. Preprocessing\n",
    "\n",
    "First I import all the dependencies"
   ]
  },
  {
   "cell_type": "code",
   "execution_count": 1,
   "metadata": {
    "collapsed": true
   },
   "outputs": [],
   "source": [
    "# import tf\n",
    "import tensorflow as tf\n",
    "\n",
    "# import numpy for arrays\n",
    "import numpy as np\n",
    "# import pandas for csv import\n",
    "import pandas as pd\n",
    "# import matplotlib\n",
    "import matplotlib.pyplot as plt\n",
    "# os to handle pathnames\n",
    "import os.path\n",
    "# PIL to open & manipulate images\n",
    "from PIL import Image\n",
    "from PIL import ImageChops\n",
    "from PIL import ImageOps\n",
    "from PIL import ImageFile\n",
    "# for messages in loops\n",
    "from IPython.display import clear_output\n",
    "# for train/test split\n",
    "from sklearn.model_selection import train_test_split\n",
    "# for one-hot encoding\n",
    "from sklearn.preprocessing import LabelBinarizer\n",
    "\n",
    "# import keras modules from tensorflow.contrib for the CNN\n",
    "from tensorflow.contrib.keras.python.keras.models import Sequential\n",
    "from tensorflow.contrib.keras.python.keras.layers import Dense, Dropout, \\\n",
    "    Flatten\n",
    "from tensorflow.contrib.keras.python.keras.layers.convolutional import \\\n",
    "    Conv2D, MaxPooling2D\n",
    "from tensorflow.contrib.keras.python.keras.utils import to_categorical\n",
    "from tensorflow.contrib.keras.python.keras import backend as K\n",
    "from tensorflow.contrib.keras.python.keras import callbacks\n",
    "from tensorflow.contrib.keras.python.keras.preprocessing.image import \\\n",
    "    ImageDataGenerator, array_to_img, img_to_array, load_img"
   ]
  },
  {
   "cell_type": "markdown",
   "metadata": {},
   "source": [
    "Next I define the image format and fix the random seed"
   ]
  },
  {
   "cell_type": "code",
   "execution_count": 2,
   "metadata": {
    "collapsed": true
   },
   "outputs": [],
   "source": [
    "# image format -> (rows, cols, channels)\n",
    "K.set_image_data_format(\"channels_last\")\n",
    "# fix random seed for reproducibility\n",
    "seed = 1\n",
    "np.random.seed(seed)\n",
    "tf.set_random_seed(seed)"
   ]
  },
  {
   "cell_type": "markdown",
   "metadata": {},
   "source": [
    "Create an array with all image names and an array with their labels"
   ]
  },
  {
   "cell_type": "code",
   "execution_count": 3,
   "metadata": {
    "collapsed": true
   },
   "outputs": [],
   "source": [
    "df = pd.read_csv(filepath_or_buffer=\"/data/deepxray/data/rau_data/merged.csv\")\n",
    "df.head()\n",
    "names = df[\"sop_iuid\"].as_matrix()\n",
    "labels = df[\"body_part\"].as_matrix()\n",
    "n_img = names.size"
   ]
  },
  {
   "cell_type": "markdown",
   "metadata": {},
   "source": [
    "I then define a function to import and transform the images"
   ]
  },
  {
   "cell_type": "code",
   "execution_count": 4,
   "metadata": {
    "collapsed": true
   },
   "outputs": [],
   "source": [
    "# desired image size\n",
    "size = (256, 256)\n",
    "# specify filepath of images\n",
    "root = \"/data/deepxray\"\n",
    "dirname = \"images/jpgs\"\n",
    "\n",
    "def preprocess_img(file_name):\n",
    "    # at least one file is damaged, this setting allows\n",
    "    # to import it anyways\n",
    "    ImageFile.LOAD_TRUNCATED_IMAGES = True\n",
    "    \n",
    "    # filename\n",
    "    file = file_name + \".jpg\"\n",
    "\n",
    "    # read image\n",
    "    image = Image.open(fp=os.path.join(root, dirname, file))\n",
    "    # some images are read as rgb -> convert to grayscale\n",
    "    if (image.mode != 0):\n",
    "        image = image.convert(mode='L')\n",
    "    # scaling image to desired resultion while keeping aspect ratio\n",
    "    image.thumbnail(size=size, resample=Image.ANTIALIAS)\n",
    "    image_size = image.size\n",
    "    # histogram normalization (remaps the image -> lightest pixel = 255, darkest pixel = 0)\n",
    "    image = ImageOps.autocontrast(image=image)\n",
    "    # add a black bar to the image to get desired size\n",
    "    thumb = image.crop(box=(0, 0, size[0], size[1]))\n",
    "    # shift original image to the middle so that the black bars are on both sides\n",
    "    offset_x = max((size[0] - image_size[0]) / 2, 0)\n",
    "    offset_y = max((size[1] - image_size[1]) / 2, 0)\n",
    "    thumb = ImageChops.offset(image=thumb, xoffset=int(offset_x), yoffset=int(offset_y))\n",
    "    # turn into np array\n",
    "    data = np.asarray(a=thumb, dtype=\"uint8\")\n",
    "    return(data)"
   ]
  },
  {
   "cell_type": "markdown",
   "metadata": {
    "collapsed": true
   },
   "source": [
    "Import all images (already done, see 2 cells below import of array)"
   ]
  },
  {
   "cell_type": "raw",
   "metadata": {},
   "source": [
    "images = []\n",
    "\n",
    "for i, name in enumerate(names):\n",
    "    if (i % 100) == 0:\n",
    "        clear_output()\n",
    "        print(\"Importing images, {0:.2f} % finished\".format(i/n_img*100))\n",
    "    img = preprocess_img(name)\n",
    "    images.append(img)"
   ]
  },
  {
   "cell_type": "markdown",
   "metadata": {},
   "source": [
    "Save as np array"
   ]
  },
  {
   "cell_type": "raw",
   "metadata": {},
   "source": [
    "images = np.array(images)\n",
    "np.save(file=\"/data/body_part_classification/img_array.npy\", arr=images)"
   ]
  },
  {
   "cell_type": "markdown",
   "metadata": {},
   "source": [
    "Load saved array"
   ]
  },
  {
   "cell_type": "raw",
   "metadata": {},
   "source": [
    "images = np.load(file=\"/data/body_part_classification/img_array.npy\")\n",
    "images = images.reshape(images.shape[0], images.shape[1], images.shape[2], 1)\n",
    "#images = images/255.\n",
    "plt.imshow(images[0].squeeze(), cmap='gray')\n",
    "plt.show()\n"
   ]
  },
  {
   "cell_type": "markdown",
   "metadata": {},
   "source": [
    "splitting data into train & test set"
   ]
  },
  {
   "cell_type": "raw",
   "metadata": {},
   "source": [
    "img_train, img_test, labels_train, labels_test = train_test_split(images, labels,\n",
    "                                                                  test_size=0.3,\n",
    "                                                                  random_state=1,\n",
    "                                                                  stratify=labels)"
   ]
  },
  {
   "cell_type": "raw",
   "metadata": {},
   "source": [
    "np.save(file=\"/data/body_part_classification/img_train.npy\", arr=img_train)\n",
    "np.save(file=\"/data/body_part_classification/img_test.npy\", arr=img_test)\n",
    "np.save(file=\"/data/body_part_classification/labels_train.npy\", arr=labels_train)\n",
    "np.save(file=\"/data/body_part_classification/labels_test.npy\", arr=labels_test)"
   ]
  },
  {
   "cell_type": "code",
   "execution_count": 5,
   "metadata": {
    "collapsed": true
   },
   "outputs": [],
   "source": [
    "img_train = np.load(file=\"/data/body_part_classification/img_train.npy\")\n",
    "img_test = np.load(file=\"/data/body_part_classification/img_test.npy\")\n",
    "labels_train = np.load(file=\"/data/body_part_classification/labels_train.npy\")\n",
    "labels_test = np.load(file=\"/data/body_part_classification/labels_test.npy\")"
   ]
  },
  {
   "cell_type": "code",
   "execution_count": 6,
   "metadata": {},
   "outputs": [
    {
     "name": "stdout",
     "output_type": "stream",
     "text": [
      "6\n"
     ]
    }
   ],
   "source": [
    "# one hot encode outputs\n",
    "labels_train = LabelBinarizer().fit_transform(labels_train)\n",
    "labels_test = LabelBinarizer().fit_transform(labels_test)\n",
    "num_classes = labels_test.shape[1]\n",
    "print(num_classes)"
   ]
  },
  {
   "cell_type": "markdown",
   "metadata": {},
   "source": [
    "## 2. Model"
   ]
  },
  {
   "cell_type": "code",
   "execution_count": 7,
   "metadata": {
    "collapsed": true
   },
   "outputs": [],
   "source": [
    "def conv_model():\n",
    "    # create model\n",
    "    model = Sequential()\n",
    "    model.add(Conv2D(filters=32, kernel_size=(3, 3), input_shape=(256, 256, 1),\n",
    "                     activation=\"relu\", kernel_initializer=\"he_normal\"))\n",
    "    model.add(Conv2D(filters=32, kernel_size=(3, 3), activation=\"relu\"))\n",
    "    model.add(MaxPooling2D(pool_size=(2, 2)))\n",
    "    model.add(Conv2D(filters=32, kernel_size=(3, 3), activation=\"relu\"))\n",
    "    model.add(Conv2D(filters=32, kernel_size=(3, 3), activation=\"relu\"))\n",
    "    model.add(MaxPooling2D(pool_size=(2, 2)))\n",
    "    model.add(Conv2D(filters=64, kernel_size=(3, 3), activation=\"relu\"))\n",
    "    model.add(Conv2D(filters=64, kernel_size=(3, 3), activation=\"relu\"))\n",
    "    model.add(MaxPooling2D(pool_size=(2, 2)))\n",
    "    model.add(Conv2D(filters=64, kernel_size=(3, 3), activation=\"relu\"))\n",
    "    model.add(Conv2D(filters=64, kernel_size=(3, 3), activation=\"relu\"))\n",
    "    model.add(MaxPooling2D(pool_size=(2, 2)))\n",
    "    model.add(Flatten())\n",
    "    model.add(Dense(units=128, kernel_initializer=\"he_normal\",\n",
    "                    activation=\"relu\"))\n",
    "    model.add(Dropout(rate=0.3))\n",
    "    model.add(Dense(units=128, kernel_initializer=\"he_normal\",\n",
    "                    activation=\"relu\"))\n",
    "    model.add(Dense(units=num_classes, activation=\"softmax\",\n",
    "                    kernel_initializer=\"he_normal\"))\n",
    "\n",
    "    # Compile model\n",
    "    model.compile(optimizer=\"adam\", loss=\"categorical_crossentropy\",\n",
    "                  metrics=[\"accuracy\"])\n",
    "\n",
    "    return model"
   ]
  },
  {
   "cell_type": "code",
   "execution_count": 8,
   "metadata": {},
   "outputs": [
    {
     "name": "stdout",
     "output_type": "stream",
     "text": [
      "_________________________________________________________________\n",
      "Layer (type)                 Output Shape              Param #   \n",
      "=================================================================\n",
      "conv2d_1 (Conv2D)            (None, 254, 254, 32)      320       \n",
      "_________________________________________________________________\n",
      "conv2d_2 (Conv2D)            (None, 252, 252, 32)      9248      \n",
      "_________________________________________________________________\n",
      "max_pooling2d_1 (MaxPooling2 (None, 126, 126, 32)      0         \n",
      "_________________________________________________________________\n",
      "conv2d_3 (Conv2D)            (None, 124, 124, 32)      9248      \n",
      "_________________________________________________________________\n",
      "conv2d_4 (Conv2D)            (None, 122, 122, 32)      9248      \n",
      "_________________________________________________________________\n",
      "max_pooling2d_2 (MaxPooling2 (None, 61, 61, 32)        0         \n",
      "_________________________________________________________________\n",
      "conv2d_5 (Conv2D)            (None, 59, 59, 64)        18496     \n",
      "_________________________________________________________________\n",
      "conv2d_6 (Conv2D)            (None, 57, 57, 64)        36928     \n",
      "_________________________________________________________________\n",
      "max_pooling2d_3 (MaxPooling2 (None, 28, 28, 64)        0         \n",
      "_________________________________________________________________\n",
      "conv2d_7 (Conv2D)            (None, 26, 26, 64)        36928     \n",
      "_________________________________________________________________\n",
      "conv2d_8 (Conv2D)            (None, 24, 24, 64)        36928     \n",
      "_________________________________________________________________\n",
      "max_pooling2d_4 (MaxPooling2 (None, 12, 12, 64)        0         \n",
      "_________________________________________________________________\n",
      "flatten_1 (Flatten)          (None, 9216)              0         \n",
      "_________________________________________________________________\n",
      "dense_1 (Dense)              (None, 128)               1179776   \n",
      "_________________________________________________________________\n",
      "dropout_1 (Dropout)          (None, 128)               0         \n",
      "_________________________________________________________________\n",
      "dense_2 (Dense)              (None, 128)               16512     \n",
      "_________________________________________________________________\n",
      "dense_3 (Dense)              (None, 6)                 774       \n",
      "=================================================================\n",
      "Total params: 1,354,406\n",
      "Trainable params: 1,354,406\n",
      "Non-trainable params: 0\n",
      "_________________________________________________________________\n"
     ]
    }
   ],
   "source": [
    "# build the model\n",
    "model = conv_model()\n",
    "model.summary()"
   ]
  },
  {
   "cell_type": "code",
   "execution_count": 9,
   "metadata": {
    "collapsed": true
   },
   "outputs": [],
   "source": [
    "# tensorboard callback\n",
    "tb_callback = callbacks.TensorBoard(log_dir=\"/data/body_part_classification/tensorboard/1st_model\",\n",
    "                                    histogram_freq=0, write_graph=True,\n",
    "                                    write_images=True)"
   ]
  },
  {
   "cell_type": "code",
   "execution_count": 10,
   "metadata": {},
   "outputs": [
    {
     "name": "stdout",
     "output_type": "stream",
     "text": [
      "Train on 33875 samples, validate on 14519 samples\n",
      "Epoch 1/100\n",
      "121s - loss: 0.3434 - acc: 0.9068 - val_loss: 0.1185 - val_acc: 0.9705\n",
      "Epoch 2/100\n",
      "116s - loss: 0.1096 - acc: 0.9720 - val_loss: 0.0965 - val_acc: 0.9754\n",
      "Epoch 3/100\n",
      "116s - loss: 0.0884 - acc: 0.9766 - val_loss: 0.0988 - val_acc: 0.9735\n",
      "Epoch 4/100\n",
      "116s - loss: 0.0747 - acc: 0.9801 - val_loss: 0.0906 - val_acc: 0.9757\n",
      "Epoch 5/100\n",
      "116s - loss: 0.0640 - acc: 0.9824 - val_loss: 0.1038 - val_acc: 0.9762\n",
      "Epoch 6/100\n",
      "116s - loss: 0.0592 - acc: 0.9826 - val_loss: 0.0951 - val_acc: 0.9775\n",
      "Epoch 7/100\n",
      "116s - loss: 0.0551 - acc: 0.9838 - val_loss: 0.0871 - val_acc: 0.9790\n",
      "Epoch 8/100\n",
      "116s - loss: 0.0501 - acc: 0.9844 - val_loss: 0.1039 - val_acc: 0.9782\n",
      "Epoch 9/100\n",
      "115s - loss: 0.0441 - acc: 0.9866 - val_loss: 0.1017 - val_acc: 0.9808\n",
      "Epoch 10/100\n",
      "115s - loss: 0.0389 - acc: 0.9881 - val_loss: 0.1202 - val_acc: 0.9776\n",
      "Epoch 11/100\n",
      "115s - loss: 0.0374 - acc: 0.9885 - val_loss: 0.1087 - val_acc: 0.9798\n",
      "Epoch 12/100\n",
      "115s - loss: 0.0321 - acc: 0.9892 - val_loss: 0.1189 - val_acc: 0.9800\n",
      "Epoch 13/100\n",
      "115s - loss: 0.0324 - acc: 0.9899 - val_loss: 0.1121 - val_acc: 0.9786\n",
      "Epoch 14/100\n",
      "115s - loss: 0.0282 - acc: 0.9906 - val_loss: 0.1171 - val_acc: 0.9814\n",
      "Epoch 15/100\n",
      "115s - loss: 0.0236 - acc: 0.9927 - val_loss: 0.1346 - val_acc: 0.9785\n",
      "Epoch 16/100\n",
      "115s - loss: 0.0264 - acc: 0.9915 - val_loss: 0.0989 - val_acc: 0.9813\n",
      "Epoch 17/100\n",
      "115s - loss: 0.0237 - acc: 0.9929 - val_loss: 0.1612 - val_acc: 0.9790\n",
      "Epoch 18/100\n",
      "115s - loss: 0.0268 - acc: 0.9917 - val_loss: 0.1226 - val_acc: 0.9765\n",
      "Epoch 19/100\n",
      "115s - loss: 0.0185 - acc: 0.9932 - val_loss: 0.1242 - val_acc: 0.9811\n",
      "Epoch 20/100\n",
      "115s - loss: 0.0186 - acc: 0.9934 - val_loss: 0.1165 - val_acc: 0.9806\n",
      "Epoch 21/100\n",
      "114s - loss: 0.0162 - acc: 0.9943 - val_loss: 0.1378 - val_acc: 0.9798\n",
      "Epoch 22/100\n",
      "114s - loss: 0.0209 - acc: 0.9937 - val_loss: 0.1289 - val_acc: 0.9805\n",
      "Epoch 23/100\n",
      "114s - loss: 0.0173 - acc: 0.9946 - val_loss: 0.1442 - val_acc: 0.9810\n",
      "Epoch 24/100\n",
      "114s - loss: 0.0175 - acc: 0.9946 - val_loss: 0.1290 - val_acc: 0.9813\n",
      "Epoch 25/100\n",
      "114s - loss: 0.0148 - acc: 0.9951 - val_loss: 0.1273 - val_acc: 0.9796\n",
      "Epoch 26/100\n",
      "114s - loss: 0.0158 - acc: 0.9949 - val_loss: 0.1367 - val_acc: 0.9800\n",
      "Epoch 27/100\n",
      "114s - loss: 0.0135 - acc: 0.9958 - val_loss: 0.1282 - val_acc: 0.9811\n",
      "Epoch 28/100\n",
      "114s - loss: 0.0111 - acc: 0.9965 - val_loss: 0.1433 - val_acc: 0.9813\n",
      "Epoch 29/100\n",
      "114s - loss: 0.0138 - acc: 0.9954 - val_loss: 0.1335 - val_acc: 0.9813\n",
      "Epoch 30/100\n",
      "114s - loss: 0.0102 - acc: 0.9968 - val_loss: 0.1415 - val_acc: 0.9800\n",
      "Epoch 31/100\n",
      "114s - loss: 0.0174 - acc: 0.9948 - val_loss: 0.1299 - val_acc: 0.9820\n",
      "Epoch 32/100\n",
      "114s - loss: 0.0095 - acc: 0.9968 - val_loss: 0.1443 - val_acc: 0.9817\n",
      "Epoch 33/100\n",
      "114s - loss: 0.0081 - acc: 0.9977 - val_loss: 0.1475 - val_acc: 0.9809\n",
      "Epoch 34/100\n",
      "114s - loss: 0.0114 - acc: 0.9967 - val_loss: 0.1338 - val_acc: 0.9809\n",
      "Epoch 35/100\n",
      "114s - loss: 0.0125 - acc: 0.9965 - val_loss: 0.1564 - val_acc: 0.9816\n",
      "Epoch 36/100\n",
      "114s - loss: 0.0103 - acc: 0.9969 - val_loss: 0.1688 - val_acc: 0.9791\n",
      "Epoch 37/100\n",
      "114s - loss: 0.0111 - acc: 0.9964 - val_loss: 0.1124 - val_acc: 0.9809\n",
      "Epoch 38/100\n",
      "114s - loss: 0.0106 - acc: 0.9966 - val_loss: 0.1498 - val_acc: 0.9795\n",
      "Epoch 39/100\n",
      "114s - loss: 0.0107 - acc: 0.9965 - val_loss: 0.1554 - val_acc: 0.9816\n",
      "Epoch 40/100\n",
      "114s - loss: 0.0142 - acc: 0.9958 - val_loss: 0.1325 - val_acc: 0.9798\n",
      "Epoch 41/100\n",
      "115s - loss: 0.0086 - acc: 0.9971 - val_loss: 0.1548 - val_acc: 0.9811\n",
      "Epoch 42/100\n",
      "114s - loss: 0.0082 - acc: 0.9976 - val_loss: 0.1464 - val_acc: 0.9822\n",
      "Epoch 43/100\n",
      "114s - loss: 0.0069 - acc: 0.9982 - val_loss: 0.1387 - val_acc: 0.9820\n",
      "Epoch 44/100\n",
      "114s - loss: 0.0071 - acc: 0.9978 - val_loss: 0.1797 - val_acc: 0.9821\n",
      "Epoch 45/100\n",
      "114s - loss: 0.0067 - acc: 0.9979 - val_loss: 0.1664 - val_acc: 0.9811\n",
      "Epoch 46/100\n",
      "114s - loss: 0.0103 - acc: 0.9966 - val_loss: 0.1367 - val_acc: 0.9810\n",
      "Epoch 47/100\n",
      "114s - loss: 0.0109 - acc: 0.9967 - val_loss: 0.1308 - val_acc: 0.9801\n",
      "Epoch 48/100\n",
      "114s - loss: 0.0092 - acc: 0.9971 - val_loss: 0.1386 - val_acc: 0.9810\n",
      "Epoch 49/100\n",
      "114s - loss: 0.0058 - acc: 0.9983 - val_loss: 0.1349 - val_acc: 0.9813\n",
      "Epoch 50/100\n",
      "114s - loss: 0.0080 - acc: 0.9976 - val_loss: 0.1524 - val_acc: 0.9814\n",
      "Epoch 51/100\n",
      "114s - loss: 0.0060 - acc: 0.9981 - val_loss: 0.1542 - val_acc: 0.9791\n",
      "Epoch 52/100\n",
      "114s - loss: 0.0067 - acc: 0.9981 - val_loss: 0.1534 - val_acc: 0.9789\n",
      "Epoch 53/100\n",
      "114s - loss: 0.0074 - acc: 0.9980 - val_loss: 0.1578 - val_acc: 0.9815\n",
      "Epoch 54/100\n",
      "114s - loss: 0.0090 - acc: 0.9976 - val_loss: 0.1649 - val_acc: 0.9810\n",
      "Epoch 55/100\n",
      "114s - loss: 0.0046 - acc: 0.9988 - val_loss: 0.1481 - val_acc: 0.9824\n",
      "Epoch 56/100\n",
      "114s - loss: 0.0069 - acc: 0.9979 - val_loss: 0.1506 - val_acc: 0.9825\n",
      "Epoch 57/100\n",
      "114s - loss: 0.0064 - acc: 0.9981 - val_loss: 0.1579 - val_acc: 0.9819\n",
      "Epoch 58/100\n",
      "114s - loss: 0.0071 - acc: 0.9978 - val_loss: 0.1525 - val_acc: 0.9819\n",
      "Epoch 59/100\n",
      "114s - loss: 0.0097 - acc: 0.9970 - val_loss: 0.1847 - val_acc: 0.9811\n",
      "Epoch 60/100\n",
      "114s - loss: 0.0100 - acc: 0.9970 - val_loss: 0.1524 - val_acc: 0.9806\n",
      "Epoch 61/100\n",
      "114s - loss: 0.0113 - acc: 0.9972 - val_loss: 0.1197 - val_acc: 0.9800\n",
      "Epoch 62/100\n",
      "114s - loss: 0.0046 - acc: 0.9987 - val_loss: 0.1492 - val_acc: 0.9821\n",
      "Epoch 63/100\n",
      "114s - loss: 0.0056 - acc: 0.9985 - val_loss: 0.1417 - val_acc: 0.9797\n",
      "Epoch 64/100\n",
      "114s - loss: 0.0048 - acc: 0.9985 - val_loss: 0.2018 - val_acc: 0.9800\n",
      "Epoch 65/100\n",
      "114s - loss: 0.0079 - acc: 0.9977 - val_loss: 0.1634 - val_acc: 0.9797\n",
      "Epoch 66/100\n",
      "114s - loss: 0.0080 - acc: 0.9976 - val_loss: 0.1760 - val_acc: 0.9810\n",
      "Epoch 67/100\n",
      "114s - loss: 0.0065 - acc: 0.9981 - val_loss: 0.1770 - val_acc: 0.9825\n",
      "Epoch 68/100\n",
      "114s - loss: 0.0062 - acc: 0.9983 - val_loss: 0.1455 - val_acc: 0.9819\n",
      "Epoch 69/100\n",
      "114s - loss: 0.0062 - acc: 0.9983 - val_loss: 0.1441 - val_acc: 0.9830\n",
      "Epoch 70/100\n",
      "114s - loss: 0.0045 - acc: 0.9986 - val_loss: 0.1570 - val_acc: 0.9828\n",
      "Epoch 71/100\n",
      "114s - loss: 0.0066 - acc: 0.9983 - val_loss: 0.1539 - val_acc: 0.9820\n",
      "Epoch 72/100\n",
      "114s - loss: 0.0076 - acc: 0.9978 - val_loss: 0.1273 - val_acc: 0.9790\n",
      "Epoch 73/100\n",
      "114s - loss: 0.0038 - acc: 0.9988 - val_loss: 0.1838 - val_acc: 0.9815\n",
      "Epoch 74/100\n",
      "114s - loss: 0.0142 - acc: 0.9962 - val_loss: 0.1375 - val_acc: 0.9819\n",
      "Epoch 75/100\n",
      "114s - loss: 0.0034 - acc: 0.9990 - val_loss: 0.1544 - val_acc: 0.9820\n",
      "Epoch 76/100\n",
      "114s - loss: 0.0036 - acc: 0.9991 - val_loss: 0.1610 - val_acc: 0.9812\n",
      "Epoch 77/100\n",
      "114s - loss: 0.0060 - acc: 0.9981 - val_loss: 0.1451 - val_acc: 0.9820\n",
      "Epoch 78/100\n",
      "114s - loss: 0.0050 - acc: 0.9986 - val_loss: 0.1638 - val_acc: 0.9806\n",
      "Epoch 79/100\n",
      "114s - loss: 0.0050 - acc: 0.9986 - val_loss: 0.1611 - val_acc: 0.9813\n",
      "Epoch 80/100\n",
      "114s - loss: 0.0058 - acc: 0.9982 - val_loss: 0.1717 - val_acc: 0.9808\n",
      "Epoch 81/100\n",
      "114s - loss: 0.0041 - acc: 0.9987 - val_loss: 0.1521 - val_acc: 0.9805\n",
      "Epoch 82/100\n",
      "114s - loss: 0.0035 - acc: 0.9989 - val_loss: 0.1522 - val_acc: 0.9821\n",
      "Epoch 83/100\n",
      "114s - loss: 0.0044 - acc: 0.9989 - val_loss: 0.1699 - val_acc: 0.9819\n",
      "Epoch 84/100\n",
      "114s - loss: 0.0064 - acc: 0.9982 - val_loss: 0.1525 - val_acc: 0.9818\n",
      "Epoch 85/100\n",
      "114s - loss: 0.0041 - acc: 0.9991 - val_loss: 0.2220 - val_acc: 0.9806\n",
      "Epoch 86/100\n",
      "114s - loss: 0.0094 - acc: 0.9979 - val_loss: 0.1404 - val_acc: 0.9827\n",
      "Epoch 87/100\n",
      "114s - loss: 0.0054 - acc: 0.9987 - val_loss: 0.1534 - val_acc: 0.9822\n",
      "Epoch 88/100\n",
      "114s - loss: 0.0070 - acc: 0.9982 - val_loss: 0.1124 - val_acc: 0.9817\n",
      "Epoch 89/100\n",
      "114s - loss: 0.0027 - acc: 0.9990 - val_loss: 0.1655 - val_acc: 0.9817\n",
      "Epoch 90/100\n",
      "114s - loss: 0.0059 - acc: 0.9986 - val_loss: 0.1659 - val_acc: 0.9821\n",
      "Epoch 91/100\n",
      "114s - loss: 0.0061 - acc: 0.9985 - val_loss: 0.1988 - val_acc: 0.9798\n",
      "Epoch 92/100\n",
      "114s - loss: 0.0120 - acc: 0.9970 - val_loss: 0.1597 - val_acc: 0.9831\n",
      "Epoch 93/100\n",
      "114s - loss: 0.0043 - acc: 0.9987 - val_loss: 0.1598 - val_acc: 0.9835\n",
      "Epoch 94/100\n",
      "114s - loss: 0.0037 - acc: 0.9988 - val_loss: 0.1603 - val_acc: 0.9826\n",
      "Epoch 95/100\n",
      "114s - loss: 0.0034 - acc: 0.9992 - val_loss: 0.1565 - val_acc: 0.9835\n",
      "Epoch 96/100\n",
      "114s - loss: 0.0052 - acc: 0.9986 - val_loss: 0.1429 - val_acc: 0.9814\n",
      "Epoch 97/100\n",
      "114s - loss: 0.0046 - acc: 0.9986 - val_loss: 0.1478 - val_acc: 0.9827\n",
      "Epoch 98/100\n"
     ]
    },
    {
     "name": "stdout",
     "output_type": "stream",
     "text": [
      "114s - loss: 0.0024 - acc: 0.9993 - val_loss: 0.1520 - val_acc: 0.9819\n",
      "Epoch 99/100\n",
      "114s - loss: 0.0023 - acc: 0.9992 - val_loss: 0.1739 - val_acc: 0.9841\n",
      "Epoch 100/100\n",
      "114s - loss: 0.0049 - acc: 0.9988 - val_loss: 0.1790 - val_acc: 0.9820\n"
     ]
    },
    {
     "data": {
      "text/plain": [
       "<tensorflow.contrib.keras.python.keras.callbacks.History at 0x7ff3bcd93d30>"
      ]
     },
     "execution_count": 10,
     "metadata": {},
     "output_type": "execute_result"
    }
   ],
   "source": [
    "# Fit the model\n",
    "model.fit(x=img_train, y=labels_train, batch_size=100, epochs=100, verbose=2,\n",
    "          callbacks=[tb_callback], validation_data=(img_test, labels_test))"
   ]
  },
  {
   "cell_type": "code",
   "execution_count": 11,
   "metadata": {},
   "outputs": [
    {
     "name": "stdout",
     "output_type": "stream",
     "text": [
      "Error: 1.80%\n"
     ]
    }
   ],
   "source": [
    "# Final evaluation of the model\n",
    "scores = model.evaluate(img_test, labels_test, verbose=0)\n",
    "print(\"Error: %.2f%%\" % (100 - scores[1] * 100))"
   ]
  },
  {
   "cell_type": "code",
   "execution_count": 12,
   "metadata": {
    "collapsed": true
   },
   "outputs": [],
   "source": [
    "# Save the model\n",
    "model.save('/data/body_part_classification/1st_model.h5')"
   ]
  },
  {
   "cell_type": "code",
   "execution_count": null,
   "metadata": {
    "collapsed": true
   },
   "outputs": [],
   "source": []
  }
 ],
 "metadata": {
  "kernelspec": {
   "display_name": "Python 3",
   "language": "python",
   "name": "python3"
  },
  "language_info": {
   "codemirror_mode": {
    "name": "ipython",
    "version": 3
   },
   "file_extension": ".py",
   "mimetype": "text/x-python",
   "name": "python",
   "nbconvert_exporter": "python",
   "pygments_lexer": "ipython3",
   "version": "3.5.2"
  }
 },
 "nbformat": 4,
 "nbformat_minor": 1
}
