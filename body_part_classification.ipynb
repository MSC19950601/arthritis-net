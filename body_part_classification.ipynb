{
 "cells": [
  {
   "cell_type": "markdown",
   "metadata": {},
   "source": [
    "# Body part classification\n",
    "\n",
    "This notebook classifies the x-ray images into different body parts.\n",
    "\n",
    "First I import all the dependencies"
   ]
  },
  {
   "cell_type": "code",
   "execution_count": 1,
   "metadata": {
    "collapsed": true
   },
   "outputs": [],
   "source": [
    "# import tf\n",
    "import tensorflow as tf\n",
    "\n",
    "# import numpy for arrays\n",
    "import numpy as np\n",
    "# import pandas for csv import\n",
    "import pandas as pd\n",
    "# import matplotlib\n",
    "import matplotlib.pyplot as plt\n",
    "# os to handle pathnames\n",
    "import os.path\n",
    "# PIL to open & manipulate images\n",
    "from PIL import Image\n",
    "from PIL import ImageChops\n",
    "from PIL import ImageOps\n",
    "from PIL import ImageFile\n",
    "# for messages in loops\n",
    "from IPython.display import clear_output\n",
    "\n",
    "# import keras modules from tensorflow.contrib for the CNN\n",
    "from tensorflow.contrib.keras.python.keras.models import Sequential\n",
    "from tensorflow.contrib.keras.python.keras.layers import Dense, Dropout, \\\n",
    "    Flatten\n",
    "from tensorflow.contrib.keras.python.keras.layers.convolutional import \\\n",
    "    Conv2D, MaxPooling2D\n",
    "from tensorflow.contrib.keras.python.keras.utils import to_categorical\n",
    "from tensorflow.contrib.keras.python.keras import backend as K\n",
    "from tensorflow.contrib.keras.python.keras import callbacks\n",
    "from tensorflow.contrib.keras.python.keras.preprocessing.image import \\\n",
    "    ImageDataGenerator, array_to_img, img_to_array, load_img"
   ]
  },
  {
   "cell_type": "markdown",
   "metadata": {},
   "source": [
    "Next I define the image format and fix the random seed"
   ]
  },
  {
   "cell_type": "code",
   "execution_count": 2,
   "metadata": {
    "collapsed": true
   },
   "outputs": [],
   "source": [
    "# image format -> (rows, cols, channels)\n",
    "K.set_image_data_format(\"channels_last\")\n",
    "# fix random seed for reproducibility\n",
    "seed = 1\n",
    "np.random.seed(seed)\n",
    "tf.set_random_seed(seed)"
   ]
  },
  {
   "cell_type": "markdown",
   "metadata": {},
   "source": [
    "Create an array with all image names and an array with their labels"
   ]
  },
  {
   "cell_type": "code",
   "execution_count": 3,
   "metadata": {
    "collapsed": true
   },
   "outputs": [],
   "source": [
    "df = pd.read_csv(filepath_or_buffer=\"/data/deepxray/data/rau_data/merged.csv\")\n",
    "df.head()\n",
    "names = df[\"sop_iuid\"].as_matrix()\n",
    "labels = df[\"body_part\"].as_matrix()\n",
    "n_img = names.size"
   ]
  },
  {
   "cell_type": "markdown",
   "metadata": {},
   "source": [
    "I then define a function to import and transform the images"
   ]
  },
  {
   "cell_type": "code",
   "execution_count": 5,
   "metadata": {
    "collapsed": true
   },
   "outputs": [],
   "source": [
    "# desired image size\n",
    "size = (256, 256)\n",
    "# specify filepath of images\n",
    "root = \"/data/deepxray\"\n",
    "dirname = \"images/jpgs\"\n",
    "\n",
    "def preprocess_img(file_name):\n",
    "    # at least one file is damaged, this setting allows\n",
    "    # to import it anyways\n",
    "    ImageFile.LOAD_TRUNCATED_IMAGES = True\n",
    "    \n",
    "    # filename\n",
    "    file = file_name + \".jpg\"\n",
    "\n",
    "    # read image\n",
    "    image = Image.open(fp=os.path.join(root, dirname, file))\n",
    "    # some images are read as rgb -> convert to grayscale\n",
    "    if (image.mode != 0):\n",
    "        image = image.convert(mode='L')\n",
    "    # scaling image to desired resultion while keeping aspect ratio\n",
    "    image.thumbnail(size=size, resample=Image.ANTIALIAS)\n",
    "    image_size = image.size\n",
    "    # histogram normalization (remaps the image -> lightest pixel = 255, darkest pixel = 0)\n",
    "    image = ImageOps.autocontrast(image=image)\n",
    "    # add a black bar to the image to get desired size\n",
    "    thumb = image.crop(box=(0, 0, size[0], size[1]))\n",
    "    # shift original image to the middle so that the black bars are on both sides\n",
    "    offset_x = max((size[0] - image_size[0]) / 2, 0)\n",
    "    offset_y = max((size[1] - image_size[1]) / 2, 0)\n",
    "    thumb = ImageChops.offset(image=thumb, xoffset=int(offset_x), yoffset=int(offset_y))\n",
    "    # turn into np array\n",
    "    data = np.asarray(a=thumb, dtype=\"uint8\")\n",
    "    #data = data.reshape(data.shape[0], data.shape[1], 1)\n",
    "    #data = data/255.\n",
    "    return(data)"
   ]
  },
  {
   "cell_type": "markdown",
   "metadata": {
    "collapsed": true
   },
   "source": [
    "Import all images and save as np array"
   ]
  },
  {
   "cell_type": "code",
   "execution_count": 6,
   "metadata": {},
   "outputs": [
    {
     "name": "stdout",
     "output_type": "stream",
     "text": [
      "Importing images, 52.49 % finished\n"
     ]
    },
    {
     "ename": "OSError",
     "evalue": "cannot identify image file '/data/deepxray/images/jpgs/1.2.840.114257.1.25112008.121033.1.1.1.jpg'",
     "traceback": [
      "\u001b[0;31m---------------------------------------------------------------------------\u001b[0m",
      "\u001b[0;31mOSError\u001b[0m                                   Traceback (most recent call last)",
      "\u001b[0;32m<ipython-input-6-e9c979c6953e>\u001b[0m in \u001b[0;36m<module>\u001b[0;34m()\u001b[0m\n\u001b[1;32m      5\u001b[0m         \u001b[0mclear_output\u001b[0m\u001b[0;34m(\u001b[0m\u001b[0;34m)\u001b[0m\u001b[0;34m\u001b[0m\u001b[0m\n\u001b[1;32m      6\u001b[0m         \u001b[0mprint\u001b[0m\u001b[0;34m(\u001b[0m\u001b[0;34m\"Importing images, {0:.2f} % finished\"\u001b[0m\u001b[0;34m.\u001b[0m\u001b[0mformat\u001b[0m\u001b[0;34m(\u001b[0m\u001b[0mi\u001b[0m\u001b[0;34m/\u001b[0m\u001b[0mn_img\u001b[0m\u001b[0;34m*\u001b[0m\u001b[0;36m100\u001b[0m\u001b[0;34m)\u001b[0m\u001b[0;34m)\u001b[0m\u001b[0;34m\u001b[0m\u001b[0m\n\u001b[0;32m----> 7\u001b[0;31m     \u001b[0mimg\u001b[0m \u001b[0;34m=\u001b[0m \u001b[0mpreprocess_img\u001b[0m\u001b[0;34m(\u001b[0m\u001b[0mname\u001b[0m\u001b[0;34m)\u001b[0m\u001b[0;34m\u001b[0m\u001b[0m\n\u001b[0m\u001b[1;32m      8\u001b[0m     \u001b[0mimages\u001b[0m\u001b[0;34m.\u001b[0m\u001b[0mappend\u001b[0m\u001b[0;34m(\u001b[0m\u001b[0mimg\u001b[0m\u001b[0;34m)\u001b[0m\u001b[0;34m\u001b[0m\u001b[0m\n",
      "\u001b[0;32m<ipython-input-5-3d0692613969>\u001b[0m in \u001b[0;36mpreprocess_img\u001b[0;34m(file_name)\u001b[0m\n\u001b[1;32m     14\u001b[0m \u001b[0;34m\u001b[0m\u001b[0m\n\u001b[1;32m     15\u001b[0m     \u001b[0;31m# read image\u001b[0m\u001b[0;34m\u001b[0m\u001b[0;34m\u001b[0m\u001b[0m\n\u001b[0;32m---> 16\u001b[0;31m     \u001b[0mimage\u001b[0m \u001b[0;34m=\u001b[0m \u001b[0mImage\u001b[0m\u001b[0;34m.\u001b[0m\u001b[0mopen\u001b[0m\u001b[0;34m(\u001b[0m\u001b[0mfp\u001b[0m\u001b[0;34m=\u001b[0m\u001b[0mos\u001b[0m\u001b[0;34m.\u001b[0m\u001b[0mpath\u001b[0m\u001b[0;34m.\u001b[0m\u001b[0mjoin\u001b[0m\u001b[0;34m(\u001b[0m\u001b[0mroot\u001b[0m\u001b[0;34m,\u001b[0m \u001b[0mdirname\u001b[0m\u001b[0;34m,\u001b[0m \u001b[0mfile\u001b[0m\u001b[0;34m)\u001b[0m\u001b[0;34m)\u001b[0m\u001b[0;34m\u001b[0m\u001b[0m\n\u001b[0m\u001b[1;32m     17\u001b[0m     \u001b[0;31m# some images are read as rgb -> convert to grayscale\u001b[0m\u001b[0;34m\u001b[0m\u001b[0;34m\u001b[0m\u001b[0m\n\u001b[1;32m     18\u001b[0m     \u001b[0;32mif\u001b[0m \u001b[0;34m(\u001b[0m\u001b[0mimage\u001b[0m\u001b[0;34m.\u001b[0m\u001b[0mmode\u001b[0m \u001b[0;34m!=\u001b[0m \u001b[0;36m0\u001b[0m\u001b[0;34m)\u001b[0m\u001b[0;34m:\u001b[0m\u001b[0;34m\u001b[0m\u001b[0m\n",
      "\u001b[0;32m/usr/local/lib/python3.5/dist-packages/PIL/Image.py\u001b[0m in \u001b[0;36mopen\u001b[0;34m(fp, mode)\u001b[0m\n\u001b[1;32m   2517\u001b[0m         \u001b[0mfp\u001b[0m\u001b[0;34m.\u001b[0m\u001b[0mclose\u001b[0m\u001b[0;34m(\u001b[0m\u001b[0;34m)\u001b[0m\u001b[0;34m\u001b[0m\u001b[0m\n\u001b[1;32m   2518\u001b[0m     raise IOError(\"cannot identify image file %r\"\n\u001b[0;32m-> 2519\u001b[0;31m                   % (filename if filename else fp))\n\u001b[0m\u001b[1;32m   2520\u001b[0m \u001b[0;34m\u001b[0m\u001b[0m\n\u001b[1;32m   2521\u001b[0m \u001b[0;31m#\u001b[0m\u001b[0;34m\u001b[0m\u001b[0;34m\u001b[0m\u001b[0m\n",
      "\u001b[0;31mOSError\u001b[0m: cannot identify image file '/data/deepxray/images/jpgs/1.2.840.114257.1.25112008.121033.1.1.1.jpg'"
     ],
     "output_type": "error"
    }
   ],
   "source": [
    "images = []\n",
    "\n",
    "for i, name in enumerate(names):\n",
    "    if (i % 100) == 0:\n",
    "        clear_output()\n",
    "        print(\"Importing images, {0:.2f} % finished\".format(i/n_img*100))\n",
    "    img = preprocess_img(name)\n",
    "    images.append(img)"
   ]
  },
  {
   "cell_type": "code",
   "execution_count": null,
   "metadata": {
    "collapsed": true
   },
   "outputs": [],
   "source": [
    "images = np.array(images)\n",
    "np.save(file=\"/data/body_part_classification/img_array.npy\", arr=images)"
   ]
  },
  {
   "cell_type": "code",
   "execution_count": null,
   "metadata": {},
   "outputs": [],
   "source": [
    "images = np.load(file=\"/data/body_part_classification/img_array.npy\")\n",
    "images = images/255.\n",
    "plt.imshow(images[0], cmap='gray')\n",
    "plt.show()"
   ]
  },
  {
   "cell_type": "code",
   "execution_count": 7,
   "metadata": {},
   "outputs": [
    {
     "ename": "OSError",
     "evalue": "cannot identify image file '/data/deepxray/images/jpgs/1.2.840.114257.1.25112008.121033.1.1.1.jpg'",
     "traceback": [
      "\u001b[0;31m---------------------------------------------------------------------------\u001b[0m",
      "\u001b[0;31mOSError\u001b[0m                                   Traceback (most recent call last)",
      "\u001b[0;32m<ipython-input-7-08bc3cfd09b2>\u001b[0m in \u001b[0;36m<module>\u001b[0;34m()\u001b[0m\n\u001b[0;32m----> 1\u001b[0;31m \u001b[0mimage\u001b[0m \u001b[0;34m=\u001b[0m \u001b[0mImage\u001b[0m\u001b[0;34m.\u001b[0m\u001b[0mopen\u001b[0m\u001b[0;34m(\u001b[0m\u001b[0mfp\u001b[0m\u001b[0;34m=\u001b[0m\u001b[0;34m'/data/deepxray/images/jpgs/1.2.840.114257.1.25112008.121033.1.1.1.jpg'\u001b[0m\u001b[0;34m)\u001b[0m\u001b[0;34m\u001b[0m\u001b[0m\n\u001b[0m",
      "\u001b[0;32m/usr/local/lib/python3.5/dist-packages/PIL/Image.py\u001b[0m in \u001b[0;36mopen\u001b[0;34m(fp, mode)\u001b[0m\n\u001b[1;32m   2517\u001b[0m         \u001b[0mfp\u001b[0m\u001b[0;34m.\u001b[0m\u001b[0mclose\u001b[0m\u001b[0;34m(\u001b[0m\u001b[0;34m)\u001b[0m\u001b[0;34m\u001b[0m\u001b[0m\n\u001b[1;32m   2518\u001b[0m     raise IOError(\"cannot identify image file %r\"\n\u001b[0;32m-> 2519\u001b[0;31m                   % (filename if filename else fp))\n\u001b[0m\u001b[1;32m   2520\u001b[0m \u001b[0;34m\u001b[0m\u001b[0m\n\u001b[1;32m   2521\u001b[0m \u001b[0;31m#\u001b[0m\u001b[0;34m\u001b[0m\u001b[0;34m\u001b[0m\u001b[0m\n",
      "\u001b[0;31mOSError\u001b[0m: cannot identify image file '/data/deepxray/images/jpgs/1.2.840.114257.1.25112008.121033.1.1.1.jpg'"
     ],
     "output_type": "error"
    }
   ],
   "source": [
    ""
   ]
  },
  {
   "cell_type": "code",
   "execution_count": null,
   "metadata": {
    "collapsed": true
   },
   "outputs": [],
   "source": []
  }
 ],
 "metadata": {
  "kernelspec": {
   "display_name": "Python 3",
   "language": "python",
   "name": "python3"
  },
  "language_info": {
   "codemirror_mode": {
    "name": "ipython",
    "version": 3
   },
   "file_extension": ".py",
   "mimetype": "text/x-python",
   "name": "python",
   "nbconvert_exporter": "python",
   "pygments_lexer": "ipython3",
   "version": "3.5.2"
  }
 },
 "nbformat": 4,
 "nbformat_minor": 1
}
