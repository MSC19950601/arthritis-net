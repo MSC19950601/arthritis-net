{
 "cells": [
  {
   "cell_type": "markdown",
   "metadata": {},
   "source": [
    "# Embeddings"
   ]
  },
  {
   "cell_type": "code",
   "execution_count": 1,
   "metadata": {},
   "outputs": [],
   "source": [
    "import h5py\n",
    "import numpy as np\n",
    "import tensorflow as tf\n",
    "from tensorflow.python.keras.models import Sequential"
   ]
  },
  {
   "cell_type": "markdown",
   "metadata": {},
   "source": [
    "## Loading the data"
   ]
  },
  {
   "cell_type": "code",
   "execution_count": 2,
   "metadata": {},
   "outputs": [
    {
     "data": {
      "text/plain": [
       "((19611,), (19611, 150, 150, 1))"
      ]
     },
     "execution_count": 2,
     "metadata": {},
     "output_type": "execute_result"
    }
   ],
   "source": [
    "with h5py.File('/data/joint_scoring/labels_test.h5', 'r') as hf:\n",
    "    y = hf['labels_test'][:]\n",
    "    \n",
    "with h5py.File('/data/joint_scoring/img_test.h5', 'r') as hf:\n",
    "    imgs = hf['img_test'][:]\n",
    "\n",
    "imgs = imgs\n",
    "y = y\n",
    "\n",
    "y.shape, imgs.shape"
   ]
  },
  {
   "cell_type": "code",
   "execution_count": 3,
   "metadata": {},
   "outputs": [],
   "source": [
    "from tensorflow.python.keras.models import load_model\n",
    "\n",
    "loaded_model = load_model(\"/data/joint_scoring/models/20171108_195245.h5\")"
   ]
  },
  {
   "cell_type": "code",
   "execution_count": 4,
   "metadata": {},
   "outputs": [
    {
     "name": "stdout",
     "output_type": "stream",
     "text": [
      "19611/19611 [==============================] - 12s    \n"
     ]
    }
   ],
   "source": [
    "pred = loaded_model.predict_classes(imgs)"
   ]
  },
  {
   "cell_type": "code",
   "execution_count": 5,
   "metadata": {},
   "outputs": [],
   "source": [
    "diff = pred - y"
   ]
  },
  {
   "cell_type": "code",
   "execution_count": 6,
   "metadata": {},
   "outputs": [
    {
     "data": {
      "text/plain": [
       "array([ 0.,  0.,  3., ...,  1.,  2.,  0.])"
      ]
     },
     "execution_count": 6,
     "metadata": {},
     "output_type": "execute_result"
    }
   ],
   "source": [
    "diff"
   ]
  },
  {
   "cell_type": "markdown",
   "metadata": {},
   "source": [
    "## Build truncated model"
   ]
  },
  {
   "cell_type": "code",
   "execution_count": 7,
   "metadata": {},
   "outputs": [],
   "source": [
    "config = loaded_model.get_config()"
   ]
  },
  {
   "cell_type": "code",
   "execution_count": 8,
   "metadata": {},
   "outputs": [],
   "source": [
    "config = config[0:48]"
   ]
  },
  {
   "cell_type": "code",
   "execution_count": 9,
   "metadata": {},
   "outputs": [],
   "source": [
    "model = Sequential.from_config(config)"
   ]
  },
  {
   "cell_type": "code",
   "execution_count": 10,
   "metadata": {},
   "outputs": [],
   "source": [
    "weights = loaded_model.get_weights()"
   ]
  },
  {
   "cell_type": "code",
   "execution_count": 11,
   "metadata": {},
   "outputs": [],
   "source": [
    "model.set_weights(weights)"
   ]
  },
  {
   "cell_type": "markdown",
   "metadata": {},
   "source": [
    "## Get embeddings"
   ]
  },
  {
   "cell_type": "code",
   "execution_count": 12,
   "metadata": {},
   "outputs": [],
   "source": [
    "embeddings = model.predict(imgs)"
   ]
  },
  {
   "cell_type": "code",
   "execution_count": 13,
   "metadata": {},
   "outputs": [],
   "source": [
    "from sklearn.decomposition import PCA\n",
    "\n",
    "x_50d = PCA(n_components=50).fit_transform(embeddings)"
   ]
  },
  {
   "cell_type": "code",
   "execution_count": 14,
   "metadata": {},
   "outputs": [],
   "source": [
    "from sklearn.manifold import TSNE\n",
    "\n",
    "x_2d = TSNE(n_components=2, random_state=1).fit_transform(x_50d)"
   ]
  },
  {
   "cell_type": "markdown",
   "metadata": {},
   "source": [
    "## 2D"
   ]
  },
  {
   "cell_type": "code",
   "execution_count": 15,
   "metadata": {},
   "outputs": [],
   "source": [
    "from matplotlib import pyplot as plt\n",
    "\n",
    "plt.figure(figsize=(25,25))\n",
    "plt.scatter(x_2d[:, 0], x_2d[:, 1], c=y, cmap=plt.cm.get_cmap(\"viridis\", 6))\n",
    "plt.colorbar()\n",
    "plt.savefig('/data/joint_scoring/images/tsne_classification.png', bbox_inches='tight')"
   ]
  },
  {
   "cell_type": "code",
   "execution_count": null,
   "metadata": {},
   "outputs": [],
   "source": [
    "from matplotlib import pyplot as plt\n",
    "\n",
    "plt.figure(figsize=(25,25))\n",
    "plt.scatter(x_2d[:, 0], x_2d[:, 1], c=diff, cmap=plt.cm.get_cmap(\"RdBu\", 10))\n",
    "plt.colorbar()\n",
    "plt.savefig('/data/joint_scoring/images/tsne_diference_classification.png', bbox_inches='tight')"
   ]
  },
  {
   "cell_type": "markdown",
   "metadata": {},
   "source": [
    "## KNN"
   ]
  },
  {
   "cell_type": "code",
   "execution_count": 16,
   "metadata": {},
   "outputs": [],
   "source": [
    "from sklearn.neighbors import KNeighborsClassifier\n",
    "from sklearn.model_selection import cross_val_score"
   ]
  },
  {
   "cell_type": "code",
   "execution_count": 40,
   "metadata": {},
   "outputs": [],
   "source": [
    "weights = {0: 0.2468182438891165, 1: 0.61240428271328862, 2: 7.3563288563288562, 3: 15.980990274093722, 4: 27.700383141762451, 5: 12.358632478632479}"
   ]
  },
  {
   "cell_type": "code",
   "execution_count": 61,
   "metadata": {},
   "outputs": [],
   "source": [
    "def weight(x):\n",
    "    return np.vectorize(weights.get)(x.astype(\"int\"))"
   ]
  },
  {
   "cell_type": "code",
   "execution_count": 76,
   "metadata": {},
   "outputs": [
    {
     "data": {
      "text/plain": [
       "array([ 0.24681824,  0.24681824,  0.61240428,  7.35632886])"
      ]
     },
     "execution_count": 76,
     "metadata": {},
     "output_type": "execute_result"
    }
   ],
   "source": [
    "weight(np.array([0.1,0,1,2]))"
   ]
  },
  {
   "cell_type": "code",
   "execution_count": 77,
   "metadata": {},
   "outputs": [
    {
     "name": "stdout",
     "output_type": "stream",
     "text": [
      "1\n"
     ]
    },
    {
     "name": "stderr",
     "output_type": "stream",
     "text": [
      "/usr/local/lib/python3.5/dist-packages/sklearn/utils/extmath.py:439: RuntimeWarning: invalid value encountered in greater\n",
      "  mostfrequent = np.where(counts > oldcounts, score, oldmostfreq)\n",
      "/usr/local/lib/python3.5/dist-packages/sklearn/utils/extmath.py:439: RuntimeWarning: invalid value encountered in greater\n",
      "  mostfrequent = np.where(counts > oldcounts, score, oldmostfreq)\n",
      "/usr/local/lib/python3.5/dist-packages/sklearn/utils/extmath.py:439: RuntimeWarning: invalid value encountered in greater\n",
      "  mostfrequent = np.where(counts > oldcounts, score, oldmostfreq)\n",
      "/usr/local/lib/python3.5/dist-packages/sklearn/utils/extmath.py:439: RuntimeWarning: invalid value encountered in greater\n",
      "  mostfrequent = np.where(counts > oldcounts, score, oldmostfreq)\n",
      "/usr/local/lib/python3.5/dist-packages/sklearn/utils/extmath.py:439: RuntimeWarning: invalid value encountered in greater\n",
      "  mostfrequent = np.where(counts > oldcounts, score, oldmostfreq)\n",
      "/usr/local/lib/python3.5/dist-packages/sklearn/utils/extmath.py:439: RuntimeWarning: invalid value encountered in greater\n",
      "  mostfrequent = np.where(counts > oldcounts, score, oldmostfreq)\n",
      "/usr/local/lib/python3.5/dist-packages/sklearn/utils/extmath.py:439: RuntimeWarning: invalid value encountered in greater\n",
      "  mostfrequent = np.where(counts > oldcounts, score, oldmostfreq)\n",
      "/usr/local/lib/python3.5/dist-packages/sklearn/utils/extmath.py:439: RuntimeWarning: invalid value encountered in greater\n",
      "  mostfrequent = np.where(counts > oldcounts, score, oldmostfreq)\n",
      "/usr/local/lib/python3.5/dist-packages/sklearn/utils/extmath.py:439: RuntimeWarning: invalid value encountered in greater\n",
      "  mostfrequent = np.where(counts > oldcounts, score, oldmostfreq)\n",
      "/usr/local/lib/python3.5/dist-packages/sklearn/utils/extmath.py:439: RuntimeWarning: invalid value encountered in greater\n",
      "  mostfrequent = np.where(counts > oldcounts, score, oldmostfreq)\n"
     ]
    },
    {
     "name": "stdout",
     "output_type": "stream",
     "text": [
      "11\n"
     ]
    },
    {
     "name": "stderr",
     "output_type": "stream",
     "text": [
      "/usr/local/lib/python3.5/dist-packages/sklearn/utils/extmath.py:439: RuntimeWarning: invalid value encountered in greater\n",
      "  mostfrequent = np.where(counts > oldcounts, score, oldmostfreq)\n",
      "/usr/local/lib/python3.5/dist-packages/sklearn/utils/extmath.py:439: RuntimeWarning: invalid value encountered in greater\n",
      "  mostfrequent = np.where(counts > oldcounts, score, oldmostfreq)\n",
      "/usr/local/lib/python3.5/dist-packages/sklearn/utils/extmath.py:439: RuntimeWarning: invalid value encountered in greater\n",
      "  mostfrequent = np.where(counts > oldcounts, score, oldmostfreq)\n",
      "/usr/local/lib/python3.5/dist-packages/sklearn/utils/extmath.py:439: RuntimeWarning: invalid value encountered in greater\n",
      "  mostfrequent = np.where(counts > oldcounts, score, oldmostfreq)\n",
      "/usr/local/lib/python3.5/dist-packages/sklearn/utils/extmath.py:439: RuntimeWarning: invalid value encountered in greater\n",
      "  mostfrequent = np.where(counts > oldcounts, score, oldmostfreq)\n",
      "/usr/local/lib/python3.5/dist-packages/sklearn/utils/extmath.py:439: RuntimeWarning: invalid value encountered in greater\n",
      "  mostfrequent = np.where(counts > oldcounts, score, oldmostfreq)\n",
      "/usr/local/lib/python3.5/dist-packages/sklearn/utils/extmath.py:439: RuntimeWarning: invalid value encountered in greater\n",
      "  mostfrequent = np.where(counts > oldcounts, score, oldmostfreq)\n",
      "/usr/local/lib/python3.5/dist-packages/sklearn/utils/extmath.py:439: RuntimeWarning: invalid value encountered in greater\n",
      "  mostfrequent = np.where(counts > oldcounts, score, oldmostfreq)\n",
      "/usr/local/lib/python3.5/dist-packages/sklearn/utils/extmath.py:439: RuntimeWarning: invalid value encountered in greater\n",
      "  mostfrequent = np.where(counts > oldcounts, score, oldmostfreq)\n",
      "/usr/local/lib/python3.5/dist-packages/sklearn/utils/extmath.py:439: RuntimeWarning: invalid value encountered in greater\n",
      "  mostfrequent = np.where(counts > oldcounts, score, oldmostfreq)\n"
     ]
    },
    {
     "name": "stdout",
     "output_type": "stream",
     "text": [
      "21\n"
     ]
    },
    {
     "name": "stderr",
     "output_type": "stream",
     "text": [
      "/usr/local/lib/python3.5/dist-packages/sklearn/utils/extmath.py:439: RuntimeWarning: invalid value encountered in greater\n",
      "  mostfrequent = np.where(counts > oldcounts, score, oldmostfreq)\n",
      "/usr/local/lib/python3.5/dist-packages/sklearn/utils/extmath.py:439: RuntimeWarning: invalid value encountered in greater\n",
      "  mostfrequent = np.where(counts > oldcounts, score, oldmostfreq)\n",
      "/usr/local/lib/python3.5/dist-packages/sklearn/utils/extmath.py:439: RuntimeWarning: invalid value encountered in greater\n",
      "  mostfrequent = np.where(counts > oldcounts, score, oldmostfreq)\n",
      "/usr/local/lib/python3.5/dist-packages/sklearn/utils/extmath.py:439: RuntimeWarning: invalid value encountered in greater\n",
      "  mostfrequent = np.where(counts > oldcounts, score, oldmostfreq)\n",
      "/usr/local/lib/python3.5/dist-packages/sklearn/utils/extmath.py:439: RuntimeWarning: invalid value encountered in greater\n",
      "  mostfrequent = np.where(counts > oldcounts, score, oldmostfreq)\n",
      "/usr/local/lib/python3.5/dist-packages/sklearn/utils/extmath.py:439: RuntimeWarning: invalid value encountered in greater\n",
      "  mostfrequent = np.where(counts > oldcounts, score, oldmostfreq)\n",
      "/usr/local/lib/python3.5/dist-packages/sklearn/utils/extmath.py:439: RuntimeWarning: invalid value encountered in greater\n",
      "  mostfrequent = np.where(counts > oldcounts, score, oldmostfreq)\n",
      "/usr/local/lib/python3.5/dist-packages/sklearn/utils/extmath.py:439: RuntimeWarning: invalid value encountered in greater\n",
      "  mostfrequent = np.where(counts > oldcounts, score, oldmostfreq)\n",
      "/usr/local/lib/python3.5/dist-packages/sklearn/utils/extmath.py:439: RuntimeWarning: invalid value encountered in greater\n",
      "  mostfrequent = np.where(counts > oldcounts, score, oldmostfreq)\n",
      "/usr/local/lib/python3.5/dist-packages/sklearn/utils/extmath.py:439: RuntimeWarning: invalid value encountered in greater\n",
      "  mostfrequent = np.where(counts > oldcounts, score, oldmostfreq)\n"
     ]
    },
    {
     "name": "stdout",
     "output_type": "stream",
     "text": [
      "31\n"
     ]
    },
    {
     "name": "stderr",
     "output_type": "stream",
     "text": [
      "/usr/local/lib/python3.5/dist-packages/sklearn/utils/extmath.py:439: RuntimeWarning: invalid value encountered in greater\n",
      "  mostfrequent = np.where(counts > oldcounts, score, oldmostfreq)\n",
      "/usr/local/lib/python3.5/dist-packages/sklearn/utils/extmath.py:439: RuntimeWarning: invalid value encountered in greater\n",
      "  mostfrequent = np.where(counts > oldcounts, score, oldmostfreq)\n",
      "/usr/local/lib/python3.5/dist-packages/sklearn/utils/extmath.py:439: RuntimeWarning: invalid value encountered in greater\n",
      "  mostfrequent = np.where(counts > oldcounts, score, oldmostfreq)\n",
      "/usr/local/lib/python3.5/dist-packages/sklearn/utils/extmath.py:439: RuntimeWarning: invalid value encountered in greater\n",
      "  mostfrequent = np.where(counts > oldcounts, score, oldmostfreq)\n",
      "/usr/local/lib/python3.5/dist-packages/sklearn/utils/extmath.py:439: RuntimeWarning: invalid value encountered in greater\n",
      "  mostfrequent = np.where(counts > oldcounts, score, oldmostfreq)\n",
      "/usr/local/lib/python3.5/dist-packages/sklearn/utils/extmath.py:439: RuntimeWarning: invalid value encountered in greater\n",
      "  mostfrequent = np.where(counts > oldcounts, score, oldmostfreq)\n",
      "/usr/local/lib/python3.5/dist-packages/sklearn/utils/extmath.py:439: RuntimeWarning: invalid value encountered in greater\n",
      "  mostfrequent = np.where(counts > oldcounts, score, oldmostfreq)\n",
      "/usr/local/lib/python3.5/dist-packages/sklearn/utils/extmath.py:439: RuntimeWarning: invalid value encountered in greater\n",
      "  mostfrequent = np.where(counts > oldcounts, score, oldmostfreq)\n",
      "/usr/local/lib/python3.5/dist-packages/sklearn/utils/extmath.py:439: RuntimeWarning: invalid value encountered in greater\n",
      "  mostfrequent = np.where(counts > oldcounts, score, oldmostfreq)\n",
      "/usr/local/lib/python3.5/dist-packages/sklearn/utils/extmath.py:439: RuntimeWarning: invalid value encountered in greater\n",
      "  mostfrequent = np.where(counts > oldcounts, score, oldmostfreq)\n"
     ]
    },
    {
     "name": "stdout",
     "output_type": "stream",
     "text": [
      "41\n"
     ]
    },
    {
     "name": "stderr",
     "output_type": "stream",
     "text": [
      "/usr/local/lib/python3.5/dist-packages/sklearn/utils/extmath.py:439: RuntimeWarning: invalid value encountered in greater\n",
      "  mostfrequent = np.where(counts > oldcounts, score, oldmostfreq)\n",
      "/usr/local/lib/python3.5/dist-packages/sklearn/utils/extmath.py:439: RuntimeWarning: invalid value encountered in greater\n",
      "  mostfrequent = np.where(counts > oldcounts, score, oldmostfreq)\n",
      "/usr/local/lib/python3.5/dist-packages/sklearn/utils/extmath.py:439: RuntimeWarning: invalid value encountered in greater\n",
      "  mostfrequent = np.where(counts > oldcounts, score, oldmostfreq)\n",
      "/usr/local/lib/python3.5/dist-packages/sklearn/utils/extmath.py:439: RuntimeWarning: invalid value encountered in greater\n",
      "  mostfrequent = np.where(counts > oldcounts, score, oldmostfreq)\n",
      "/usr/local/lib/python3.5/dist-packages/sklearn/utils/extmath.py:439: RuntimeWarning: invalid value encountered in greater\n",
      "  mostfrequent = np.where(counts > oldcounts, score, oldmostfreq)\n",
      "/usr/local/lib/python3.5/dist-packages/sklearn/utils/extmath.py:439: RuntimeWarning: invalid value encountered in greater\n",
      "  mostfrequent = np.where(counts > oldcounts, score, oldmostfreq)\n",
      "/usr/local/lib/python3.5/dist-packages/sklearn/utils/extmath.py:439: RuntimeWarning: invalid value encountered in greater\n",
      "  mostfrequent = np.where(counts > oldcounts, score, oldmostfreq)\n",
      "/usr/local/lib/python3.5/dist-packages/sklearn/utils/extmath.py:439: RuntimeWarning: invalid value encountered in greater\n",
      "  mostfrequent = np.where(counts > oldcounts, score, oldmostfreq)\n",
      "/usr/local/lib/python3.5/dist-packages/sklearn/utils/extmath.py:439: RuntimeWarning: invalid value encountered in greater\n",
      "  mostfrequent = np.where(counts > oldcounts, score, oldmostfreq)\n",
      "/usr/local/lib/python3.5/dist-packages/sklearn/utils/extmath.py:439: RuntimeWarning: invalid value encountered in greater\n",
      "  mostfrequent = np.where(counts > oldcounts, score, oldmostfreq)\n"
     ]
    },
    {
     "name": "stdout",
     "output_type": "stream",
     "text": [
      "51\n"
     ]
    },
    {
     "name": "stderr",
     "output_type": "stream",
     "text": [
      "/usr/local/lib/python3.5/dist-packages/sklearn/utils/extmath.py:439: RuntimeWarning: invalid value encountered in greater\n",
      "  mostfrequent = np.where(counts > oldcounts, score, oldmostfreq)\n",
      "/usr/local/lib/python3.5/dist-packages/sklearn/utils/extmath.py:439: RuntimeWarning: invalid value encountered in greater\n",
      "  mostfrequent = np.where(counts > oldcounts, score, oldmostfreq)\n",
      "/usr/local/lib/python3.5/dist-packages/sklearn/utils/extmath.py:439: RuntimeWarning: invalid value encountered in greater\n",
      "  mostfrequent = np.where(counts > oldcounts, score, oldmostfreq)\n",
      "/usr/local/lib/python3.5/dist-packages/sklearn/utils/extmath.py:439: RuntimeWarning: invalid value encountered in greater\n",
      "  mostfrequent = np.where(counts > oldcounts, score, oldmostfreq)\n",
      "/usr/local/lib/python3.5/dist-packages/sklearn/utils/extmath.py:439: RuntimeWarning: invalid value encountered in greater\n",
      "  mostfrequent = np.where(counts > oldcounts, score, oldmostfreq)\n",
      "/usr/local/lib/python3.5/dist-packages/sklearn/utils/extmath.py:439: RuntimeWarning: invalid value encountered in greater\n",
      "  mostfrequent = np.where(counts > oldcounts, score, oldmostfreq)\n",
      "/usr/local/lib/python3.5/dist-packages/sklearn/utils/extmath.py:439: RuntimeWarning: invalid value encountered in greater\n",
      "  mostfrequent = np.where(counts > oldcounts, score, oldmostfreq)\n",
      "/usr/local/lib/python3.5/dist-packages/sklearn/utils/extmath.py:439: RuntimeWarning: invalid value encountered in greater\n",
      "  mostfrequent = np.where(counts > oldcounts, score, oldmostfreq)\n",
      "/usr/local/lib/python3.5/dist-packages/sklearn/utils/extmath.py:439: RuntimeWarning: invalid value encountered in greater\n",
      "  mostfrequent = np.where(counts > oldcounts, score, oldmostfreq)\n",
      "/usr/local/lib/python3.5/dist-packages/sklearn/utils/extmath.py:439: RuntimeWarning: invalid value encountered in greater\n",
      "  mostfrequent = np.where(counts > oldcounts, score, oldmostfreq)\n"
     ]
    },
    {
     "name": "stdout",
     "output_type": "stream",
     "text": [
      "61\n"
     ]
    },
    {
     "name": "stderr",
     "output_type": "stream",
     "text": [
      "/usr/local/lib/python3.5/dist-packages/sklearn/utils/extmath.py:439: RuntimeWarning: invalid value encountered in greater\n",
      "  mostfrequent = np.where(counts > oldcounts, score, oldmostfreq)\n",
      "/usr/local/lib/python3.5/dist-packages/sklearn/utils/extmath.py:439: RuntimeWarning: invalid value encountered in greater\n",
      "  mostfrequent = np.where(counts > oldcounts, score, oldmostfreq)\n",
      "/usr/local/lib/python3.5/dist-packages/sklearn/utils/extmath.py:439: RuntimeWarning: invalid value encountered in greater\n",
      "  mostfrequent = np.where(counts > oldcounts, score, oldmostfreq)\n",
      "/usr/local/lib/python3.5/dist-packages/sklearn/utils/extmath.py:439: RuntimeWarning: invalid value encountered in greater\n",
      "  mostfrequent = np.where(counts > oldcounts, score, oldmostfreq)\n",
      "/usr/local/lib/python3.5/dist-packages/sklearn/utils/extmath.py:439: RuntimeWarning: invalid value encountered in greater\n",
      "  mostfrequent = np.where(counts > oldcounts, score, oldmostfreq)\n",
      "/usr/local/lib/python3.5/dist-packages/sklearn/utils/extmath.py:439: RuntimeWarning: invalid value encountered in greater\n",
      "  mostfrequent = np.where(counts > oldcounts, score, oldmostfreq)\n",
      "/usr/local/lib/python3.5/dist-packages/sklearn/utils/extmath.py:439: RuntimeWarning: invalid value encountered in greater\n",
      "  mostfrequent = np.where(counts > oldcounts, score, oldmostfreq)\n",
      "/usr/local/lib/python3.5/dist-packages/sklearn/utils/extmath.py:439: RuntimeWarning: invalid value encountered in greater\n",
      "  mostfrequent = np.where(counts > oldcounts, score, oldmostfreq)\n",
      "/usr/local/lib/python3.5/dist-packages/sklearn/utils/extmath.py:439: RuntimeWarning: invalid value encountered in greater\n",
      "  mostfrequent = np.where(counts > oldcounts, score, oldmostfreq)\n",
      "/usr/local/lib/python3.5/dist-packages/sklearn/utils/extmath.py:439: RuntimeWarning: invalid value encountered in greater\n",
      "  mostfrequent = np.where(counts > oldcounts, score, oldmostfreq)\n"
     ]
    },
    {
     "name": "stdout",
     "output_type": "stream",
     "text": [
      "71\n"
     ]
    },
    {
     "name": "stderr",
     "output_type": "stream",
     "text": [
      "/usr/local/lib/python3.5/dist-packages/sklearn/utils/extmath.py:439: RuntimeWarning: invalid value encountered in greater\n",
      "  mostfrequent = np.where(counts > oldcounts, score, oldmostfreq)\n",
      "/usr/local/lib/python3.5/dist-packages/sklearn/utils/extmath.py:439: RuntimeWarning: invalid value encountered in greater\n",
      "  mostfrequent = np.where(counts > oldcounts, score, oldmostfreq)\n",
      "/usr/local/lib/python3.5/dist-packages/sklearn/utils/extmath.py:439: RuntimeWarning: invalid value encountered in greater\n",
      "  mostfrequent = np.where(counts > oldcounts, score, oldmostfreq)\n",
      "/usr/local/lib/python3.5/dist-packages/sklearn/utils/extmath.py:439: RuntimeWarning: invalid value encountered in greater\n",
      "  mostfrequent = np.where(counts > oldcounts, score, oldmostfreq)\n",
      "/usr/local/lib/python3.5/dist-packages/sklearn/utils/extmath.py:439: RuntimeWarning: invalid value encountered in greater\n",
      "  mostfrequent = np.where(counts > oldcounts, score, oldmostfreq)\n",
      "/usr/local/lib/python3.5/dist-packages/sklearn/utils/extmath.py:439: RuntimeWarning: invalid value encountered in greater\n",
      "  mostfrequent = np.where(counts > oldcounts, score, oldmostfreq)\n",
      "/usr/local/lib/python3.5/dist-packages/sklearn/utils/extmath.py:439: RuntimeWarning: invalid value encountered in greater\n",
      "  mostfrequent = np.where(counts > oldcounts, score, oldmostfreq)\n",
      "/usr/local/lib/python3.5/dist-packages/sklearn/utils/extmath.py:439: RuntimeWarning: invalid value encountered in greater\n",
      "  mostfrequent = np.where(counts > oldcounts, score, oldmostfreq)\n",
      "/usr/local/lib/python3.5/dist-packages/sklearn/utils/extmath.py:439: RuntimeWarning: invalid value encountered in greater\n",
      "  mostfrequent = np.where(counts > oldcounts, score, oldmostfreq)\n",
      "/usr/local/lib/python3.5/dist-packages/sklearn/utils/extmath.py:439: RuntimeWarning: invalid value encountered in greater\n",
      "  mostfrequent = np.where(counts > oldcounts, score, oldmostfreq)\n"
     ]
    },
    {
     "name": "stdout",
     "output_type": "stream",
     "text": [
      "81\n"
     ]
    },
    {
     "name": "stderr",
     "output_type": "stream",
     "text": [
      "/usr/local/lib/python3.5/dist-packages/sklearn/utils/extmath.py:439: RuntimeWarning: invalid value encountered in greater\n",
      "  mostfrequent = np.where(counts > oldcounts, score, oldmostfreq)\n",
      "/usr/local/lib/python3.5/dist-packages/sklearn/utils/extmath.py:439: RuntimeWarning: invalid value encountered in greater\n",
      "  mostfrequent = np.where(counts > oldcounts, score, oldmostfreq)\n",
      "/usr/local/lib/python3.5/dist-packages/sklearn/utils/extmath.py:439: RuntimeWarning: invalid value encountered in greater\n",
      "  mostfrequent = np.where(counts > oldcounts, score, oldmostfreq)\n",
      "/usr/local/lib/python3.5/dist-packages/sklearn/utils/extmath.py:439: RuntimeWarning: invalid value encountered in greater\n",
      "  mostfrequent = np.where(counts > oldcounts, score, oldmostfreq)\n",
      "/usr/local/lib/python3.5/dist-packages/sklearn/utils/extmath.py:439: RuntimeWarning: invalid value encountered in greater\n",
      "  mostfrequent = np.where(counts > oldcounts, score, oldmostfreq)\n",
      "/usr/local/lib/python3.5/dist-packages/sklearn/utils/extmath.py:439: RuntimeWarning: invalid value encountered in greater\n",
      "  mostfrequent = np.where(counts > oldcounts, score, oldmostfreq)\n",
      "/usr/local/lib/python3.5/dist-packages/sklearn/utils/extmath.py:439: RuntimeWarning: invalid value encountered in greater\n",
      "  mostfrequent = np.where(counts > oldcounts, score, oldmostfreq)\n",
      "/usr/local/lib/python3.5/dist-packages/sklearn/utils/extmath.py:439: RuntimeWarning: invalid value encountered in greater\n",
      "  mostfrequent = np.where(counts > oldcounts, score, oldmostfreq)\n",
      "/usr/local/lib/python3.5/dist-packages/sklearn/utils/extmath.py:439: RuntimeWarning: invalid value encountered in greater\n",
      "  mostfrequent = np.where(counts > oldcounts, score, oldmostfreq)\n",
      "/usr/local/lib/python3.5/dist-packages/sklearn/utils/extmath.py:439: RuntimeWarning: invalid value encountered in greater\n",
      "  mostfrequent = np.where(counts > oldcounts, score, oldmostfreq)\n"
     ]
    },
    {
     "name": "stdout",
     "output_type": "stream",
     "text": [
      "91\n"
     ]
    },
    {
     "name": "stderr",
     "output_type": "stream",
     "text": [
      "/usr/local/lib/python3.5/dist-packages/sklearn/utils/extmath.py:439: RuntimeWarning: invalid value encountered in greater\n",
      "  mostfrequent = np.where(counts > oldcounts, score, oldmostfreq)\n",
      "/usr/local/lib/python3.5/dist-packages/sklearn/utils/extmath.py:439: RuntimeWarning: invalid value encountered in greater\n",
      "  mostfrequent = np.where(counts > oldcounts, score, oldmostfreq)\n",
      "/usr/local/lib/python3.5/dist-packages/sklearn/utils/extmath.py:439: RuntimeWarning: invalid value encountered in greater\n",
      "  mostfrequent = np.where(counts > oldcounts, score, oldmostfreq)\n",
      "/usr/local/lib/python3.5/dist-packages/sklearn/utils/extmath.py:439: RuntimeWarning: invalid value encountered in greater\n",
      "  mostfrequent = np.where(counts > oldcounts, score, oldmostfreq)\n",
      "/usr/local/lib/python3.5/dist-packages/sklearn/utils/extmath.py:439: RuntimeWarning: invalid value encountered in greater\n",
      "  mostfrequent = np.where(counts > oldcounts, score, oldmostfreq)\n",
      "/usr/local/lib/python3.5/dist-packages/sklearn/utils/extmath.py:439: RuntimeWarning: invalid value encountered in greater\n",
      "  mostfrequent = np.where(counts > oldcounts, score, oldmostfreq)\n",
      "/usr/local/lib/python3.5/dist-packages/sklearn/utils/extmath.py:439: RuntimeWarning: invalid value encountered in greater\n",
      "  mostfrequent = np.where(counts > oldcounts, score, oldmostfreq)\n",
      "/usr/local/lib/python3.5/dist-packages/sklearn/utils/extmath.py:439: RuntimeWarning: invalid value encountered in greater\n",
      "  mostfrequent = np.where(counts > oldcounts, score, oldmostfreq)\n",
      "/usr/local/lib/python3.5/dist-packages/sklearn/utils/extmath.py:439: RuntimeWarning: invalid value encountered in greater\n",
      "  mostfrequent = np.where(counts > oldcounts, score, oldmostfreq)\n",
      "/usr/local/lib/python3.5/dist-packages/sklearn/utils/extmath.py:439: RuntimeWarning: invalid value encountered in greater\n",
      "  mostfrequent = np.where(counts > oldcounts, score, oldmostfreq)\n"
     ]
    },
    {
     "name": "stdout",
     "output_type": "stream",
     "text": [
      "101\n"
     ]
    },
    {
     "name": "stderr",
     "output_type": "stream",
     "text": [
      "/usr/local/lib/python3.5/dist-packages/sklearn/utils/extmath.py:439: RuntimeWarning: invalid value encountered in greater\n",
      "  mostfrequent = np.where(counts > oldcounts, score, oldmostfreq)\n",
      "/usr/local/lib/python3.5/dist-packages/sklearn/utils/extmath.py:439: RuntimeWarning: invalid value encountered in greater\n",
      "  mostfrequent = np.where(counts > oldcounts, score, oldmostfreq)\n",
      "/usr/local/lib/python3.5/dist-packages/sklearn/utils/extmath.py:439: RuntimeWarning: invalid value encountered in greater\n",
      "  mostfrequent = np.where(counts > oldcounts, score, oldmostfreq)\n",
      "/usr/local/lib/python3.5/dist-packages/sklearn/utils/extmath.py:439: RuntimeWarning: invalid value encountered in greater\n",
      "  mostfrequent = np.where(counts > oldcounts, score, oldmostfreq)\n",
      "/usr/local/lib/python3.5/dist-packages/sklearn/utils/extmath.py:439: RuntimeWarning: invalid value encountered in greater\n",
      "  mostfrequent = np.where(counts > oldcounts, score, oldmostfreq)\n",
      "/usr/local/lib/python3.5/dist-packages/sklearn/utils/extmath.py:439: RuntimeWarning: invalid value encountered in greater\n",
      "  mostfrequent = np.where(counts > oldcounts, score, oldmostfreq)\n",
      "/usr/local/lib/python3.5/dist-packages/sklearn/utils/extmath.py:439: RuntimeWarning: invalid value encountered in greater\n",
      "  mostfrequent = np.where(counts > oldcounts, score, oldmostfreq)\n",
      "/usr/local/lib/python3.5/dist-packages/sklearn/utils/extmath.py:439: RuntimeWarning: invalid value encountered in greater\n",
      "  mostfrequent = np.where(counts > oldcounts, score, oldmostfreq)\n",
      "/usr/local/lib/python3.5/dist-packages/sklearn/utils/extmath.py:439: RuntimeWarning: invalid value encountered in greater\n",
      "  mostfrequent = np.where(counts > oldcounts, score, oldmostfreq)\n",
      "/usr/local/lib/python3.5/dist-packages/sklearn/utils/extmath.py:439: RuntimeWarning: invalid value encountered in greater\n",
      "  mostfrequent = np.where(counts > oldcounts, score, oldmostfreq)\n"
     ]
    },
    {
     "name": "stdout",
     "output_type": "stream",
     "text": [
      "111\n"
     ]
    },
    {
     "name": "stderr",
     "output_type": "stream",
     "text": [
      "/usr/local/lib/python3.5/dist-packages/sklearn/utils/extmath.py:439: RuntimeWarning: invalid value encountered in greater\n",
      "  mostfrequent = np.where(counts > oldcounts, score, oldmostfreq)\n",
      "/usr/local/lib/python3.5/dist-packages/sklearn/utils/extmath.py:439: RuntimeWarning: invalid value encountered in greater\n",
      "  mostfrequent = np.where(counts > oldcounts, score, oldmostfreq)\n",
      "/usr/local/lib/python3.5/dist-packages/sklearn/utils/extmath.py:439: RuntimeWarning: invalid value encountered in greater\n",
      "  mostfrequent = np.where(counts > oldcounts, score, oldmostfreq)\n",
      "/usr/local/lib/python3.5/dist-packages/sklearn/utils/extmath.py:439: RuntimeWarning: invalid value encountered in greater\n",
      "  mostfrequent = np.where(counts > oldcounts, score, oldmostfreq)\n",
      "/usr/local/lib/python3.5/dist-packages/sklearn/utils/extmath.py:439: RuntimeWarning: invalid value encountered in greater\n",
      "  mostfrequent = np.where(counts > oldcounts, score, oldmostfreq)\n",
      "/usr/local/lib/python3.5/dist-packages/sklearn/utils/extmath.py:439: RuntimeWarning: invalid value encountered in greater\n",
      "  mostfrequent = np.where(counts > oldcounts, score, oldmostfreq)\n",
      "/usr/local/lib/python3.5/dist-packages/sklearn/utils/extmath.py:439: RuntimeWarning: invalid value encountered in greater\n",
      "  mostfrequent = np.where(counts > oldcounts, score, oldmostfreq)\n",
      "/usr/local/lib/python3.5/dist-packages/sklearn/utils/extmath.py:439: RuntimeWarning: invalid value encountered in greater\n",
      "  mostfrequent = np.where(counts > oldcounts, score, oldmostfreq)\n",
      "/usr/local/lib/python3.5/dist-packages/sklearn/utils/extmath.py:439: RuntimeWarning: invalid value encountered in greater\n",
      "  mostfrequent = np.where(counts > oldcounts, score, oldmostfreq)\n",
      "/usr/local/lib/python3.5/dist-packages/sklearn/utils/extmath.py:439: RuntimeWarning: invalid value encountered in greater\n",
      "  mostfrequent = np.where(counts > oldcounts, score, oldmostfreq)\n"
     ]
    },
    {
     "name": "stdout",
     "output_type": "stream",
     "text": [
      "121\n"
     ]
    },
    {
     "name": "stderr",
     "output_type": "stream",
     "text": [
      "/usr/local/lib/python3.5/dist-packages/sklearn/utils/extmath.py:439: RuntimeWarning: invalid value encountered in greater\n",
      "  mostfrequent = np.where(counts > oldcounts, score, oldmostfreq)\n",
      "/usr/local/lib/python3.5/dist-packages/sklearn/utils/extmath.py:439: RuntimeWarning: invalid value encountered in greater\n",
      "  mostfrequent = np.where(counts > oldcounts, score, oldmostfreq)\n",
      "/usr/local/lib/python3.5/dist-packages/sklearn/utils/extmath.py:439: RuntimeWarning: invalid value encountered in greater\n",
      "  mostfrequent = np.where(counts > oldcounts, score, oldmostfreq)\n",
      "/usr/local/lib/python3.5/dist-packages/sklearn/utils/extmath.py:439: RuntimeWarning: invalid value encountered in greater\n",
      "  mostfrequent = np.where(counts > oldcounts, score, oldmostfreq)\n",
      "/usr/local/lib/python3.5/dist-packages/sklearn/utils/extmath.py:439: RuntimeWarning: invalid value encountered in greater\n",
      "  mostfrequent = np.where(counts > oldcounts, score, oldmostfreq)\n",
      "/usr/local/lib/python3.5/dist-packages/sklearn/utils/extmath.py:439: RuntimeWarning: invalid value encountered in greater\n",
      "  mostfrequent = np.where(counts > oldcounts, score, oldmostfreq)\n",
      "/usr/local/lib/python3.5/dist-packages/sklearn/utils/extmath.py:439: RuntimeWarning: invalid value encountered in greater\n",
      "  mostfrequent = np.where(counts > oldcounts, score, oldmostfreq)\n",
      "/usr/local/lib/python3.5/dist-packages/sklearn/utils/extmath.py:439: RuntimeWarning: invalid value encountered in greater\n",
      "  mostfrequent = np.where(counts > oldcounts, score, oldmostfreq)\n",
      "/usr/local/lib/python3.5/dist-packages/sklearn/utils/extmath.py:439: RuntimeWarning: invalid value encountered in greater\n",
      "  mostfrequent = np.where(counts > oldcounts, score, oldmostfreq)\n",
      "/usr/local/lib/python3.5/dist-packages/sklearn/utils/extmath.py:439: RuntimeWarning: invalid value encountered in greater\n",
      "  mostfrequent = np.where(counts > oldcounts, score, oldmostfreq)\n"
     ]
    },
    {
     "name": "stdout",
     "output_type": "stream",
     "text": [
      "131\n"
     ]
    },
    {
     "name": "stderr",
     "output_type": "stream",
     "text": [
      "/usr/local/lib/python3.5/dist-packages/sklearn/utils/extmath.py:439: RuntimeWarning: invalid value encountered in greater\n",
      "  mostfrequent = np.where(counts > oldcounts, score, oldmostfreq)\n",
      "/usr/local/lib/python3.5/dist-packages/sklearn/utils/extmath.py:439: RuntimeWarning: invalid value encountered in greater\n",
      "  mostfrequent = np.where(counts > oldcounts, score, oldmostfreq)\n",
      "/usr/local/lib/python3.5/dist-packages/sklearn/utils/extmath.py:439: RuntimeWarning: invalid value encountered in greater\n",
      "  mostfrequent = np.where(counts > oldcounts, score, oldmostfreq)\n",
      "/usr/local/lib/python3.5/dist-packages/sklearn/utils/extmath.py:439: RuntimeWarning: invalid value encountered in greater\n",
      "  mostfrequent = np.where(counts > oldcounts, score, oldmostfreq)\n",
      "/usr/local/lib/python3.5/dist-packages/sklearn/utils/extmath.py:439: RuntimeWarning: invalid value encountered in greater\n",
      "  mostfrequent = np.where(counts > oldcounts, score, oldmostfreq)\n",
      "/usr/local/lib/python3.5/dist-packages/sklearn/utils/extmath.py:439: RuntimeWarning: invalid value encountered in greater\n",
      "  mostfrequent = np.where(counts > oldcounts, score, oldmostfreq)\n",
      "/usr/local/lib/python3.5/dist-packages/sklearn/utils/extmath.py:439: RuntimeWarning: invalid value encountered in greater\n",
      "  mostfrequent = np.where(counts > oldcounts, score, oldmostfreq)\n",
      "/usr/local/lib/python3.5/dist-packages/sklearn/utils/extmath.py:439: RuntimeWarning: invalid value encountered in greater\n",
      "  mostfrequent = np.where(counts > oldcounts, score, oldmostfreq)\n",
      "/usr/local/lib/python3.5/dist-packages/sklearn/utils/extmath.py:439: RuntimeWarning: invalid value encountered in greater\n",
      "  mostfrequent = np.where(counts > oldcounts, score, oldmostfreq)\n",
      "/usr/local/lib/python3.5/dist-packages/sklearn/utils/extmath.py:439: RuntimeWarning: invalid value encountered in greater\n",
      "  mostfrequent = np.where(counts > oldcounts, score, oldmostfreq)\n"
     ]
    },
    {
     "name": "stdout",
     "output_type": "stream",
     "text": [
      "141\n"
     ]
    },
    {
     "name": "stderr",
     "output_type": "stream",
     "text": [
      "/usr/local/lib/python3.5/dist-packages/sklearn/utils/extmath.py:439: RuntimeWarning: invalid value encountered in greater\n",
      "  mostfrequent = np.where(counts > oldcounts, score, oldmostfreq)\n",
      "/usr/local/lib/python3.5/dist-packages/sklearn/utils/extmath.py:439: RuntimeWarning: invalid value encountered in greater\n",
      "  mostfrequent = np.where(counts > oldcounts, score, oldmostfreq)\n",
      "/usr/local/lib/python3.5/dist-packages/sklearn/utils/extmath.py:439: RuntimeWarning: invalid value encountered in greater\n",
      "  mostfrequent = np.where(counts > oldcounts, score, oldmostfreq)\n",
      "/usr/local/lib/python3.5/dist-packages/sklearn/utils/extmath.py:439: RuntimeWarning: invalid value encountered in greater\n",
      "  mostfrequent = np.where(counts > oldcounts, score, oldmostfreq)\n",
      "/usr/local/lib/python3.5/dist-packages/sklearn/utils/extmath.py:439: RuntimeWarning: invalid value encountered in greater\n",
      "  mostfrequent = np.where(counts > oldcounts, score, oldmostfreq)\n",
      "/usr/local/lib/python3.5/dist-packages/sklearn/utils/extmath.py:439: RuntimeWarning: invalid value encountered in greater\n",
      "  mostfrequent = np.where(counts > oldcounts, score, oldmostfreq)\n",
      "/usr/local/lib/python3.5/dist-packages/sklearn/utils/extmath.py:439: RuntimeWarning: invalid value encountered in greater\n",
      "  mostfrequent = np.where(counts > oldcounts, score, oldmostfreq)\n",
      "/usr/local/lib/python3.5/dist-packages/sklearn/utils/extmath.py:439: RuntimeWarning: invalid value encountered in greater\n",
      "  mostfrequent = np.where(counts > oldcounts, score, oldmostfreq)\n",
      "/usr/local/lib/python3.5/dist-packages/sklearn/utils/extmath.py:439: RuntimeWarning: invalid value encountered in greater\n",
      "  mostfrequent = np.where(counts > oldcounts, score, oldmostfreq)\n",
      "/usr/local/lib/python3.5/dist-packages/sklearn/utils/extmath.py:439: RuntimeWarning: invalid value encountered in greater\n",
      "  mostfrequent = np.where(counts > oldcounts, score, oldmostfreq)\n"
     ]
    },
    {
     "name": "stdout",
     "output_type": "stream",
     "text": [
      "151\n"
     ]
    },
    {
     "name": "stderr",
     "output_type": "stream",
     "text": [
      "/usr/local/lib/python3.5/dist-packages/sklearn/utils/extmath.py:439: RuntimeWarning: invalid value encountered in greater\n",
      "  mostfrequent = np.where(counts > oldcounts, score, oldmostfreq)\n",
      "/usr/local/lib/python3.5/dist-packages/sklearn/utils/extmath.py:439: RuntimeWarning: invalid value encountered in greater\n",
      "  mostfrequent = np.where(counts > oldcounts, score, oldmostfreq)\n",
      "/usr/local/lib/python3.5/dist-packages/sklearn/utils/extmath.py:439: RuntimeWarning: invalid value encountered in greater\n",
      "  mostfrequent = np.where(counts > oldcounts, score, oldmostfreq)\n",
      "/usr/local/lib/python3.5/dist-packages/sklearn/utils/extmath.py:439: RuntimeWarning: invalid value encountered in greater\n",
      "  mostfrequent = np.where(counts > oldcounts, score, oldmostfreq)\n",
      "/usr/local/lib/python3.5/dist-packages/sklearn/utils/extmath.py:439: RuntimeWarning: invalid value encountered in greater\n",
      "  mostfrequent = np.where(counts > oldcounts, score, oldmostfreq)\n",
      "/usr/local/lib/python3.5/dist-packages/sklearn/utils/extmath.py:439: RuntimeWarning: invalid value encountered in greater\n",
      "  mostfrequent = np.where(counts > oldcounts, score, oldmostfreq)\n",
      "/usr/local/lib/python3.5/dist-packages/sklearn/utils/extmath.py:439: RuntimeWarning: invalid value encountered in greater\n",
      "  mostfrequent = np.where(counts > oldcounts, score, oldmostfreq)\n",
      "/usr/local/lib/python3.5/dist-packages/sklearn/utils/extmath.py:439: RuntimeWarning: invalid value encountered in greater\n",
      "  mostfrequent = np.where(counts > oldcounts, score, oldmostfreq)\n",
      "/usr/local/lib/python3.5/dist-packages/sklearn/utils/extmath.py:439: RuntimeWarning: invalid value encountered in greater\n",
      "  mostfrequent = np.where(counts > oldcounts, score, oldmostfreq)\n",
      "/usr/local/lib/python3.5/dist-packages/sklearn/utils/extmath.py:439: RuntimeWarning: invalid value encountered in greater\n",
      "  mostfrequent = np.where(counts > oldcounts, score, oldmostfreq)\n"
     ]
    },
    {
     "name": "stdout",
     "output_type": "stream",
     "text": [
      "161\n"
     ]
    },
    {
     "name": "stderr",
     "output_type": "stream",
     "text": [
      "/usr/local/lib/python3.5/dist-packages/sklearn/utils/extmath.py:439: RuntimeWarning: invalid value encountered in greater\n",
      "  mostfrequent = np.where(counts > oldcounts, score, oldmostfreq)\n",
      "/usr/local/lib/python3.5/dist-packages/sklearn/utils/extmath.py:439: RuntimeWarning: invalid value encountered in greater\n",
      "  mostfrequent = np.where(counts > oldcounts, score, oldmostfreq)\n",
      "/usr/local/lib/python3.5/dist-packages/sklearn/utils/extmath.py:439: RuntimeWarning: invalid value encountered in greater\n",
      "  mostfrequent = np.where(counts > oldcounts, score, oldmostfreq)\n",
      "/usr/local/lib/python3.5/dist-packages/sklearn/utils/extmath.py:439: RuntimeWarning: invalid value encountered in greater\n",
      "  mostfrequent = np.where(counts > oldcounts, score, oldmostfreq)\n",
      "/usr/local/lib/python3.5/dist-packages/sklearn/utils/extmath.py:439: RuntimeWarning: invalid value encountered in greater\n",
      "  mostfrequent = np.where(counts > oldcounts, score, oldmostfreq)\n",
      "/usr/local/lib/python3.5/dist-packages/sklearn/utils/extmath.py:439: RuntimeWarning: invalid value encountered in greater\n",
      "  mostfrequent = np.where(counts > oldcounts, score, oldmostfreq)\n",
      "/usr/local/lib/python3.5/dist-packages/sklearn/utils/extmath.py:439: RuntimeWarning: invalid value encountered in greater\n",
      "  mostfrequent = np.where(counts > oldcounts, score, oldmostfreq)\n",
      "/usr/local/lib/python3.5/dist-packages/sklearn/utils/extmath.py:439: RuntimeWarning: invalid value encountered in greater\n",
      "  mostfrequent = np.where(counts > oldcounts, score, oldmostfreq)\n",
      "/usr/local/lib/python3.5/dist-packages/sklearn/utils/extmath.py:439: RuntimeWarning: invalid value encountered in greater\n",
      "  mostfrequent = np.where(counts > oldcounts, score, oldmostfreq)\n",
      "/usr/local/lib/python3.5/dist-packages/sklearn/utils/extmath.py:439: RuntimeWarning: invalid value encountered in greater\n",
      "  mostfrequent = np.where(counts > oldcounts, score, oldmostfreq)\n"
     ]
    },
    {
     "name": "stdout",
     "output_type": "stream",
     "text": [
      "171\n"
     ]
    },
    {
     "name": "stderr",
     "output_type": "stream",
     "text": [
      "/usr/local/lib/python3.5/dist-packages/sklearn/utils/extmath.py:439: RuntimeWarning: invalid value encountered in greater\n",
      "  mostfrequent = np.where(counts > oldcounts, score, oldmostfreq)\n",
      "/usr/local/lib/python3.5/dist-packages/sklearn/utils/extmath.py:439: RuntimeWarning: invalid value encountered in greater\n",
      "  mostfrequent = np.where(counts > oldcounts, score, oldmostfreq)\n",
      "/usr/local/lib/python3.5/dist-packages/sklearn/utils/extmath.py:439: RuntimeWarning: invalid value encountered in greater\n",
      "  mostfrequent = np.where(counts > oldcounts, score, oldmostfreq)\n",
      "/usr/local/lib/python3.5/dist-packages/sklearn/utils/extmath.py:439: RuntimeWarning: invalid value encountered in greater\n",
      "  mostfrequent = np.where(counts > oldcounts, score, oldmostfreq)\n",
      "/usr/local/lib/python3.5/dist-packages/sklearn/utils/extmath.py:439: RuntimeWarning: invalid value encountered in greater\n",
      "  mostfrequent = np.where(counts > oldcounts, score, oldmostfreq)\n",
      "/usr/local/lib/python3.5/dist-packages/sklearn/utils/extmath.py:439: RuntimeWarning: invalid value encountered in greater\n",
      "  mostfrequent = np.where(counts > oldcounts, score, oldmostfreq)\n",
      "/usr/local/lib/python3.5/dist-packages/sklearn/utils/extmath.py:439: RuntimeWarning: invalid value encountered in greater\n",
      "  mostfrequent = np.where(counts > oldcounts, score, oldmostfreq)\n",
      "/usr/local/lib/python3.5/dist-packages/sklearn/utils/extmath.py:439: RuntimeWarning: invalid value encountered in greater\n",
      "  mostfrequent = np.where(counts > oldcounts, score, oldmostfreq)\n",
      "/usr/local/lib/python3.5/dist-packages/sklearn/utils/extmath.py:439: RuntimeWarning: invalid value encountered in greater\n",
      "  mostfrequent = np.where(counts > oldcounts, score, oldmostfreq)\n",
      "/usr/local/lib/python3.5/dist-packages/sklearn/utils/extmath.py:439: RuntimeWarning: invalid value encountered in greater\n",
      "  mostfrequent = np.where(counts > oldcounts, score, oldmostfreq)\n"
     ]
    },
    {
     "name": "stdout",
     "output_type": "stream",
     "text": [
      "181\n"
     ]
    },
    {
     "name": "stderr",
     "output_type": "stream",
     "text": [
      "/usr/local/lib/python3.5/dist-packages/sklearn/utils/extmath.py:439: RuntimeWarning: invalid value encountered in greater\n",
      "  mostfrequent = np.where(counts > oldcounts, score, oldmostfreq)\n",
      "/usr/local/lib/python3.5/dist-packages/sklearn/utils/extmath.py:439: RuntimeWarning: invalid value encountered in greater\n",
      "  mostfrequent = np.where(counts > oldcounts, score, oldmostfreq)\n",
      "/usr/local/lib/python3.5/dist-packages/sklearn/utils/extmath.py:439: RuntimeWarning: invalid value encountered in greater\n",
      "  mostfrequent = np.where(counts > oldcounts, score, oldmostfreq)\n",
      "/usr/local/lib/python3.5/dist-packages/sklearn/utils/extmath.py:439: RuntimeWarning: invalid value encountered in greater\n",
      "  mostfrequent = np.where(counts > oldcounts, score, oldmostfreq)\n",
      "/usr/local/lib/python3.5/dist-packages/sklearn/utils/extmath.py:439: RuntimeWarning: invalid value encountered in greater\n",
      "  mostfrequent = np.where(counts > oldcounts, score, oldmostfreq)\n",
      "/usr/local/lib/python3.5/dist-packages/sklearn/utils/extmath.py:439: RuntimeWarning: invalid value encountered in greater\n",
      "  mostfrequent = np.where(counts > oldcounts, score, oldmostfreq)\n",
      "/usr/local/lib/python3.5/dist-packages/sklearn/utils/extmath.py:439: RuntimeWarning: invalid value encountered in greater\n",
      "  mostfrequent = np.where(counts > oldcounts, score, oldmostfreq)\n",
      "/usr/local/lib/python3.5/dist-packages/sklearn/utils/extmath.py:439: RuntimeWarning: invalid value encountered in greater\n",
      "  mostfrequent = np.where(counts > oldcounts, score, oldmostfreq)\n",
      "/usr/local/lib/python3.5/dist-packages/sklearn/utils/extmath.py:439: RuntimeWarning: invalid value encountered in greater\n",
      "  mostfrequent = np.where(counts > oldcounts, score, oldmostfreq)\n",
      "/usr/local/lib/python3.5/dist-packages/sklearn/utils/extmath.py:439: RuntimeWarning: invalid value encountered in greater\n",
      "  mostfrequent = np.where(counts > oldcounts, score, oldmostfreq)\n"
     ]
    },
    {
     "name": "stdout",
     "output_type": "stream",
     "text": [
      "191\n"
     ]
    },
    {
     "name": "stderr",
     "output_type": "stream",
     "text": [
      "/usr/local/lib/python3.5/dist-packages/sklearn/utils/extmath.py:439: RuntimeWarning: invalid value encountered in greater\n",
      "  mostfrequent = np.where(counts > oldcounts, score, oldmostfreq)\n",
      "/usr/local/lib/python3.5/dist-packages/sklearn/utils/extmath.py:439: RuntimeWarning: invalid value encountered in greater\n",
      "  mostfrequent = np.where(counts > oldcounts, score, oldmostfreq)\n",
      "/usr/local/lib/python3.5/dist-packages/sklearn/utils/extmath.py:439: RuntimeWarning: invalid value encountered in greater\n",
      "  mostfrequent = np.where(counts > oldcounts, score, oldmostfreq)\n",
      "/usr/local/lib/python3.5/dist-packages/sklearn/utils/extmath.py:439: RuntimeWarning: invalid value encountered in greater\n",
      "  mostfrequent = np.where(counts > oldcounts, score, oldmostfreq)\n",
      "/usr/local/lib/python3.5/dist-packages/sklearn/utils/extmath.py:439: RuntimeWarning: invalid value encountered in greater\n",
      "  mostfrequent = np.where(counts > oldcounts, score, oldmostfreq)\n",
      "/usr/local/lib/python3.5/dist-packages/sklearn/utils/extmath.py:439: RuntimeWarning: invalid value encountered in greater\n",
      "  mostfrequent = np.where(counts > oldcounts, score, oldmostfreq)\n",
      "/usr/local/lib/python3.5/dist-packages/sklearn/utils/extmath.py:439: RuntimeWarning: invalid value encountered in greater\n",
      "  mostfrequent = np.where(counts > oldcounts, score, oldmostfreq)\n",
      "/usr/local/lib/python3.5/dist-packages/sklearn/utils/extmath.py:439: RuntimeWarning: invalid value encountered in greater\n",
      "  mostfrequent = np.where(counts > oldcounts, score, oldmostfreq)\n",
      "/usr/local/lib/python3.5/dist-packages/sklearn/utils/extmath.py:439: RuntimeWarning: invalid value encountered in greater\n",
      "  mostfrequent = np.where(counts > oldcounts, score, oldmostfreq)\n",
      "/usr/local/lib/python3.5/dist-packages/sklearn/utils/extmath.py:439: RuntimeWarning: invalid value encountered in greater\n",
      "  mostfrequent = np.where(counts > oldcounts, score, oldmostfreq)\n"
     ]
    }
   ],
   "source": [
    "cv_scores = []\n",
    "\n",
    "kk = range(1,200,10)\n",
    "\n",
    "for k in kk:\n",
    "    print(k)\n",
    "    knn = KNeighborsClassifier(n_neighbors=k, weights=weight)\n",
    "    scores = cross_val_score(knn, embeddings, y, cv=10, scoring='accuracy')\n",
    "    cv_scores.append(scores.mean())"
   ]
  },
  {
   "cell_type": "code",
   "execution_count": 78,
   "metadata": {},
   "outputs": [
    {
     "data": {
      "text/plain": [
       "[0.61303017860121922,\n",
       " 0.69160700149038179,\n",
       " 0.70262052660336982,\n",
       " 0.70741429124757071,\n",
       " 0.70771937426761011,\n",
       " 0.70797374853260231,\n",
       " 0.70960635125805882,\n",
       " 0.70914771382073793,\n",
       " 0.71067551616649727,\n",
       " 0.71011405637653335,\n",
       " 0.71047052344022688,\n",
       " 0.70914396484455455,\n",
       " 0.70827781436946835,\n",
       " 0.70807370640080802,\n",
       " 0.70858258329426183,\n",
       " 0.70751248148589574,\n",
       " 0.70883836253497789,\n",
       " 0.70939930213278057,\n",
       " 0.70878791584231915,\n",
       " 0.70878817609734535]"
      ]
     },
     "execution_count": 78,
     "metadata": {},
     "output_type": "execute_result"
    }
   ],
   "source": [
    "cv_scores"
   ]
  },
  {
   "cell_type": "code",
   "execution_count": 84,
   "metadata": {},
   "outputs": [
    {
     "name": "stdout",
     "output_type": "stream",
     "text": [
      "The optimal number of neighbors is 81\n"
     ]
    },
    {
     "data": {
      "image/png": "[encoded data removed]",
      "text/plain": [
       "<matplotlib.figure.Figure at 0x7f5b7c20b320>"
      ]
     },
     "metadata": {},
     "output_type": "display_data"
    }
   ],
   "source": [
    "# determining best k\n",
    "from matplotlib import pyplot as plt\n",
    "optimal_k = kk[cv_scores.index(max(cv_scores))]\n",
    "print(\"The optimal number of neighbors is %d\" % optimal_k)\n",
    "\n",
    "# plot misclassification error vs k\n",
    "plt.close()\n",
    "plt.plot(kk, cv_scores)\n",
    "plt.xlabel('Number of Neighbors K')\n",
    "plt.ylabel('Accuracy')\n",
    "plt.show()"
   ]
  },
  {
   "cell_type": "code",
   "execution_count": 80,
   "metadata": {},
   "outputs": [
    {
     "name": "stderr",
     "output_type": "stream",
     "text": [
      "/usr/local/lib/python3.5/dist-packages/sklearn/utils/extmath.py:439: RuntimeWarning: invalid value encountered in greater\n",
      "  mostfrequent = np.where(counts > oldcounts, score, oldmostfreq)\n",
      "/usr/local/lib/python3.5/dist-packages/sklearn/utils/extmath.py:439: RuntimeWarning: invalid value encountered in greater\n",
      "  mostfrequent = np.where(counts > oldcounts, score, oldmostfreq)\n",
      "/usr/local/lib/python3.5/dist-packages/sklearn/utils/extmath.py:439: RuntimeWarning: invalid value encountered in greater\n",
      "  mostfrequent = np.where(counts > oldcounts, score, oldmostfreq)\n",
      "/usr/local/lib/python3.5/dist-packages/sklearn/utils/extmath.py:439: RuntimeWarning: invalid value encountered in greater\n",
      "  mostfrequent = np.where(counts > oldcounts, score, oldmostfreq)\n",
      "/usr/local/lib/python3.5/dist-packages/sklearn/utils/extmath.py:439: RuntimeWarning: invalid value encountered in greater\n",
      "  mostfrequent = np.where(counts > oldcounts, score, oldmostfreq)\n",
      "/usr/local/lib/python3.5/dist-packages/sklearn/utils/extmath.py:439: RuntimeWarning: invalid value encountered in greater\n",
      "  mostfrequent = np.where(counts > oldcounts, score, oldmostfreq)\n",
      "/usr/local/lib/python3.5/dist-packages/sklearn/utils/extmath.py:439: RuntimeWarning: invalid value encountered in greater\n",
      "  mostfrequent = np.where(counts > oldcounts, score, oldmostfreq)\n",
      "/usr/local/lib/python3.5/dist-packages/sklearn/utils/extmath.py:439: RuntimeWarning: invalid value encountered in greater\n",
      "  mostfrequent = np.where(counts > oldcounts, score, oldmostfreq)\n",
      "/usr/local/lib/python3.5/dist-packages/sklearn/utils/extmath.py:439: RuntimeWarning: invalid value encountered in greater\n",
      "  mostfrequent = np.where(counts > oldcounts, score, oldmostfreq)\n",
      "/usr/local/lib/python3.5/dist-packages/sklearn/utils/extmath.py:439: RuntimeWarning: invalid value encountered in greater\n",
      "  mostfrequent = np.where(counts > oldcounts, score, oldmostfreq)\n"
     ]
    }
   ],
   "source": [
    "from sklearn.model_selection import cross_val_predict\n",
    "knn = KNeighborsClassifier(n_neighbors=81, weights=weight)\n",
    "pred = cross_val_predict(estimator=knn, X=embeddings, y=y, cv=10)"
   ]
  },
  {
   "cell_type": "code",
   "execution_count": 81,
   "metadata": {},
   "outputs": [
    {
     "name": "stdout",
     "output_type": "stream",
     "text": [
      "Confusion matrix, without normalization\n",
      "[[12353   921     2     0     0    10]\n",
      " [ 3788  1540    19     0     0    22]\n",
      " [  152   239    16     1     0    15]\n",
      " [   50   101    13     0     0    13]\n",
      " [   43    40     4     0     0    11]\n",
      " [  148    79     3     0     0    28]]\n",
      "Normalized confusion matrix\n",
      "[[  9.29775704e-01   6.93210899e-02   1.50534397e-04   0.00000000e+00\n",
      "    0.00000000e+00   7.52671986e-04]\n",
      " [  7.05531756e-01   2.86831812e-01   3.53883405e-03   0.00000000e+00\n",
      "    0.00000000e+00   4.09759732e-03]\n",
      " [  3.59338061e-01   5.65011820e-01   3.78250591e-02   2.36406619e-03\n",
      "    0.00000000e+00   3.54609929e-02]\n",
      " [  2.82485876e-01   5.70621469e-01   7.34463277e-02   0.00000000e+00\n",
      "    0.00000000e+00   7.34463277e-02]\n",
      " [  4.38775510e-01   4.08163265e-01   4.08163265e-02   0.00000000e+00\n",
      "    0.00000000e+00   1.12244898e-01]\n",
      " [  5.73643411e-01   3.06201550e-01   1.16279070e-02   0.00000000e+00\n",
      "    0.00000000e+00   1.08527132e-01]]\n"
     ]
    },
    {
     "data": {
      "image/png": "[encoded data removed]",
      "text/plain": [
       "<matplotlib.figure.Figure at 0x7f5b7c19abe0>"
      ]
     },
     "metadata": {},
     "output_type": "display_data"
    },
    {
     "data": {
      "image/png": "[encoded data removed]",
      "text/plain": [
       "<matplotlib.figure.Figure at 0x7f5b7c1af208>"
      ]
     },
     "metadata": {},
     "output_type": "display_data"
    }
   ],
   "source": [
    "from sklearn.metrics import confusion_matrix\n",
    "import itertools\n",
    "cnf_matrix = confusion_matrix(y, pred)\n",
    "def plot_confusion_matrix(cm, classes,\n",
    "                          normalize=False,\n",
    "                          title='Confusion matrix',\n",
    "                          cmap=plt.cm.Blues):\n",
    "    \"\"\"\n",
    "    This function prints and plots the confusion matrix.\n",
    "    Normalization can be applied by setting `normalize=True`.\n",
    "    \"\"\"\n",
    "    if normalize:\n",
    "        cm = cm.astype('float') / cm.sum(axis=1)[:, np.newaxis]\n",
    "        print(\"Normalized confusion matrix\")\n",
    "    else:\n",
    "        print('Confusion matrix, without normalization')\n",
    "\n",
    "    print(cm)\n",
    "\n",
    "    plt.imshow(cm, interpolation='nearest', cmap=cmap)\n",
    "    plt.title(title)\n",
    "    plt.colorbar()\n",
    "    tick_marks = np.arange(len(classes))\n",
    "    plt.xticks(tick_marks, classes, rotation=45)\n",
    "    plt.yticks(tick_marks, classes)\n",
    "\n",
    "    fmt = '.2f' if normalize else 'd'\n",
    "    thresh = cm.max() / 2.\n",
    "    for i, j in itertools.product(range(cm.shape[0]), range(cm.shape[1])):\n",
    "        plt.text(j, i, format(cm[i, j], fmt),\n",
    "                 horizontalalignment=\"center\",\n",
    "                 color=\"white\" if cm[i, j] > thresh else \"black\")\n",
    "\n",
    "    plt.tight_layout()\n",
    "    plt.ylabel('True label')\n",
    "    plt.xlabel('Predicted label')\n",
    "\n",
    "# Plot non-normalized confusion matrix\n",
    "plt.figure()\n",
    "plot_confusion_matrix(cnf_matrix, classes=range(6),\n",
    "                      title='Confusion matrix, without normalization')\n",
    "\n",
    "# Plot normalized confusion matrix\n",
    "plt.figure()\n",
    "plot_confusion_matrix(cnf_matrix, classes=range(6), normalize=True,\n",
    "                      title='Normalized confusion matrix')\n",
    "\n",
    "plt.show()"
   ]
  },
  {
   "cell_type": "code",
   "execution_count": 82,
   "metadata": {},
   "outputs": [
    {
     "name": "stdout",
     "output_type": "stream",
     "text": [
      "Mean accuracy per class\n",
      "0.227159951148\n"
     ]
    }
   ],
   "source": [
    "cm = cnf_matrix.astype('float') / cnf_matrix.sum(axis=1)[:, np.newaxis]\n",
    "print(\"Mean accuracy per class\")\n",
    "print(np.mean(np.diag(cm)))"
   ]
  },
  {
   "cell_type": "code",
   "execution_count": 83,
   "metadata": {},
   "outputs": [
    {
     "name": "stdout",
     "output_type": "stream",
     "text": [
      "Mean accuracy in the correct class or +- 1\n",
      "0.482403083225\n"
     ]
    }
   ],
   "source": [
    "upper = np.diag(cm, 1)\n",
    "upper = np.append(upper, 0)\n",
    "diagonal = np.diag(cm)\n",
    "lower = np.diag(cm, -1)\n",
    "lower = np.append(0, lower)\n",
    "\n",
    "arr = np.vstack((upper, diagonal, lower))\n",
    "print(\"Mean accuracy in the correct class or +- 1\")\n",
    "print(arr.sum(axis=0).mean())"
   ]
  },
  {
   "cell_type": "markdown",
   "metadata": {},
   "source": [
    "## 3D"
   ]
  },
  {
   "cell_type": "code",
   "execution_count": 17,
   "metadata": {},
   "outputs": [],
   "source": [
    "from sklearn.manifold import TSNE\n",
    "x_embedded = TSNE(n_components=3, random_state=1).fit_transform(x_50d)"
   ]
  },
  {
   "cell_type": "code",
   "execution_count": null,
   "metadata": {},
   "outputs": [],
   "source": [
    "from mpl_toolkits.mplot3d import Axes3D\n",
    "\n",
    "fig = plt.figure(figsize=(25,25))\n",
    "ax = Axes3D(fig)\n",
    "ax.scatter(x_embedded[:, 0], x_embedded[:, 1], x_embedded[:, 2], c=y, cmap=plt.cm.get_cmap(\"viridis\", 6))\n",
    "plt.savefig('/data/joint_scoring/images/tsne_3d_classification.png', bbox_inches='tight')"
   ]
  },
  {
   "cell_type": "code",
   "execution_count": 129,
   "metadata": {},
   "outputs": [
    {
     "name": "stdout",
     "output_type": "stream",
     "text": [
      "Requirement already up-to-date: scikit-image in /usr/local/lib/python3.5/dist-packages\n",
      "Requirement already up-to-date: matplotlib>=1.3.1 in /usr/local/lib/python3.5/dist-packages (from scikit-image)\n",
      "Requirement already up-to-date: scipy>=0.17.0 in /usr/local/lib/python3.5/dist-packages (from scikit-image)\n",
      "Requirement already up-to-date: six>=1.7.3 in /usr/local/lib/python3.5/dist-packages (from scikit-image)\n",
      "Requirement already up-to-date: PyWavelets>=0.4.0 in /usr/local/lib/python3.5/dist-packages (from scikit-image)\n",
      "Requirement already up-to-date: pillow>=2.1.0 in /usr/local/lib/python3.5/dist-packages (from scikit-image)\n",
      "Requirement already up-to-date: networkx>=1.8 in /usr/local/lib/python3.5/dist-packages (from scikit-image)\n",
      "Requirement already up-to-date: pyparsing!=2.0.4,!=2.1.2,!=2.1.6,>=2.0.1 in /usr/local/lib/python3.5/dist-packages (from matplotlib>=1.3.1->scikit-image)\n",
      "Requirement already up-to-date: numpy>=1.7.1 in /usr/local/lib/python3.5/dist-packages (from matplotlib>=1.3.1->scikit-image)\n",
      "Requirement already up-to-date: python-dateutil>=2.0 in /usr/local/lib/python3.5/dist-packages (from matplotlib>=1.3.1->scikit-image)\n",
      "Requirement already up-to-date: cycler>=0.10 in /usr/local/lib/python3.5/dist-packages (from matplotlib>=1.3.1->scikit-image)\n",
      "Requirement already up-to-date: pytz in /usr/local/lib/python3.5/dist-packages (from matplotlib>=1.3.1->scikit-image)\n",
      "Requirement already up-to-date: olefile in /usr/local/lib/python3.5/dist-packages (from pillow>=2.1.0->scikit-image)\n",
      "Requirement already up-to-date: decorator>=4.1.0 in /usr/local/lib/python3.5/dist-packages (from networkx>=1.8->scikit-image)\n"
     ]
    },
    {
     "name": "stderr",
     "output_type": "stream",
     "text": [
      "/usr/local/lib/python3.5/dist-packages/skimage/transform/_warps.py:84: UserWarning: The default mode, 'constant', will be changed to 'reflect' in skimage 0.15.\n",
      "  warn(\"The default mode, 'constant', will be changed to 'reflect' in \"\n"
     ]
    }
   ],
   "source": [
    "!pip3 install scikit-image --upgrade\n",
    "from skimage.transform import resize\n",
    "imgs_resized = [resize(image=x, output_shape=(50, 50)) for x in imgs]\n",
    "imgs_resized = np.array(imgs_resized)"
   ]
  },
  {
   "cell_type": "code",
   "execution_count": 95,
   "metadata": {},
   "outputs": [
    {
     "name": "stdout",
     "output_type": "stream",
     "text": [
      "[[ 68   1  84   1]\n",
      " [ 64  67 135   1]\n",
      " [ 41 120 142   1]\n",
      " [ 34 167 132   1]\n",
      " [121 209  81   1]\n",
      " [253 231  36   1]]\n",
      "<class 'numpy.ndarray'>\n"
     ]
    }
   ],
   "source": [
    "cm = plt.cm.get_cmap(\"viridis\", 6)\n",
    "color = np.ones((6, 4))\n",
    "for i in range(6):\n",
    "    color[i] = cm(1.*i/6)\n",
    "\n",
    "#color = [x[0:-1] for x in color]\n",
    "color = [np.append((x[0:-1] * 255),1) for x in color]\n",
    "color = np.array(color)\n",
    "\n",
    "\n",
    "color = color.astype(\"int16\")\n",
    "\n",
    "print(color)\n",
    "print(type(color[0]))"
   ]
  },
  {
   "cell_type": "code",
   "execution_count": 96,
   "metadata": {},
   "outputs": [
    {
     "data": {
      "text/plain": [
       "(68, 1, 84, 1)"
      ]
     },
     "execution_count": 96,
     "metadata": {},
     "output_type": "execute_result"
    }
   ],
   "source": [
    "tuple(color[0])"
   ]
  },
  {
   "cell_type": "code",
   "execution_count": 117,
   "metadata": {},
   "outputs": [
    {
     "data": {
      "text/plain": [
       "62.845509"
      ]
     },
     "execution_count": 117,
     "metadata": {},
     "output_type": "execute_result"
    }
   ],
   "source": [
    "y"
   ]
  },
  {
   "cell_type": "code",
   "execution_count": 201,
   "metadata": {},
   "outputs": [
    {
     "data": {
      "image/png": "[encoded data removed]",
      "text/plain": [
       "<matplotlib.figure.Figure at 0x7f832ba57208>"
      ]
     },
     "metadata": {},
     "output_type": "display_data"
    }
   ],
   "source": [
    "plt.imshow(imgs_resized[1].squeeze(), cmap=\"gray\")\n",
    "plt.show()"
   ]
  },
  {
   "cell_type": "code",
   "execution_count": 221,
   "metadata": {},
   "outputs": [
    {
     "name": "stdout",
     "output_type": "stream",
     "text": [
      "Creating images with colored borders, 99.94 % finished\n"
     ]
    }
   ],
   "source": [
    "from PIL import Image\n",
    "from PIL import ImageMath\n",
    "\n",
    "imgs_border = []\n",
    "\n",
    "old_size = (50, 50)\n",
    "new_size = (54, 54)\n",
    "\n",
    "for i, img in enumerate(imgs_resized):\n",
    "    if i % 100 == 0:\n",
    "        clear_output()\n",
    "        print(\"Creating images with colored borders, {0:.2f} % finished\".format(i/19611*100))\n",
    "    old_im = Image.fromarray((img.squeeze()*255).astype(\"int16\"))\n",
    "    old_im = old_im.convert(\"RGB\")\n",
    "    new_im = Image.new(\"RGB\", new_size, tuple(color[int(y[i])]))\n",
    "    new_im.paste(old_im, (2,2))\n",
    "    dat = np.asarray(a=new_im)\n",
    "    imgs_border.append(dat)\n"
   ]
  },
  {
   "cell_type": "code",
   "execution_count": 225,
   "metadata": {},
   "outputs": [
    {
     "data": {
      "text/plain": [
       "(19611, 54, 54, 3)"
      ]
     },
     "execution_count": 225,
     "metadata": {},
     "output_type": "execute_result"
    }
   ],
   "source": [
    "np.array(imgs_border).shape"
   ]
  },
  {
   "cell_type": "code",
   "execution_count": 226,
   "metadata": {},
   "outputs": [
    {
     "data": {
      "image/png": "[encoded data removed]",
      "text/plain": [
       "<matplotlib.figure.Figure at 0x7f83612600b8>"
      ]
     },
     "metadata": {},
     "output_type": "display_data"
    }
   ],
   "source": [
    "plt.imshow(imgs_border[1])\n",
    "plt.show()"
   ]
  },
  {
   "cell_type": "code",
   "execution_count": 227,
   "metadata": {},
   "outputs": [],
   "source": [
    "from IPython.display import clear_output\n",
    "res = 8000 # resolution of plot\n",
    "cval = 255 # background colour\n",
    "\n",
    "images = imgs_border\n",
    "max_width = max([image.shape[0] for image in images])\n",
    "max_height = max([image.shape[1] for image in images])"
   ]
  },
  {
   "cell_type": "code",
   "execution_count": 228,
   "metadata": {},
   "outputs": [],
   "source": [
    "f2d = x_2d\n",
    "\n",
    "xx = f2d[:, 0]\n",
    "yy = f2d[:, 1]\n",
    "x_min, x_max = xx.min(), xx.max()\n",
    "y_min, y_max = yy.min(), yy.max()\n",
    "# Fix the ratios\n",
    "sx = (x_max-x_min)\n",
    "sy = (y_max-y_min)\n",
    "if sx > sy:\n",
    "    res_x = sx/float(sy)*res\n",
    "    res_y = res\n",
    "else:\n",
    "    res_x = res\n",
    "    res_y = sy/float(sx)*res"
   ]
  },
  {
   "cell_type": "code",
   "execution_count": 229,
   "metadata": {},
   "outputs": [
    {
     "data": {
      "text/plain": [
       "(8000, 8615.1535825786468)"
      ]
     },
     "execution_count": 229,
     "metadata": {},
     "output_type": "execute_result"
    }
   ],
   "source": [
    "res_x, res_y"
   ]
  },
  {
   "cell_type": "code",
   "execution_count": 230,
   "metadata": {},
   "outputs": [],
   "source": [
    "res_y=res_y.astype(\"int16\")"
   ]
  },
  {
   "cell_type": "code",
   "execution_count": 231,
   "metadata": {},
   "outputs": [
    {
     "data": {
      "text/plain": [
       "(54, 54, 3)"
      ]
     },
     "execution_count": 231,
     "metadata": {},
     "output_type": "execute_result"
    }
   ],
   "source": [
    "images[0].shape"
   ]
  },
  {
   "cell_type": "code",
   "execution_count": 232,
   "metadata": {},
   "outputs": [
    {
     "name": "stdout",
     "output_type": "stream",
     "text": [
      "Creating plot, 99.99 % finished\n"
     ]
    }
   ],
   "source": [
    "canvas = np.ones((res_x+max_width, res_y+max_height, 3))*cval\n",
    "x_coords = np.linspace(x_min, x_max, res_x)\n",
    "y_coords = np.linspace(y_min, y_max, res_y)\n",
    "i = 0\n",
    "for x, y, image in zip(xx, yy, images):\n",
    "    clear_output()\n",
    "    print(\"Creating plot, {0:.2f} % finished\".format(i/19611*100))\n",
    "    i = i + 1\n",
    "    w, h = image.shape[:2]\n",
    "    x_idx = np.argmin((x - x_coords)**2)\n",
    "    y_idx = np.argmin((y - y_coords)**2)\n",
    "    canvas[x_idx:x_idx+w, y_idx:y_idx+h] = image"
   ]
  },
  {
   "cell_type": "code",
   "execution_count": null,
   "metadata": {},
   "outputs": [],
   "source": [
    "!rm /data/joint_scoring/images/embeddings_classification.png"
   ]
  },
  {
   "cell_type": "code",
   "execution_count": 234,
   "metadata": {},
   "outputs": [],
   "source": [
    "plt.figure(figsize=(400,400))\n",
    "plt.imshow(canvas)\n",
    "plt.savefig('/data/joint_scoring/images/embeddings_classification.png', bbox_inches='tight')"
   ]
  },
  {
   "cell_type": "code",
   "execution_count": null,
   "metadata": {},
   "outputs": [],
   "source": []
  }
 ],
 "metadata": {
  "kernelspec": {
   "display_name": "Python 3",
   "language": "python",
   "name": "python3"
  },
  "language_info": {
   "codemirror_mode": {
    "name": "ipython",
    "version": 3
   },
   "file_extension": ".py",
   "mimetype": "text/x-python",
   "name": "python",
   "nbconvert_exporter": "python",
   "pygments_lexer": "ipython3",
   "version": "3.5.2"
  }
 },
 "nbformat": 4,
 "nbformat_minor": 2
}
