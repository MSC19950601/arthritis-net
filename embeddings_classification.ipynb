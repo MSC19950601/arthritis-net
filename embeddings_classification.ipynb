{
 "cells": [
  {
   "cell_type": "markdown",
   "metadata": {},
   "source": [
    "# Embeddings"
   ]
  },
  {
   "cell_type": "code",
   "execution_count": 1,
   "metadata": {},
   "outputs": [],
   "source": [
    "import h5py\n",
    "import numpy as np\n",
    "import tensorflow as tf\n",
    "from tensorflow.python.keras.models import Sequential"
   ]
  },
  {
   "cell_type": "markdown",
   "metadata": {},
   "source": [
    "## Loading the data"
   ]
  },
  {
   "cell_type": "code",
   "execution_count": 2,
   "metadata": {},
   "outputs": [
    {
     "data": {
      "text/plain": [
       "((19611,), (19611, 150, 150, 1))"
      ]
     },
     "execution_count": 2,
     "metadata": {},
     "output_type": "execute_result"
    }
   ],
   "source": [
    "with h5py.File('/data/joint_scoring/labels_test.h5', 'r') as hf:\n",
    "    y = hf['labels_test'][:]\n",
    "    \n",
    "with h5py.File('/data/joint_scoring/img_test.h5', 'r') as hf:\n",
    "    imgs = hf['img_test'][:]\n",
    "\n",
    "imgs = imgs\n",
    "y = y\n",
    "\n",
    "y.shape, imgs.shape"
   ]
  },
  {
   "cell_type": "code",
   "execution_count": 3,
   "metadata": {},
   "outputs": [],
   "source": [
    "from tensorflow.python.keras.models import load_model\n",
    "\n",
    "loaded_model = load_model(\"/data/joint_scoring/models/20171108_195245.h5\")"
   ]
  },
  {
   "cell_type": "code",
   "execution_count": 4,
   "metadata": {},
   "outputs": [
    {
     "name": "stdout",
     "output_type": "stream",
     "text": [
      "19611/19611 [==============================] - 12s    \n"
     ]
    }
   ],
   "source": [
    "pred = loaded_model.predict_classes(imgs)"
   ]
  },
  {
   "cell_type": "code",
   "execution_count": 5,
   "metadata": {},
   "outputs": [],
   "source": [
    "diff = pred - y"
   ]
  },
  {
   "cell_type": "code",
   "execution_count": 6,
   "metadata": {},
   "outputs": [
    {
     "data": {
      "text/plain": [
       "array([ 0.,  0.,  3., ...,  1.,  2.,  0.])"
      ]
     },
     "execution_count": 6,
     "metadata": {},
     "output_type": "execute_result"
    }
   ],
   "source": [
    "diff"
   ]
  },
  {
   "cell_type": "markdown",
   "metadata": {},
   "source": [
    "## Build truncated model"
   ]
  },
  {
   "cell_type": "code",
   "execution_count": 7,
   "metadata": {},
   "outputs": [],
   "source": [
    "config = loaded_model.get_config()"
   ]
  },
  {
   "cell_type": "code",
   "execution_count": 8,
   "metadata": {},
   "outputs": [],
   "source": [
    "config = config[0:48]"
   ]
  },
  {
   "cell_type": "code",
   "execution_count": 9,
   "metadata": {},
   "outputs": [],
   "source": [
    "model = Sequential.from_config(config)"
   ]
  },
  {
   "cell_type": "code",
   "execution_count": 10,
   "metadata": {},
   "outputs": [],
   "source": [
    "weights = loaded_model.get_weights()"
   ]
  },
  {
   "cell_type": "code",
   "execution_count": 11,
   "metadata": {},
   "outputs": [],
   "source": [
    "model.set_weights(weights)"
   ]
  },
  {
   "cell_type": "markdown",
   "metadata": {},
   "source": [
    "## Get embeddings"
   ]
  },
  {
   "cell_type": "code",
   "execution_count": 12,
   "metadata": {},
   "outputs": [],
   "source": [
    "embeddings = model.predict(imgs)"
   ]
  },
  {
   "cell_type": "code",
   "execution_count": 13,
   "metadata": {},
   "outputs": [],
   "source": [
    "from sklearn.decomposition import PCA\n",
    "\n",
    "x_50d = PCA(n_components=50).fit_transform(embeddings)"
   ]
  },
  {
   "cell_type": "code",
   "execution_count": 14,
   "metadata": {},
   "outputs": [],
   "source": [
    "from sklearn.manifold import TSNE\n",
    "\n",
    "x_2d = TSNE(n_components=2, random_state=1).fit_transform(x_50d)"
   ]
  },
  {
   "cell_type": "markdown",
   "metadata": {},
   "source": [
    "## 2D"
   ]
  },
  {
   "cell_type": "code",
   "execution_count": null,
   "metadata": {},
   "outputs": [],
   "source": [
    "from matplotlib import pyplot as plt\n",
    "\n",
    "plt.figure(figsize=(25,25))\n",
    "plt.scatter(x_2d[:, 0], x_2d[:, 1], c=y, cmap=plt.cm.get_cmap(\"viridis\", 6))\n",
    "plt.colorbar()\n",
    "plt.savefig('/data/joint_scoring/images/tsne_classification.png', bbox_inches='tight')"
   ]
  },
  {
   "cell_type": "code",
   "execution_count": null,
   "metadata": {},
   "outputs": [],
   "source": [
    "from matplotlib import pyplot as plt\n",
    "\n",
    "plt.figure(figsize=(25,25))\n",
    "plt.scatter(x_2d[:, 0], x_2d[:, 1], c=diff, cmap=plt.cm.get_cmap(\"RdBu\", 10))\n",
    "plt.colorbar()\n",
    "plt.savefig('/data/joint_scoring/images/tsne_diference_classification.png', bbox_inches='tight')"
   ]
  },
  {
   "cell_type": "markdown",
   "metadata": {},
   "source": [
    "## KNN"
   ]
  },
  {
   "cell_type": "code",
   "execution_count": 17,
   "metadata": {},
   "outputs": [],
   "source": [
    "from sklearn.neighbors import KNeighborsClassifier\n",
    "from sklearn.model_selection import cross_val_score"
   ]
  },
  {
   "cell_type": "code",
   "execution_count": 18,
   "metadata": {},
   "outputs": [
    {
     "name": "stdout",
     "output_type": "stream",
     "text": [
      "1\n",
      "3\n",
      "5\n",
      "7\n",
      "9\n"
     ]
    }
   ],
   "source": [
    "cv_scores = []\n",
    "\n",
    "for k in range(1,10,2):\n",
    "    print(k)\n",
    "    knn = KNeighborsClassifier(n_neighbors=k)\n",
    "    scores = cross_val_score(knn, embeddings, y, cv=10, scoring='accuracy')\n",
    "    cv_scores.append(scores.mean())"
   ]
  },
  {
   "cell_type": "code",
   "execution_count": 19,
   "metadata": {},
   "outputs": [
    {
     "data": {
      "text/plain": [
       "[0.61348894649781649,\n",
       " 0.65545282117078174,\n",
       " 0.67839829048465661,\n",
       " 0.69048233671353254,\n",
       " 0.69604213873637533]"
      ]
     },
     "execution_count": 19,
     "metadata": {},
     "output_type": "execute_result"
    }
   ],
   "source": [
    "cv_scores"
   ]
  },
  {
   "cell_type": "code",
   "execution_count": 22,
   "metadata": {},
   "outputs": [
    {
     "name": "stdout",
     "output_type": "stream",
     "text": [
      "The optimal number of neighbors is 9\n"
     ]
    },
    {
     "data": {
      "image/png": "[encoded data removed]",
      "text/plain": [
       "<matplotlib.figure.Figure at 0x7f9e51482518>"
      ]
     },
     "metadata": {},
     "output_type": "display_data"
    }
   ],
   "source": [
    "# determining best k\n",
    "from matplotlib import pyplot as plt\n",
    "optimal_k = range(1,10,2)[cv_scores.index(max(cv_scores))]\n",
    "print(\"The optimal number of neighbors is %d\" % optimal_k)\n",
    "\n",
    "# plot misclassification error vs k\n",
    "plt.close()\n",
    "plt.plot(range(1,10,2), cv_scores)\n",
    "plt.xlabel('Number of Neighbors K')\n",
    "plt.ylabel('mean squared error')\n",
    "plt.show()"
   ]
  },
  {
   "cell_type": "code",
   "execution_count": 25,
   "metadata": {},
   "outputs": [],
   "source": [
    "from sklearn.model_selection import cross_val_predict\n",
    "knn = KNeighborsClassifier(n_neighbors=9)\n",
    "pred = cross_val_predict(estimator=knn, X=embeddings, y=y, cv=10)"
   ]
  },
  {
   "cell_type": "code",
   "execution_count": 32,
   "metadata": {},
   "outputs": [
    {
     "name": "stdout",
     "output_type": "stream",
     "text": [
      "Confusion matrix, without normalization\n",
      "[[11800  1434    14     8     2    28]\n",
      " [ 3552  1696    50    17     9    45]\n",
      " [   94   242    39    14     6    28]\n",
      " [   29    80    32     8     6    22]\n",
      " [   15    37    15     8     3    20]\n",
      " [   35    77    15    15    12   104]]\n",
      "Normalized confusion matrix\n",
      "[[  8.88152943e-01   1.07933163e-01   1.05374078e-03   6.02137588e-04\n",
      "    1.50534397e-04   2.10748156e-03]\n",
      " [  6.61575712e-01   3.15887502e-01   9.31272118e-03   3.16632520e-03\n",
      "    1.67628981e-03   8.38144906e-03]\n",
      " [  2.22222222e-01   5.72104019e-01   9.21985816e-02   3.30969267e-02\n",
      "    1.41843972e-02   6.61938534e-02]\n",
      " [  1.63841808e-01   4.51977401e-01   1.80790960e-01   4.51977401e-02\n",
      "    3.38983051e-02   1.24293785e-01]\n",
      " [  1.53061224e-01   3.77551020e-01   1.53061224e-01   8.16326531e-02\n",
      "    3.06122449e-02   2.04081633e-01]\n",
      " [  1.35658915e-01   2.98449612e-01   5.81395349e-02   5.81395349e-02\n",
      "    4.65116279e-02   4.03100775e-01]]\n"
     ]
    },
    {
     "data": {
      "image/png": "[encoded data removed]",
      "text/plain": [
       "<matplotlib.figure.Figure at 0x7f9e82a9ab00>"
      ]
     },
     "metadata": {},
     "output_type": "display_data"
    },
    {
     "data": {
      "image/png": "[encoded data removed]",
      "text/plain": [
       "<matplotlib.figure.Figure at 0x7f9e82abeba8>"
      ]
     },
     "metadata": {},
     "output_type": "display_data"
    }
   ],
   "source": [
    "from sklearn.metrics import confusion_matrix\n",
    "import itertools\n",
    "cnf_matrix = confusion_matrix(y, pred)\n",
    "def plot_confusion_matrix(cm, classes,\n",
    "                          normalize=False,\n",
    "                          title='Confusion matrix',\n",
    "                          cmap=plt.cm.Blues):\n",
    "    \"\"\"\n",
    "    This function prints and plots the confusion matrix.\n",
    "    Normalization can be applied by setting `normalize=True`.\n",
    "    \"\"\"\n",
    "    if normalize:\n",
    "        cm = cm.astype('float') / cm.sum(axis=1)[:, np.newaxis]\n",
    "        print(\"Normalized confusion matrix\")\n",
    "    else:\n",
    "        print('Confusion matrix, without normalization')\n",
    "\n",
    "    print(cm)\n",
    "\n",
    "    plt.imshow(cm, interpolation='nearest', cmap=cmap)\n",
    "    plt.title(title)\n",
    "    plt.colorbar()\n",
    "    tick_marks = np.arange(len(classes))\n",
    "    plt.xticks(tick_marks, classes, rotation=45)\n",
    "    plt.yticks(tick_marks, classes)\n",
    "\n",
    "    fmt = '.2f' if normalize else 'd'\n",
    "    thresh = cm.max() / 2.\n",
    "    for i, j in itertools.product(range(cm.shape[0]), range(cm.shape[1])):\n",
    "        plt.text(j, i, format(cm[i, j], fmt),\n",
    "                 horizontalalignment=\"center\",\n",
    "                 color=\"white\" if cm[i, j] > thresh else \"black\")\n",
    "\n",
    "    plt.tight_layout()\n",
    "    plt.ylabel('True label')\n",
    "    plt.xlabel('Predicted label')\n",
    "\n",
    "# Plot non-normalized confusion matrix\n",
    "plt.figure()\n",
    "plot_confusion_matrix(cnf_matrix, classes=range(6),\n",
    "                      title='Confusion matrix, without normalization')\n",
    "\n",
    "# Plot normalized confusion matrix\n",
    "plt.figure()\n",
    "plot_confusion_matrix(cnf_matrix, classes=range(6), normalize=True,\n",
    "                      title='Normalized confusion matrix')\n",
    "\n",
    "plt.show()"
   ]
  },
  {
   "cell_type": "code",
   "execution_count": 33,
   "metadata": {},
   "outputs": [
    {
     "name": "stdout",
     "output_type": "stream",
     "text": [
      "Mean accuracy per class\n",
      "0.29585829784\n"
     ]
    }
   ],
   "source": [
    "cm = cnf_matrix.astype('float') / cnf_matrix.sum(axis=1)[:, np.newaxis]\n",
    "print(\"Mean accuracy per class\")\n",
    "print(np.mean(np.diag(cm)))"
   ]
  },
  {
   "cell_type": "code",
   "execution_count": 34,
   "metadata": {},
   "outputs": [
    {
     "name": "stdout",
     "output_type": "stream",
     "text": [
      "Mean accuracy in the correct class or +- 1\n",
      "0.617681251359\n"
     ]
    }
   ],
   "source": [
    "upper = np.diag(cm, 1)\n",
    "upper = np.append(upper, 0)\n",
    "diagonal = np.diag(cm)\n",
    "lower = np.diag(cm, -1)\n",
    "lower = np.append(0, lower)\n",
    "\n",
    "arr = np.vstack((upper, diagonal, lower))\n",
    "print(\"Mean accuracy in the correct class or +- 1\")\n",
    "print(arr.sum(axis=0).mean())"
   ]
  },
  {
   "cell_type": "markdown",
   "metadata": {},
   "source": [
    "## 3D"
   ]
  },
  {
   "cell_type": "code",
   "execution_count": 17,
   "metadata": {},
   "outputs": [],
   "source": [
    "from sklearn.manifold import TSNE\n",
    "x_embedded = TSNE(n_components=3, random_state=1).fit_transform(x_50d)"
   ]
  },
  {
   "cell_type": "code",
   "execution_count": null,
   "metadata": {},
   "outputs": [],
   "source": [
    "from mpl_toolkits.mplot3d import Axes3D\n",
    "\n",
    "fig = plt.figure(figsize=(25,25))\n",
    "ax = Axes3D(fig)\n",
    "ax.scatter(x_embedded[:, 0], x_embedded[:, 1], x_embedded[:, 2], c=y, cmap=plt.cm.get_cmap(\"viridis\", 6))\n",
    "plt.savefig('/data/joint_scoring/images/tsne_3d_classification.png', bbox_inches='tight')"
   ]
  },
  {
   "cell_type": "code",
   "execution_count": 129,
   "metadata": {},
   "outputs": [
    {
     "name": "stdout",
     "output_type": "stream",
     "text": [
      "Requirement already up-to-date: scikit-image in /usr/local/lib/python3.5/dist-packages\n",
      "Requirement already up-to-date: matplotlib>=1.3.1 in /usr/local/lib/python3.5/dist-packages (from scikit-image)\n",
      "Requirement already up-to-date: scipy>=0.17.0 in /usr/local/lib/python3.5/dist-packages (from scikit-image)\n",
      "Requirement already up-to-date: six>=1.7.3 in /usr/local/lib/python3.5/dist-packages (from scikit-image)\n",
      "Requirement already up-to-date: PyWavelets>=0.4.0 in /usr/local/lib/python3.5/dist-packages (from scikit-image)\n",
      "Requirement already up-to-date: pillow>=2.1.0 in /usr/local/lib/python3.5/dist-packages (from scikit-image)\n",
      "Requirement already up-to-date: networkx>=1.8 in /usr/local/lib/python3.5/dist-packages (from scikit-image)\n",
      "Requirement already up-to-date: pyparsing!=2.0.4,!=2.1.2,!=2.1.6,>=2.0.1 in /usr/local/lib/python3.5/dist-packages (from matplotlib>=1.3.1->scikit-image)\n",
      "Requirement already up-to-date: numpy>=1.7.1 in /usr/local/lib/python3.5/dist-packages (from matplotlib>=1.3.1->scikit-image)\n",
      "Requirement already up-to-date: python-dateutil>=2.0 in /usr/local/lib/python3.5/dist-packages (from matplotlib>=1.3.1->scikit-image)\n",
      "Requirement already up-to-date: cycler>=0.10 in /usr/local/lib/python3.5/dist-packages (from matplotlib>=1.3.1->scikit-image)\n",
      "Requirement already up-to-date: pytz in /usr/local/lib/python3.5/dist-packages (from matplotlib>=1.3.1->scikit-image)\n",
      "Requirement already up-to-date: olefile in /usr/local/lib/python3.5/dist-packages (from pillow>=2.1.0->scikit-image)\n",
      "Requirement already up-to-date: decorator>=4.1.0 in /usr/local/lib/python3.5/dist-packages (from networkx>=1.8->scikit-image)\n"
     ]
    },
    {
     "name": "stderr",
     "output_type": "stream",
     "text": [
      "/usr/local/lib/python3.5/dist-packages/skimage/transform/_warps.py:84: UserWarning: The default mode, 'constant', will be changed to 'reflect' in skimage 0.15.\n",
      "  warn(\"The default mode, 'constant', will be changed to 'reflect' in \"\n"
     ]
    }
   ],
   "source": [
    "!pip3 install scikit-image --upgrade\n",
    "from skimage.transform import resize\n",
    "imgs_resized = [resize(image=x, output_shape=(50, 50)) for x in imgs]\n",
    "imgs_resized = np.array(imgs_resized)"
   ]
  },
  {
   "cell_type": "code",
   "execution_count": 95,
   "metadata": {},
   "outputs": [
    {
     "name": "stdout",
     "output_type": "stream",
     "text": [
      "[[ 68   1  84   1]\n",
      " [ 64  67 135   1]\n",
      " [ 41 120 142   1]\n",
      " [ 34 167 132   1]\n",
      " [121 209  81   1]\n",
      " [253 231  36   1]]\n",
      "<class 'numpy.ndarray'>\n"
     ]
    }
   ],
   "source": [
    "cm = plt.cm.get_cmap(\"viridis\", 6)\n",
    "color = np.ones((6, 4))\n",
    "for i in range(6):\n",
    "    color[i] = cm(1.*i/6)\n",
    "\n",
    "#color = [x[0:-1] for x in color]\n",
    "color = [np.append((x[0:-1] * 255),1) for x in color]\n",
    "color = np.array(color)\n",
    "\n",
    "\n",
    "color = color.astype(\"int16\")\n",
    "\n",
    "print(color)\n",
    "print(type(color[0]))"
   ]
  },
  {
   "cell_type": "code",
   "execution_count": 96,
   "metadata": {},
   "outputs": [
    {
     "data": {
      "text/plain": [
       "(68, 1, 84, 1)"
      ]
     },
     "execution_count": 96,
     "metadata": {},
     "output_type": "execute_result"
    }
   ],
   "source": [
    "tuple(color[0])"
   ]
  },
  {
   "cell_type": "code",
   "execution_count": 117,
   "metadata": {},
   "outputs": [
    {
     "data": {
      "text/plain": [
       "62.845509"
      ]
     },
     "execution_count": 117,
     "metadata": {},
     "output_type": "execute_result"
    }
   ],
   "source": [
    "y"
   ]
  },
  {
   "cell_type": "code",
   "execution_count": 201,
   "metadata": {},
   "outputs": [
    {
     "data": {
      "image/png": "[encoded data removed]",
      "text/plain": [
       "<matplotlib.figure.Figure at 0x7f832ba57208>"
      ]
     },
     "metadata": {},
     "output_type": "display_data"
    }
   ],
   "source": [
    "plt.imshow(imgs_resized[1].squeeze(), cmap=\"gray\")\n",
    "plt.show()"
   ]
  },
  {
   "cell_type": "code",
   "execution_count": 221,
   "metadata": {},
   "outputs": [
    {
     "name": "stdout",
     "output_type": "stream",
     "text": [
      "Creating images with colored borders, 99.94 % finished\n"
     ]
    }
   ],
   "source": [
    "from PIL import Image\n",
    "from PIL import ImageMath\n",
    "\n",
    "imgs_border = []\n",
    "\n",
    "old_size = (50, 50)\n",
    "new_size = (54, 54)\n",
    "\n",
    "for i, img in enumerate(imgs_resized):\n",
    "    if i % 100 == 0:\n",
    "        clear_output()\n",
    "        print(\"Creating images with colored borders, {0:.2f} % finished\".format(i/19611*100))\n",
    "    old_im = Image.fromarray((img.squeeze()*255).astype(\"int16\"))\n",
    "    old_im = old_im.convert(\"RGB\")\n",
    "    new_im = Image.new(\"RGB\", new_size, tuple(color[int(y[i])]))\n",
    "    new_im.paste(old_im, (2,2))\n",
    "    dat = np.asarray(a=new_im)\n",
    "    imgs_border.append(dat)\n"
   ]
  },
  {
   "cell_type": "code",
   "execution_count": 225,
   "metadata": {},
   "outputs": [
    {
     "data": {
      "text/plain": [
       "(19611, 54, 54, 3)"
      ]
     },
     "execution_count": 225,
     "metadata": {},
     "output_type": "execute_result"
    }
   ],
   "source": [
    "np.array(imgs_border).shape"
   ]
  },
  {
   "cell_type": "code",
   "execution_count": 226,
   "metadata": {},
   "outputs": [
    {
     "data": {
      "image/png": "[encoded data removed]",
      "text/plain": [
       "<matplotlib.figure.Figure at 0x7f83612600b8>"
      ]
     },
     "metadata": {},
     "output_type": "display_data"
    }
   ],
   "source": [
    "plt.imshow(imgs_border[1])\n",
    "plt.show()"
   ]
  },
  {
   "cell_type": "code",
   "execution_count": 227,
   "metadata": {},
   "outputs": [],
   "source": [
    "from IPython.display import clear_output\n",
    "res = 8000 # resolution of plot\n",
    "cval = 255 # background colour\n",
    "\n",
    "images = imgs_border\n",
    "max_width = max([image.shape[0] for image in images])\n",
    "max_height = max([image.shape[1] for image in images])"
   ]
  },
  {
   "cell_type": "code",
   "execution_count": 228,
   "metadata": {},
   "outputs": [],
   "source": [
    "f2d = x_2d\n",
    "\n",
    "xx = f2d[:, 0]\n",
    "yy = f2d[:, 1]\n",
    "x_min, x_max = xx.min(), xx.max()\n",
    "y_min, y_max = yy.min(), yy.max()\n",
    "# Fix the ratios\n",
    "sx = (x_max-x_min)\n",
    "sy = (y_max-y_min)\n",
    "if sx > sy:\n",
    "    res_x = sx/float(sy)*res\n",
    "    res_y = res\n",
    "else:\n",
    "    res_x = res\n",
    "    res_y = sy/float(sx)*res"
   ]
  },
  {
   "cell_type": "code",
   "execution_count": 229,
   "metadata": {},
   "outputs": [
    {
     "data": {
      "text/plain": [
       "(8000, 8615.1535825786468)"
      ]
     },
     "execution_count": 229,
     "metadata": {},
     "output_type": "execute_result"
    }
   ],
   "source": [
    "res_x, res_y"
   ]
  },
  {
   "cell_type": "code",
   "execution_count": 230,
   "metadata": {},
   "outputs": [],
   "source": [
    "res_y=res_y.astype(\"int16\")"
   ]
  },
  {
   "cell_type": "code",
   "execution_count": 231,
   "metadata": {},
   "outputs": [
    {
     "data": {
      "text/plain": [
       "(54, 54, 3)"
      ]
     },
     "execution_count": 231,
     "metadata": {},
     "output_type": "execute_result"
    }
   ],
   "source": [
    "images[0].shape"
   ]
  },
  {
   "cell_type": "code",
   "execution_count": 232,
   "metadata": {},
   "outputs": [
    {
     "name": "stdout",
     "output_type": "stream",
     "text": [
      "Creating plot, 99.99 % finished\n"
     ]
    }
   ],
   "source": [
    "canvas = np.ones((res_x+max_width, res_y+max_height, 3))*cval\n",
    "x_coords = np.linspace(x_min, x_max, res_x)\n",
    "y_coords = np.linspace(y_min, y_max, res_y)\n",
    "i = 0\n",
    "for x, y, image in zip(xx, yy, images):\n",
    "    clear_output()\n",
    "    print(\"Creating plot, {0:.2f} % finished\".format(i/19611*100))\n",
    "    i = i + 1\n",
    "    w, h = image.shape[:2]\n",
    "    x_idx = np.argmin((x - x_coords)**2)\n",
    "    y_idx = np.argmin((y - y_coords)**2)\n",
    "    canvas[x_idx:x_idx+w, y_idx:y_idx+h] = image"
   ]
  },
  {
   "cell_type": "code",
   "execution_count": null,
   "metadata": {},
   "outputs": [],
   "source": [
    "!rm /data/joint_scoring/images/embeddings_classification.png"
   ]
  },
  {
   "cell_type": "code",
   "execution_count": 234,
   "metadata": {},
   "outputs": [],
   "source": [
    "plt.figure(figsize=(400,400))\n",
    "plt.imshow(canvas)\n",
    "plt.savefig('/data/joint_scoring/images/embeddings_classification.png', bbox_inches='tight')"
   ]
  },
  {
   "cell_type": "code",
   "execution_count": null,
   "metadata": {},
   "outputs": [],
   "source": []
  }
 ],
 "metadata": {
  "kernelspec": {
   "display_name": "Python 3",
   "language": "python",
   "name": "python3"
  },
  "language_info": {
   "codemirror_mode": {
    "name": "ipython",
    "version": 3
   },
   "file_extension": ".py",
   "mimetype": "text/x-python",
   "name": "python",
   "nbconvert_exporter": "python",
   "pygments_lexer": "ipython3",
   "version": "3.5.2"
  }
 },
 "nbformat": 4,
 "nbformat_minor": 2
}
