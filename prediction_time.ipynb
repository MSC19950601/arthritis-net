{
 "cells": [
  {
   "cell_type": "markdown",
   "metadata": {},
   "source": [
    "# Classification"
   ]
  },
  {
   "cell_type": "markdown",
   "metadata": {},
   "source": [
    "Time needed to make a prediction for all 10 joints of hand. Includes the time needed to load the image."
   ]
  },
  {
   "cell_type": "code",
   "execution_count": 1,
   "metadata": {},
   "outputs": [],
   "source": [
    "from tensorflow.python.keras.models import load_model\n",
    "import h5py\n",
    "clas_model = load_model(\"/cluster/home/rohrbjan/joint_scoring/models/20171108_195245.h5\")"
   ]
  },
  {
   "cell_type": "code",
   "execution_count": 2,
   "metadata": {},
   "outputs": [
    {
     "name": "stdout",
     "output_type": "stream",
     "text": [
      "1.1243374347686768\n"
     ]
    }
   ],
   "source": [
    "import time\n",
    "start = time.time()\n",
    "with h5py.File('/cluster/home/rohrbjan/joint_scoring/img_test.h5', 'r') as hf:\n",
    "    img_tmp = hf['img_test'][0:10]\n",
    "tmp = clas_model.predict(img_tmp)\n",
    "end = time.time()\n",
    "print(end - start)"
   ]
  },
  {
   "cell_type": "markdown",
   "metadata": {},
   "source": [
    "# Regression"
   ]
  },
  {
   "cell_type": "markdown",
   "metadata": {},
   "source": [
    "Time needed to make a prediction for all 10 joints of hand. Includes the time needed to load the image and transform it from greyscale to rgb, as well as the time needed for the transformation to the range [-1, 1]"
   ]
  },
  {
   "cell_type": "code",
   "execution_count": 3,
   "metadata": {},
   "outputs": [],
   "source": [
    "from PIL import Image\n",
    "from tensorflow.python.keras.applications.inception_v3 import preprocess_input\n",
    "import numpy as np\n",
    "\n",
    "from tensorflow.python.keras import backend as K\n",
    "\n",
    "def crps(y_true, y_pred):\n",
    "    diff = (y_true - y_pred)\n",
    "    diff_2 = K.square(diff)\n",
    "    loss = K.mean(diff_2)\n",
    "    return loss\n",
    "\n",
    "reg_model = load_model(\"/cluster/home/rohrbjan/joint_scoring/models/20171128_000703.h5\", custom_objects={\"crps\":crps})"
   ]
  },
  {
   "cell_type": "code",
   "execution_count": 4,
   "metadata": {},
   "outputs": [
    {
     "name": "stdout",
     "output_type": "stream",
     "text": [
      "1.0139703750610352\n"
     ]
    }
   ],
   "source": [
    "start = time.time()\n",
    "with h5py.File('/cluster/home/rohrbjan/joint_scoring/img_test_regression.h5', 'r') as hf:\n",
    "    img_tmp = hf['img_test_regression'][0:10]\n",
    "\n",
    "img_tmp_rgb = []\n",
    "\n",
    "for i, img in enumerate(img_tmp):\n",
    "    im = Image.fromarray((img.squeeze()).astype(\"int16\"))\n",
    "    im = im.convert(\"RGB\")\n",
    "    dat = np.array(im)\n",
    "    img_tmp_rgb.append(dat)\n",
    "\n",
    "img_tmp_rgb = [preprocess_input(x.astype(\"float32\")) for x in img_tmp_rgb]\n",
    "img_tmp_rgb = np.array(img_tmp_rgb)\n",
    "\n",
    "tmp = reg_model.predict(img_tmp_rgb)\n",
    "end = time.time()\n",
    "print(end - start)"
   ]
  }
 ],
 "metadata": {
  "kernelspec": {
   "display_name": "Python 3",
   "language": "python",
   "name": "python3"
  },
  "language_info": {
   "codemirror_mode": {
    "name": "ipython",
    "version": 3
   },
   "file_extension": ".py",
   "mimetype": "text/x-python",
   "name": "python",
   "nbconvert_exporter": "python",
   "pygments_lexer": "ipython3",
   "version": "3.5.2"
  }
 },
 "nbformat": 4,
 "nbformat_minor": 2
}
