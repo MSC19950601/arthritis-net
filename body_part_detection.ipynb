{
 "cells": [
  {
   "cell_type": "code",
   "execution_count": null,
   "metadata": {
    "collapsed": true
   },
   "outputs": [],
   "source": [
    "# import tf\n",
    "import tensorflow as tf\n",
    "import numpy as np\n",
    "\n",
    "# keras imports\n",
    "from tensorflow.contrib.keras.python.keras.models import Sequential\n",
    "from tensorflow.contrib.keras.python.keras.layers import Dense, Dropout, \\\n",
    "    Flatten\n",
    "from tensorflow.contrib.keras.python.keras.layers.convolutional import \\\n",
    "    Conv2D, MaxPooling2D\n",
    "from tensorflow.contrib.keras.python.keras.utils import to_categorical\n",
    "from tensorflow.contrib.keras.python.keras import backend as K\n",
    "from tensorflow.contrib.keras.python.keras import callbacks\n",
    "from tensorflow.contrib.keras.python.keras.preprocessing.image import \\\n",
    "    ImageDataGenerator, array_to_img, img_to_array, load_img\n",
    "\n",
    "\n",
    "# import matplotlib\n",
    "import matplotlib.pyplot as plt\n",
    "\n",
    "import os\n",
    "from PIL import Image\n",
    "from PIL import ImageChops"
   ]
  },
  {
   "cell_type": "code",
   "execution_count": 22,
   "metadata": {},
   "outputs": [],
   "source": [
    "# image format -> (rows, cols, channels)\n",
    "K.set_image_data_format(\"channels_last\")\n",
    "# fix random seed for reproducibility\n",
    "seed = 1\n",
    "np.random.seed(seed)\n",
    "tf.set_random_seed(seed)"
   ]
  },
  {
   "cell_type": "code",
   "execution_count": 26,
   "metadata": {},
   "outputs": [],
   "source": [
    "# load data\n",
    "root = \"/Volumes/Data/deepxray\"\n",
    "dirname = \"images/jpgs\"\n",
    "file = \"1.2.250.1.59.0.2333.20100118152245.19934.1.jpg\"\n",
    "size = (500, 500)\n",
    "\n",
    "image = Image.open(os.path.join(root, dirname, file))\n",
    "print(\"Creating numpy representation of image %s \" % file)\n",
    "image.thumbnail(size, Image.ANTIALIAS)\n",
    "image_size = image.size\n",
    "\n",
    "thumb = image.crop((0, 0, size[0], size[1]))\n",
    "offset_x = max((size[0] - image_size[0]) / 2, 0)\n",
    "offset_y = max((size[1] - image_size[1]) / 2, 0)\n",
    "thumb = ImageChops.offset(thumb, int(offset_x), int(offset_y))\n",
    "\n",
    "data = np.asarray(thumb, dtype=\"uint8\")\n",
    "print(data.shape)\n",
    "plt.imshow(data, cmap='gray')\n",
    "plt.show()\n",
    "\n",
    "master_dataset.append(data)\n"
   ]
  },
  {
   "cell_type": "code",
   "execution_count": null,
   "metadata": {},
   "outputs": [],
   "source": []
  }
 ],
 "metadata": {
  "kernelspec": {
   "display_name": "Python 2",
   "language": "python",
   "name": "python2"
  },
  "language_info": {
   "codemirror_mode": {
    "name": "ipython",
    "version": 2
   },
   "file_extension": ".py",
   "mimetype": "text/x-python",
   "name": "python",
   "nbconvert_exporter": "python",
   "pygments_lexer": "ipython2",
   "version": "2.7.6"
  }
 },
 "nbformat": 4,
 "nbformat_minor": 0
}
