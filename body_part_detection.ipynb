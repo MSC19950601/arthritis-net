{
 "cells": [
  {
   "cell_type": "code",
   "execution_count": 5,
   "metadata": {
    "collapsed": true
   },
   "outputs": [],
   "source": [
    "# import tf\n",
    "import tensorflow as tf\n",
    "import numpy as np\n",
    "\n",
    "# keras imports\n",
    "from tensorflow.contrib.keras.python.keras.models import Sequential\n",
    "from tensorflow.contrib.keras.python.keras.layers import Dense, Dropout, \\\n",
    "    Flatten\n",
    "from tensorflow.contrib.keras.python.keras.layers.convolutional import \\\n",
    "    Conv2D, MaxPooling2D\n",
    "from tensorflow.contrib.keras.python.keras.utils import to_categorical\n",
    "from tensorflow.contrib.keras.python.keras import backend as K\n",
    "from tensorflow.contrib.keras.python.keras import callbacks\n",
    "from tensorflow.contrib.keras.python.keras.preprocessing.image import \\\n",
    "    ImageDataGenerator, array_to_img, img_to_array, load_img\n",
    "\n",
    "\n",
    "# import matplotlib\n",
    "import matplotlib.pyplot as plt"
   ]
  },
  {
   "cell_type": "code",
   "execution_count": 22,
   "metadata": {},
   "outputs": [],
   "source": [
    "# image format -> (rows, cols, channels)\n",
    "K.set_image_data_format(\"channels_first\")\n",
    "# fix random seed for reproducibility\n",
    "seed = 1\n",
    "np.random.seed(seed)\n",
    "tf.set_random_seed(seed)"
   ]
  },
  {
   "cell_type": "code",
   "execution_count": 26,
   "metadata": {},
   "outputs": [],
   "source": [
    "# load data\n",
    "# random mutations\n",
    "datagen = ImageDataGenerator(\n",
    "        rotation_range=180,\n",
    "        width_shift_range=0.2,\n",
    "        height_shift_range=0.2,\n",
    "        rescale=1./255,\n",
    "        shear_range=0.2,\n",
    "        zoom_range=0.2,\n",
    "        horizontal_flip=False,\n",
    "        fill_mode='nearest')\n",
    "\n",
    "img = load_img(path='/Users/janickrohrbach/Desktop/deepxray/jpgs_rau/1.2.250'\n",
    "                    '.1.59.0.2333.20120806110058.119881.2.jpg', grayscale=True)\n",
    "x = img_to_array(img)  # this is a Numpy array with shape (1, 1000, 1000)\n",
    "x = x.reshape((1,) + x.shape)  # this is a Numpy array with shape \n",
    "# (1, 1, 1000, 1000)\n",
    "\n",
    "# the .flow() command below generates batches of randomly transformed images\n",
    "# and saves the results to the `preview/` directory\n",
    "i = 0\n",
    "for batch in datagen.flow(x, batch_size=1,\n",
    "                          save_to_dir='/Users/janickrohrbach/Desktop'\n",
    "                                      '/deepxray/rand_mut', \n",
    "                          save_prefix='cat', save_format='jpeg'):\n",
    "    i += 1\n",
    "    if i > 20:\n",
    "        break  # otherwise the generator would loop indefinitely"
   ]
  },
  {
   "cell_type": "code",
   "execution_count": null,
   "metadata": {},
   "outputs": [],
   "source": []
  }
 ],
 "metadata": {
  "kernelspec": {
   "display_name": "Python 2",
   "language": "python",
   "name": "python2"
  },
  "language_info": {
   "codemirror_mode": {
    "name": "ipython",
    "version": 2
   },
   "file_extension": ".py",
   "mimetype": "text/x-python",
   "name": "python",
   "nbconvert_exporter": "python",
   "pygments_lexer": "ipython2",
   "version": "2.7.6"
  }
 },
 "nbformat": 4,
 "nbformat_minor": 0
}
