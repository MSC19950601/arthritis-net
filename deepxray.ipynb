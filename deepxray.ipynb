{
 "cells": [
  {
   "cell_type": "markdown",
   "metadata": {
    "collapsed": true
   },
   "source": [
    "# Automatic scoring of x-ray images"
   ]
  },
  {
   "cell_type": "markdown",
   "metadata": {},
   "source": [
    "## 1. Preprocessing"
   ]
  },
  {
   "cell_type": "markdown",
   "metadata": {},
   "source": [
    "Import dependencies"
   ]
  },
  {
   "cell_type": "code",
   "execution_count": 109,
   "metadata": {
    "collapsed": true
   },
   "outputs": [],
   "source": [
    "import tensorflow as tf\n",
    "import pandas as pd\n",
    "import numpy as np\n",
    "import matplotlib.pyplot as plt\n",
    "import os\n",
    "\n",
    "# PIL to open & manipulate images\n",
    "from PIL import Image, ImageOps, ImageChops\n",
    "\n",
    "# for messages in loops\n",
    "from IPython.display import clear_output\n",
    "\n",
    "# to save arrays\n",
    "import h5py\n",
    "\n",
    "# for folder-timestamp\n",
    "from datetime import datetime\n",
    "\n",
    "# for train/test split\n",
    "from sklearn.model_selection import train_test_split\n",
    "# for one-hot encoding\n",
    "from sklearn.preprocessing import LabelBinarizer\n",
    "# for class weights\n",
    "from sklearn.utils import class_weight\n",
    "# for model evaluation\n",
    "from sklearn.metrics import confusion_matrix, classification_report\n",
    "# for efficient loops\n",
    "import itertools\n",
    "\n",
    "# keras\n",
    "from tensorflow.contrib.keras.python.keras import backend as K\n",
    "from tensorflow.contrib.keras.python.keras.utils.io_utils import HDF5Matrix\n",
    "from tensorflow.contrib.keras.python.keras.models import Sequential\n",
    "from tensorflow.contrib.keras.python.keras.layers import Conv2D, MaxPooling2D, Flatten, Dense, Dropout\n",
    "from tensorflow.contrib.keras.python.keras.layers.normalization import BatchNormalization\n",
    "from tensorflow.contrib.keras.python.keras import callbacks\n"
   ]
  },
  {
   "cell_type": "markdown",
   "metadata": {},
   "source": [
    "Define image format & random seeds"
   ]
  },
  {
   "cell_type": "code",
   "execution_count": 2,
   "metadata": {
    "collapsed": true
   },
   "outputs": [],
   "source": [
    "# image format -> (rows, cols, channels)\n",
    "K.set_image_data_format(\"channels_last\")\n",
    "# fix random seed for reproducibility\n",
    "seed = 1\n",
    "np.random.seed(seed)\n",
    "tf.set_random_seed(seed)"
   ]
  },
  {
   "cell_type": "markdown",
   "metadata": {},
   "source": [
    "Import csv"
   ]
  },
  {
   "cell_type": "code",
   "execution_count": 3,
   "metadata": {},
   "outputs": [
    {
     "data": {
      "text/html": [
       "<div>\n",
       "<style>\n",
       "    .dataframe thead tr:only-child th {\n",
       "        text-align: right;\n",
       "    }\n",
       "\n",
       "    .dataframe thead th {\n",
       "        text-align: left;\n",
       "    }\n",
       "\n",
       "    .dataframe tbody tr th {\n",
       "        vertical-align: top;\n",
       "    }\n",
       "</style>\n",
       "<table border=\"1\" class=\"dataframe\">\n",
       "  <thead>\n",
       "    <tr style=\"text-align: right;\">\n",
       "      <th></th>\n",
       "      <th>id_x</th>\n",
       "      <th>patient_id</th>\n",
       "      <th>date_x</th>\n",
       "      <th>accession_no</th>\n",
       "      <th>scoring_dates</th>\n",
       "      <th>scoring_types</th>\n",
       "      <th>study_iuid</th>\n",
       "      <th>series_iuid</th>\n",
       "      <th>sop_iuid</th>\n",
       "      <th>body_part</th>\n",
       "      <th>...</th>\n",
       "      <th>foot_left_3</th>\n",
       "      <th>foot_left_4</th>\n",
       "      <th>foot_left_5</th>\n",
       "      <th>foot_right_1</th>\n",
       "      <th>foot_right_2</th>\n",
       "      <th>foot_right_3</th>\n",
       "      <th>foot_right_4</th>\n",
       "      <th>foot_right_5</th>\n",
       "      <th>rau_score</th>\n",
       "      <th>creation_date</th>\n",
       "    </tr>\n",
       "  </thead>\n",
       "  <tbody>\n",
       "    <tr>\n",
       "      <th>1</th>\n",
       "      <td>2</td>\n",
       "      <td>1229</td>\n",
       "      <td>2008-08-02</td>\n",
       "      <td>570235</td>\n",
       "      <td>2008-08-02</td>\n",
       "      <td>rau</td>\n",
       "      <td>1.2.276.0.41.10.172.2.26.20080728.66320.2.570235</td>\n",
       "      <td>1.2.392.200046.100.2.1.200050.55991.2008072914...</td>\n",
       "      <td>1.2.392.200046.100.2.1.200050.55991.2008072914...</td>\n",
       "      <td>HAND_BOTH</td>\n",
       "      <td>...</td>\n",
       "      <td>5.0</td>\n",
       "      <td>5.0</td>\n",
       "      <td>15.0</td>\n",
       "      <td>0.0</td>\n",
       "      <td>0.0</td>\n",
       "      <td>5.0</td>\n",
       "      <td>10.0</td>\n",
       "      <td>10.0</td>\n",
       "      <td>33</td>\n",
       "      <td>2010-07-12</td>\n",
       "    </tr>\n",
       "    <tr>\n",
       "      <th>3</th>\n",
       "      <td>32486</td>\n",
       "      <td>5776</td>\n",
       "      <td>2006-05-11</td>\n",
       "      <td>1</td>\n",
       "      <td>2006-05-11</td>\n",
       "      <td>rau</td>\n",
       "      <td>1.2.840.113619.6.95.31.0.3.4.1.4099.13.1290030</td>\n",
       "      <td>1.3.46.670589.26.400122.2.20060329.163703.26797</td>\n",
       "      <td>1.2.840.114257.1.8062006.85706.1.1.1</td>\n",
       "      <td>HAND_LEFT</td>\n",
       "      <td>...</td>\n",
       "      <td>0.0</td>\n",
       "      <td>0.0</td>\n",
       "      <td>0.0</td>\n",
       "      <td>0.0</td>\n",
       "      <td>0.0</td>\n",
       "      <td>0.0</td>\n",
       "      <td>0.0</td>\n",
       "      <td>5.0</td>\n",
       "      <td>10</td>\n",
       "      <td>2010-07-12</td>\n",
       "    </tr>\n",
       "    <tr>\n",
       "      <th>4</th>\n",
       "      <td>10</td>\n",
       "      <td>469</td>\n",
       "      <td>1983-11-09</td>\n",
       "      <td>NaN</td>\n",
       "      <td>2012-08-21</td>\n",
       "      <td>rau</td>\n",
       "      <td>1.2.276.0.7230010.3.1.2.0.22382.1278840446.382350</td>\n",
       "      <td>1.2.276.0.7230010.3.1.3.0.22382.1278840446.382349</td>\n",
       "      <td>1.2.276.0.7230010.3.1.4.0.22382.1278840446.382351</td>\n",
       "      <td>HAND_BOTH</td>\n",
       "      <td>...</td>\n",
       "      <td>NaN</td>\n",
       "      <td>NaN</td>\n",
       "      <td>NaN</td>\n",
       "      <td>NaN</td>\n",
       "      <td>NaN</td>\n",
       "      <td>NaN</td>\n",
       "      <td>NaN</td>\n",
       "      <td>NaN</td>\n",
       "      <td>16</td>\n",
       "      <td>2012-08-21</td>\n",
       "    </tr>\n",
       "    <tr>\n",
       "      <th>6</th>\n",
       "      <td>12</td>\n",
       "      <td>451</td>\n",
       "      <td>1987-02-13</td>\n",
       "      <td>NaN</td>\n",
       "      <td>2012-08-27</td>\n",
       "      <td>rau</td>\n",
       "      <td>1.2.276.0.7230010.3.1.2.0.22391.1278840447.356049</td>\n",
       "      <td>1.2.276.0.7230010.3.1.3.0.22400.1278840448.221664</td>\n",
       "      <td>1.2.276.0.7230010.3.1.4.0.22400.1278840448.221665</td>\n",
       "      <td>HAND_LEFT</td>\n",
       "      <td>...</td>\n",
       "      <td>NaN</td>\n",
       "      <td>NaN</td>\n",
       "      <td>NaN</td>\n",
       "      <td>NaN</td>\n",
       "      <td>NaN</td>\n",
       "      <td>NaN</td>\n",
       "      <td>NaN</td>\n",
       "      <td>NaN</td>\n",
       "      <td>62</td>\n",
       "      <td>2012-08-27</td>\n",
       "    </tr>\n",
       "    <tr>\n",
       "      <th>7</th>\n",
       "      <td>13</td>\n",
       "      <td>446</td>\n",
       "      <td>1987-08-11</td>\n",
       "      <td>NaN</td>\n",
       "      <td>2012-08-22</td>\n",
       "      <td>rau</td>\n",
       "      <td>1.2.276.0.7230010.3.1.2.0.22409.1278840449.122838</td>\n",
       "      <td>1.2.276.0.7230010.3.1.3.0.22409.1278840449.122837</td>\n",
       "      <td>1.2.276.0.7230010.3.1.4.0.22409.1278840449.122839</td>\n",
       "      <td>HAND_BOTH</td>\n",
       "      <td>...</td>\n",
       "      <td>NaN</td>\n",
       "      <td>NaN</td>\n",
       "      <td>NaN</td>\n",
       "      <td>NaN</td>\n",
       "      <td>NaN</td>\n",
       "      <td>NaN</td>\n",
       "      <td>NaN</td>\n",
       "      <td>NaN</td>\n",
       "      <td>3</td>\n",
       "      <td>2012-08-22</td>\n",
       "    </tr>\n",
       "  </tbody>\n",
       "</table>\n",
       "<p>5 rows × 50 columns</p>\n",
       "</div>"
      ],
      "text/plain": [
       "    id_x  patient_id      date_x accession_no scoring_dates scoring_types  \\\n",
       "1      2        1229  2008-08-02       570235    2008-08-02           rau   \n",
       "3  32486        5776  2006-05-11            1    2006-05-11           rau   \n",
       "4     10         469  1983-11-09          NaN    2012-08-21           rau   \n",
       "6     12         451  1987-02-13          NaN    2012-08-27           rau   \n",
       "7     13         446  1987-08-11          NaN    2012-08-22           rau   \n",
       "\n",
       "                                          study_iuid  \\\n",
       "1   1.2.276.0.41.10.172.2.26.20080728.66320.2.570235   \n",
       "3     1.2.840.113619.6.95.31.0.3.4.1.4099.13.1290030   \n",
       "4  1.2.276.0.7230010.3.1.2.0.22382.1278840446.382350   \n",
       "6  1.2.276.0.7230010.3.1.2.0.22391.1278840447.356049   \n",
       "7  1.2.276.0.7230010.3.1.2.0.22409.1278840449.122838   \n",
       "\n",
       "                                         series_iuid  \\\n",
       "1  1.2.392.200046.100.2.1.200050.55991.2008072914...   \n",
       "3    1.3.46.670589.26.400122.2.20060329.163703.26797   \n",
       "4  1.2.276.0.7230010.3.1.3.0.22382.1278840446.382349   \n",
       "6  1.2.276.0.7230010.3.1.3.0.22400.1278840448.221664   \n",
       "7  1.2.276.0.7230010.3.1.3.0.22409.1278840449.122837   \n",
       "\n",
       "                                            sop_iuid  body_part  \\\n",
       "1  1.2.392.200046.100.2.1.200050.55991.2008072914...  HAND_BOTH   \n",
       "3               1.2.840.114257.1.8062006.85706.1.1.1  HAND_LEFT   \n",
       "4  1.2.276.0.7230010.3.1.4.0.22382.1278840446.382351  HAND_BOTH   \n",
       "6  1.2.276.0.7230010.3.1.4.0.22400.1278840448.221665  HAND_LEFT   \n",
       "7  1.2.276.0.7230010.3.1.4.0.22409.1278840449.122839  HAND_BOTH   \n",
       "\n",
       "       ...        foot_left_3 foot_left_4 foot_left_5 foot_right_1  \\\n",
       "1      ...                5.0         5.0        15.0          0.0   \n",
       "3      ...                0.0         0.0         0.0          0.0   \n",
       "4      ...                NaN         NaN         NaN          NaN   \n",
       "6      ...                NaN         NaN         NaN          NaN   \n",
       "7      ...                NaN         NaN         NaN          NaN   \n",
       "\n",
       "   foot_right_2 foot_right_3  foot_right_4  foot_right_5  rau_score  \\\n",
       "1           0.0          5.0          10.0          10.0         33   \n",
       "3           0.0          0.0           0.0           5.0         10   \n",
       "4           NaN          NaN           NaN           NaN         16   \n",
       "6           NaN          NaN           NaN           NaN         62   \n",
       "7           NaN          NaN           NaN           NaN          3   \n",
       "\n",
       "   creation_date  \n",
       "1     2010-07-12  \n",
       "3     2010-07-12  \n",
       "4     2012-08-21  \n",
       "6     2012-08-27  \n",
       "7     2012-08-22  \n",
       "\n",
       "[5 rows x 50 columns]"
      ]
     },
     "execution_count": 3,
     "metadata": {},
     "output_type": "execute_result"
    }
   ],
   "source": [
    "df = pd.read_csv(filepath_or_buffer=\"/data/deepxray/data/rau_data/merged.csv\")\n",
    "#df = pd.read_csv(filepath_or_buffer=\"/Volumes/deepxray/data/rau_data/merged.csv\")\n",
    "df = df.loc[df['body_part'].isin([\"HAND_LEFT\", \"HAND_BOTH\"])]\n",
    "names = df[\"sop_iuid\"].as_matrix()\n",
    "df.head()"
   ]
  },
  {
   "cell_type": "markdown",
   "metadata": {},
   "source": [
    "Load images and labels into numpy arrays"
   ]
  },
  {
   "cell_type": "code",
   "execution_count": 21,
   "metadata": {
    "collapsed": true
   },
   "outputs": [],
   "source": [
    "root = \"/data\"\n",
    "#root = \"/Volumes\"\n",
    "dirname = \"deepxray/joint_detection/output\"\n",
    "\n",
    "# function to load and preprocess the image\n",
    "def preprocess_img(xray_name, joint_name):\n",
    "    # folder name\n",
    "    folder_name = \"predictions_extract_\" + joint_name\n",
    "    # file name\n",
    "    file_name = xray_name + \"_\" + joint_name + \".jpg\"\n",
    "    \n",
    "    # read image\n",
    "    image = Image.open(fp=os.path.join(root, dirname, folder_name, file_name))\n",
    "    image_w, image_h = image.size\n",
    "    \n",
    "    # histogram normalization (remaps the image -> lightest pixel = 255, darkest pixel = 0)\n",
    "    img = ImageOps.autocontrast(image=image, cutoff = 5)\n",
    "    \n",
    "    # turn into np array\n",
    "    data = np.asarray(a=img, dtype=\"uint8\")\n",
    "    return(data)\n"
   ]
  },
  {
   "cell_type": "code",
   "execution_count": 22,
   "metadata": {
    "collapsed": true
   },
   "outputs": [],
   "source": [
    "# get rau-score from dataframe\n",
    "def get_score(joint_number, index):\n",
    "    score = df[joint_number].as_matrix()[index]\n",
    "    return(score)"
   ]
  },
  {
   "cell_type": "code",
   "execution_count": 58,
   "metadata": {
    "collapsed": true
   },
   "outputs": [],
   "source": [
    "# get patient_id from dataframe\n",
    "def get_pid(index):\n",
    "    pid = df[\"patient_id\"].as_matrix()[index]\n",
    "    return(pid)"
   ]
  },
  {
   "cell_type": "code",
   "execution_count": 59,
   "metadata": {},
   "outputs": [
    {
     "name": "stdout",
     "output_type": "stream",
     "text": [
      "hand_left_1 -> pip5\n",
      "hand_left_2 -> mcp5\n",
      "hand_left_3 -> pip4\n",
      "hand_left_4 -> mcp4\n",
      "hand_left_5 -> pip3\n",
      "hand_left_6 -> mcp3\n",
      "hand_left_7 -> mcp2\n",
      "hand_left_8 -> pip2\n",
      "hand_left_9 -> mcp1\n",
      "hand_left_10 -> pip1\n"
     ]
    }
   ],
   "source": [
    "# joint names in dataframe\n",
    "joint_numbers = [\"hand_left_1\", \"hand_left_2\", \"hand_left_3\", \"hand_left_4\", \"hand_left_5\", \n",
    "                 \"hand_left_6\", \"hand_left_7\", \"hand_left_8\", \"hand_left_9\", \"hand_left_10\"]\n",
    "# corresponding joint names in image names\n",
    "joint_names = [\"pip5\", \"mcp5\", \"pip4\", \"mcp4\", \"pip3\", \"mcp3\", \"mcp2\", \"pip2\", \"mcp1\", \"pip1\"]\n",
    "\n",
    "\n",
    "for i in range(10):\n",
    "    print(joint_numbers[i] + \" -> \" + joint_names[i])"
   ]
  },
  {
   "cell_type": "code",
   "execution_count": 64,
   "metadata": {},
   "outputs": [
    {
     "name": "stdout",
     "output_type": "stream",
     "text": [
      "Importing images, 99.79 % finished\n"
     ]
    }
   ],
   "source": [
    "images = []\n",
    "labels = []\n",
    "patients = []\n",
    "n_img = names.shape[0]\n",
    "\n",
    "for i, xray_name in enumerate(names):\n",
    "    if (i % 100) == 0:\n",
    "        clear_output()\n",
    "        print(\"Importing images, {0:.2f} % finished\".format(i/n_img*100))\n",
    "        \n",
    "    for joint in range(10):\n",
    "        try:\n",
    "            img = preprocess_img(xray_name, joint_names[joint])\n",
    "        except Exception: \n",
    "            pass\n",
    "        else:\n",
    "            lbl = get_score(joint_numbers[joint], i)\n",
    "            if np.isnan(lbl):\n",
    "                continue\n",
    "            else:\n",
    "                images.append(img)\n",
    "                labels.append(lbl)\n",
    "                patients.append(get_pid(i))"
   ]
  },
  {
   "cell_type": "code",
   "execution_count": 65,
   "metadata": {},
   "outputs": [
    {
     "name": "stdout",
     "output_type": "stream",
     "text": [
      "(102265, 150, 150)\n",
      "(102265,)\n",
      "(102265,)\n"
     ]
    }
   ],
   "source": [
    "images = np.array(images)\n",
    "labels = np.array(labels)\n",
    "patients = np.array(patients)\n",
    "print(images.shape)\n",
    "print(labels.shape)\n",
    "print(patients.shape)"
   ]
  },
  {
   "cell_type": "code",
   "execution_count": 67,
   "metadata": {},
   "outputs": [
    {
     "data": {
      "image/png": "[encoded data removed]",
      "text/plain": [
       "<matplotlib.figure.Figure at 0x7f1460069278>"
      ]
     },
     "metadata": {},
     "output_type": "display_data"
    },
    {
     "data": {
      "image/png": "[encoded data removed]",
      "text/plain": [
       "<matplotlib.figure.Figure at 0x7f1460091128>"
      ]
     },
     "metadata": {},
     "output_type": "display_data"
    },
    {
     "data": {
      "image/png": "[encoded data removed]",
      "text/plain": [
       "<matplotlib.figure.Figure at 0x7f14614cc780>"
      ]
     },
     "metadata": {},
     "output_type": "display_data"
    }
   ],
   "source": [
    "for i in range(3):    \n",
    "    plt.imshow(images[i].squeeze(), cmap='gray')\n",
    "    plt.show()"
   ]
  },
  {
   "cell_type": "markdown",
   "metadata": {},
   "source": [
    "Safe image array, labels array and patients array to disk"
   ]
  },
  {
   "cell_type": "code",
   "execution_count": 69,
   "metadata": {
    "collapsed": true,
    "scrolled": true
   },
   "outputs": [],
   "source": [
    "with h5py.File('/data/joint_scoring/img_array.h5', 'w') as hf:\n",
    "    hf.create_dataset(\"img_array\",  data=images)\n",
    "    \n",
    "with h5py.File('/data/joint_scoring/lbl_array.h5', 'w') as hf:\n",
    "    hf.create_dataset(\"lbl_array\",  data=labels)\n",
    "    \n",
    "with h5py.File('/data/joint_scoring/pid_array.h5', 'w') as hf:\n",
    "    hf.create_dataset(\"pid_array\",  data=patients)"
   ]
  },
  {
   "cell_type": "markdown",
   "metadata": {},
   "source": [
    "Read image array and labels from disk & change shape of images"
   ]
  },
  {
   "cell_type": "code",
   "execution_count": 70,
   "metadata": {
    "collapsed": true
   },
   "outputs": [],
   "source": [
    "with h5py.File('/data/joint_scoring/img_array.h5', 'r') as hf:\n",
    "    images = hf['img_array'][:]\n",
    "    \n",
    "with h5py.File('/data/joint_scoring/lbl_array.h5', 'r') as hf:\n",
    "    labels = hf['lbl_array'][:]\n",
    "    \n",
    "with h5py.File('/data/joint_scoring/pid_array.h5', 'r') as hf:\n",
    "    patients = hf['pid_array'][:]\n",
    "\n",
    "images = images.reshape(images.shape[0], images.shape[1], images.shape[2], 1)"
   ]
  },
  {
   "cell_type": "code",
   "execution_count": 78,
   "metadata": {},
   "outputs": [],
   "source": [
    "pid_unique, pid_counts = np.unique(patients, return_counts = True)"
   ]
  },
  {
   "cell_type": "code",
   "execution_count": 82,
   "metadata": {},
   "outputs": [
    {
     "data": {
      "text/plain": [
       "array([36, 14, 28, ..., 28,  4, 10])"
      ]
     },
     "execution_count": 82,
     "metadata": {},
     "output_type": "execute_result"
    }
   ],
   "source": [
    "pid_counts"
   ]
  },
  {
   "cell_type": "code",
   "execution_count": 83,
   "metadata": {},
   "outputs": [
    {
     "data": {
      "image/png": "[encoded data removed]",
      "text/plain": [
       "<matplotlib.figure.Figure at 0x7f14614baf28>"
      ]
     },
     "metadata": {},
     "output_type": "display_data"
    },
    {
     "data": {
      "image/png": "[encoded data removed]",
      "text/plain": [
       "<matplotlib.figure.Figure at 0x7f145fd38fd0>"
      ]
     },
     "metadata": {},
     "output_type": "display_data"
    }
   ],
   "source": [
    "plt.hist(labels, bins=20)\n",
    "plt.show()\n",
    "\n",
    "plt.bar(pid_unique, pid_counts)\n",
    "plt.show()"
   ]
  },
  {
   "cell_type": "code",
   "execution_count": 84,
   "metadata": {},
   "outputs": [
    {
     "data": {
      "text/plain": [
       "array([ 10.,  15.,  30.])"
      ]
     },
     "execution_count": 84,
     "metadata": {},
     "output_type": "execute_result"
    }
   ],
   "source": [
    "np.percentile(a=labels[labels > 5], q=[25, 50, 75])"
   ]
  },
  {
   "cell_type": "code",
   "execution_count": 85,
   "metadata": {},
   "outputs": [],
   "source": [
    "# create 4 classes\n",
    "\n",
    "labels[labels <= 5] = 0 # -> joint is healthy\n",
    "labels[(labels > 5) & (labels <= 15)] = 1 # -> joint is slightly eroded\n",
    "labels[(labels > 15) & (labels <= 30)] = 2 # -> joint is moderately eroded\n",
    "labels[labels > 30] = 3 # -> joint is severely eroded"
   ]
  },
  {
   "cell_type": "code",
   "execution_count": 87,
   "metadata": {},
   "outputs": [
    {
     "data": {
      "text/plain": [
       "(102265,)"
      ]
     },
     "execution_count": 87,
     "metadata": {},
     "output_type": "execute_result"
    }
   ],
   "source": [
    "labels.shape"
   ]
  },
  {
   "cell_type": "markdown",
   "metadata": {},
   "source": [
    "Create train / test / validation split\n",
    "Stratified by class, but all images of the same patient have to stay together"
   ]
  },
  {
   "cell_type": "code",
   "execution_count": 94,
   "metadata": {},
   "outputs": [
    {
     "name": "stdout",
     "output_type": "stream",
     "text": [
      "Creating test/train/validation split, 99.94 % finished\n"
     ]
    }
   ],
   "source": [
    "img_train = []\n",
    "labels_train = []\n",
    "patients_train = []\n",
    "\n",
    "img_test = []\n",
    "labels_test = []\n",
    "patients_test = []\n",
    "\n",
    "img_val = []\n",
    "labels_val = []\n",
    "patients_val = []\n",
    "\n",
    "indices = np.random.permutation(images.shape[0])\n",
    "images = images[indices]\n",
    "labels = labels[indices]\n",
    "patients = patients[indices]\n",
    "\n",
    "for i in range(labels.shape[0]):\n",
    "    \n",
    "    if (i % 100) == 0:\n",
    "        clear_output()\n",
    "        print(\"Creating test/train/validation split, {0:.2f} % finished\".format(i/labels.shape[0]*100))\n",
    "    \n",
    "    if patients[i] in patients_train:\n",
    "        img_train.append(images[i])\n",
    "        labels_train.append(labels[i])\n",
    "        patients_train.append(patients[i])\n",
    "    elif patients[i] in patients_test:\n",
    "        img_test.append(images[i])\n",
    "        labels_test.append(labels[i])\n",
    "        patients_test.append(patients[i])\n",
    "    elif patients[i] in patients_val:\n",
    "        img_val.append(images[i])\n",
    "        labels_val.append(labels[i])\n",
    "        patients_val.append(patients[i])\n",
    "    else:\n",
    "        choice = np.random.choice(a=3, p=[0.7, 0.2, 0.1])\n",
    "        if choice == 0:\n",
    "            img_train.append(images[i])\n",
    "            labels_train.append(labels[i])\n",
    "            patients_train.append(patients[i])\n",
    "        elif choice == 1:\n",
    "            img_test.append(images[i])\n",
    "            labels_test.append(labels[i])\n",
    "            patients_test.append(patients[i])\n",
    "        else:\n",
    "            img_val.append(images[i])\n",
    "            labels_val.append(labels[i])\n",
    "            patients_val.append(patients[i])      "
   ]
  },
  {
   "cell_type": "code",
   "execution_count": 96,
   "metadata": {
    "collapsed": true
   },
   "outputs": [],
   "source": [
    "img_train = np.array(img_train)\n",
    "labels_train = np.array(labels_train)\n",
    "patients_train = np.array(patients_train)\n",
    "\n",
    "img_test = np.array(img_test)\n",
    "labels_test = np.array(labels_test)\n",
    "patients_test = np.array(patients_test)\n",
    "\n",
    "img_val = np.array(img_val)\n",
    "labels_val = np.array(labels_val)\n",
    "patients_val = np.array(labels_val)"
   ]
  },
  {
   "cell_type": "code",
   "execution_count": 98,
   "metadata": {},
   "outputs": [
    {
     "data": {
      "image/png": "[encoded data removed]",
      "text/plain": [
       "<matplotlib.figure.Figure at 0x7f1373584c88>"
      ]
     },
     "metadata": {},
     "output_type": "display_data"
    },
    {
     "data": {
      "image/png": "[encoded data removed]",
      "text/plain": [
       "<matplotlib.figure.Figure at 0x7f1370d4deb8>"
      ]
     },
     "metadata": {},
     "output_type": "display_data"
    },
    {
     "data": {
      "image/png": "[encoded data removed]",
      "text/plain": [
       "<matplotlib.figure.Figure at 0x7f1370498240>"
      ]
     },
     "metadata": {},
     "output_type": "display_data"
    },
    {
     "name": "stdout",
     "output_type": "stream",
     "text": [
      "0.6975602601085416\n",
      "0.20142766342345866\n",
      "0.1010120764679998\n"
     ]
    }
   ],
   "source": [
    "plt.hist(labels_train, bins=20)\n",
    "plt.show()\n",
    "\n",
    "plt.hist(labels_test, bins=20)\n",
    "plt.show()\n",
    "\n",
    "plt.hist(labels_val, bins=20)\n",
    "plt.show()\n",
    "\n",
    "print(labels_train.shape[0] / (labels_train.shape[0] + labels_test.shape[0] + labels_val.shape[0] ))\n",
    "print(labels_test.shape[0] / (labels_train.shape[0] + labels_test.shape[0] + labels_val.shape[0] ))\n",
    "print(labels_val.shape[0] / (labels_train.shape[0] + labels_test.shape[0] + labels_val.shape[0] ))"
   ]
  },
  {
   "cell_type": "code",
   "execution_count": 103,
   "metadata": {
    "collapsed": true
   },
   "outputs": [],
   "source": [
    "with h5py.File('/data/joint_scoring/img_train.h5', 'w') as hf:\n",
    "    hf.create_dataset(\"img_train\",  data=img_train)\n",
    "with h5py.File('/data/joint_scoring/img_test.h5', 'w') as hf:\n",
    "    hf.create_dataset(\"img_test\",  data=img_test)\n",
    "with h5py.File('/data/joint_scoring/img_val.h5', 'w') as hf:\n",
    "    hf.create_dataset(\"img_val\",  data=img_val)\n",
    "\n",
    "with h5py.File('/data/joint_scoring/labels_train.h5', 'w') as hf:\n",
    "    hf.create_dataset(\"labels_train\",  data=labels_train)\n",
    "with h5py.File('/data/joint_scoring/labels_test.h5', 'w') as hf:\n",
    "    hf.create_dataset(\"labels_test\",  data=labels_test)\n",
    "with h5py.File('/data/joint_scoring/labels_val.h5', 'w') as hf:\n",
    "    hf.create_dataset(\"labels_val\",  data=labels_val)\n",
    "    \n",
    "with h5py.File('/data/joint_scoring/patients_train.h5', 'w') as hf:\n",
    "    hf.create_dataset(\"patients_train\",  data=patients_train)\n",
    "with h5py.File('/data/joint_scoring/patients_test.h5', 'w') as hf:\n",
    "    hf.create_dataset(\"patients_test\",  data=patients_test)\n",
    "with h5py.File('/data/joint_scoring/patients_val.h5', 'w') as hf:\n",
    "    hf.create_dataset(\"patients_val\",  data=patients_val)"
   ]
  },
  {
   "cell_type": "code",
   "execution_count": 104,
   "metadata": {},
   "outputs": [],
   "source": [
    "with h5py.File('/data/joint_scoring/img_train.h5', 'r') as hf:\n",
    "    img_train = hf['img_train'][:]\n",
    "with h5py.File('/data/joint_scoring/img_test.h5', 'r') as hf:\n",
    "    img_test = hf['img_test'][:]\n",
    "with h5py.File('/data/joint_scoring/img_val.h5', 'r') as hf:\n",
    "    img_val = hf['img_val'][:]\n",
    "    \n",
    "with h5py.File('/data/joint_scoring/labels_train.h5', 'r') as hf:\n",
    "    labels_train = hf['labels_train'][:]\n",
    "with h5py.File('/data/joint_scoring/labels_test.h5', 'r') as hf:\n",
    "    labels_test = hf['labels_test'][:]\n",
    "with h5py.File('/data/joint_scoring/labels_val.h5', 'r') as hf:\n",
    "    labels_val = hf['labels_val'][:]"
   ]
  },
  {
   "cell_type": "code",
   "execution_count": 105,
   "metadata": {},
   "outputs": [
    {
     "name": "stdout",
     "output_type": "stream",
     "text": [
      "23.5616329766\n",
      "{0: 0.30000336439794101, 1: 2.703759854457247, 2: 7.0685691636940149, 3: 6.4359437026344279}\n"
     ]
    }
   ],
   "source": [
    "# define class weights because of imbalance\n",
    "weights = class_weight.compute_class_weight(class_weight='balanced', \n",
    "                                                 classes=np.unique(labels_train), \n",
    "                                                 y=labels_train)\n",
    "\n",
    "print(max(weights)/min(weights))\n",
    "\n",
    "weights = dict(enumerate(weights))\n",
    "print(weights)"
   ]
  },
  {
   "cell_type": "code",
   "execution_count": 106,
   "metadata": {
    "scrolled": true
   },
   "outputs": [
    {
     "name": "stdout",
     "output_type": "stream",
     "text": [
      "4\n"
     ]
    }
   ],
   "source": [
    "# one hot encode outputs\n",
    "labels_train = LabelBinarizer().fit_transform(labels_train)\n",
    "labels_test = LabelBinarizer().fit_transform(labels_test)\n",
    "num_classes = labels_test.shape[1]\n",
    "print(num_classes)"
   ]
  },
  {
   "cell_type": "markdown",
   "metadata": {},
   "source": [
    "## 2. Model"
   ]
  },
  {
   "cell_type": "code",
   "execution_count": 107,
   "metadata": {
    "collapsed": true
   },
   "outputs": [],
   "source": [
    "def conv_model():\n",
    "    # create model\n",
    "    model = Sequential()\n",
    "    model.add(Conv2D(filters=32, kernel_size=(3, 3), padding=\"same\", input_shape=(150, 150, 1),\n",
    "                     activation=\"relu\", kernel_initializer=\"he_normal\"))\n",
    "    model.add(BatchNormalization())\n",
    "    model.add(Conv2D(filters=32, kernel_size=(3, 3), padding=\"same\", activation=\"relu\", kernel_initializer=\"he_normal\"))\n",
    "    model.add(BatchNormalization())\n",
    "    model.add(MaxPooling2D(pool_size=(2, 2)))\n",
    "    model.add(Conv2D(filters=32, kernel_size=(3, 3), padding=\"same\", activation=\"relu\", kernel_initializer=\"he_normal\"))\n",
    "    model.add(BatchNormalization())\n",
    "    model.add(Conv2D(filters=32, kernel_size=(3, 3), padding=\"same\", activation=\"relu\", kernel_initializer=\"he_normal\"))\n",
    "    model.add(BatchNormalization())\n",
    "    model.add(MaxPooling2D(pool_size=(2, 2)))\n",
    "    model.add(Conv2D(filters=64, kernel_size=(3, 3), padding=\"same\", activation=\"relu\", kernel_initializer=\"he_normal\"))\n",
    "    model.add(BatchNormalization())\n",
    "    model.add(Conv2D(filters=64, kernel_size=(3, 3), padding=\"same\", activation=\"relu\", kernel_initializer=\"he_normal\"))\n",
    "    model.add(BatchNormalization())\n",
    "    model.add(MaxPooling2D(pool_size=(2, 2)))\n",
    "    model.add(Conv2D(filters=64, kernel_size=(3, 3), padding=\"same\", activation=\"relu\", kernel_initializer=\"he_normal\"))\n",
    "    model.add(BatchNormalization())\n",
    "    model.add(Conv2D(filters=64, kernel_size=(3, 3), padding=\"same\", activation=\"relu\", kernel_initializer=\"he_normal\"))\n",
    "    model.add(BatchNormalization())\n",
    "    model.add(MaxPooling2D(pool_size=(2, 2)))\n",
    "    model.add(Conv2D(filters=128, kernel_size=(3, 3), padding=\"same\", activation=\"relu\", kernel_initializer=\"he_normal\"))\n",
    "    model.add(BatchNormalization())\n",
    "    model.add(Conv2D(filters=128, kernel_size=(3, 3), padding=\"same\", activation=\"relu\", kernel_initializer=\"he_normal\"))\n",
    "    model.add(BatchNormalization())\n",
    "    model.add(MaxPooling2D(pool_size=(2, 2)))\n",
    "    model.add(Conv2D(filters=128, kernel_size=(3, 3), padding=\"same\", activation=\"relu\", kernel_initializer=\"he_normal\"))\n",
    "    model.add(BatchNormalization())\n",
    "    model.add(Conv2D(filters=128, kernel_size=(3, 3), padding=\"same\", activation=\"relu\", kernel_initializer=\"he_normal\"))\n",
    "    model.add(BatchNormalization())\n",
    "    model.add(MaxPooling2D(pool_size=(2, 2)))\n",
    "    model.add(Flatten())\n",
    "    model.add(Dense(units=256, kernel_initializer=\"he_normal\",\n",
    "                    activation=\"relu\"))\n",
    "    model.add(BatchNormalization())\n",
    "    model.add(Dropout(rate=0.5))\n",
    "    model.add(Dense(units=256, kernel_initializer=\"he_normal\",\n",
    "                    activation=\"relu\"))\n",
    "    model.add(BatchNormalization())\n",
    "    model.add(Dropout(rate=0.5))\n",
    "    model.add(Dense(units=num_classes, activation=\"softmax\",\n",
    "                    kernel_initializer=\"he_normal\"))\n",
    "\n",
    "    # Compile model\n",
    "    model.compile(optimizer=\"adam\", loss=\"categorical_crossentropy\",\n",
    "                  metrics=[\"accuracy\"])\n",
    "\n",
    "    return model"
   ]
  },
  {
   "cell_type": "code",
   "execution_count": 108,
   "metadata": {},
   "outputs": [
    {
     "name": "stdout",
     "output_type": "stream",
     "text": [
      "_________________________________________________________________\n",
      "Layer (type)                 Output Shape              Param #   \n",
      "=================================================================\n",
      "conv2d_1 (Conv2D)            (None, 150, 150, 32)      320       \n",
      "_________________________________________________________________\n",
      "batch_normalization_1 (Batch (None, 150, 150, 32)      128       \n",
      "_________________________________________________________________\n",
      "conv2d_2 (Conv2D)            (None, 150, 150, 32)      9248      \n",
      "_________________________________________________________________\n",
      "batch_normalization_2 (Batch (None, 150, 150, 32)      128       \n",
      "_________________________________________________________________\n",
      "max_pooling2d_1 (MaxPooling2 (None, 75, 75, 32)        0         \n",
      "_________________________________________________________________\n",
      "conv2d_3 (Conv2D)            (None, 75, 75, 32)        9248      \n",
      "_________________________________________________________________\n",
      "batch_normalization_3 (Batch (None, 75, 75, 32)        128       \n",
      "_________________________________________________________________\n",
      "conv2d_4 (Conv2D)            (None, 75, 75, 32)        9248      \n",
      "_________________________________________________________________\n",
      "batch_normalization_4 (Batch (None, 75, 75, 32)        128       \n",
      "_________________________________________________________________\n",
      "max_pooling2d_2 (MaxPooling2 (None, 37, 37, 32)        0         \n",
      "_________________________________________________________________\n",
      "conv2d_5 (Conv2D)            (None, 37, 37, 64)        18496     \n",
      "_________________________________________________________________\n",
      "batch_normalization_5 (Batch (None, 37, 37, 64)        256       \n",
      "_________________________________________________________________\n",
      "conv2d_6 (Conv2D)            (None, 37, 37, 64)        36928     \n",
      "_________________________________________________________________\n",
      "batch_normalization_6 (Batch (None, 37, 37, 64)        256       \n",
      "_________________________________________________________________\n",
      "max_pooling2d_3 (MaxPooling2 (None, 18, 18, 64)        0         \n",
      "_________________________________________________________________\n",
      "conv2d_7 (Conv2D)            (None, 18, 18, 64)        36928     \n",
      "_________________________________________________________________\n",
      "batch_normalization_7 (Batch (None, 18, 18, 64)        256       \n",
      "_________________________________________________________________\n",
      "conv2d_8 (Conv2D)            (None, 18, 18, 64)        36928     \n",
      "_________________________________________________________________\n",
      "batch_normalization_8 (Batch (None, 18, 18, 64)        256       \n",
      "_________________________________________________________________\n",
      "max_pooling2d_4 (MaxPooling2 (None, 9, 9, 64)          0         \n",
      "_________________________________________________________________\n",
      "conv2d_9 (Conv2D)            (None, 9, 9, 128)         73856     \n",
      "_________________________________________________________________\n",
      "batch_normalization_9 (Batch (None, 9, 9, 128)         512       \n",
      "_________________________________________________________________\n",
      "conv2d_10 (Conv2D)           (None, 9, 9, 128)         147584    \n",
      "_________________________________________________________________\n",
      "batch_normalization_10 (Batc (None, 9, 9, 128)         512       \n",
      "_________________________________________________________________\n",
      "max_pooling2d_5 (MaxPooling2 (None, 4, 4, 128)         0         \n",
      "_________________________________________________________________\n",
      "conv2d_11 (Conv2D)           (None, 4, 4, 128)         147584    \n",
      "_________________________________________________________________\n",
      "batch_normalization_11 (Batc (None, 4, 4, 128)         512       \n",
      "_________________________________________________________________\n",
      "conv2d_12 (Conv2D)           (None, 4, 4, 128)         147584    \n",
      "_________________________________________________________________\n",
      "batch_normalization_12 (Batc (None, 4, 4, 128)         512       \n",
      "_________________________________________________________________\n",
      "max_pooling2d_6 (MaxPooling2 (None, 2, 2, 128)         0         \n",
      "_________________________________________________________________\n",
      "flatten_1 (Flatten)          (None, 512)               0         \n",
      "_________________________________________________________________\n",
      "dense_1 (Dense)              (None, 256)               131328    \n",
      "_________________________________________________________________\n",
      "batch_normalization_13 (Batc (None, 256)               1024      \n",
      "_________________________________________________________________\n",
      "dropout_1 (Dropout)          (None, 256)               0         \n",
      "_________________________________________________________________\n",
      "dense_2 (Dense)              (None, 256)               65792     \n",
      "_________________________________________________________________\n",
      "batch_normalization_14 (Batc (None, 256)               1024      \n",
      "_________________________________________________________________\n",
      "dropout_2 (Dropout)          (None, 256)               0         \n",
      "_________________________________________________________________\n",
      "dense_3 (Dense)              (None, 4)                 1028      \n",
      "=================================================================\n",
      "Total params: 877,732\n",
      "Trainable params: 874,916\n",
      "Non-trainable params: 2,816\n",
      "_________________________________________________________________\n"
     ]
    }
   ],
   "source": [
    "# build the model\n",
    "model = conv_model()\n",
    "model.summary()"
   ]
  },
  {
   "cell_type": "code",
   "execution_count": 118,
   "metadata": {
    "collapsed": true
   },
   "outputs": [],
   "source": [
    "# create log directory\n",
    "now = datetime.now\n",
    "new_folder = '{}'.format(now().strftime('%Y%m%d_%H%M%S'))"
   ]
  },
  {
   "cell_type": "code",
   "execution_count": 126,
   "metadata": {},
   "outputs": [
    {
     "name": "stdout",
     "output_type": "stream",
     "text": [
      "20171022_232118\n"
     ]
    }
   ],
   "source": [
    "print(new_folder)"
   ]
  },
  {
   "cell_type": "code",
   "execution_count": 127,
   "metadata": {
    "collapsed": true
   },
   "outputs": [],
   "source": [
    "desc = \"Model with 4 classes, histogram equalization 5% quantile, train/test/val split with patients together\"\n",
    "\n",
    "with open(\"/data/joint_scoring/readme.txt\", \"a\") as myfile:\n",
    "    myfile.write(\"\\n\" + new_folder + desc)"
   ]
  },
  {
   "cell_type": "code",
   "execution_count": 119,
   "metadata": {
    "collapsed": true
   },
   "outputs": [],
   "source": [
    "# tensorboard callback\n",
    "tb_callback = callbacks.TensorBoard(log_dir=\"/data/joint_scoring/tensorboard/\" + new_folder,\n",
    "                                    histogram_freq=0, write_graph=True,\n",
    "                                    write_images=True)"
   ]
  },
  {
   "cell_type": "code",
   "execution_count": 120,
   "metadata": {},
   "outputs": [
    {
     "name": "stdout",
     "output_type": "stream",
     "text": [
      "Train on 71336 samples, validate on 20599 samples\n",
      "Epoch 1/20\n",
      "189s - loss: 1.5233 - acc: 0.3695 - val_loss: 1.5896 - val_acc: 0.2974\n",
      "Epoch 2/20\n",
      "176s - loss: 1.1849 - acc: 0.5587 - val_loss: 1.4818 - val_acc: 0.3914\n",
      "Epoch 3/20\n",
      "176s - loss: 1.0896 - acc: 0.6171 - val_loss: 1.1629 - val_acc: 0.5436\n",
      "Epoch 4/20\n",
      "176s - loss: 1.0277 - acc: 0.6430 - val_loss: 0.6508 - val_acc: 0.7634\n",
      "Epoch 5/20\n",
      "175s - loss: 0.9885 - acc: 0.6500 - val_loss: 0.7374 - val_acc: 0.6966\n",
      "Epoch 6/20\n",
      "176s - loss: 0.9613 - acc: 0.6621 - val_loss: 0.8608 - val_acc: 0.6256\n",
      "Epoch 7/20\n",
      "176s - loss: 0.9334 - acc: 0.6758 - val_loss: 1.1974 - val_acc: 0.3878\n",
      "Epoch 8/20\n",
      "176s - loss: 0.9046 - acc: 0.6761 - val_loss: 1.1352 - val_acc: 0.4646\n",
      "Epoch 9/20\n",
      "176s - loss: 0.8847 - acc: 0.6767 - val_loss: 0.5573 - val_acc: 0.7768\n",
      "Epoch 10/20\n",
      "176s - loss: 0.8544 - acc: 0.6871 - val_loss: 0.7661 - val_acc: 0.6582\n",
      "Epoch 11/20\n",
      "176s - loss: 0.8156 - acc: 0.6957 - val_loss: 0.8400 - val_acc: 0.6532\n",
      "Epoch 12/20\n",
      "176s - loss: 0.7825 - acc: 0.6859 - val_loss: 0.8555 - val_acc: 0.6167\n",
      "Epoch 13/20\n",
      "175s - loss: 0.7387 - acc: 0.6941 - val_loss: 0.9238 - val_acc: 0.5974\n",
      "Epoch 14/20\n",
      "175s - loss: 0.6812 - acc: 0.7006 - val_loss: 0.8795 - val_acc: 0.6339\n",
      "Epoch 15/20\n",
      "176s - loss: 0.6338 - acc: 0.7073 - val_loss: 0.8559 - val_acc: 0.6250\n",
      "Epoch 16/20\n",
      "176s - loss: 0.5916 - acc: 0.7114 - val_loss: 0.7701 - val_acc: 0.6748\n",
      "Epoch 17/20\n",
      "176s - loss: 0.5385 - acc: 0.7227 - val_loss: 0.6889 - val_acc: 0.7129\n",
      "Epoch 18/20\n",
      "176s - loss: 0.4908 - acc: 0.7309 - val_loss: 0.9832 - val_acc: 0.5834\n",
      "Epoch 19/20\n",
      "176s - loss: 0.4581 - acc: 0.7386 - val_loss: 0.6366 - val_acc: 0.7300\n",
      "Epoch 20/20\n",
      "176s - loss: 0.4224 - acc: 0.7454 - val_loss: 0.7835 - val_acc: 0.6422\n"
     ]
    },
    {
     "data": {
      "text/plain": [
       "<tensorflow.contrib.keras.python.keras.callbacks.History at 0x7f12c75e2f60>"
      ]
     },
     "execution_count": 120,
     "metadata": {},
     "output_type": "execute_result"
    }
   ],
   "source": [
    "# Fit the model\n",
    "model.fit(x=img_train, y=labels_train, batch_size=100, epochs=20, verbose=2,\n",
    "          callbacks=[tb_callback], validation_data=(img_test, labels_test), class_weight=weights)"
   ]
  },
  {
   "cell_type": "code",
   "execution_count": 121,
   "metadata": {},
   "outputs": [
    {
     "name": "stdout",
     "output_type": "stream",
     "text": [
      "Error: 35.78%\n"
     ]
    }
   ],
   "source": [
    "# Final evaluation of the model\n",
    "scores = model.evaluate(img_test, labels_test, verbose=0)\n",
    "print(\"Error: %.2f%%\" % (100 - scores[1] * 100))"
   ]
  },
  {
   "cell_type": "code",
   "execution_count": 123,
   "metadata": {},
   "outputs": [],
   "source": [
    "# Save the model\n",
    "model.save(\"/data/joint_scoring/models/\" + new_folder + \".h5\")"
   ]
  },
  {
   "cell_type": "code",
   "execution_count": 124,
   "metadata": {},
   "outputs": [
    {
     "name": "stdout",
     "output_type": "stream",
     "text": [
      "20599/20599 [==============================] - 14s    \n",
      "             precision    recall  f1-score   support\n",
      "\n",
      "          0       0.97      0.67      0.79     17325\n",
      "          1       0.15      0.51      0.23      1828\n",
      "          2       0.17      0.34      0.22       718\n",
      "          3       0.48      0.71      0.58       728\n",
      "\n",
      "avg / total       0.85      0.64      0.71     20599\n",
      "\n",
      "[[11532  4876   677   240]\n",
      " [  335   937   401   155]\n",
      " [   38   278   242   160]\n",
      " [   12    83   115   518]]\n"
     ]
    }
   ],
   "source": [
    "from sklearn.metrics import confusion_matrix, classification_report\n",
    "pred = model.predict_classes(img_test)\n",
    "p = model.predict_proba(img_test)\n",
    "\n",
    "print(classification_report(np.argmax(labels_test, axis=1), pred))\n",
    "cnf_matrix = confusion_matrix(np.argmax(labels_test, axis=1), pred)\n",
    "print(cnf_matrix)"
   ]
  },
  {
   "cell_type": "code",
   "execution_count": 128,
   "metadata": {},
   "outputs": [
    {
     "name": "stdout",
     "output_type": "stream",
     "text": [
      "Confusion matrix, without normalization\n",
      "[[11532  4876   677   240]\n",
      " [  335   937   401   155]\n",
      " [   38   278   242   160]\n",
      " [   12    83   115   518]]\n",
      "Normalized confusion matrix\n",
      "[[ 0.66562771  0.281443    0.03907648  0.01385281]\n",
      " [ 0.18326039  0.51258206  0.21936543  0.08479212]\n",
      " [ 0.05292479  0.38718663  0.33704735  0.22284123]\n",
      " [ 0.01648352  0.11401099  0.15796703  0.71153846]]\n"
     ]
    },
    {
     "data": {
      "image/png": "[encoded data removed]",
      "text/plain": [
       "<matplotlib.figure.Figure at 0x7f126abd95c0>"
      ]
     },
     "metadata": {},
     "output_type": "display_data"
    },
    {
     "data": {
      "image/png": "[encoded data removed]",
      "text/plain": [
       "<matplotlib.figure.Figure at 0x7f12c40ede48>"
      ]
     },
     "metadata": {},
     "output_type": "display_data"
    }
   ],
   "source": [
    "def plot_confusion_matrix(cm, classes,\n",
    "                          normalize=False,\n",
    "                          title='Confusion matrix',\n",
    "                          cmap=plt.cm.Blues):\n",
    "    \"\"\"\n",
    "    This function prints and plots the confusion matrix.\n",
    "    Normalization can be applied by setting `normalize=True`.\n",
    "    \"\"\"\n",
    "    if normalize:\n",
    "        cm = cm.astype('float') / cm.sum(axis=1)[:, np.newaxis]\n",
    "        print(\"Normalized confusion matrix\")\n",
    "    else:\n",
    "        print('Confusion matrix, without normalization')\n",
    "\n",
    "    print(cm)\n",
    "\n",
    "    plt.imshow(cm, interpolation='nearest', cmap=cmap)\n",
    "    plt.title(title)\n",
    "    plt.colorbar()\n",
    "    tick_marks = np.arange(len(classes))\n",
    "    plt.xticks(tick_marks, classes, rotation=45)\n",
    "    plt.yticks(tick_marks, classes)\n",
    "\n",
    "    fmt = '.2f' if normalize else 'd'\n",
    "    thresh = cm.max() / 2.\n",
    "    for i, j in itertools.product(range(cm.shape[0]), range(cm.shape[1])):\n",
    "        plt.text(j, i, format(cm[i, j], fmt),\n",
    "                 horizontalalignment=\"center\",\n",
    "                 color=\"white\" if cm[i, j] > thresh else \"black\")\n",
    "\n",
    "    plt.tight_layout()\n",
    "    plt.ylabel('True label')\n",
    "    plt.xlabel('Predicted label')\n",
    "\n",
    "# Plot non-normalized confusion matrix\n",
    "plt.figure()\n",
    "plot_confusion_matrix(cnf_matrix, classes=range(num_classes),\n",
    "                      title='Confusion matrix, without normalization')\n",
    "\n",
    "# Plot normalized confusion matrix\n",
    "plt.figure()\n",
    "plot_confusion_matrix(cnf_matrix, classes=range(num_classes), normalize=True,\n",
    "                      title='Normalized confusion matrix')\n",
    "\n",
    "plt.show()"
   ]
  },
  {
   "cell_type": "code",
   "execution_count": null,
   "metadata": {
    "collapsed": true
   },
   "outputs": [],
   "source": []
  },
  {
   "cell_type": "code",
   "execution_count": null,
   "metadata": {
    "collapsed": true
   },
   "outputs": [],
   "source": []
  }
 ],
 "metadata": {
  "kernelspec": {
   "display_name": "Python 3",
   "language": "python",
   "name": "python3"
  },
  "language_info": {
   "codemirror_mode": {
    "name": "ipython",
    "version": 3
   },
   "file_extension": ".py",
   "mimetype": "text/x-python",
   "name": "python",
   "nbconvert_exporter": "python",
   "pygments_lexer": "ipython3",
   "version": "3.5.2"
  }
 },
 "nbformat": 4,
 "nbformat_minor": 1
}
