{
 "cells": [
  {
   "cell_type": "markdown",
   "metadata": {
    "collapsed": true
   },
   "source": [
    "# Automatic scoring of x-ray images"
   ]
  },
  {
   "cell_type": "markdown",
   "metadata": {},
   "source": [
    "## 1. Preprocessing"
   ]
  },
  {
   "cell_type": "markdown",
   "metadata": {},
   "source": [
    "Import dependencies"
   ]
  },
  {
   "cell_type": "code",
   "execution_count": 2,
   "metadata": {
    "collapsed": true
   },
   "outputs": [],
   "source": [
    "import tensorflow as tf\n",
    "import pandas as pd\n",
    "import numpy as np\n",
    "import matplotlib.pyplot as plt\n",
    "import os\n",
    "\n",
    "# PIL to open & manipulate images\n",
    "from PIL import Image, ImageOps, ImageChops\n",
    "\n",
    "# for messages in loops\n",
    "from IPython.display import clear_output\n",
    "\n",
    "# to save arrays\n",
    "import h5py\n",
    "\n",
    "# for folder-timestamp\n",
    "from datetime import datetime\n",
    "\n",
    "# for train/test split\n",
    "from sklearn.model_selection import train_test_split\n",
    "# for one-hot encoding\n",
    "from sklearn.preprocessing import LabelBinarizer\n",
    "# for class weights\n",
    "from sklearn.utils import class_weight\n",
    "# for model evaluation\n",
    "from sklearn.metrics import confusion_matrix, classification_report\n",
    "# for efficient loops\n",
    "import itertools\n",
    "\n",
    "# keras\n",
    "from tensorflow.contrib.keras.python.keras import backend as K\n",
    "from tensorflow.contrib.keras.python.keras.utils.io_utils import HDF5Matrix\n",
    "from tensorflow.contrib.keras.python.keras.models import Sequential\n",
    "from tensorflow.contrib.keras.python.keras.layers import Conv2D, MaxPooling2D, Flatten, Dense, Dropout, Lambda\n",
    "from tensorflow.contrib.keras.python.keras.layers.normalization import BatchNormalization\n",
    "from tensorflow.contrib.keras.python.keras.preprocessing.image import ImageDataGenerator\n",
    "from tensorflow.contrib.keras.python.keras import callbacks\n"
   ]
  },
  {
   "cell_type": "markdown",
   "metadata": {},
   "source": [
    "Define image format & random seeds"
   ]
  },
  {
   "cell_type": "code",
   "execution_count": 3,
   "metadata": {
    "collapsed": true
   },
   "outputs": [],
   "source": [
    "# image format -> (rows, cols, channels)\n",
    "K.set_image_data_format(\"channels_last\")\n",
    "# fix random seed for reproducibility\n",
    "seed = 1\n",
    "np.random.seed(seed)\n",
    "tf.set_random_seed(seed)"
   ]
  },
  {
   "cell_type": "markdown",
   "metadata": {},
   "source": [
    "------------ Jump to hdf5 import ----------------------------------------------------------------------------"
   ]
  },
  {
   "cell_type": "markdown",
   "metadata": {},
   "source": [
    "Import csv"
   ]
  },
  {
   "cell_type": "code",
   "execution_count": 3,
   "metadata": {},
   "outputs": [
    {
     "data": {
      "text/html": [
       "<div>\n",
       "<style>\n",
       "    .dataframe thead tr:only-child th {\n",
       "        text-align: right;\n",
       "    }\n",
       "\n",
       "    .dataframe thead th {\n",
       "        text-align: left;\n",
       "    }\n",
       "\n",
       "    .dataframe tbody tr th {\n",
       "        vertical-align: top;\n",
       "    }\n",
       "</style>\n",
       "<table border=\"1\" class=\"dataframe\">\n",
       "  <thead>\n",
       "    <tr style=\"text-align: right;\">\n",
       "      <th></th>\n",
       "      <th>id_x</th>\n",
       "      <th>patient_id</th>\n",
       "      <th>date_x</th>\n",
       "      <th>accession_no</th>\n",
       "      <th>scoring_dates</th>\n",
       "      <th>scoring_types</th>\n",
       "      <th>study_iuid</th>\n",
       "      <th>series_iuid</th>\n",
       "      <th>sop_iuid</th>\n",
       "      <th>body_part</th>\n",
       "      <th>...</th>\n",
       "      <th>foot_left_3</th>\n",
       "      <th>foot_left_4</th>\n",
       "      <th>foot_left_5</th>\n",
       "      <th>foot_right_1</th>\n",
       "      <th>foot_right_2</th>\n",
       "      <th>foot_right_3</th>\n",
       "      <th>foot_right_4</th>\n",
       "      <th>foot_right_5</th>\n",
       "      <th>rau_score</th>\n",
       "      <th>creation_date</th>\n",
       "    </tr>\n",
       "  </thead>\n",
       "  <tbody>\n",
       "    <tr>\n",
       "      <th>1</th>\n",
       "      <td>2</td>\n",
       "      <td>1229</td>\n",
       "      <td>2008-08-02</td>\n",
       "      <td>570235</td>\n",
       "      <td>2008-08-02</td>\n",
       "      <td>rau</td>\n",
       "      <td>1.2.276.0.41.10.172.2.26.20080728.66320.2.570235</td>\n",
       "      <td>1.2.392.200046.100.2.1.200050.55991.2008072914...</td>\n",
       "      <td>1.2.392.200046.100.2.1.200050.55991.2008072914...</td>\n",
       "      <td>HAND_BOTH</td>\n",
       "      <td>...</td>\n",
       "      <td>5.0</td>\n",
       "      <td>5.0</td>\n",
       "      <td>15.0</td>\n",
       "      <td>0.0</td>\n",
       "      <td>0.0</td>\n",
       "      <td>5.0</td>\n",
       "      <td>10.0</td>\n",
       "      <td>10.0</td>\n",
       "      <td>33</td>\n",
       "      <td>2010-07-12</td>\n",
       "    </tr>\n",
       "    <tr>\n",
       "      <th>3</th>\n",
       "      <td>32486</td>\n",
       "      <td>5776</td>\n",
       "      <td>2006-05-11</td>\n",
       "      <td>1</td>\n",
       "      <td>2006-05-11</td>\n",
       "      <td>rau</td>\n",
       "      <td>1.2.840.113619.6.95.31.0.3.4.1.4099.13.1290030</td>\n",
       "      <td>1.3.46.670589.26.400122.2.20060329.163703.26797</td>\n",
       "      <td>1.2.840.114257.1.8062006.85706.1.1.1</td>\n",
       "      <td>HAND_LEFT</td>\n",
       "      <td>...</td>\n",
       "      <td>0.0</td>\n",
       "      <td>0.0</td>\n",
       "      <td>0.0</td>\n",
       "      <td>0.0</td>\n",
       "      <td>0.0</td>\n",
       "      <td>0.0</td>\n",
       "      <td>0.0</td>\n",
       "      <td>5.0</td>\n",
       "      <td>10</td>\n",
       "      <td>2010-07-12</td>\n",
       "    </tr>\n",
       "    <tr>\n",
       "      <th>4</th>\n",
       "      <td>10</td>\n",
       "      <td>469</td>\n",
       "      <td>1983-11-09</td>\n",
       "      <td>NaN</td>\n",
       "      <td>2012-08-21</td>\n",
       "      <td>rau</td>\n",
       "      <td>1.2.276.0.7230010.3.1.2.0.22382.1278840446.382350</td>\n",
       "      <td>1.2.276.0.7230010.3.1.3.0.22382.1278840446.382349</td>\n",
       "      <td>1.2.276.0.7230010.3.1.4.0.22382.1278840446.382351</td>\n",
       "      <td>HAND_BOTH</td>\n",
       "      <td>...</td>\n",
       "      <td>NaN</td>\n",
       "      <td>NaN</td>\n",
       "      <td>NaN</td>\n",
       "      <td>NaN</td>\n",
       "      <td>NaN</td>\n",
       "      <td>NaN</td>\n",
       "      <td>NaN</td>\n",
       "      <td>NaN</td>\n",
       "      <td>16</td>\n",
       "      <td>2012-08-21</td>\n",
       "    </tr>\n",
       "    <tr>\n",
       "      <th>6</th>\n",
       "      <td>12</td>\n",
       "      <td>451</td>\n",
       "      <td>1987-02-13</td>\n",
       "      <td>NaN</td>\n",
       "      <td>2012-08-27</td>\n",
       "      <td>rau</td>\n",
       "      <td>1.2.276.0.7230010.3.1.2.0.22391.1278840447.356049</td>\n",
       "      <td>1.2.276.0.7230010.3.1.3.0.22400.1278840448.221664</td>\n",
       "      <td>1.2.276.0.7230010.3.1.4.0.22400.1278840448.221665</td>\n",
       "      <td>HAND_LEFT</td>\n",
       "      <td>...</td>\n",
       "      <td>NaN</td>\n",
       "      <td>NaN</td>\n",
       "      <td>NaN</td>\n",
       "      <td>NaN</td>\n",
       "      <td>NaN</td>\n",
       "      <td>NaN</td>\n",
       "      <td>NaN</td>\n",
       "      <td>NaN</td>\n",
       "      <td>62</td>\n",
       "      <td>2012-08-27</td>\n",
       "    </tr>\n",
       "    <tr>\n",
       "      <th>7</th>\n",
       "      <td>13</td>\n",
       "      <td>446</td>\n",
       "      <td>1987-08-11</td>\n",
       "      <td>NaN</td>\n",
       "      <td>2012-08-22</td>\n",
       "      <td>rau</td>\n",
       "      <td>1.2.276.0.7230010.3.1.2.0.22409.1278840449.122838</td>\n",
       "      <td>1.2.276.0.7230010.3.1.3.0.22409.1278840449.122837</td>\n",
       "      <td>1.2.276.0.7230010.3.1.4.0.22409.1278840449.122839</td>\n",
       "      <td>HAND_BOTH</td>\n",
       "      <td>...</td>\n",
       "      <td>NaN</td>\n",
       "      <td>NaN</td>\n",
       "      <td>NaN</td>\n",
       "      <td>NaN</td>\n",
       "      <td>NaN</td>\n",
       "      <td>NaN</td>\n",
       "      <td>NaN</td>\n",
       "      <td>NaN</td>\n",
       "      <td>3</td>\n",
       "      <td>2012-08-22</td>\n",
       "    </tr>\n",
       "  </tbody>\n",
       "</table>\n",
       "<p>5 rows × 50 columns</p>\n",
       "</div>"
      ],
      "text/plain": [
       "    id_x  patient_id      date_x accession_no scoring_dates scoring_types  \\\n",
       "1      2        1229  2008-08-02       570235    2008-08-02           rau   \n",
       "3  32486        5776  2006-05-11            1    2006-05-11           rau   \n",
       "4     10         469  1983-11-09          NaN    2012-08-21           rau   \n",
       "6     12         451  1987-02-13          NaN    2012-08-27           rau   \n",
       "7     13         446  1987-08-11          NaN    2012-08-22           rau   \n",
       "\n",
       "                                          study_iuid  \\\n",
       "1   1.2.276.0.41.10.172.2.26.20080728.66320.2.570235   \n",
       "3     1.2.840.113619.6.95.31.0.3.4.1.4099.13.1290030   \n",
       "4  1.2.276.0.7230010.3.1.2.0.22382.1278840446.382350   \n",
       "6  1.2.276.0.7230010.3.1.2.0.22391.1278840447.356049   \n",
       "7  1.2.276.0.7230010.3.1.2.0.22409.1278840449.122838   \n",
       "\n",
       "                                         series_iuid  \\\n",
       "1  1.2.392.200046.100.2.1.200050.55991.2008072914...   \n",
       "3    1.3.46.670589.26.400122.2.20060329.163703.26797   \n",
       "4  1.2.276.0.7230010.3.1.3.0.22382.1278840446.382349   \n",
       "6  1.2.276.0.7230010.3.1.3.0.22400.1278840448.221664   \n",
       "7  1.2.276.0.7230010.3.1.3.0.22409.1278840449.122837   \n",
       "\n",
       "                                            sop_iuid  body_part  \\\n",
       "1  1.2.392.200046.100.2.1.200050.55991.2008072914...  HAND_BOTH   \n",
       "3               1.2.840.114257.1.8062006.85706.1.1.1  HAND_LEFT   \n",
       "4  1.2.276.0.7230010.3.1.4.0.22382.1278840446.382351  HAND_BOTH   \n",
       "6  1.2.276.0.7230010.3.1.4.0.22400.1278840448.221665  HAND_LEFT   \n",
       "7  1.2.276.0.7230010.3.1.4.0.22409.1278840449.122839  HAND_BOTH   \n",
       "\n",
       "       ...        foot_left_3 foot_left_4 foot_left_5 foot_right_1  \\\n",
       "1      ...                5.0         5.0        15.0          0.0   \n",
       "3      ...                0.0         0.0         0.0          0.0   \n",
       "4      ...                NaN         NaN         NaN          NaN   \n",
       "6      ...                NaN         NaN         NaN          NaN   \n",
       "7      ...                NaN         NaN         NaN          NaN   \n",
       "\n",
       "   foot_right_2 foot_right_3  foot_right_4  foot_right_5  rau_score  \\\n",
       "1           0.0          5.0          10.0          10.0         33   \n",
       "3           0.0          0.0           0.0           5.0         10   \n",
       "4           NaN          NaN           NaN           NaN         16   \n",
       "6           NaN          NaN           NaN           NaN         62   \n",
       "7           NaN          NaN           NaN           NaN          3   \n",
       "\n",
       "   creation_date  \n",
       "1     2010-07-12  \n",
       "3     2010-07-12  \n",
       "4     2012-08-21  \n",
       "6     2012-08-27  \n",
       "7     2012-08-22  \n",
       "\n",
       "[5 rows x 50 columns]"
      ]
     },
     "execution_count": 3,
     "metadata": {},
     "output_type": "execute_result"
    }
   ],
   "source": [
    "df = pd.read_csv(filepath_or_buffer=\"/data/deepxray/data/rau_data/merged.csv\")\n",
    "#df = pd.read_csv(filepath_or_buffer=\"/Volumes/deepxray/data/rau_data/merged.csv\")\n",
    "df = df.loc[df['body_part'].isin([\"HAND_LEFT\", \"HAND_BOTH\"])]\n",
    "names = df[\"sop_iuid\"].as_matrix()\n",
    "df.head()"
   ]
  },
  {
   "cell_type": "markdown",
   "metadata": {},
   "source": [
    "Load images and labels into numpy arrays"
   ]
  },
  {
   "cell_type": "code",
   "execution_count": 4,
   "metadata": {
    "collapsed": true
   },
   "outputs": [],
   "source": [
    "root = \"/data\"\n",
    "#root = \"/Volumes\"\n",
    "dirname = \"deepxray/joint_detection/output\"\n",
    "\n",
    "# function to load and preprocess the image\n",
    "def preprocess_img(xray_name, joint_name):\n",
    "    # folder name\n",
    "    folder_name = \"predictions_extract_\" + joint_name\n",
    "    # file name\n",
    "    file_name = xray_name + \"_\" + joint_name + \".jpg\"\n",
    "    \n",
    "    # read image\n",
    "    image = Image.open(fp=os.path.join(root, dirname, folder_name, file_name))\n",
    "    \n",
    "    # turn into np array\n",
    "    data = np.asarray(a=image, dtype=\"uint8\")\n",
    "    return(data)\n"
   ]
  },
  {
   "cell_type": "code",
   "execution_count": 5,
   "metadata": {
    "collapsed": true
   },
   "outputs": [],
   "source": [
    "# get rau-score from dataframe\n",
    "def get_score(joint_number, index):\n",
    "    score = df[joint_number].as_matrix()[index]\n",
    "    return(score)"
   ]
  },
  {
   "cell_type": "code",
   "execution_count": 6,
   "metadata": {
    "collapsed": true
   },
   "outputs": [],
   "source": [
    "# get patient_id from dataframe\n",
    "def get_pid(index):\n",
    "    pid = df[\"patient_id\"].as_matrix()[index]\n",
    "    return(pid)"
   ]
  },
  {
   "cell_type": "code",
   "execution_count": 7,
   "metadata": {},
   "outputs": [
    {
     "name": "stdout",
     "output_type": "stream",
     "text": [
      "hand_left_1 -> pip5\n",
      "hand_left_2 -> mcp5\n",
      "hand_left_3 -> pip4\n",
      "hand_left_4 -> mcp4\n",
      "hand_left_5 -> pip3\n",
      "hand_left_6 -> mcp3\n",
      "hand_left_7 -> mcp2\n",
      "hand_left_8 -> pip2\n",
      "hand_left_9 -> mcp1\n",
      "hand_left_10 -> pip1\n"
     ]
    }
   ],
   "source": [
    "# joint names in dataframe\n",
    "joint_numbers = [\"hand_left_1\", \"hand_left_2\", \"hand_left_3\", \"hand_left_4\", \"hand_left_5\", \n",
    "                 \"hand_left_6\", \"hand_left_7\", \"hand_left_8\", \"hand_left_9\", \"hand_left_10\"]\n",
    "# corresponding joint names in image names\n",
    "joint_names = [\"pip5\", \"mcp5\", \"pip4\", \"mcp4\", \"pip3\", \"mcp3\", \"mcp2\", \"pip2\", \"mcp1\", \"pip1\"]\n",
    "\n",
    "\n",
    "for i in range(10):\n",
    "    print(joint_numbers[i] + \" -> \" + joint_names[i])"
   ]
  },
  {
   "cell_type": "code",
   "execution_count": 8,
   "metadata": {},
   "outputs": [
    {
     "name": "stdout",
     "output_type": "stream",
     "text": [
      "Importing images, 99.79 % finished\n"
     ]
    }
   ],
   "source": [
    "images = []\n",
    "labels = []\n",
    "patients = []\n",
    "n_img = names.shape[0]\n",
    "\n",
    "for i, xray_name in enumerate(names):\n",
    "    if (i % 100) == 0:\n",
    "        clear_output()\n",
    "        print(\"Importing images, {0:.2f} % finished\".format(i/n_img*100))\n",
    "        \n",
    "    for joint in range(10):\n",
    "        try:\n",
    "            img = preprocess_img(xray_name, joint_names[joint])\n",
    "        except Exception: \n",
    "            pass\n",
    "        else:\n",
    "            lbl = get_score(joint_numbers[joint], i)\n",
    "            if np.isnan(lbl):\n",
    "                continue\n",
    "            else:\n",
    "                images.append(img)\n",
    "                labels.append(lbl)\n",
    "                patients.append(get_pid(i))"
   ]
  },
  {
   "cell_type": "code",
   "execution_count": 9,
   "metadata": {},
   "outputs": [
    {
     "name": "stdout",
     "output_type": "stream",
     "text": [
      "(102265, 150, 150)\n",
      "(102265,)\n",
      "(102265,)\n"
     ]
    }
   ],
   "source": [
    "images = np.array(images)\n",
    "labels = np.array(labels)\n",
    "patients = np.array(patients)\n",
    "print(images.shape)\n",
    "print(labels.shape)\n",
    "print(patients.shape)"
   ]
  },
  {
   "cell_type": "code",
   "execution_count": 10,
   "metadata": {},
   "outputs": [
    {
     "data": {
      "image/png": "[encoded data removed]",
      "text/plain": [
       "<matplotlib.figure.Figure at 0x7f474356d160>"
      ]
     },
     "metadata": {},
     "output_type": "display_data"
    },
    {
     "data": {
      "image/png": "[encoded data removed]",
      "text/plain": [
       "<matplotlib.figure.Figure at 0x7f4745702cc0>"
      ]
     },
     "metadata": {},
     "output_type": "display_data"
    },
    {
     "data": {
      "image/png": "[encoded data removed]",
      "text/plain": [
       "<matplotlib.figure.Figure at 0x7f47446dd3c8>"
      ]
     },
     "metadata": {},
     "output_type": "display_data"
    }
   ],
   "source": [
    "for i in range(3):    \n",
    "    plt.imshow(images[i].squeeze(), cmap='gray')\n",
    "    plt.show()"
   ]
  },
  {
   "cell_type": "markdown",
   "metadata": {},
   "source": [
    "Safe image array, labels array and patients array to disk"
   ]
  },
  {
   "cell_type": "code",
   "execution_count": 11,
   "metadata": {
    "collapsed": true,
    "scrolled": true
   },
   "outputs": [],
   "source": [
    "with h5py.File('/data/joint_scoring/img_array.h5', 'w') as hf:\n",
    "    hf.create_dataset(\"img_array\",  data=images)\n",
    "    \n",
    "with h5py.File('/data/joint_scoring/lbl_array.h5', 'w') as hf:\n",
    "    hf.create_dataset(\"lbl_array\",  data=labels)\n",
    "    \n",
    "with h5py.File('/data/joint_scoring/pid_array.h5', 'w') as hf:\n",
    "    hf.create_dataset(\"pid_array\",  data=patients)"
   ]
  },
  {
   "cell_type": "markdown",
   "metadata": {},
   "source": [
    "Read image array and labels from disk & change shape of images"
   ]
  },
  {
   "cell_type": "code",
   "execution_count": 24,
   "metadata": {
    "collapsed": true
   },
   "outputs": [],
   "source": [
    "with h5py.File('/data/joint_scoring/img_array.h5', 'r') as hf:\n",
    "    images = hf['img_array'][:]\n",
    "    \n",
    "with h5py.File('/data/joint_scoring/lbl_array.h5', 'r') as hf:\n",
    "    labels = hf['lbl_array'][:]\n",
    "    \n",
    "with h5py.File('/data/joint_scoring/pid_array.h5', 'r') as hf:\n",
    "    patients = hf['pid_array'][:]\n",
    "\n",
    "images = images.reshape(images.shape[0], images.shape[1], images.shape[2], 1)"
   ]
  },
  {
   "cell_type": "code",
   "execution_count": 25,
   "metadata": {},
   "outputs": [
    {
     "data": {
      "image/png": "[encoded data removed]",
      "text/plain": [
       "<matplotlib.figure.Figure at 0x7f4740f184e0>"
      ]
     },
     "metadata": {},
     "output_type": "display_data"
    },
    {
     "data": {
      "image/png": "[encoded data removed]",
      "text/plain": [
       "<matplotlib.figure.Figure at 0x7f4740ca1ef0>"
      ]
     },
     "metadata": {},
     "output_type": "display_data"
    }
   ],
   "source": [
    "plt.hist(labels, bins=20)\n",
    "plt.show()\n",
    "\n",
    "pid_unique, pid_counts = np.unique(patients, return_counts = True)\n",
    "plt.bar(pid_unique, pid_counts)\n",
    "plt.show()"
   ]
  },
  {
   "cell_type": "code",
   "execution_count": 26,
   "metadata": {
    "collapsed": true
   },
   "outputs": [],
   "source": [
    "# create 5 classes (according to Rattingen classification)\n",
    "\n",
    "# 0 -> joint is healthy\n",
    "labels[(labels > 0) & (labels <= 20)] = 1 # -> one ore more erosions, <= 20 % of the joint surface is eroded\n",
    "labels[(labels > 20) & (labels <= 40)] = 2 # -> 21 - 40 % of the joint surface is eroded\n",
    "labels[(labels > 40) & (labels <= 60)] = 3 # -> 41 - 60 % of the joint surface is eroded\n",
    "labels[(labels > 60) & (labels <= 80)] = 4 # -> 61 - 80 % of the joint surface is eroded\n",
    "labels[labels > 80] = 5 # > 80 % of the joint surface is eroded"
   ]
  },
  {
   "cell_type": "markdown",
   "metadata": {},
   "source": [
    "Create train / test / validation split\n",
    "Stratified by class, but all images of the same patient have to stay together"
   ]
  },
  {
   "cell_type": "code",
   "execution_count": 27,
   "metadata": {},
   "outputs": [
    {
     "name": "stdout",
     "output_type": "stream",
     "text": [
      "Creating test/train/validation split, 99.94 % finished\n"
     ]
    }
   ],
   "source": [
    "img_train = []\n",
    "labels_train = []\n",
    "patients_train = []\n",
    "\n",
    "img_test = []\n",
    "labels_test = []\n",
    "patients_test = []\n",
    "\n",
    "img_val = []\n",
    "labels_val = []\n",
    "patients_val = []\n",
    "\n",
    "indices = np.random.permutation(images.shape[0])\n",
    "images = images[indices]\n",
    "labels = labels[indices]\n",
    "patients = patients[indices]\n",
    "\n",
    "for i in range(labels.shape[0]):\n",
    "    \n",
    "    if (i % 100) == 0:\n",
    "        clear_output()\n",
    "        print(\"Creating test/train/validation split, {0:.2f} % finished\".format(i/labels.shape[0]*100))\n",
    "    \n",
    "    if patients[i] in patients_train:\n",
    "        img_train.append(images[i])\n",
    "        labels_train.append(labels[i])\n",
    "        patients_train.append(patients[i])\n",
    "    elif patients[i] in patients_test:\n",
    "        img_test.append(images[i])\n",
    "        labels_test.append(labels[i])\n",
    "        patients_test.append(patients[i])\n",
    "    elif patients[i] in patients_val:\n",
    "        img_val.append(images[i])\n",
    "        labels_val.append(labels[i])\n",
    "        patients_val.append(patients[i])\n",
    "    else:\n",
    "        choice = np.random.choice(a=3, p=[0.7, 0.2, 0.1])\n",
    "        if choice == 0:\n",
    "            img_train.append(images[i])\n",
    "            labels_train.append(labels[i])\n",
    "            patients_train.append(patients[i])\n",
    "        elif choice == 1:\n",
    "            img_test.append(images[i])\n",
    "            labels_test.append(labels[i])\n",
    "            patients_test.append(patients[i])\n",
    "        else:\n",
    "            img_val.append(images[i])\n",
    "            labels_val.append(labels[i])\n",
    "            patients_val.append(patients[i])      "
   ]
  },
  {
   "cell_type": "code",
   "execution_count": 28,
   "metadata": {
    "collapsed": true
   },
   "outputs": [],
   "source": [
    "img_train = np.array(img_train)\n",
    "labels_train = np.array(labels_train)\n",
    "patients_train = np.array(patients_train)\n",
    "\n",
    "img_test = np.array(img_test)\n",
    "labels_test = np.array(labels_test)\n",
    "patients_test = np.array(patients_test)\n",
    "\n",
    "img_val = np.array(img_val)\n",
    "labels_val = np.array(labels_val)\n",
    "patients_val = np.array(labels_val)"
   ]
  },
  {
   "cell_type": "code",
   "execution_count": 29,
   "metadata": {},
   "outputs": [
    {
     "data": {
      "image/png": "[encoded data removed]",
      "text/plain": [
       "<matplotlib.figure.Figure at 0x7f474439a8d0>"
      ]
     },
     "metadata": {},
     "output_type": "display_data"
    },
    {
     "data": {
      "image/png": "[encoded data removed]",
      "text/plain": [
       "<matplotlib.figure.Figure at 0x7f4740cf1898>"
      ]
     },
     "metadata": {},
     "output_type": "display_data"
    },
    {
     "data": {
      "image/png": "[encoded data removed]",
      "text/plain": [
       "<matplotlib.figure.Figure at 0x7f4745867a58>"
      ]
     },
     "metadata": {},
     "output_type": "display_data"
    },
    {
     "name": "stdout",
     "output_type": "stream",
     "text": [
      "0.7069671930768102\n",
      "0.19176648902361512\n",
      "0.10126631789957463\n"
     ]
    }
   ],
   "source": [
    "plt.hist(labels_train, bins=20)\n",
    "plt.show()\n",
    "\n",
    "plt.hist(labels_test, bins=20)\n",
    "plt.show()\n",
    "\n",
    "plt.hist(labels_val, bins=20)\n",
    "plt.show()\n",
    "\n",
    "print(labels_train.shape[0] / (labels_train.shape[0] + labels_test.shape[0] + labels_val.shape[0] ))\n",
    "print(labels_test.shape[0] / (labels_train.shape[0] + labels_test.shape[0] + labels_val.shape[0] ))\n",
    "print(labels_val.shape[0] / (labels_train.shape[0] + labels_test.shape[0] + labels_val.shape[0] ))"
   ]
  },
  {
   "cell_type": "code",
   "execution_count": null,
   "metadata": {
    "collapsed": true
   },
   "outputs": [],
   "source": [
    "with h5py.File('/data/joint_scoring/img_train.h5', 'w') as hf:\n",
    "    hf.create_dataset(\"img_train\",  data=img_train)\n",
    "with h5py.File('/data/joint_scoring/img_test.h5', 'w') as hf:\n",
    "    hf.create_dataset(\"img_test\",  data=img_test)\n",
    "with h5py.File('/data/joint_scoring/img_val.h5', 'w') as hf:\n",
    "    hf.create_dataset(\"img_val\",  data=img_val)\n",
    "\n",
    "with h5py.File('/data/joint_scoring/labels_train.h5', 'w') as hf:\n",
    "    hf.create_dataset(\"labels_train\",  data=labels_train)\n",
    "with h5py.File('/data/joint_scoring/labels_test.h5', 'w') as hf:\n",
    "    hf.create_dataset(\"labels_test\",  data=labels_test)\n",
    "with h5py.File('/data/joint_scoring/labels_val.h5', 'w') as hf:\n",
    "    hf.create_dataset(\"labels_val\",  data=labels_val)\n",
    "    \n",
    "with h5py.File('/data/joint_scoring/patients_train.h5', 'w') as hf:\n",
    "    hf.create_dataset(\"patients_train\",  data=patients_train)\n",
    "with h5py.File('/data/joint_scoring/patients_test.h5', 'w') as hf:\n",
    "    hf.create_dataset(\"patients_test\",  data=patients_test)\n",
    "with h5py.File('/data/joint_scoring/patients_val.h5', 'w') as hf:\n",
    "    hf.create_dataset(\"patients_val\",  data=patients_val)"
   ]
  },
  {
   "cell_type": "code",
   "execution_count": 9,
   "metadata": {
    "collapsed": true
   },
   "outputs": [],
   "source": [
    "with h5py.File('/data/joint_scoring/img_train.h5', 'r') as hf:\n",
    "    img_train = hf['img_train'][:]\n",
    "with h5py.File('/data/joint_scoring/img_test.h5', 'r') as hf:\n",
    "    img_test = hf['img_test'][:]\n",
    "with h5py.File('/data/joint_scoring/img_val.h5', 'r') as hf:\n",
    "    img_val = hf['img_val'][:]\n",
    "    \n",
    "with h5py.File('/data/joint_scoring/labels_train.h5', 'r') as hf:\n",
    "    labels_train = hf['labels_train'][:]\n",
    "with h5py.File('/data/joint_scoring/labels_test.h5', 'r') as hf:\n",
    "    labels_test = hf['labels_test'][:]\n",
    "with h5py.File('/data/joint_scoring/labels_val.h5', 'r') as hf:\n",
    "    labels_val = hf['labels_val'][:]"
   ]
  },
  {
   "cell_type": "code",
   "execution_count": 12,
   "metadata": {},
   "outputs": [
    {
     "name": "stdout",
     "output_type": "stream",
     "text": [
      "6\n"
     ]
    }
   ],
   "source": [
    "# one hot encode outputs\n",
    "labels_train_onehot = LabelBinarizer().fit_transform(labels_train)\n",
    "labels_test_onehot = LabelBinarizer().fit_transform(labels_test)\n",
    "labels_val_onehot = LabelBinarizer().fit_transform(labels_val)\n",
    "num_classes = labels_test_onehot.shape[1]\n",
    "print(num_classes)"
   ]
  },
  {
   "cell_type": "code",
   "execution_count": 13,
   "metadata": {
    "collapsed": true
   },
   "outputs": [],
   "source": [
    "with h5py.File('/data/joint_scoring/labels_train_onehot.h5', 'w') as hf:\n",
    "    hf.create_dataset(\"labels_train_onehot\",  data=labels_train_onehot)\n",
    "with h5py.File('/data/joint_scoring/labels_test_onehot.h5', 'w') as hf:\n",
    "    hf.create_dataset(\"labels_test_onehot\",  data=labels_test_onehot)\n",
    "with h5py.File('/data/joint_scoring/labels_val_onehot.h5', 'w') as hf:\n",
    "    hf.create_dataset(\"labels_val_onehot\",  data=labels_val_onehot)"
   ]
  },
  {
   "cell_type": "markdown",
   "metadata": {},
   "source": [
    "------------ Continue here ----------------------------------------------"
   ]
  },
  {
   "cell_type": "markdown",
   "metadata": {},
   "source": [
    "Import numpy array and calculate class weights"
   ]
  },
  {
   "cell_type": "code",
   "execution_count": 4,
   "metadata": {},
   "outputs": [
    {
     "name": "stdout",
     "output_type": "stream",
     "text": [
      "112.229885057\n",
      "{0: 0.2468182438891165, 1: 0.61240428271328862, 2: 7.3563288563288562, 3: 15.980990274093722, 4: 27.700383141762451, 5: 12.358632478632479}\n"
     ]
    }
   ],
   "source": [
    "with h5py.File('/data/joint_scoring/labels_train.h5', 'r') as hf:\n",
    "    labels_train = hf['labels_train'][:]\n",
    "\n",
    "# define class weights because of imbalance\n",
    "weights = class_weight.compute_class_weight(class_weight='balanced', \n",
    "                                                 classes=np.unique(labels_train), \n",
    "                                                 y=labels_train)\n",
    "\n",
    "print(max(weights)/min(weights))\n",
    "\n",
    "weights = dict(enumerate(weights))\n",
    "print(weights)"
   ]
  },
  {
   "cell_type": "markdown",
   "metadata": {},
   "source": [
    "Import data as HDF5 Matrix"
   ]
  },
  {
   "cell_type": "code",
   "execution_count": 5,
   "metadata": {
    "collapsed": true
   },
   "outputs": [],
   "source": [
    "img_train = HDF5Matrix('/data/joint_scoring/img_train.h5', 'img_train')\n",
    "img_test = HDF5Matrix('/data/joint_scoring/img_test.h5', 'img_test')\n",
    "\n",
    "labels_train = HDF5Matrix('/data/joint_scoring/labels_train_onehot.h5', 'labels_train_onehot')\n",
    "labels_test = HDF5Matrix('/data/joint_scoring/labels_test_onehot.h5', 'labels_test_onehot')"
   ]
  },
  {
   "cell_type": "code",
   "execution_count": 6,
   "metadata": {
    "collapsed": true
   },
   "outputs": [],
   "source": [
    "train_datagen = ImageDataGenerator(\n",
    "        rotation_range=25,\n",
    "        shear_range=0.2,\n",
    "        zoom_range=0.2)"
   ]
  },
  {
   "cell_type": "code",
   "execution_count": 7,
   "metadata": {
    "collapsed": true,
    "scrolled": true
   },
   "outputs": [],
   "source": [
    "num_classes = 6"
   ]
  },
  {
   "cell_type": "markdown",
   "metadata": {},
   "source": [
    "## 2. Model"
   ]
  },
  {
   "cell_type": "code",
   "execution_count": 8,
   "metadata": {
    "collapsed": true
   },
   "outputs": [],
   "source": [
    "def conv_model():\n",
    "    # create model\n",
    "    model = Sequential()\n",
    "    model.add(Lambda(lambda x: x / 255., input_shape=(150, 150, 1)))\n",
    "    model.add(Conv2D(filters=32, kernel_size=(3, 3), padding=\"same\", activation=\"relu\", kernel_initializer=\"he_normal\"))\n",
    "    model.add(BatchNormalization())\n",
    "    model.add(Conv2D(filters=32, kernel_size=(3, 3), padding=\"same\", activation=\"relu\", kernel_initializer=\"he_normal\"))\n",
    "    model.add(BatchNormalization())\n",
    "    model.add(MaxPooling2D(pool_size=(2, 2)))\n",
    "    model.add(Conv2D(filters=32, kernel_size=(3, 3), padding=\"same\", activation=\"relu\", kernel_initializer=\"he_normal\"))\n",
    "    model.add(BatchNormalization())\n",
    "    model.add(Conv2D(filters=32, kernel_size=(3, 3), padding=\"same\", activation=\"relu\", kernel_initializer=\"he_normal\"))\n",
    "    model.add(BatchNormalization())\n",
    "    model.add(MaxPooling2D(pool_size=(2, 2)))\n",
    "    model.add(Conv2D(filters=64, kernel_size=(3, 3), padding=\"same\", activation=\"relu\", kernel_initializer=\"he_normal\"))\n",
    "    model.add(BatchNormalization())\n",
    "    model.add(Conv2D(filters=64, kernel_size=(3, 3), padding=\"same\", activation=\"relu\", kernel_initializer=\"he_normal\"))\n",
    "    model.add(BatchNormalization())\n",
    "    model.add(MaxPooling2D(pool_size=(2, 2)))\n",
    "    model.add(Conv2D(filters=64, kernel_size=(3, 3), padding=\"same\", activation=\"relu\", kernel_initializer=\"he_normal\"))\n",
    "    model.add(BatchNormalization())\n",
    "    model.add(Conv2D(filters=64, kernel_size=(3, 3), padding=\"same\", activation=\"relu\", kernel_initializer=\"he_normal\"))\n",
    "    model.add(BatchNormalization())\n",
    "    model.add(MaxPooling2D(pool_size=(2, 2)))\n",
    "    model.add(Conv2D(filters=128, kernel_size=(3, 3), padding=\"same\", activation=\"relu\", kernel_initializer=\"he_normal\"))\n",
    "    model.add(BatchNormalization())\n",
    "    model.add(Conv2D(filters=128, kernel_size=(3, 3), padding=\"same\", activation=\"relu\", kernel_initializer=\"he_normal\"))\n",
    "    model.add(BatchNormalization())\n",
    "    model.add(MaxPooling2D(pool_size=(2, 2)))\n",
    "    model.add(Conv2D(filters=128, kernel_size=(3, 3), padding=\"same\", activation=\"relu\", kernel_initializer=\"he_normal\"))\n",
    "    model.add(BatchNormalization())\n",
    "    model.add(Conv2D(filters=128, kernel_size=(3, 3), padding=\"same\", activation=\"relu\", kernel_initializer=\"he_normal\"))\n",
    "    model.add(BatchNormalization())\n",
    "    model.add(MaxPooling2D(pool_size=(2, 2)))\n",
    "    model.add(Flatten())\n",
    "    model.add(Dense(units=256, kernel_initializer=\"he_normal\",\n",
    "                    activation=\"relu\"))\n",
    "    model.add(BatchNormalization())\n",
    "    model.add(Dropout(rate=0.5))\n",
    "    model.add(Dense(units=256, kernel_initializer=\"he_normal\",\n",
    "                    activation=\"relu\"))\n",
    "    model.add(BatchNormalization())\n",
    "    model.add(Dropout(rate=0.5))\n",
    "    model.add(Dense(units=num_classes, activation=\"softmax\",\n",
    "                    kernel_initializer=\"he_normal\"))\n",
    "\n",
    "    # Compile model\n",
    "    model.compile(optimizer=\"adam\", loss=\"categorical_crossentropy\",\n",
    "                  metrics=[\"accuracy\"])\n",
    "\n",
    "    return model"
   ]
  },
  {
   "cell_type": "code",
   "execution_count": 9,
   "metadata": {},
   "outputs": [
    {
     "name": "stdout",
     "output_type": "stream",
     "text": [
      "_________________________________________________________________\n",
      "Layer (type)                 Output Shape              Param #   \n",
      "=================================================================\n",
      "lambda_1 (Lambda)            (None, 150, 150, 1)       0         \n",
      "_________________________________________________________________\n",
      "conv2d_1 (Conv2D)            (None, 150, 150, 32)      320       \n",
      "_________________________________________________________________\n",
      "batch_normalization_1 (Batch (None, 150, 150, 32)      128       \n",
      "_________________________________________________________________\n",
      "conv2d_2 (Conv2D)            (None, 150, 150, 32)      9248      \n",
      "_________________________________________________________________\n",
      "batch_normalization_2 (Batch (None, 150, 150, 32)      128       \n",
      "_________________________________________________________________\n",
      "max_pooling2d_1 (MaxPooling2 (None, 75, 75, 32)        0         \n",
      "_________________________________________________________________\n",
      "conv2d_3 (Conv2D)            (None, 75, 75, 32)        9248      \n",
      "_________________________________________________________________\n",
      "batch_normalization_3 (Batch (None, 75, 75, 32)        128       \n",
      "_________________________________________________________________\n",
      "conv2d_4 (Conv2D)            (None, 75, 75, 32)        9248      \n",
      "_________________________________________________________________\n",
      "batch_normalization_4 (Batch (None, 75, 75, 32)        128       \n",
      "_________________________________________________________________\n",
      "max_pooling2d_2 (MaxPooling2 (None, 37, 37, 32)        0         \n",
      "_________________________________________________________________\n",
      "conv2d_5 (Conv2D)            (None, 37, 37, 64)        18496     \n",
      "_________________________________________________________________\n",
      "batch_normalization_5 (Batch (None, 37, 37, 64)        256       \n",
      "_________________________________________________________________\n",
      "conv2d_6 (Conv2D)            (None, 37, 37, 64)        36928     \n",
      "_________________________________________________________________\n",
      "batch_normalization_6 (Batch (None, 37, 37, 64)        256       \n",
      "_________________________________________________________________\n",
      "max_pooling2d_3 (MaxPooling2 (None, 18, 18, 64)        0         \n",
      "_________________________________________________________________\n",
      "conv2d_7 (Conv2D)            (None, 18, 18, 64)        36928     \n",
      "_________________________________________________________________\n",
      "batch_normalization_7 (Batch (None, 18, 18, 64)        256       \n",
      "_________________________________________________________________\n",
      "conv2d_8 (Conv2D)            (None, 18, 18, 64)        36928     \n",
      "_________________________________________________________________\n",
      "batch_normalization_8 (Batch (None, 18, 18, 64)        256       \n",
      "_________________________________________________________________\n",
      "max_pooling2d_4 (MaxPooling2 (None, 9, 9, 64)          0         \n",
      "_________________________________________________________________\n",
      "conv2d_9 (Conv2D)            (None, 9, 9, 128)         73856     \n",
      "_________________________________________________________________\n",
      "batch_normalization_9 (Batch (None, 9, 9, 128)         512       \n",
      "_________________________________________________________________\n",
      "conv2d_10 (Conv2D)           (None, 9, 9, 128)         147584    \n",
      "_________________________________________________________________\n",
      "batch_normalization_10 (Batc (None, 9, 9, 128)         512       \n",
      "_________________________________________________________________\n",
      "max_pooling2d_5 (MaxPooling2 (None, 4, 4, 128)         0         \n",
      "_________________________________________________________________\n",
      "conv2d_11 (Conv2D)           (None, 4, 4, 128)         147584    \n",
      "_________________________________________________________________\n",
      "batch_normalization_11 (Batc (None, 4, 4, 128)         512       \n",
      "_________________________________________________________________\n",
      "conv2d_12 (Conv2D)           (None, 4, 4, 128)         147584    \n",
      "_________________________________________________________________\n",
      "batch_normalization_12 (Batc (None, 4, 4, 128)         512       \n",
      "_________________________________________________________________\n",
      "max_pooling2d_6 (MaxPooling2 (None, 2, 2, 128)         0         \n",
      "_________________________________________________________________\n",
      "flatten_1 (Flatten)          (None, 512)               0         \n",
      "_________________________________________________________________\n",
      "dense_1 (Dense)              (None, 256)               131328    \n",
      "_________________________________________________________________\n",
      "batch_normalization_13 (Batc (None, 256)               1024      \n",
      "_________________________________________________________________\n",
      "dropout_1 (Dropout)          (None, 256)               0         \n",
      "_________________________________________________________________\n",
      "dense_2 (Dense)              (None, 256)               65792     \n",
      "_________________________________________________________________\n",
      "batch_normalization_14 (Batc (None, 256)               1024      \n",
      "_________________________________________________________________\n",
      "dropout_2 (Dropout)          (None, 256)               0         \n",
      "_________________________________________________________________\n",
      "dense_3 (Dense)              (None, 6)                 1542      \n",
      "=================================================================\n",
      "Total params: 878,246\n",
      "Trainable params: 875,430\n",
      "Non-trainable params: 2,816\n",
      "_________________________________________________________________\n"
     ]
    }
   ],
   "source": [
    "# build the model\n",
    "model = conv_model()\n",
    "model.summary()"
   ]
  },
  {
   "cell_type": "code",
   "execution_count": 10,
   "metadata": {
    "collapsed": true
   },
   "outputs": [],
   "source": [
    "# create log directory\n",
    "now = datetime.now\n",
    "new_folder = '{}'.format(now().strftime('%Y%m%d_%H%M%S'))"
   ]
  },
  {
   "cell_type": "code",
   "execution_count": 11,
   "metadata": {},
   "outputs": [
    {
     "name": "stdout",
     "output_type": "stream",
     "text": [
      "20171025_193543\n"
     ]
    }
   ],
   "source": [
    "print(new_folder)"
   ]
  },
  {
   "cell_type": "code",
   "execution_count": 12,
   "metadata": {
    "collapsed": true
   },
   "outputs": [],
   "source": [
    "desc = \"model with data generator and class weights. Division by 255 moved from generator to first (lambda) layer of the model\"\n",
    "\n",
    "with open(\"/data/joint_scoring/readme.txt\", \"a\") as myfile:\n",
    "    myfile.write(\"\\n\" + new_folder + \"    \" + desc)"
   ]
  },
  {
   "cell_type": "code",
   "execution_count": 13,
   "metadata": {
    "collapsed": true
   },
   "outputs": [],
   "source": [
    "# tensorboard callback\n",
    "tb_callback = callbacks.TensorBoard(log_dir=\"/data/joint_scoring/tensorboard/\" + new_folder,\n",
    "                                    histogram_freq=0, write_graph=True,\n",
    "                                    write_images=True)"
   ]
  },
  {
   "cell_type": "code",
   "execution_count": null,
   "metadata": {
    "scrolled": true
   },
   "outputs": [],
   "source": [
    "model.fit_generator(generator=train_datagen.flow(img_train, labels_train, batch_size=32),\n",
    "                    steps_per_epoch=len(img_train) / 32, \n",
    "                    epochs=20, verbose = 2, callbacks=[tb_callback], \n",
    "                    validation_data=(img_test, labels_test),\n",
    "                    class_weight=weights)"
   ]
  },
  {
   "cell_type": "code",
   "execution_count": null,
   "metadata": {
    "collapsed": true
   },
   "outputs": [],
   "source": [
    "# Final evaluation of the model\n",
    "scores = model.evaluate(img_test, labels_test, verbose=0)\n",
    "print(\"Error: %.2f%%\" % (100 - scores[1] * 100))"
   ]
  },
  {
   "cell_type": "code",
   "execution_count": null,
   "metadata": {
    "collapsed": true
   },
   "outputs": [],
   "source": [
    "# Save the model\n",
    "model.save(\"/data/joint_scoring/models/\" + new_folder + \".h5\")"
   ]
  },
  {
   "cell_type": "code",
   "execution_count": null,
   "metadata": {
    "collapsed": true
   },
   "outputs": [],
   "source": [
    "from sklearn.metrics import confusion_matrix, classification_report\n",
    "pred = model.predict_classes(img_test)\n",
    "p = model.predict_proba(img_test)\n",
    "\n",
    "print(classification_report(np.argmax(labels_test, axis=1), pred))\n",
    "cnf_matrix = confusion_matrix(np.argmax(labels_test, axis=1), pred)\n",
    "print(cnf_matrix)"
   ]
  },
  {
   "cell_type": "code",
   "execution_count": null,
   "metadata": {
    "collapsed": true
   },
   "outputs": [],
   "source": [
    "def plot_confusion_matrix(cm, classes,\n",
    "                          normalize=False,\n",
    "                          title='Confusion matrix',\n",
    "                          cmap=plt.cm.Blues):\n",
    "    \"\"\"\n",
    "    This function prints and plots the confusion matrix.\n",
    "    Normalization can be applied by setting `normalize=True`.\n",
    "    \"\"\"\n",
    "    if normalize:\n",
    "        cm = cm.astype('float') / cm.sum(axis=1)[:, np.newaxis]\n",
    "        print(\"Normalized confusion matrix\")\n",
    "    else:\n",
    "        print('Confusion matrix, without normalization')\n",
    "\n",
    "    print(cm)\n",
    "\n",
    "    plt.imshow(cm, interpolation='nearest', cmap=cmap)\n",
    "    plt.title(title)\n",
    "    plt.colorbar()\n",
    "    tick_marks = np.arange(len(classes))\n",
    "    plt.xticks(tick_marks, classes, rotation=45)\n",
    "    plt.yticks(tick_marks, classes)\n",
    "\n",
    "    fmt = '.2f' if normalize else 'd'\n",
    "    thresh = cm.max() / 2.\n",
    "    for i, j in itertools.product(range(cm.shape[0]), range(cm.shape[1])):\n",
    "        plt.text(j, i, format(cm[i, j], fmt),\n",
    "                 horizontalalignment=\"center\",\n",
    "                 color=\"white\" if cm[i, j] > thresh else \"black\")\n",
    "\n",
    "    plt.tight_layout()\n",
    "    plt.ylabel('True label')\n",
    "    plt.xlabel('Predicted label')\n",
    "\n",
    "# Plot non-normalized confusion matrix\n",
    "plt.figure()\n",
    "plot_confusion_matrix(cnf_matrix, classes=range(num_classes),\n",
    "                      title='Confusion matrix, without normalization')\n",
    "\n",
    "# Plot normalized confusion matrix\n",
    "plt.figure()\n",
    "plot_confusion_matrix(cnf_matrix, classes=range(num_classes), normalize=True,\n",
    "                      title='Normalized confusion matrix')\n",
    "\n",
    "plt.show()"
   ]
  },
  {
   "cell_type": "code",
   "execution_count": null,
   "metadata": {
    "collapsed": true
   },
   "outputs": [],
   "source": []
  },
  {
   "cell_type": "code",
   "execution_count": null,
   "metadata": {
    "collapsed": true
   },
   "outputs": [],
   "source": []
  }
 ],
 "metadata": {
  "kernelspec": {
   "display_name": "Python 3",
   "language": "python",
   "name": "python3"
  },
  "language_info": {
   "codemirror_mode": {
    "name": "ipython",
    "version": 3
   },
   "file_extension": ".py",
   "mimetype": "text/x-python",
   "name": "python",
   "nbconvert_exporter": "python",
   "pygments_lexer": "ipython3",
   "version": "3.5.2"
  }
 },
 "nbformat": 4,
 "nbformat_minor": 1
}
