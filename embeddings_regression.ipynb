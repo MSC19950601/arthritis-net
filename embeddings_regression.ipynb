{
 "cells": [
  {
   "cell_type": "markdown",
   "metadata": {},
   "source": [
    "# Embeddings"
   ]
  },
  {
   "cell_type": "code",
   "execution_count": 1,
   "metadata": {},
   "outputs": [],
   "source": [
    "import h5py\n",
    "import numpy as np\n",
    "import tensorflow as tf\n",
    "from tensorflow.python.keras.models import Sequential"
   ]
  },
  {
   "cell_type": "markdown",
   "metadata": {},
   "source": [
    "## Loading the data"
   ]
  },
  {
   "cell_type": "code",
   "execution_count": 2,
   "metadata": {},
   "outputs": [
    {
     "data": {
      "text/plain": [
       "((19709,), (19709, 150, 150, 1))"
      ]
     },
     "execution_count": 2,
     "metadata": {},
     "output_type": "execute_result"
    }
   ],
   "source": [
    "with h5py.File('/data/joint_scoring/labels_test_regression.h5', 'r') as hf:\n",
    "    y = hf['labels_test_regression'][:]\n",
    "    \n",
    "with h5py.File('/data/joint_scoring/img_test_regression.h5', 'r') as hf:\n",
    "    imgs = hf['img_test_regression'][:]\n",
    "\n",
    "imgs = imgs\n",
    "y = y\n",
    "\n",
    "y.shape, imgs.shape"
   ]
  },
  {
   "cell_type": "code",
   "execution_count": 3,
   "metadata": {},
   "outputs": [],
   "source": [
    "from tensorflow.python.keras import backend as K\n",
    "\n",
    "def crps(y_true, y_pred):\n",
    "    diff = (y_true - y_pred)\n",
    "    diff_2 = K.square(diff)\n",
    "    loss = K.mean(diff_2)\n",
    "    return loss"
   ]
  },
  {
   "cell_type": "code",
   "execution_count": 4,
   "metadata": {},
   "outputs": [],
   "source": [
    "from tensorflow.python.keras.models import load_model\n",
    "\n",
    "loaded_model = load_model(\"/data/joint_scoring/models/20171104_135018.h5\", custom_objects={\"crps\":crps})"
   ]
  },
  {
   "cell_type": "code",
   "execution_count": 5,
   "metadata": {},
   "outputs": [],
   "source": [
    "p = loaded_model.predict(imgs)"
   ]
  },
  {
   "cell_type": "code",
   "execution_count": 6,
   "metadata": {},
   "outputs": [],
   "source": [
    "pred = np.zeros(p.shape[0])\n",
    "\n",
    "for i in range(p.shape[0]):\n",
    "    pred[i] = sum(1 - p[i])"
   ]
  },
  {
   "cell_type": "code",
   "execution_count": 7,
   "metadata": {},
   "outputs": [],
   "source": [
    "diff = pred - y"
   ]
  },
  {
   "cell_type": "code",
   "execution_count": 8,
   "metadata": {},
   "outputs": [
    {
     "data": {
      "text/plain": [
       "array([ 0.92763996,  0.48160774,  0.4225744 , ...,  0.78342056,\n",
       "        0.22367346,  4.32695311])"
      ]
     },
     "execution_count": 8,
     "metadata": {},
     "output_type": "execute_result"
    }
   ],
   "source": [
    "diff"
   ]
  },
  {
   "cell_type": "markdown",
   "metadata": {},
   "source": [
    "## Build truncated model"
   ]
  },
  {
   "cell_type": "code",
   "execution_count": 9,
   "metadata": {},
   "outputs": [],
   "source": [
    "config = loaded_model.get_config()"
   ]
  },
  {
   "cell_type": "code",
   "execution_count": 10,
   "metadata": {},
   "outputs": [],
   "source": [
    "config = config[0:48]"
   ]
  },
  {
   "cell_type": "code",
   "execution_count": 11,
   "metadata": {},
   "outputs": [],
   "source": [
    "model = Sequential.from_config(config)"
   ]
  },
  {
   "cell_type": "code",
   "execution_count": 12,
   "metadata": {},
   "outputs": [],
   "source": [
    "weights = loaded_model.get_weights()"
   ]
  },
  {
   "cell_type": "code",
   "execution_count": 13,
   "metadata": {},
   "outputs": [],
   "source": [
    "model.set_weights(weights)"
   ]
  },
  {
   "cell_type": "markdown",
   "metadata": {},
   "source": [
    "## Get embeddings"
   ]
  },
  {
   "cell_type": "code",
   "execution_count": 14,
   "metadata": {},
   "outputs": [],
   "source": [
    "embeddings = model.predict(imgs)"
   ]
  },
  {
   "cell_type": "code",
   "execution_count": 15,
   "metadata": {},
   "outputs": [],
   "source": [
    "from sklearn.decomposition import PCA\n",
    "x_50d = PCA(n_components=50).fit_transform(embeddings)"
   ]
  },
  {
   "cell_type": "code",
   "execution_count": 16,
   "metadata": {},
   "outputs": [],
   "source": [
    "from sklearn.manifold import TSNE\n",
    "x_2d = TSNE(n_components=2, random_state=1).fit_transform(x_50d)"
   ]
  },
  {
   "cell_type": "code",
   "execution_count": 17,
   "metadata": {},
   "outputs": [],
   "source": [
    "from matplotlib import pyplot as plt\n",
    "\n",
    "plt.figure(figsize=(25,25))\n",
    "plt.scatter(x_2d[:, 0], x_2d[:, 1], c=y, cmap=plt.cm.get_cmap(\"viridis\"))\n",
    "plt.colorbar()\n",
    "plt.savefig('/data/joint_scoring/images/tsne_regression.png', bbox_inches='tight')"
   ]
  },
  {
   "cell_type": "code",
   "execution_count": 18,
   "metadata": {},
   "outputs": [],
   "source": [
    "from matplotlib import pyplot as plt\n",
    "\n",
    "plt.figure(figsize=(25,25))\n",
    "plt.scatter(x_2d[:, 0], x_2d[:, 1], c=diff, cmap=plt.cm.get_cmap(\"RdBu\"))\n",
    "plt.colorbar()\n",
    "plt.savefig('/data/joint_scoring/images/tsne_diference_regression.png', bbox_inches='tight')"
   ]
  },
  {
   "cell_type": "code",
   "execution_count": 19,
   "metadata": {},
   "outputs": [],
   "source": [
    "from sklearn.manifold import TSNE\n",
    "x_embedded = TSNE(n_components=3, random_state=1).fit_transform(x_50d)"
   ]
  },
  {
   "cell_type": "code",
   "execution_count": 20,
   "metadata": {},
   "outputs": [],
   "source": [
    "from matplotlib import pyplot\n",
    "from mpl_toolkits.mplot3d import Axes3D\n",
    "\n",
    "fig = pyplot.figure(figsize=(25,25))\n",
    "ax = Axes3D(fig)\n",
    "ax.scatter(x_embedded[:, 0], x_embedded[:, 1], x_embedded[:, 2], c=y, cmap=plt.cm.get_cmap(\"viridis\"))\n",
    "plt.savefig('/data/joint_scoring/images/tsne_3d_regression.png', bbox_inches='tight')"
   ]
  },
  {
   "cell_type": "code",
   "execution_count": 21,
   "metadata": {},
   "outputs": [
    {
     "name": "stdout",
     "output_type": "stream",
     "text": [
      "Requirement already up-to-date: scikit-image in /usr/local/lib/python3.5/dist-packages\n",
      "Requirement already up-to-date: matplotlib>=1.3.1 in /usr/local/lib/python3.5/dist-packages (from scikit-image)\n",
      "Requirement already up-to-date: PyWavelets>=0.4.0 in /usr/local/lib/python3.5/dist-packages (from scikit-image)\n",
      "Requirement already up-to-date: six>=1.7.3 in /usr/local/lib/python3.5/dist-packages (from scikit-image)\n",
      "Requirement already up-to-date: pillow>=2.1.0 in /usr/local/lib/python3.5/dist-packages (from scikit-image)\n",
      "Requirement already up-to-date: scipy>=0.17.0 in /usr/local/lib/python3.5/dist-packages (from scikit-image)\n",
      "Requirement already up-to-date: networkx>=1.8 in /usr/local/lib/python3.5/dist-packages (from scikit-image)\n",
      "Requirement already up-to-date: numpy>=1.7.1 in /usr/local/lib/python3.5/dist-packages (from matplotlib>=1.3.1->scikit-image)\n",
      "Requirement already up-to-date: pyparsing!=2.0.4,!=2.1.2,!=2.1.6,>=2.0.1 in /usr/local/lib/python3.5/dist-packages (from matplotlib>=1.3.1->scikit-image)\n",
      "Requirement already up-to-date: cycler>=0.10 in /usr/local/lib/python3.5/dist-packages (from matplotlib>=1.3.1->scikit-image)\n",
      "Requirement already up-to-date: python-dateutil>=2.0 in /usr/local/lib/python3.5/dist-packages (from matplotlib>=1.3.1->scikit-image)\n",
      "Requirement already up-to-date: pytz in /usr/local/lib/python3.5/dist-packages (from matplotlib>=1.3.1->scikit-image)\n",
      "Requirement already up-to-date: olefile in /usr/local/lib/python3.5/dist-packages (from pillow>=2.1.0->scikit-image)\n",
      "Requirement already up-to-date: decorator>=4.1.0 in /usr/local/lib/python3.5/dist-packages (from networkx>=1.8->scikit-image)\n"
     ]
    },
    {
     "name": "stderr",
     "output_type": "stream",
     "text": [
      "/usr/local/lib/python3.5/dist-packages/skimage/transform/_warps.py:84: UserWarning: The default mode, 'constant', will be changed to 'reflect' in skimage 0.15.\n",
      "  warn(\"The default mode, 'constant', will be changed to 'reflect' in \"\n"
     ]
    }
   ],
   "source": [
    "!pip3 install scikit-image --upgrade\n",
    "from skimage.transform import resize\n",
    "imgs_resized = [resize(image=x, output_shape=(50, 50)) for x in imgs]\n",
    "imgs_resized = np.array(imgs_resized)"
   ]
  },
  {
   "cell_type": "code",
   "execution_count": 22,
   "metadata": {},
   "outputs": [],
   "source": [
    "n_colors = len(np.unique(y.astype(\"int16\")))"
   ]
  },
  {
   "cell_type": "code",
   "execution_count": 23,
   "metadata": {},
   "outputs": [
    {
     "name": "stdout",
     "output_type": "stream",
     "text": [
      "[[ 68   1  84   1]\n",
      " [ 71  18 101   1]\n",
      " [ 72  34 115   1]\n",
      " [ 70  49 126   1]\n",
      " [ 66  64 133   1]\n",
      " [ 60  77 138   1]\n",
      " [ 54  91 140   1]\n",
      " [ 48 103 141   1]\n",
      " [ 43 115 142   1]\n",
      " [ 39 126 142   1]\n",
      " [ 34 137 141   1]\n",
      " [ 31 150 139   1]\n",
      " [ 31 161 135   1]\n",
      " [ 38 172 129   1]\n",
      " [ 53 183 120   1]\n",
      " [ 53 183 120   1]\n",
      " [100 203  93   1]\n",
      " [129 211  76   1]\n",
      " [159 217  56   1]\n",
      " [191 223  36   1]\n",
      " [223 227  24   1]\n",
      " [253 231  36   1]]\n",
      "<class 'numpy.ndarray'>\n"
     ]
    }
   ],
   "source": [
    "cm = plt.cm.get_cmap(\"viridis\", n_colors)\n",
    "color = np.ones((n_colors, 4))\n",
    "for i in range(n_colors):\n",
    "    color[i] = cm(1.*i/n_colors)\n",
    "\n",
    "color = [np.append((x[0:-1] * 255),1) for x in color]\n",
    "color = np.array(color)\n",
    "\n",
    "\n",
    "color = color.astype(\"int16\")\n",
    "\n",
    "print(color)\n",
    "print(type(color[0]))"
   ]
  },
  {
   "cell_type": "code",
   "execution_count": 33,
   "metadata": {},
   "outputs": [
    {
     "name": "stdout",
     "output_type": "stream",
     "text": [
      "[0, 5, 10, 15, 20, 25, 30, 35, 40, 45, 50, 55, 58, 60, 65, 70, 75, 80, 85, 90, 95, 100]\n",
      "10\n"
     ]
    }
   ],
   "source": [
    "y_unique = np.unique(y.astype(\"int16\"))\n",
    "y_unique = y_unique.tolist()\n",
    "print(y_unique)\n",
    "y_index = y_unique.index(50)\n",
    "print(y_index)"
   ]
  },
  {
   "cell_type": "code",
   "execution_count": 34,
   "metadata": {},
   "outputs": [
    {
     "name": "stdout",
     "output_type": "stream",
     "text": [
      "Creating images with colored borders, 100.45 % finished\n"
     ]
    }
   ],
   "source": [
    "from PIL import Image\n",
    "from PIL import ImageMath\n",
    "from IPython.display import clear_output\n",
    "\n",
    "imgs_border = []\n",
    "\n",
    "old_size = (50, 50)\n",
    "new_size = (54, 54)\n",
    "\n",
    "y_unique = np.unique(y.astype(\"int16\"))\n",
    "y_unique = y_unique.tolist()\n",
    "\n",
    "for i, img in enumerate(imgs_resized):\n",
    "    if i % 100 == 0:\n",
    "        clear_output()\n",
    "        print(\"Creating images with colored borders, {0:.2f} % finished\".format(i/19611*100))\n",
    "    old_im = Image.fromarray((img.squeeze()*255).astype(\"int16\"))\n",
    "    old_im = old_im.convert(\"RGB\")\n",
    "    y_index = y_unique.index(y[i])\n",
    "    new_im = Image.new(\"RGB\", new_size, tuple(color[int(y_index)]))\n",
    "    new_im.paste(old_im, (2,2))\n",
    "    dat = np.asarray(a=new_im)\n",
    "    imgs_border.append(dat)"
   ]
  },
  {
   "cell_type": "code",
   "execution_count": 39,
   "metadata": {},
   "outputs": [
    {
     "data": {
      "image/png": "[encoded data removed]",
      "text/plain": [
       "<matplotlib.figure.Figure at 0x7f9d5c7abe80>"
      ]
     },
     "metadata": {},
     "output_type": "display_data"
    }
   ],
   "source": [
    "plt.imshow(imgs_border[0])\n",
    "plt.show()"
   ]
  },
  {
   "cell_type": "code",
   "execution_count": 40,
   "metadata": {},
   "outputs": [],
   "source": [
    "\n",
    "res = 8000 # resolution of plot\n",
    "cval = 255 # background colour\n",
    "\n",
    "images = imgs_border\n",
    "max_width = max([image.shape[0] for image in images])\n",
    "max_height = max([image.shape[1] for image in images])"
   ]
  },
  {
   "cell_type": "code",
   "execution_count": 41,
   "metadata": {},
   "outputs": [],
   "source": [
    "f2d = x_2d\n",
    "\n",
    "xx = f2d[:, 0]\n",
    "yy = f2d[:, 1]\n",
    "x_min, x_max = xx.min(), xx.max()\n",
    "y_min, y_max = yy.min(), yy.max()\n",
    "# Fix the ratios\n",
    "sx = (x_max-x_min)\n",
    "sy = (y_max-y_min)\n",
    "if sx > sy:\n",
    "    res_x = sx/float(sy)*res\n",
    "    res_y = res\n",
    "else:\n",
    "    res_x = res\n",
    "    res_y = sy/float(sx)*res"
   ]
  },
  {
   "cell_type": "code",
   "execution_count": 42,
   "metadata": {},
   "outputs": [
    {
     "data": {
      "text/plain": [
       "(8000, 8377.4373466625111)"
      ]
     },
     "execution_count": 42,
     "metadata": {},
     "output_type": "execute_result"
    }
   ],
   "source": [
    "res_x, res_y"
   ]
  },
  {
   "cell_type": "code",
   "execution_count": 43,
   "metadata": {},
   "outputs": [],
   "source": [
    "res_y=res_y.astype(\"int16\")"
   ]
  },
  {
   "cell_type": "code",
   "execution_count": 44,
   "metadata": {},
   "outputs": [
    {
     "data": {
      "text/plain": [
       "(54, 54, 3)"
      ]
     },
     "execution_count": 44,
     "metadata": {},
     "output_type": "execute_result"
    }
   ],
   "source": [
    "images[0].shape"
   ]
  },
  {
   "cell_type": "code",
   "execution_count": 45,
   "metadata": {},
   "outputs": [],
   "source": [
    "canvas = np.ones((res_x+max_width, res_y+max_height, 3))*cval\n",
    "x_coords = np.linspace(x_min, x_max, res_x)\n",
    "y_coords = np.linspace(y_min, y_max, res_y)\n",
    "i = 0\n",
    "for x, y, image in zip(xx, yy, images):\n",
    "    clear_output()\n",
    "    print(\"Creating plot, {0:.2f} % finished\".format(i/19611*100))\n",
    "    i = i + 1\n",
    "    w, h = image.shape[:2]\n",
    "    x_idx = np.argmin((x - x_coords)**2)\n",
    "    y_idx = np.argmin((y - y_coords)**2)\n",
    "    canvas[x_idx:x_idx+w, y_idx:y_idx+h] = image"
   ]
  },
  {
   "cell_type": "code",
   "execution_count": 46,
   "metadata": {},
   "outputs": [],
   "source": [
    "plt.figure(figsize=(400,400))\n",
    "plt.imshow(canvas)\n",
    "plt.savefig('/data/joint_scoring/images/embeddings_regression.png', bbox_inches='tight')"
   ]
  },
  {
   "cell_type": "code",
   "execution_count": null,
   "metadata": {},
   "outputs": [],
   "source": []
  }
 ],
 "metadata": {
  "kernelspec": {
   "display_name": "Python 3",
   "language": "python",
   "name": "python3"
  },
  "language_info": {
   "codemirror_mode": {
    "name": "ipython",
    "version": 3
   },
   "file_extension": ".py",
   "mimetype": "text/x-python",
   "name": "python",
   "nbconvert_exporter": "python",
   "pygments_lexer": "ipython3",
   "version": "3.5.2"
  }
 },
 "nbformat": 4,
 "nbformat_minor": 2
}
