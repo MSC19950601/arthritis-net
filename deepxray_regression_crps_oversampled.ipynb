{
 "cells": [
  {
   "cell_type": "markdown",
   "metadata": {
    "collapsed": true
   },
   "source": [
    "# Automatic scoring of x-ray images"
   ]
  },
  {
   "cell_type": "markdown",
   "metadata": {},
   "source": [
    "Import dependencies"
   ]
  },
  {
   "cell_type": "code",
   "execution_count": 1,
   "metadata": {},
   "outputs": [],
   "source": [
    "import tensorflow as tf\n",
    "import pandas as pd\n",
    "import numpy as np\n",
    "import matplotlib.pyplot as plt\n",
    "import os\n",
    "\n",
    "# PIL to open & manipulate images\n",
    "from PIL import Image, ImageOps, ImageChops\n",
    "\n",
    "# for messages in loops\n",
    "from IPython.display import clear_output\n",
    "\n",
    "# to save arrays\n",
    "import h5py\n",
    "\n",
    "# for folder-timestamp\n",
    "from datetime import datetime\n",
    "\n",
    "# for train/test split\n",
    "from sklearn.model_selection import train_test_split\n",
    "# for one-hot encoding\n",
    "from sklearn.preprocessing import LabelBinarizer\n",
    "# for class weights\n",
    "from sklearn.utils import class_weight\n",
    "# for model evaluation\n",
    "from sklearn.metrics import confusion_matrix, classification_report\n",
    "# for efficient loops\n",
    "import itertools\n",
    "\n",
    "# keras\n",
    "from tensorflow.python.keras import backend as K\n",
    "from tensorflow.python.keras.utils import HDF5Matrix\n",
    "from tensorflow.python.keras.models import Sequential, load_model\n",
    "from tensorflow.python.keras.layers import Conv2D, MaxPooling2D, Flatten, Dense, \\\n",
    "    Dropout, Lambda, Activation, BatchNormalization\n",
    "from tensorflow.python.keras.preprocessing.image import ImageDataGenerator\n",
    "from tensorflow.python.keras import callbacks\n"
   ]
  },
  {
   "cell_type": "markdown",
   "metadata": {},
   "source": [
    "Define image format & random seeds"
   ]
  },
  {
   "cell_type": "code",
   "execution_count": 2,
   "metadata": {},
   "outputs": [],
   "source": [
    "# image format -> (rows, cols, channels)\n",
    "K.set_image_data_format(\"channels_last\")\n",
    "# fix random seed for reproducibility\n",
    "seed = 1\n",
    "np.random.seed(seed)\n",
    "tf.set_random_seed(seed)"
   ]
  },
  {
   "cell_type": "markdown",
   "metadata": {},
   "source": [
    "Import data as HDF5 Matrix"
   ]
  },
  {
   "cell_type": "code",
   "execution_count": 3,
   "metadata": {},
   "outputs": [],
   "source": [
    "# one hot encode labels\n",
    "\n",
    "with h5py.File('/data/joint_scoring/labels_train_combined_regression.h5', 'r') as hf:\n",
    "    labels_train = hf['labels_train_combined_regression'][:]\n",
    "    \n",
    "with h5py.File('/data/joint_scoring/labels_test_regression.h5', 'r') as hf:\n",
    "    labels_test = hf['labels_test_regression'][:]\n",
    "    \n",
    "def cdf(label):\n",
    "    arr = np.zeros(101)\n",
    "    arr[int(label):] = 1\n",
    "    return arr\n",
    "\n",
    "labels_train = [cdf(x) for x in labels_train]\n",
    "labels_test = [cdf(x) for x in labels_test]"
   ]
  },
  {
   "cell_type": "code",
   "execution_count": 4,
   "metadata": {},
   "outputs": [],
   "source": [
    "labels_train = np.array(labels_train)\n",
    "labels_test = np.array(labels_test)"
   ]
  },
  {
   "cell_type": "code",
   "execution_count": 5,
   "metadata": {},
   "outputs": [
    {
     "name": "stdout",
     "output_type": "stream",
     "text": [
      "(210025, 101)\n",
      "(19709, 101)\n"
     ]
    }
   ],
   "source": [
    "print(labels_train.shape)\n",
    "print(labels_test.shape)"
   ]
  },
  {
   "cell_type": "code",
   "execution_count": 6,
   "metadata": {},
   "outputs": [],
   "source": [
    "with h5py.File('/data/joint_scoring/labels_train_combined_regression_cdf.h5', 'w') as hf:\n",
    "    hf.create_dataset(\"labels_train_combined_regression_cdf\",  data=labels_train)\n",
    "    \n",
    "with h5py.File('/data/joint_scoring/labels_test_regression_cdf.h5', 'w') as hf:\n",
    "    hf.create_dataset(\"labels_test_regression_cdf\",  data=labels_test)"
   ]
  },
  {
   "cell_type": "code",
   "execution_count": 7,
   "metadata": {},
   "outputs": [],
   "source": [
    "img_train = HDF5Matrix('/data/joint_scoring/img_train_combined_regression.h5', 'img_train_combined_regression')\n",
    "img_test = HDF5Matrix('/data/joint_scoring/img_test_regression.h5', 'img_test_regression')\n",
    "\n",
    "labels_train = HDF5Matrix('/data/joint_scoring/labels_train_combined_regression_cdf.h5', 'labels_train_combined_regression_cdf')\n",
    "labels_test = HDF5Matrix('/data/joint_scoring/labels_test_regression_cdf.h5', 'labels_test_regression_cdf')"
   ]
  },
  {
   "cell_type": "code",
   "execution_count": 8,
   "metadata": {},
   "outputs": [],
   "source": [
    "def crps(y_true, y_pred):\n",
    "    diff = (y_true - y_pred)\n",
    "    diff_2 = K.square(diff)\n",
    "    loss = K.mean(diff_2)\n",
    "    return loss"
   ]
  },
  {
   "cell_type": "markdown",
   "metadata": {},
   "source": [
    "## 2. Model"
   ]
  },
  {
   "cell_type": "code",
   "execution_count": 13,
   "metadata": {},
   "outputs": [],
   "source": [
    "def conv_model():\n",
    "    # create model\n",
    "    model = Sequential()\n",
    "    model.add(Lambda(lambda x: x / 255., input_shape=(150, 150, 1)))\n",
    "    model.add(Conv2D(filters=32, kernel_size=(3, 3), padding=\"same\", kernel_initializer=\"he_normal\"))\n",
    "    model.add(BatchNormalization())\n",
    "    model.add(Activation(\"relu\"))\n",
    "    model.add(Conv2D(filters=32, kernel_size=(3, 3), padding=\"same\", kernel_initializer=\"he_normal\"))\n",
    "    model.add(BatchNormalization())\n",
    "    model.add(Activation(\"relu\"))\n",
    "    model.add(MaxPooling2D(pool_size=(2, 2)))\n",
    "    model.add(Conv2D(filters=32, kernel_size=(3, 3), padding=\"same\", kernel_initializer=\"he_normal\"))\n",
    "    model.add(BatchNormalization())\n",
    "    model.add(Activation(\"relu\"))\n",
    "    model.add(Conv2D(filters=32, kernel_size=(3, 3), padding=\"same\", kernel_initializer=\"he_normal\"))\n",
    "    model.add(BatchNormalization())\n",
    "    model.add(Activation(\"relu\"))\n",
    "    model.add(MaxPooling2D(pool_size=(2, 2)))\n",
    "    model.add(Conv2D(filters=64, kernel_size=(3, 3), padding=\"same\", kernel_initializer=\"he_normal\"))\n",
    "    model.add(BatchNormalization())\n",
    "    model.add(Activation(\"relu\"))\n",
    "    model.add(Conv2D(filters=64, kernel_size=(3, 3), padding=\"same\", kernel_initializer=\"he_normal\"))\n",
    "    model.add(BatchNormalization())\n",
    "    model.add(Activation(\"relu\"))\n",
    "    model.add(MaxPooling2D(pool_size=(2, 2)))\n",
    "    model.add(Conv2D(filters=64, kernel_size=(3, 3), padding=\"same\", kernel_initializer=\"he_normal\"))\n",
    "    model.add(BatchNormalization())\n",
    "    model.add(Activation(\"relu\"))\n",
    "    model.add(Conv2D(filters=64, kernel_size=(3, 3), padding=\"same\", kernel_initializer=\"he_normal\"))\n",
    "    model.add(BatchNormalization())\n",
    "    model.add(Activation(\"relu\"))\n",
    "    model.add(MaxPooling2D(pool_size=(2, 2)))\n",
    "    model.add(Conv2D(filters=128, kernel_size=(3, 3), padding=\"same\", kernel_initializer=\"he_normal\"))\n",
    "    model.add(BatchNormalization())\n",
    "    model.add(Activation(\"relu\"))\n",
    "    model.add(Conv2D(filters=128, kernel_size=(3, 3), padding=\"same\", kernel_initializer=\"he_normal\"))\n",
    "    model.add(BatchNormalization())\n",
    "    model.add(Activation(\"relu\"))\n",
    "    model.add(MaxPooling2D(pool_size=(2, 2)))\n",
    "    model.add(Conv2D(filters=128, kernel_size=(3, 3), padding=\"same\", kernel_initializer=\"he_normal\"))\n",
    "    model.add(BatchNormalization())\n",
    "    model.add(Activation(\"relu\"))\n",
    "    model.add(Conv2D(filters=128, kernel_size=(3, 3), padding=\"same\", kernel_initializer=\"he_normal\"))\n",
    "    model.add(BatchNormalization())\n",
    "    model.add(Activation(\"relu\"))\n",
    "    model.add(MaxPooling2D(pool_size=(2, 2)))\n",
    "    model.add(Flatten())\n",
    "    model.add(Dense(units=8192, kernel_initializer=\"he_normal\"))\n",
    "    model.add(BatchNormalization())\n",
    "    model.add(Activation(\"relu\"))\n",
    "    model.add(Dropout(rate=0.2))\n",
    "    model.add(Dense(units=4096, kernel_initializer=\"he_normal\"))\n",
    "    model.add(BatchNormalization())\n",
    "    model.add(Activation(\"relu\"))\n",
    "    model.add(Dropout(rate=0.2))\n",
    "    model.add(Dense(units=101, kernel_initializer=\"he_normal\", activation=\"sigmoid\"))\n",
    "\n",
    "    # Compile model\n",
    "    model.compile(optimizer=\"adam\", loss=crps,\n",
    "                  metrics=[crps, \"mae\"])\n",
    "\n",
    "    return model"
   ]
  },
  {
   "cell_type": "code",
   "execution_count": 14,
   "metadata": {},
   "outputs": [
    {
     "name": "stdout",
     "output_type": "stream",
     "text": [
      "_________________________________________________________________\n",
      "Layer (type)                 Output Shape              Param #   \n",
      "=================================================================\n",
      "lambda_1 (Lambda)            (None, 150, 150, 1)       0         \n",
      "_________________________________________________________________\n",
      "conv2d_1 (Conv2D)            (None, 150, 150, 32)      320       \n",
      "_________________________________________________________________\n",
      "batch_normalization_1 (Batch (None, 150, 150, 32)      128       \n",
      "_________________________________________________________________\n",
      "activation_1 (Activation)    (None, 150, 150, 32)      0         \n",
      "_________________________________________________________________\n",
      "conv2d_2 (Conv2D)            (None, 150, 150, 32)      9248      \n",
      "_________________________________________________________________\n",
      "batch_normalization_2 (Batch (None, 150, 150, 32)      128       \n",
      "_________________________________________________________________\n",
      "activation_2 (Activation)    (None, 150, 150, 32)      0         \n",
      "_________________________________________________________________\n",
      "max_pooling2d_1 (MaxPooling2 (None, 75, 75, 32)        0         \n",
      "_________________________________________________________________\n",
      "conv2d_3 (Conv2D)            (None, 75, 75, 32)        9248      \n",
      "_________________________________________________________________\n",
      "batch_normalization_3 (Batch (None, 75, 75, 32)        128       \n",
      "_________________________________________________________________\n",
      "activation_3 (Activation)    (None, 75, 75, 32)        0         \n",
      "_________________________________________________________________\n",
      "conv2d_4 (Conv2D)            (None, 75, 75, 32)        9248      \n",
      "_________________________________________________________________\n",
      "batch_normalization_4 (Batch (None, 75, 75, 32)        128       \n",
      "_________________________________________________________________\n",
      "activation_4 (Activation)    (None, 75, 75, 32)        0         \n",
      "_________________________________________________________________\n",
      "max_pooling2d_2 (MaxPooling2 (None, 37, 37, 32)        0         \n",
      "_________________________________________________________________\n",
      "conv2d_5 (Conv2D)            (None, 37, 37, 64)        18496     \n",
      "_________________________________________________________________\n",
      "batch_normalization_5 (Batch (None, 37, 37, 64)        256       \n",
      "_________________________________________________________________\n",
      "activation_5 (Activation)    (None, 37, 37, 64)        0         \n",
      "_________________________________________________________________\n",
      "conv2d_6 (Conv2D)            (None, 37, 37, 64)        36928     \n",
      "_________________________________________________________________\n",
      "batch_normalization_6 (Batch (None, 37, 37, 64)        256       \n",
      "_________________________________________________________________\n",
      "activation_6 (Activation)    (None, 37, 37, 64)        0         \n",
      "_________________________________________________________________\n",
      "max_pooling2d_3 (MaxPooling2 (None, 18, 18, 64)        0         \n",
      "_________________________________________________________________\n",
      "conv2d_7 (Conv2D)            (None, 18, 18, 64)        36928     \n",
      "_________________________________________________________________\n",
      "batch_normalization_7 (Batch (None, 18, 18, 64)        256       \n",
      "_________________________________________________________________\n",
      "activation_7 (Activation)    (None, 18, 18, 64)        0         \n",
      "_________________________________________________________________\n",
      "conv2d_8 (Conv2D)            (None, 18, 18, 64)        36928     \n",
      "_________________________________________________________________\n",
      "batch_normalization_8 (Batch (None, 18, 18, 64)        256       \n",
      "_________________________________________________________________\n",
      "activation_8 (Activation)    (None, 18, 18, 64)        0         \n",
      "_________________________________________________________________\n",
      "max_pooling2d_4 (MaxPooling2 (None, 9, 9, 64)          0         \n",
      "_________________________________________________________________\n",
      "conv2d_9 (Conv2D)            (None, 9, 9, 128)         73856     \n",
      "_________________________________________________________________\n",
      "batch_normalization_9 (Batch (None, 9, 9, 128)         512       \n",
      "_________________________________________________________________\n",
      "activation_9 (Activation)    (None, 9, 9, 128)         0         \n",
      "_________________________________________________________________\n",
      "conv2d_10 (Conv2D)           (None, 9, 9, 128)         147584    \n",
      "_________________________________________________________________\n",
      "batch_normalization_10 (Batc (None, 9, 9, 128)         512       \n",
      "_________________________________________________________________\n",
      "activation_10 (Activation)   (None, 9, 9, 128)         0         \n",
      "_________________________________________________________________\n",
      "max_pooling2d_5 (MaxPooling2 (None, 4, 4, 128)         0         \n",
      "_________________________________________________________________\n",
      "conv2d_11 (Conv2D)           (None, 4, 4, 128)         147584    \n",
      "_________________________________________________________________\n",
      "batch_normalization_11 (Batc (None, 4, 4, 128)         512       \n",
      "_________________________________________________________________\n",
      "activation_11 (Activation)   (None, 4, 4, 128)         0         \n",
      "_________________________________________________________________\n",
      "conv2d_12 (Conv2D)           (None, 4, 4, 128)         147584    \n",
      "_________________________________________________________________\n",
      "batch_normalization_12 (Batc (None, 4, 4, 128)         512       \n",
      "_________________________________________________________________\n",
      "activation_12 (Activation)   (None, 4, 4, 128)         0         \n",
      "_________________________________________________________________\n",
      "max_pooling2d_6 (MaxPooling2 (None, 2, 2, 128)         0         \n",
      "_________________________________________________________________\n",
      "flatten_1 (Flatten)          (None, 512)               0         \n",
      "_________________________________________________________________\n",
      "dense_1 (Dense)              (None, 8192)              4202496   \n",
      "_________________________________________________________________\n",
      "batch_normalization_13 (Batc (None, 8192)              32768     \n",
      "_________________________________________________________________\n",
      "activation_13 (Activation)   (None, 8192)              0         \n",
      "_________________________________________________________________\n",
      "dropout_1 (Dropout)          (None, 8192)              0         \n",
      "_________________________________________________________________\n",
      "dense_2 (Dense)              (None, 4096)              33558528  \n",
      "_________________________________________________________________\n",
      "batch_normalization_14 (Batc (None, 4096)              16384     \n",
      "_________________________________________________________________\n",
      "activation_14 (Activation)   (None, 4096)              0         \n",
      "_________________________________________________________________\n",
      "dropout_2 (Dropout)          (None, 4096)              0         \n",
      "_________________________________________________________________\n",
      "dense_3 (Dense)              (None, 101)               413797    \n",
      "=================================================================\n",
      "Total params: 38,901,509\n",
      "Trainable params: 38,875,141\n",
      "Non-trainable params: 26,368\n",
      "_________________________________________________________________\n"
     ]
    }
   ],
   "source": [
    "# build the model\n",
    "model = conv_model()\n",
    "model.summary()"
   ]
  },
  {
   "cell_type": "code",
   "execution_count": 15,
   "metadata": {},
   "outputs": [],
   "source": [
    "# create log directory\n",
    "now = datetime.now\n",
    "new_folder = '{}'.format(now().strftime('%Y%m%d_%H%M%S'))"
   ]
  },
  {
   "cell_type": "code",
   "execution_count": 16,
   "metadata": {},
   "outputs": [
    {
     "name": "stdout",
     "output_type": "stream",
     "text": [
      "20171104_172910\n"
     ]
    }
   ],
   "source": [
    "print(new_folder)"
   ]
  },
  {
   "cell_type": "code",
   "execution_count": 17,
   "metadata": {},
   "outputs": [],
   "source": [
    "desc = \"Regression model with CRPS on oversampled data\"\n",
    "\n",
    "with open(\"/data/joint_scoring/readme.txt\", \"a\") as myfile:\n",
    "    myfile.write(\"\\n\" + new_folder + \"    \" + desc)"
   ]
  },
  {
   "cell_type": "code",
   "execution_count": 18,
   "metadata": {},
   "outputs": [],
   "source": [
    "# tensorboard callback\n",
    "tb_callback = callbacks.TensorBoard(log_dir=\"/data/joint_scoring/tensorboard/\" + new_folder,\n",
    "                                    histogram_freq=0, write_graph=True,\n",
    "                                    write_images=True)"
   ]
  },
  {
   "cell_type": "code",
   "execution_count": 19,
   "metadata": {
    "scrolled": false
   },
   "outputs": [
    {
     "name": "stdout",
     "output_type": "stream",
     "text": [
      "Train on 210025 samples, validate on 19709 samples\n",
      "Epoch 1/25\n",
      "210025/210025 [==============================] - 611s - loss: 0.1021 - crps: 0.1021 - mean_absolute_error: 0.1969 - val_loss: 0.0341 - val_crps: 0.0341 - val_mean_absolute_error: 0.0732\n",
      "Epoch 2/25\n",
      "210025/210025 [==============================] - 609s - loss: 0.0850 - crps: 0.0850 - mean_absolute_error: 0.1670 - val_loss: 0.0308 - val_crps: 0.0308 - val_mean_absolute_error: 0.0520\n",
      "Epoch 3/25\n",
      "210025/210025 [==============================] - 606s - loss: 0.0753 - crps: 0.0753 - mean_absolute_error: 0.1486 - val_loss: 0.0283 - val_crps: 0.0283 - val_mean_absolute_error: 0.0505\n",
      "Epoch 4/25\n",
      "210025/210025 [==============================] - 606s - loss: 0.0678 - crps: 0.0678 - mean_absolute_error: 0.1339 - val_loss: 0.0303 - val_crps: 0.0303 - val_mean_absolute_error: 0.0578\n",
      "Epoch 5/25\n",
      "210025/210025 [==============================] - 603s - loss: 0.0619 - crps: 0.0619 - mean_absolute_error: 0.1220 - val_loss: 0.0278 - val_crps: 0.0278 - val_mean_absolute_error: 0.0514\n",
      "Epoch 6/25\n",
      "210025/210025 [==============================] - 605s - loss: 0.0564 - crps: 0.0564 - mean_absolute_error: 0.1111 - val_loss: 0.0345 - val_crps: 0.0345 - val_mean_absolute_error: 0.0700\n",
      "Epoch 7/25\n",
      "210025/210025 [==============================] - 607s - loss: 0.0520 - crps: 0.0520 - mean_absolute_error: 0.1020 - val_loss: 0.0272 - val_crps: 0.0272 - val_mean_absolute_error: 0.0468\n",
      "Epoch 8/25\n",
      "210025/210025 [==============================] - 605s - loss: 0.0477 - crps: 0.0477 - mean_absolute_error: 0.0933 - val_loss: 0.0285 - val_crps: 0.0285 - val_mean_absolute_error: 0.0412\n",
      "Epoch 9/25\n",
      "210025/210025 [==============================] - 605s - loss: 0.0442 - crps: 0.0442 - mean_absolute_error: 0.0863 - val_loss: 0.0272 - val_crps: 0.0272 - val_mean_absolute_error: 0.0451\n",
      "Epoch 10/25\n",
      "210025/210025 [==============================] - 606s - loss: 0.0408 - crps: 0.0408 - mean_absolute_error: 0.0795 - val_loss: 0.0279 - val_crps: 0.0279 - val_mean_absolute_error: 0.0441\n",
      "Epoch 11/25\n",
      "210025/210025 [==============================] - 607s - loss: 0.0381 - crps: 0.0381 - mean_absolute_error: 0.0738 - val_loss: 0.0279 - val_crps: 0.0279 - val_mean_absolute_error: 0.0432\n",
      "Epoch 12/25\n",
      "210025/210025 [==============================] - 606s - loss: 0.0352 - crps: 0.0352 - mean_absolute_error: 0.0681 - val_loss: 0.0293 - val_crps: 0.0293 - val_mean_absolute_error: 0.0510\n",
      "Epoch 13/25\n",
      "210025/210025 [==============================] - 605s - loss: 0.0330 - crps: 0.0330 - mean_absolute_error: 0.0636 - val_loss: 0.0293 - val_crps: 0.0293 - val_mean_absolute_error: 0.0482\n",
      "Epoch 14/25\n",
      "210025/210025 [==============================] - 605s - loss: 0.0307 - crps: 0.0307 - mean_absolute_error: 0.0592 - val_loss: 0.0290 - val_crps: 0.0290 - val_mean_absolute_error: 0.0428\n",
      "Epoch 15/25\n",
      "210025/210025 [==============================] - 606s - loss: 0.0286 - crps: 0.0286 - mean_absolute_error: 0.0550 - val_loss: 0.0336 - val_crps: 0.0336 - val_mean_absolute_error: 0.0532\n",
      "Epoch 16/25\n",
      "210025/210025 [==============================] - 607s - loss: 0.0269 - crps: 0.0269 - mean_absolute_error: 0.0514 - val_loss: 0.0280 - val_crps: 0.0280 - val_mean_absolute_error: 0.0429\n",
      "Epoch 17/25\n",
      "210025/210025 [==============================] - 607s - loss: 0.0254 - crps: 0.0254 - mean_absolute_error: 0.0484 - val_loss: 0.0289 - val_crps: 0.0289 - val_mean_absolute_error: 0.0457\n",
      "Epoch 18/25\n",
      "210025/210025 [==============================] - 604s - loss: 0.0236 - crps: 0.0236 - mean_absolute_error: 0.0449 - val_loss: 0.0294 - val_crps: 0.0294 - val_mean_absolute_error: 0.0459\n",
      "Epoch 19/25\n",
      "210025/210025 [==============================] - 607s - loss: 0.0220 - crps: 0.0220 - mean_absolute_error: 0.0419 - val_loss: 0.0298 - val_crps: 0.0298 - val_mean_absolute_error: 0.0427\n",
      "Epoch 20/25\n",
      "210025/210025 [==============================] - 604s - loss: 0.0208 - crps: 0.0208 - mean_absolute_error: 0.0395 - val_loss: 0.0313 - val_crps: 0.0313 - val_mean_absolute_error: 0.0479\n",
      "Epoch 21/25\n",
      "210025/210025 [==============================] - 607s - loss: 0.0198 - crps: 0.0198 - mean_absolute_error: 0.0375 - val_loss: 0.0300 - val_crps: 0.0300 - val_mean_absolute_error: 0.0436\n",
      "Epoch 22/25\n",
      "210025/210025 [==============================] - 606s - loss: 0.0184 - crps: 0.0184 - mean_absolute_error: 0.0347 - val_loss: 0.0295 - val_crps: 0.0295 - val_mean_absolute_error: 0.0418\n",
      "Epoch 23/25\n",
      "210025/210025 [==============================] - 607s - loss: 0.0174 - crps: 0.0174 - mean_absolute_error: 0.0326 - val_loss: 0.0303 - val_crps: 0.0303 - val_mean_absolute_error: 0.0399\n",
      "Epoch 24/25\n",
      "210025/210025 [==============================] - 605s - loss: 0.0166 - crps: 0.0166 - mean_absolute_error: 0.0311 - val_loss: 0.0320 - val_crps: 0.0320 - val_mean_absolute_error: 0.0470\n",
      "Epoch 25/25\n",
      "210025/210025 [==============================] - 604s - loss: 0.0154 - crps: 0.0154 - mean_absolute_error: 0.0289 - val_loss: 0.0304 - val_crps: 0.0304 - val_mean_absolute_error: 0.0424\n"
     ]
    },
    {
     "data": {
      "text/plain": [
       "<tensorflow.python.keras._impl.keras.callbacks.History at 0x7f45c973bd30>"
      ]
     },
     "execution_count": 19,
     "metadata": {},
     "output_type": "execute_result"
    }
   ],
   "source": [
    "# Fit the model\n",
    "model.fit(x=img_train, y=labels_train, batch_size=100, epochs=25, verbose=1,\n",
    "          callbacks=[tb_callback], validation_data=(img_test, labels_test),\n",
    "          shuffle=\"batch\")"
   ]
  },
  {
   "cell_type": "code",
   "execution_count": 20,
   "metadata": {},
   "outputs": [
    {
     "name": "stdout",
     "output_type": "stream",
     "text": [
      "[0.030357313818851196, 0.030357313818851196, 0.04236455840337941]\n"
     ]
    }
   ],
   "source": [
    "# Final evaluation of the model\n",
    "scores = model.evaluate(img_test, labels_test, verbose=0)\n",
    "print(scores)"
   ]
  },
  {
   "cell_type": "code",
   "execution_count": 21,
   "metadata": {},
   "outputs": [],
   "source": [
    "# Save the model\n",
    "model.save(\"/data/joint_scoring/models/\" + new_folder + \".h5\")"
   ]
  },
  {
   "cell_type": "code",
   "execution_count": 9,
   "metadata": {},
   "outputs": [],
   "source": [
    "model = load_model(\"/data/joint_scoring/models/20171104_172910.h5\", custom_objects={\"crps\":crps})"
   ]
  },
  {
   "cell_type": "code",
   "execution_count": 10,
   "metadata": {},
   "outputs": [
    {
     "name": "stdout",
     "output_type": "stream",
     "text": [
      "19709/19709 [==============================] - 12s    \n"
     ]
    }
   ],
   "source": [
    "from sklearn.metrics import classification_report\n",
    "p = model.predict_proba(img_test)"
   ]
  },
  {
   "cell_type": "code",
   "execution_count": 11,
   "metadata": {},
   "outputs": [],
   "source": [
    "labels_test_reg = HDF5Matrix('/data/joint_scoring/labels_test_regression.h5', 'labels_test_regression')\n"
   ]
  },
  {
   "cell_type": "code",
   "execution_count": 12,
   "metadata": {},
   "outputs": [
    {
     "data": {
      "image/png": "[encoded data removed]",
      "text/plain": [
       "<matplotlib.figure.Figure at 0x7f19654fb3c8>"
      ]
     },
     "metadata": {},
     "output_type": "display_data"
    },
    {
     "name": "stdout",
     "output_type": "stream",
     "text": [
      "4.8008774519\n"
     ]
    }
   ],
   "source": [
    "idx = 3\n",
    "\n",
    "# see proof here: https://stats.stackexchange.com/questions/10159/find-expected-value-using-cdf\n",
    "ex = sum(1 - p[idx])\n",
    "\n",
    "plt.scatter(x=range(101), y=p[idx].tolist(), color = \"blue\") # cdf predictions\n",
    "\n",
    "plt.plot((ex, ex), (0, 1), 'k-', color = \"red\") # expected value of prediction\n",
    "plt.plot((labels_test_reg[idx], labels_test_reg[idx]), (0, 1), 'k-', color = \"green\") # true value\n",
    "\n",
    "plt.show()\n",
    "\n",
    "print(ex)"
   ]
  },
  {
   "cell_type": "code",
   "execution_count": 13,
   "metadata": {},
   "outputs": [],
   "source": [
    "pred = np.zeros(p.shape[0])\n",
    "\n",
    "for i in range(p.shape[0]):\n",
    "    pred[i] = sum(1 - p[i])"
   ]
  },
  {
   "cell_type": "code",
   "execution_count": 14,
   "metadata": {},
   "outputs": [
    {
     "data": {
      "image/png": "[encoded data removed]",
      "text/plain": [
       "<matplotlib.figure.Figure at 0x7f19658fcb70>"
      ]
     },
     "metadata": {},
     "output_type": "display_data"
    }
   ],
   "source": [
    "plt.title(\"True vs Predicted\")\n",
    "plt.xlabel('Predicted label')\n",
    "plt.ylabel('True label')\n",
    "plt.scatter(x=pred, y=labels_test_reg, color=\"blue\", alpha=0.1)\n",
    "\n",
    "plt.show()"
   ]
  },
  {
   "cell_type": "code",
   "execution_count": 15,
   "metadata": {},
   "outputs": [
    {
     "data": {
      "image/png": "[encoded data removed]",
      "text/plain": [
       "<matplotlib.figure.Figure at 0x7f19658fc908>"
      ]
     },
     "metadata": {},
     "output_type": "display_data"
    }
   ],
   "source": [
    "plt.xlabel('Predicted label')\n",
    "plt.ylabel('True label')\n",
    "image = plt.hexbin(x=pred, y=labels_test_reg, gridsize=20, bins=\"log\", cmap=plt.cm.Spectral_r)\n",
    "cb = plt.colorbar(image)\n",
    "cb.set_label('log10(N)')\n",
    "plt.show()"
   ]
  },
  {
   "cell_type": "code",
   "execution_count": 27,
   "metadata": {},
   "outputs": [],
   "source": [
    "from sklearn.metrics import mean_absolute_error, mean_squared_error, r2_score"
   ]
  },
  {
   "cell_type": "code",
   "execution_count": 28,
   "metadata": {},
   "outputs": [
    {
     "data": {
      "text/plain": [
       "4.0570096333819601"
      ]
     },
     "execution_count": 28,
     "metadata": {},
     "output_type": "execute_result"
    }
   ],
   "source": [
    "mean_absolute_error(y_true=labels_test_reg, y_pred=pred)"
   ]
  },
  {
   "cell_type": "code",
   "execution_count": 29,
   "metadata": {},
   "outputs": [
    {
     "data": {
      "text/plain": [
       "94.487658818672543"
      ]
     },
     "execution_count": 29,
     "metadata": {},
     "output_type": "execute_result"
    }
   ],
   "source": [
    "mean_squared_error(y_true=labels_test_reg, y_pred=pred)"
   ]
  },
  {
   "cell_type": "code",
   "execution_count": 30,
   "metadata": {},
   "outputs": [
    {
     "data": {
      "text/plain": [
       "0.54909896995241014"
      ]
     },
     "execution_count": 30,
     "metadata": {},
     "output_type": "execute_result"
    }
   ],
   "source": [
    "r2_score(y_true=labels_test_reg, y_pred=pred)"
   ]
  },
  {
   "cell_type": "code",
   "execution_count": 31,
   "metadata": {},
   "outputs": [],
   "source": [
    "from nbconvert import HTMLExporter\n",
    "import codecs\n",
    "import nbformat\n",
    "exporter = HTMLExporter()\n",
    "output_notebook = nbformat.read('deepxray_regression_crps_oversampled.ipynb', as_version=4)\n",
    "output, resources = exporter.from_notebook_node(output_notebook)\n",
    "codecs.open(\"/data/joint_scoring/notebooks/\" + new_folder + \".html\", 'w', encoding='utf-8').write(output)"
   ]
  },
  {
   "cell_type": "code",
   "execution_count": null,
   "metadata": {
    "collapsed": true
   },
   "outputs": [],
   "source": []
  }
 ],
 "metadata": {
  "kernelspec": {
   "display_name": "Python 3",
   "language": "python",
   "name": "python3"
  },
  "language_info": {
   "codemirror_mode": {
    "name": "ipython",
    "version": 3
   },
   "file_extension": ".py",
   "mimetype": "text/x-python",
   "name": "python",
   "nbconvert_exporter": "python",
   "pygments_lexer": "ipython3",
   "version": "3.5.2"
  }
 },
 "nbformat": 4,
 "nbformat_minor": 1
}
