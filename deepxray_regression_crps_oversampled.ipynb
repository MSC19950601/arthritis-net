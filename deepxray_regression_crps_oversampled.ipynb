{
 "cells": [
  {
   "cell_type": "markdown",
   "metadata": {
    "collapsed": true
   },
   "source": [
    "# Automatic scoring of x-ray images"
   ]
  },
  {
   "cell_type": "markdown",
   "metadata": {},
   "source": [
    "Import dependencies"
   ]
  },
  {
   "cell_type": "code",
   "execution_count": 1,
   "metadata": {
    "collapsed": true
   },
   "outputs": [],
   "source": [
    "import tensorflow as tf\n",
    "import pandas as pd\n",
    "import numpy as np\n",
    "import matplotlib.pyplot as plt\n",
    "import os\n",
    "\n",
    "# PIL to open & manipulate images\n",
    "from PIL import Image, ImageOps, ImageChops\n",
    "\n",
    "# for messages in loops\n",
    "from IPython.display import clear_output\n",
    "\n",
    "# to save arrays\n",
    "import h5py\n",
    "\n",
    "# for folder-timestamp\n",
    "from datetime import datetime\n",
    "\n",
    "# for train/test split\n",
    "from sklearn.model_selection import train_test_split\n",
    "# for one-hot encoding\n",
    "from sklearn.preprocessing import LabelBinarizer\n",
    "# for class weights\n",
    "from sklearn.utils import class_weight\n",
    "# for model evaluation\n",
    "from sklearn.metrics import confusion_matrix, classification_report\n",
    "# for efficient loops\n",
    "import itertools\n",
    "\n",
    "# keras\n",
    "from tensorflow.contrib.keras.python.keras import backend as K\n",
    "from tensorflow.contrib.keras.python.keras.utils.io_utils import HDF5Matrix\n",
    "from tensorflow.contrib.keras.python.keras.models import Sequential\n",
    "from tensorflow.contrib.keras.python.keras.layers import Conv2D, MaxPooling2D, Flatten, Dense, Dropout, Lambda, Activation\n",
    "from tensorflow.contrib.keras.python.keras.layers.normalization import BatchNormalization\n",
    "from tensorflow.contrib.keras.python.keras.preprocessing.image import ImageDataGenerator\n",
    "from tensorflow.contrib.keras.python.keras import callbacks\n"
   ]
  },
  {
   "cell_type": "markdown",
   "metadata": {},
   "source": [
    "Define image format & random seeds"
   ]
  },
  {
   "cell_type": "code",
   "execution_count": 2,
   "metadata": {
    "collapsed": true
   },
   "outputs": [],
   "source": [
    "# image format -> (rows, cols, channels)\n",
    "K.set_image_data_format(\"channels_last\")\n",
    "# fix random seed for reproducibility\n",
    "seed = 1\n",
    "np.random.seed(seed)\n",
    "tf.set_random_seed(seed)"
   ]
  },
  {
   "cell_type": "markdown",
   "metadata": {},
   "source": [
    "Import data as HDF5 Matrix"
   ]
  },
  {
   "cell_type": "code",
   "execution_count": 5,
   "metadata": {
    "collapsed": true
   },
   "outputs": [],
   "source": [
    "# one hot encode labels\n",
    "\n",
    "with h5py.File('/data/joint_scoring/labels_train_combined_regression.h5', 'r') as hf:\n",
    "    labels_train = hf['labels_train_combined_regression'][:]\n",
    "    \n",
    "with h5py.File('/data/joint_scoring/labels_test_regression.h5', 'r') as hf:\n",
    "    labels_test = hf['labels_test_regression'][:]\n",
    "    \n",
    "def cdf(label):\n",
    "    arr = np.zeros(101)\n",
    "    arr[int(label):] = 1\n",
    "    return arr\n",
    "\n",
    "labels_train = [cdf(x) for x in labels_train]\n",
    "labels_test = [cdf(x) for x in labels_test]"
   ]
  },
  {
   "cell_type": "code",
   "execution_count": 8,
   "metadata": {
    "collapsed": true
   },
   "outputs": [],
   "source": [
    "labels_train = np.array(labels_train)\n",
    "labels_test = np.array(labels_test)"
   ]
  },
  {
   "cell_type": "code",
   "execution_count": 10,
   "metadata": {},
   "outputs": [
    {
     "name": "stdout",
     "output_type": "stream",
     "text": [
      "(210025, 101)\n",
      "(19709, 101)\n"
     ]
    }
   ],
   "source": [
    "print(labels_train.shape)\n",
    "print(labels_test.shape)"
   ]
  },
  {
   "cell_type": "code",
   "execution_count": 11,
   "metadata": {
    "collapsed": true
   },
   "outputs": [],
   "source": [
    "with h5py.File('/data/joint_scoring/labels_train_combined_regression_cdf.h5', 'w') as hf:\n",
    "    hf.create_dataset(\"labels_train_combined_regression_cdf\",  data=labels_train)\n",
    "    \n",
    "with h5py.File('/data/joint_scoring/labels_test_regression_cdf.h5', 'w') as hf:\n",
    "    hf.create_dataset(\"labels_test_regression_cdf\",  data=labels_test)"
   ]
  },
  {
   "cell_type": "code",
   "execution_count": 12,
   "metadata": {
    "collapsed": true
   },
   "outputs": [],
   "source": [
    "img_train = HDF5Matrix('/data/joint_scoring/img_train_combined_regression.h5', 'img_train_combined_regression')\n",
    "img_test = HDF5Matrix('/data/joint_scoring/img_test_regression.h5', 'img_test_regression')\n",
    "\n",
    "labels_train = HDF5Matrix('/data/joint_scoring/labels_train_combined_regression_cdf.h5', 'labels_train_combined_regression_cdf')\n",
    "labels_test = HDF5Matrix('/data/joint_scoring/labels_test_regression_cdf.h5', 'labels_test_regression_cdf')"
   ]
  },
  {
   "cell_type": "code",
   "execution_count": 13,
   "metadata": {
    "collapsed": true
   },
   "outputs": [],
   "source": [
    "def crps(y_true, y_pred):\n",
    "    diff = (y_true - y_pred)\n",
    "    diff_2 = diff * diff\n",
    "    div = diff_2 / K.ndim(y_true)\n",
    "    loss = K.sum(div)\n",
    "    return loss"
   ]
  },
  {
   "cell_type": "markdown",
   "metadata": {},
   "source": [
    "## 2. Model"
   ]
  },
  {
   "cell_type": "code",
   "execution_count": 28,
   "metadata": {
    "collapsed": true
   },
   "outputs": [],
   "source": [
    "def conv_model():\n",
    "    # create model\n",
    "    model = Sequential()\n",
    "    model.add(Lambda(lambda x: x / 255., input_shape=(150, 150, 1)))\n",
    "    model.add(Conv2D(filters=32, kernel_size=(3, 3), padding=\"same\", kernel_initializer=\"he_normal\"))\n",
    "    model.add(BatchNormalization())\n",
    "    model.add(Activation(\"relu\"))\n",
    "    model.add(Conv2D(filters=32, kernel_size=(3, 3), padding=\"same\", kernel_initializer=\"he_normal\"))\n",
    "    model.add(BatchNormalization())\n",
    "    model.add(Activation(\"relu\"))\n",
    "    model.add(MaxPooling2D(pool_size=(2, 2)))\n",
    "    model.add(Conv2D(filters=32, kernel_size=(3, 3), padding=\"same\", kernel_initializer=\"he_normal\"))\n",
    "    model.add(BatchNormalization())\n",
    "    model.add(Activation(\"relu\"))\n",
    "    model.add(Conv2D(filters=32, kernel_size=(3, 3), padding=\"same\", kernel_initializer=\"he_normal\"))\n",
    "    model.add(BatchNormalization())\n",
    "    model.add(Activation(\"relu\"))\n",
    "    model.add(MaxPooling2D(pool_size=(2, 2)))\n",
    "    model.add(Conv2D(filters=64, kernel_size=(3, 3), padding=\"same\", kernel_initializer=\"he_normal\"))\n",
    "    model.add(BatchNormalization())\n",
    "    model.add(Activation(\"relu\"))\n",
    "    model.add(Conv2D(filters=64, kernel_size=(3, 3), padding=\"same\", kernel_initializer=\"he_normal\"))\n",
    "    model.add(BatchNormalization())\n",
    "    model.add(Activation(\"relu\"))\n",
    "    model.add(MaxPooling2D(pool_size=(2, 2)))\n",
    "    model.add(Conv2D(filters=64, kernel_size=(3, 3), padding=\"same\", kernel_initializer=\"he_normal\"))\n",
    "    model.add(BatchNormalization())\n",
    "    model.add(Activation(\"relu\"))\n",
    "    model.add(Conv2D(filters=64, kernel_size=(3, 3), padding=\"same\", kernel_initializer=\"he_normal\"))\n",
    "    model.add(BatchNormalization())\n",
    "    model.add(Activation(\"relu\"))\n",
    "    model.add(MaxPooling2D(pool_size=(2, 2)))\n",
    "    model.add(Conv2D(filters=128, kernel_size=(3, 3), padding=\"same\", kernel_initializer=\"he_normal\"))\n",
    "    model.add(BatchNormalization())\n",
    "    model.add(Activation(\"relu\"))\n",
    "    model.add(Conv2D(filters=128, kernel_size=(3, 3), padding=\"same\", kernel_initializer=\"he_normal\"))\n",
    "    model.add(BatchNormalization())\n",
    "    model.add(Activation(\"relu\"))\n",
    "    model.add(MaxPooling2D(pool_size=(2, 2)))\n",
    "    model.add(Conv2D(filters=128, kernel_size=(3, 3), padding=\"same\", kernel_initializer=\"he_normal\"))\n",
    "    model.add(BatchNormalization())\n",
    "    model.add(Activation(\"relu\"))\n",
    "    model.add(Conv2D(filters=128, kernel_size=(3, 3), padding=\"same\", kernel_initializer=\"he_normal\"))\n",
    "    model.add(BatchNormalization())\n",
    "    model.add(Activation(\"relu\"))\n",
    "    model.add(MaxPooling2D(pool_size=(2, 2)))\n",
    "    model.add(Flatten())\n",
    "    model.add(Dense(units=256, kernel_initializer=\"he_normal\"))\n",
    "    model.add(BatchNormalization())\n",
    "    model.add(Activation(\"relu\"))\n",
    "    model.add(Dropout(rate=0.5))\n",
    "    model.add(Dense(units=256, kernel_initializer=\"he_normal\"))\n",
    "    model.add(BatchNormalization())\n",
    "    model.add(Activation(\"relu\"))\n",
    "    model.add(Dropout(rate=0.5))\n",
    "    model.add(Dense(units=101, kernel_initializer=\"he_normal\", activation=\"softmax\"))\n",
    "\n",
    "    # Compile model\n",
    "    model.compile(optimizer=\"adam\", loss=crps,\n",
    "                  metrics=['mae', 'acc'])\n",
    "\n",
    "    return model"
   ]
  },
  {
   "cell_type": "code",
   "execution_count": 29,
   "metadata": {},
   "outputs": [
    {
     "name": "stdout",
     "output_type": "stream",
     "text": [
      "_________________________________________________________________\n",
      "Layer (type)                 Output Shape              Param #   \n",
      "=================================================================\n",
      "lambda_3 (Lambda)            (None, 150, 150, 1)       0         \n",
      "_________________________________________________________________\n",
      "conv2d_25 (Conv2D)           (None, 150, 150, 32)      320       \n",
      "_________________________________________________________________\n",
      "batch_normalization_29 (Batc (None, 150, 150, 32)      128       \n",
      "_________________________________________________________________\n",
      "activation_29 (Activation)   (None, 150, 150, 32)      0         \n",
      "_________________________________________________________________\n",
      "conv2d_26 (Conv2D)           (None, 150, 150, 32)      9248      \n",
      "_________________________________________________________________\n",
      "batch_normalization_30 (Batc (None, 150, 150, 32)      128       \n",
      "_________________________________________________________________\n",
      "activation_30 (Activation)   (None, 150, 150, 32)      0         \n",
      "_________________________________________________________________\n",
      "max_pooling2d_13 (MaxPooling (None, 75, 75, 32)        0         \n",
      "_________________________________________________________________\n",
      "conv2d_27 (Conv2D)           (None, 75, 75, 32)        9248      \n",
      "_________________________________________________________________\n",
      "batch_normalization_31 (Batc (None, 75, 75, 32)        128       \n",
      "_________________________________________________________________\n",
      "activation_31 (Activation)   (None, 75, 75, 32)        0         \n",
      "_________________________________________________________________\n",
      "conv2d_28 (Conv2D)           (None, 75, 75, 32)        9248      \n",
      "_________________________________________________________________\n",
      "batch_normalization_32 (Batc (None, 75, 75, 32)        128       \n",
      "_________________________________________________________________\n",
      "activation_32 (Activation)   (None, 75, 75, 32)        0         \n",
      "_________________________________________________________________\n",
      "max_pooling2d_14 (MaxPooling (None, 37, 37, 32)        0         \n",
      "_________________________________________________________________\n",
      "conv2d_29 (Conv2D)           (None, 37, 37, 64)        18496     \n",
      "_________________________________________________________________\n",
      "batch_normalization_33 (Batc (None, 37, 37, 64)        256       \n",
      "_________________________________________________________________\n",
      "activation_33 (Activation)   (None, 37, 37, 64)        0         \n",
      "_________________________________________________________________\n",
      "conv2d_30 (Conv2D)           (None, 37, 37, 64)        36928     \n",
      "_________________________________________________________________\n",
      "batch_normalization_34 (Batc (None, 37, 37, 64)        256       \n",
      "_________________________________________________________________\n",
      "activation_34 (Activation)   (None, 37, 37, 64)        0         \n",
      "_________________________________________________________________\n",
      "max_pooling2d_15 (MaxPooling (None, 18, 18, 64)        0         \n",
      "_________________________________________________________________\n",
      "conv2d_31 (Conv2D)           (None, 18, 18, 64)        36928     \n",
      "_________________________________________________________________\n",
      "batch_normalization_35 (Batc (None, 18, 18, 64)        256       \n",
      "_________________________________________________________________\n",
      "activation_35 (Activation)   (None, 18, 18, 64)        0         \n",
      "_________________________________________________________________\n",
      "conv2d_32 (Conv2D)           (None, 18, 18, 64)        36928     \n",
      "_________________________________________________________________\n",
      "batch_normalization_36 (Batc (None, 18, 18, 64)        256       \n",
      "_________________________________________________________________\n",
      "activation_36 (Activation)   (None, 18, 18, 64)        0         \n",
      "_________________________________________________________________\n",
      "max_pooling2d_16 (MaxPooling (None, 9, 9, 64)          0         \n",
      "_________________________________________________________________\n",
      "conv2d_33 (Conv2D)           (None, 9, 9, 128)         73856     \n",
      "_________________________________________________________________\n",
      "batch_normalization_37 (Batc (None, 9, 9, 128)         512       \n",
      "_________________________________________________________________\n",
      "activation_37 (Activation)   (None, 9, 9, 128)         0         \n",
      "_________________________________________________________________\n",
      "conv2d_34 (Conv2D)           (None, 9, 9, 128)         147584    \n",
      "_________________________________________________________________\n",
      "batch_normalization_38 (Batc (None, 9, 9, 128)         512       \n",
      "_________________________________________________________________\n",
      "activation_38 (Activation)   (None, 9, 9, 128)         0         \n",
      "_________________________________________________________________\n",
      "max_pooling2d_17 (MaxPooling (None, 4, 4, 128)         0         \n",
      "_________________________________________________________________\n",
      "conv2d_35 (Conv2D)           (None, 4, 4, 128)         147584    \n",
      "_________________________________________________________________\n",
      "batch_normalization_39 (Batc (None, 4, 4, 128)         512       \n",
      "_________________________________________________________________\n",
      "activation_39 (Activation)   (None, 4, 4, 128)         0         \n",
      "_________________________________________________________________\n",
      "conv2d_36 (Conv2D)           (None, 4, 4, 128)         147584    \n",
      "_________________________________________________________________\n",
      "batch_normalization_40 (Batc (None, 4, 4, 128)         512       \n",
      "_________________________________________________________________\n",
      "activation_40 (Activation)   (None, 4, 4, 128)         0         \n",
      "_________________________________________________________________\n",
      "max_pooling2d_18 (MaxPooling (None, 2, 2, 128)         0         \n",
      "_________________________________________________________________\n",
      "flatten_3 (Flatten)          (None, 512)               0         \n",
      "_________________________________________________________________\n",
      "dense_7 (Dense)              (None, 256)               131328    \n",
      "_________________________________________________________________\n",
      "batch_normalization_41 (Batc (None, 256)               1024      \n",
      "_________________________________________________________________\n",
      "activation_41 (Activation)   (None, 256)               0         \n",
      "_________________________________________________________________\n",
      "dropout_5 (Dropout)          (None, 256)               0         \n",
      "_________________________________________________________________\n",
      "dense_8 (Dense)              (None, 256)               65792     \n",
      "_________________________________________________________________\n",
      "batch_normalization_42 (Batc (None, 256)               1024      \n",
      "_________________________________________________________________\n",
      "activation_42 (Activation)   (None, 256)               0         \n",
      "_________________________________________________________________\n",
      "dropout_6 (Dropout)          (None, 256)               0         \n",
      "_________________________________________________________________\n",
      "dense_9 (Dense)              (None, 101)               25957     \n",
      "=================================================================\n",
      "Total params: 902,661\n",
      "Trainable params: 899,845\n",
      "Non-trainable params: 2,816\n",
      "_________________________________________________________________\n"
     ]
    }
   ],
   "source": [
    "# build the model\n",
    "model = conv_model()\n",
    "model.summary()"
   ]
  },
  {
   "cell_type": "code",
   "execution_count": 30,
   "metadata": {
    "collapsed": true
   },
   "outputs": [],
   "source": [
    "# create log directory\n",
    "now = datetime.now\n",
    "new_folder = '{}'.format(now().strftime('%Y%m%d_%H%M%S'))"
   ]
  },
  {
   "cell_type": "code",
   "execution_count": 31,
   "metadata": {},
   "outputs": [
    {
     "name": "stdout",
     "output_type": "stream",
     "text": [
      "20171028_235203\n"
     ]
    }
   ],
   "source": [
    "print(new_folder)"
   ]
  },
  {
   "cell_type": "code",
   "execution_count": 32,
   "metadata": {
    "collapsed": true
   },
   "outputs": [],
   "source": [
    "desc = \"Regression model with CRPS on oversampled data\"\n",
    "\n",
    "with open(\"/data/joint_scoring/readme.txt\", \"a\") as myfile:\n",
    "    myfile.write(\"\\n\" + new_folder + \"    \" + desc)"
   ]
  },
  {
   "cell_type": "code",
   "execution_count": 33,
   "metadata": {
    "collapsed": true
   },
   "outputs": [],
   "source": [
    "# tensorboard callback\n",
    "tb_callback = callbacks.TensorBoard(log_dir=\"/data/joint_scoring/tensorboard/\" + new_folder,\n",
    "                                    histogram_freq=0, write_graph=True,\n",
    "                                    write_images=True)"
   ]
  },
  {
   "cell_type": "code",
   "execution_count": null,
   "metadata": {
    "scrolled": false
   },
   "outputs": [
    {
     "name": "stdout",
     "output_type": "stream",
     "text": [
      "Train on 210025 samples, validate on 19709 samples\n",
      "Epoch 1/25\n",
      "210025/210025 [==============================] - 491s - loss: 2998.3500 - mean_absolute_error: 0.6030 - acc: 0.0390 - val_loss: 4694.4508 - val_mean_absolute_error: 0.9397 - val_acc: 0.0106\n",
      "Epoch 3/25\n",
      "210025/210025 [==============================] - 491s - loss: 2997.8225 - mean_absolute_error: 0.6030 - acc: 0.0380 - val_loss: 4694.4585 - val_mean_absolute_error: 0.9397 - val_acc: 0.0112\n",
      "Epoch 5/25\n",
      "210025/210025 [==============================] - 491s - loss: 2997.6123 - mean_absolute_error: 0.6029 - acc: 0.0378 - val_loss: 4694.2020 - val_mean_absolute_error: 0.9396 - val_acc: 0.0105\n",
      "Epoch 6/25\n",
      "210025/210025 [==============================] - 491s - loss: 2997.4104 - mean_absolute_error: 0.6029 - acc: 0.0380 - val_loss: 4694.3030 - val_mean_absolute_error: 0.9397 - val_acc: 0.0110\n",
      "Epoch 7/25\n",
      "210025/210025 [==============================] - 491s - loss: 2997.2443 - mean_absolute_error: 0.6029 - acc: 0.0382 - val_loss: 4694.5798 - val_mean_absolute_error: 0.9396 - val_acc: 0.0111\n",
      "Epoch 8/25\n",
      "210025/210025 [==============================] - 491s - loss: 2997.0924 - mean_absolute_error: 0.6028 - acc: 0.0391 - val_loss: 4694.2702 - val_mean_absolute_error: 0.9397 - val_acc: 0.0101\n",
      "Epoch 9/25\n",
      "210025/210025 [==============================] - 490s - loss: 2996.9552 - mean_absolute_error: 0.6028 - acc: 0.0401 - val_loss: 4694.2635 - val_mean_absolute_error: 0.9397 - val_acc: 0.0108\n",
      "Epoch 10/25\n",
      "210025/210025 [==============================] - 490s - loss: 2996.8316 - mean_absolute_error: 0.6028 - acc: 0.0422 - val_loss: 4694.2409 - val_mean_absolute_error: 0.9397 - val_acc: 0.0109\n",
      "Epoch 11/25\n",
      "210025/210025 [==============================] - 490s - loss: 2996.7262 - mean_absolute_error: 0.6027 - acc: 0.0435 - val_loss: 4694.2623 - val_mean_absolute_error: 0.9397 - val_acc: 0.0109\n",
      "Epoch 12/25\n",
      "210025/210025 [==============================] - 489s - loss: 2996.6447 - mean_absolute_error: 0.6027 - acc: 0.0450 - val_loss: 4694.2870 - val_mean_absolute_error: 0.9397 - val_acc: 0.0108\n",
      "Epoch 13/25\n",
      "210025/210025 [==============================] - 489s - loss: 2996.5677 - mean_absolute_error: 0.6027 - acc: 0.0460 - val_loss: 4694.3112 - val_mean_absolute_error: 0.9397 - val_acc: 0.0109\n",
      "Epoch 14/25\n",
      "210025/210025 [==============================] - 490s - loss: 2996.4906 - mean_absolute_error: 0.6027 - acc: 0.0461 - val_loss: 4694.2983 - val_mean_absolute_error: 0.9397 - val_acc: 0.0108\n",
      "Epoch 15/25\n",
      "210025/210025 [==============================] - 490s - loss: 2996.4143 - mean_absolute_error: 0.6027 - acc: 0.0469 - val_loss: 4694.2550 - val_mean_absolute_error: 0.9396 - val_acc: 0.0111\n",
      "Epoch 16/25\n",
      "210025/210025 [==============================] - 489s - loss: 2996.3658 - mean_absolute_error: 0.6026 - acc: 0.0469 - val_loss: 4694.2478 - val_mean_absolute_error: 0.9397 - val_acc: 0.0109\n",
      "Epoch 17/25\n",
      "210025/210025 [==============================] - 490s - loss: 2996.3161 - mean_absolute_error: 0.6026 - acc: 0.0477 - val_loss: 4694.2795 - val_mean_absolute_error: 0.9397 - val_acc: 0.0106\n",
      "Epoch 18/25\n",
      "210025/210025 [==============================] - 490s - loss: 2996.2664 - mean_absolute_error: 0.6026 - acc: 0.0475 - val_loss: 4694.2465 - val_mean_absolute_error: 0.9397 - val_acc: 0.0111\n",
      "Epoch 19/25\n",
      "210025/210025 [==============================] - 490s - loss: 2996.2152 - mean_absolute_error: 0.6026 - acc: 0.0476 - val_loss: 4694.2603 - val_mean_absolute_error: 0.9397 - val_acc: 0.0105\n",
      "Epoch 20/25\n",
      "210025/210025 [==============================] - 489s - loss: 2996.1663 - mean_absolute_error: 0.6026 - acc: 0.0475 - val_loss: 4694.2892 - val_mean_absolute_error: 0.9397 - val_acc: 0.0111\n",
      "Epoch 21/25\n",
      "210025/210025 [==============================] - 490s - loss: 2996.1471 - mean_absolute_error: 0.6026 - acc: 0.0487 - val_loss: 4694.2416 - val_mean_absolute_error: 0.9397 - val_acc: 0.0110\n",
      "Epoch 22/25\n",
      "210025/210025 [==============================] - 490s - loss: 2996.0955 - mean_absolute_error: 0.6026 - acc: 0.0486 - val_loss: 4694.2722 - val_mean_absolute_error: 0.9397 - val_acc: 0.0112\n",
      "Epoch 23/25\n",
      "210025/210025 [==============================] - 489s - loss: 2996.0718 - mean_absolute_error: 0.6026 - acc: 0.0486 - val_loss: 4694.3040 - val_mean_absolute_error: 0.9397 - val_acc: 0.0111\n",
      "Epoch 24/25\n",
      "210025/210025 [==============================] - 490s - loss: 2996.0427 - mean_absolute_error: 0.6026 - acc: 0.0481 - val_loss: 4694.2592 - val_mean_absolute_error: 0.9397 - val_acc: 0.0110\n",
      "Epoch 25/25\n",
      "210025/210025 [==============================] - 490s - loss: 2996.0035 - mean_absolute_error: 0.6026 - acc: 0.0485 - val_loss: 4694.2991 - val_mean_absolute_error: 0.9397 - val_acc: 0.0111\n"
     ]
    },
    {
     "data": {
      "text/plain": [
       "<tensorflow.contrib.keras.python.keras.callbacks.History at 0x7fab5af57d30>"
      ]
     },
     "execution_count": 34,
     "metadata": {},
     "output_type": "execute_result"
    }
   ],
   "source": [
    "# Fit the model\n",
    "model.fit(x=img_train, y=labels_train, batch_size=100, epochs=25, verbose=1,\n",
    "          callbacks=[tb_callback], validation_data=(img_test, labels_test),\n",
    "          shuffle=\"batch\")"
   ]
  },
  {
   "cell_type": "code",
   "execution_count": 35,
   "metadata": {},
   "outputs": [
    {
     "name": "stdout",
     "output_type": "stream",
     "text": [
      "[1502.6216175641225, 0.9396705479223656, 0.011111674869349029]\n"
     ]
    }
   ],
   "source": [
    "# Final evaluation of the model\n",
    "scores = model.evaluate(img_test, labels_test, verbose=0)\n",
    "print(scores)"
   ]
  },
  {
   "cell_type": "code",
   "execution_count": 36,
   "metadata": {
    "collapsed": true
   },
   "outputs": [],
   "source": [
    "# Save the model\n",
    "model.save(\"/data/joint_scoring/models/\" + new_folder + \".h5\")"
   ]
  },
  {
   "cell_type": "code",
   "execution_count": 44,
   "metadata": {},
   "outputs": [
    {
     "name": "stdout",
     "output_type": "stream",
     "text": [
      "19648/19709 [============================>.] - ETA: 0s"
     ]
    }
   ],
   "source": [
    "from sklearn.metrics import classification_report\n",
    "pred = model.predict_classes(img_test)\n",
    "p = model.predict_proba(img_test)"
   ]
  },
  {
   "cell_type": "code",
   "execution_count": 53,
   "metadata": {},
   "outputs": [
    {
     "data": {
      "image/png": "[encoded data removed]",
      "text/plain": [
       "<matplotlib.figure.Figure at 0x7fab5aa90b38>"
      ]
     },
     "metadata": {},
     "output_type": "display_data"
    }
   ],
   "source": [
    "labels_test_reg = HDF5Matrix('/data/joint_scoring/labels_test_regression.h5', 'labels_test_regression')\n",
    "\n",
    "plt.title(\"True vs Predicted\")\n",
    "plt.ylabel('Predicted label')\n",
    "plt.xlabel('True label')\n",
    "plt.scatter(x=labels_test_reg, y=pred, color=\"blue\", alpha=0.1)\n",
    "\n",
    "plt.show()"
   ]
  },
  {
   "cell_type": "code",
   "execution_count": 54,
   "metadata": {
    "collapsed": true
   },
   "outputs": [],
   "source": [
    "from nbconvert import HTMLExporter\n",
    "import codecs\n",
    "import nbformat\n",
    "exporter = HTMLExporter()\n",
    "output_notebook = nbformat.read('deepxray_regression_oversampled.ipynb', as_version=4)\n",
    "output, resources = exporter.from_notebook_node(output_notebook)\n",
    "codecs.open(\"/data/joint_scoring/notebooks/\" + new_folder + \".html\", 'w', encoding='utf-8').write(output)"
   ]
  },
  {
   "cell_type": "code",
   "execution_count": null,
   "metadata": {
    "collapsed": true
   },
   "outputs": [],
   "source": []
  }
 ],
 "metadata": {
  "kernelspec": {
   "display_name": "Python 3",
   "language": "python",
   "name": "python3"
  },
  "language_info": {
   "codemirror_mode": {
    "name": "ipython",
    "version": 3
   },
   "file_extension": ".py",
   "mimetype": "text/x-python",
   "name": "python",
   "nbconvert_exporter": "python",
   "pygments_lexer": "ipython3",
   "version": "3.5.2"
  }
 },
 "nbformat": 4,
 "nbformat_minor": 1
}
