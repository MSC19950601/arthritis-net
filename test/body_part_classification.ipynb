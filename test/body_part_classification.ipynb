{
 "cells": [
  {
   "cell_type": "markdown",
   "metadata": {},
   "source": [
    "# Body part classification\n",
    "\n",
    "This notebook classifies the x-ray images into different body parts.\n",
    "\n",
    "## 1. Preprocessing\n",
    "\n",
    "First I import all the dependencies"
   ]
  },
  {
   "cell_type": "code",
   "execution_count": 1,
   "metadata": {
    "collapsed": true
   },
   "outputs": [],
   "source": [
    "# import tf\n",
    "import tensorflow as tf\n",
    "\n",
    "# import numpy for arrays\n",
    "import numpy as np\n",
    "# import pandas for csv import\n",
    "import pandas as pd\n",
    "# import matplotlib\n",
    "import matplotlib.pyplot as plt\n",
    "# os to handle pathnames\n",
    "import os.path\n",
    "# PIL to open & manipulate images\n",
    "from PIL import Image\n",
    "from PIL import ImageChops\n",
    "from PIL import ImageOps\n",
    "from PIL import ImageFile\n",
    "# for messages in loops\n",
    "from IPython.display import clear_output\n",
    "# for train/test split\n",
    "from sklearn.model_selection import train_test_split\n",
    "# for one-hot encoding\n",
    "from sklearn.preprocessing import LabelBinarizer\n",
    "\n",
    "# import keras modules from tensorflow.contrib for the CNN\n",
    "from tensorflow.contrib.keras.python.keras.models import Sequential\n",
    "from tensorflow.contrib.keras.python.keras.layers import Dense, Dropout, \\\n",
    "    Flatten\n",
    "from tensorflow.contrib.keras.python.keras.layers.convolutional import \\\n",
    "    Conv2D, MaxPooling2D\n",
    "from tensorflow.contrib.keras.python.keras.utils import to_categorical\n",
    "from tensorflow.contrib.keras.python.keras import backend as K\n",
    "from tensorflow.contrib.keras.python.keras import callbacks\n",
    "from tensorflow.contrib.keras.python.keras.preprocessing.image import \\\n",
    "    ImageDataGenerator, array_to_img, img_to_array, load_img"
   ]
  },
  {
   "cell_type": "markdown",
   "metadata": {},
   "source": [
    "Next I define the image format and fix the random seed"
   ]
  },
  {
   "cell_type": "code",
   "execution_count": 2,
   "metadata": {
    "collapsed": true
   },
   "outputs": [],
   "source": [
    "# image format -> (rows, cols, channels)\n",
    "K.set_image_data_format(\"channels_last\")\n",
    "# fix random seed for reproducibility\n",
    "seed = 1\n",
    "np.random.seed(seed)\n",
    "tf.set_random_seed(seed)"
   ]
  },
  {
   "cell_type": "markdown",
   "metadata": {},
   "source": [
    "Create an array with all image names and an array with their labels"
   ]
  },
  {
   "cell_type": "raw",
   "metadata": {},
   "source": [
    "df = pd.read_csv(filepath_or_buffer=\"/data/deepxray/data/rau_data/merged.csv\")\n",
    "df.head()\n",
    "names = df[\"sop_iuid\"].as_matrix()\n",
    "labels = df[\"body_part\"].as_matrix()\n",
    "n_img = names.size"
   ]
  },
  {
   "cell_type": "markdown",
   "metadata": {},
   "source": [
    "I then define a function to import and transform the images"
   ]
  },
  {
   "cell_type": "raw",
   "metadata": {},
   "source": [
    "# desired image size\n",
    "size = (256, 256)\n",
    "# specify filepath of images\n",
    "root = \"/data/deepxray\"\n",
    "dirname = \"images/jpgs\"\n",
    "\n",
    "def preprocess_img(file_name):\n",
    "    # at least one file is damaged, this setting allows\n",
    "    # to import it anyways\n",
    "    ImageFile.LOAD_TRUNCATED_IMAGES = True\n",
    "    \n",
    "    # filename\n",
    "    file = file_name + \".jpg\"\n",
    "\n",
    "    # read image\n",
    "    image = Image.open(fp=os.path.join(root, dirname, file))\n",
    "    # some images are read as rgb -> convert to grayscale\n",
    "    if (image.mode != 0):\n",
    "        image = image.convert(mode='L')\n",
    "    # scaling image to desired resultion while keeping aspect ratio\n",
    "    image.thumbnail(size=size, resample=Image.ANTIALIAS)\n",
    "    image_size = image.size\n",
    "    # histogram normalization (remaps the image -> lightest pixel = 255, darkest pixel = 0)\n",
    "    image = ImageOps.autocontrast(image=image)\n",
    "    # add a black bar to the image to get desired size\n",
    "    thumb = image.crop(box=(0, 0, size[0], size[1]))\n",
    "    # shift original image to the middle so that the black bars are on both sides\n",
    "    offset_x = max((size[0] - image_size[0]) / 2, 0)\n",
    "    offset_y = max((size[1] - image_size[1]) / 2, 0)\n",
    "    thumb = ImageChops.offset(image=thumb, xoffset=int(offset_x), yoffset=int(offset_y))\n",
    "    # turn into np array\n",
    "    data = np.asarray(a=thumb, dtype=\"uint8\")\n",
    "    return(data)"
   ]
  },
  {
   "cell_type": "markdown",
   "metadata": {
    "collapsed": true
   },
   "source": [
    "Import all images (already done, see 2 cells below import of array)"
   ]
  },
  {
   "cell_type": "raw",
   "metadata": {},
   "source": [
    "images = []\n",
    "\n",
    "for i, name in enumerate(names):\n",
    "    if (i % 100) == 0:\n",
    "        clear_output()\n",
    "        print(\"Importing images, {0:.2f} % finished\".format(i/n_img*100))\n",
    "    img = preprocess_img(name)\n",
    "    images.append(img)"
   ]
  },
  {
   "cell_type": "markdown",
   "metadata": {},
   "source": [
    "Save as np array"
   ]
  },
  {
   "cell_type": "raw",
   "metadata": {},
   "source": [
    "images = np.array(images)\n",
    "np.save(file=\"/data/body_part_classification/img_array.npy\", arr=images)"
   ]
  },
  {
   "cell_type": "markdown",
   "metadata": {},
   "source": [
    "Load saved array"
   ]
  },
  {
   "cell_type": "raw",
   "metadata": {},
   "source": [
    "images = np.load(file=\"/data/body_part_classification/img_array.npy\")\n",
    "images = images.reshape(images.shape[0], images.shape[1], images.shape[2], 1)\n",
    "#images = images/255.\n",
    "plt.imshow(images[0].squeeze(), cmap='gray')\n",
    "plt.show()\n"
   ]
  },
  {
   "cell_type": "markdown",
   "metadata": {},
   "source": [
    "splitting data into train & test set"
   ]
  },
  {
   "cell_type": "raw",
   "metadata": {},
   "source": [
    "img_train, img_test, labels_train, labels_test = train_test_split(images, labels,\n",
    "                                                                  test_size=0.3,\n",
    "                                                                  random_state=1,\n",
    "                                                                  stratify=labels)"
   ]
  },
  {
   "cell_type": "raw",
   "metadata": {},
   "source": [
    "np.save(file=\"/data/body_part_classification/img_train.npy\", arr=img_train)\n",
    "np.save(file=\"/data/body_part_classification/img_test.npy\", arr=img_test)\n",
    "np.save(file=\"/data/body_part_classification/labels_train.npy\", arr=labels_train)\n",
    "np.save(file=\"/data/body_part_classification/labels_test.npy\", arr=labels_test)"
   ]
  },
  {
   "cell_type": "code",
   "execution_count": 3,
   "metadata": {
    "collapsed": true
   },
   "outputs": [],
   "source": [
    "img_train = np.load(file=\"/data/body_part_classification/img_train.npy\")\n",
    "img_test = np.load(file=\"/data/body_part_classification/img_test.npy\")\n",
    "labels_train = np.load(file=\"/data/body_part_classification/labels_train.npy\")\n",
    "labels_test = np.load(file=\"/data/body_part_classification/labels_test.npy\")"
   ]
  },
  {
   "cell_type": "code",
   "execution_count": 4,
   "metadata": {},
   "outputs": [
    {
     "name": "stdout",
     "output_type": "stream",
     "text": [
      "6\n"
     ]
    }
   ],
   "source": [
    "# one hot encode outputs\n",
    "labels_train = LabelBinarizer().fit_transform(labels_train)\n",
    "labels_test = LabelBinarizer().fit_transform(labels_test)\n",
    "num_classes = labels_test.shape[1]\n",
    "print(num_classes)"
   ]
  },
  {
   "cell_type": "markdown",
   "metadata": {},
   "source": [
    "## 2. Model"
   ]
  },
  {
   "cell_type": "code",
   "execution_count": 7,
   "metadata": {
    "collapsed": true
   },
   "outputs": [],
   "source": [
    "def conv_model():\n",
    "    # create model\n",
    "    model = Sequential()\n",
    "    model.add(Conv2D(filters=32, kernel_size=(3, 3), padding=\"same\", input_shape=(256, 256, 1),\n",
    "                     activation=\"relu\", kernel_initializer=\"he_normal\"))\n",
    "    model.add(Conv2D(filters=32, kernel_size=(3, 3), padding=\"same\", activation=\"relu\"))\n",
    "    model.add(MaxPooling2D(pool_size=(2, 2)))\n",
    "    model.add(Conv2D(filters=32, kernel_size=(3, 3), padding=\"same\", activation=\"relu\"))\n",
    "    model.add(Conv2D(filters=32, kernel_size=(3, 3), padding=\"same\", activation=\"relu\"))\n",
    "    model.add(MaxPooling2D(pool_size=(2, 2)))\n",
    "    model.add(Conv2D(filters=64, kernel_size=(3, 3), padding=\"same\", activation=\"relu\"))\n",
    "    model.add(Conv2D(filters=64, kernel_size=(3, 3), padding=\"same\", activation=\"relu\"))\n",
    "    model.add(MaxPooling2D(pool_size=(2, 2)))\n",
    "    model.add(Conv2D(filters=64, kernel_size=(3, 3), padding=\"same\", activation=\"relu\"))\n",
    "    model.add(Conv2D(filters=64, kernel_size=(3, 3), padding=\"same\", activation=\"relu\"))\n",
    "    model.add(MaxPooling2D(pool_size=(2, 2)))\n",
    "    model.add(Conv2D(filters=128, kernel_size=(3, 3), padding=\"same\", activation=\"relu\"))\n",
    "    model.add(Conv2D(filters=128, kernel_size=(3, 3), padding=\"same\", activation=\"relu\"))\n",
    "    model.add(MaxPooling2D(pool_size=(2, 2)))\n",
    "    model.add(Conv2D(filters=128, kernel_size=(3, 3), padding=\"same\", activation=\"relu\"))\n",
    "    model.add(Conv2D(filters=128, kernel_size=(3, 3), padding=\"same\", activation=\"relu\"))\n",
    "    model.add(MaxPooling2D(pool_size=(2, 2)))\n",
    "    model.add(Flatten())\n",
    "    model.add(Dense(units=256, kernel_initializer=\"he_normal\",\n",
    "                    activation=\"relu\"))\n",
    "    model.add(Dropout(rate=0.5))\n",
    "    model.add(Dense(units=256, kernel_initializer=\"he_normal\",\n",
    "                    activation=\"relu\"))\n",
    "    model.add(Dropout(rate=0.5))\n",
    "    model.add(Dense(units=num_classes, activation=\"softmax\",\n",
    "                    kernel_initializer=\"he_normal\"))\n",
    "\n",
    "    # Compile model\n",
    "    model.compile(optimizer=\"adam\", loss=\"categorical_crossentropy\",\n",
    "                  metrics=[\"accuracy\"])\n",
    "\n",
    "    return model"
   ]
  },
  {
   "cell_type": "code",
   "execution_count": 8,
   "metadata": {},
   "outputs": [
    {
     "name": "stdout",
     "output_type": "stream",
     "text": [
      "_________________________________________________________________\n",
      "Layer (type)                 Output Shape              Param #   \n",
      "=================================================================\n",
      "conv2d_13 (Conv2D)           (None, 256, 256, 32)      320       \n",
      "_________________________________________________________________\n",
      "conv2d_14 (Conv2D)           (None, 256, 256, 32)      9248      \n",
      "_________________________________________________________________\n",
      "max_pooling2d_7 (MaxPooling2 (None, 128, 128, 32)      0         \n",
      "_________________________________________________________________\n",
      "conv2d_15 (Conv2D)           (None, 128, 128, 32)      9248      \n",
      "_________________________________________________________________\n",
      "conv2d_16 (Conv2D)           (None, 128, 128, 32)      9248      \n",
      "_________________________________________________________________\n",
      "max_pooling2d_8 (MaxPooling2 (None, 64, 64, 32)        0         \n",
      "_________________________________________________________________\n",
      "conv2d_17 (Conv2D)           (None, 64, 64, 64)        18496     \n",
      "_________________________________________________________________\n",
      "conv2d_18 (Conv2D)           (None, 64, 64, 64)        36928     \n",
      "_________________________________________________________________\n",
      "max_pooling2d_9 (MaxPooling2 (None, 32, 32, 64)        0         \n",
      "_________________________________________________________________\n",
      "conv2d_19 (Conv2D)           (None, 32, 32, 64)        36928     \n",
      "_________________________________________________________________\n",
      "conv2d_20 (Conv2D)           (None, 32, 32, 64)        36928     \n",
      "_________________________________________________________________\n",
      "max_pooling2d_10 (MaxPooling (None, 16, 16, 64)        0         \n",
      "_________________________________________________________________\n",
      "conv2d_21 (Conv2D)           (None, 16, 16, 128)       73856     \n",
      "_________________________________________________________________\n",
      "conv2d_22 (Conv2D)           (None, 16, 16, 128)       147584    \n",
      "_________________________________________________________________\n",
      "max_pooling2d_11 (MaxPooling (None, 8, 8, 128)         0         \n",
      "_________________________________________________________________\n",
      "conv2d_23 (Conv2D)           (None, 8, 8, 128)         147584    \n",
      "_________________________________________________________________\n",
      "conv2d_24 (Conv2D)           (None, 8, 8, 128)         147584    \n",
      "_________________________________________________________________\n",
      "max_pooling2d_12 (MaxPooling (None, 4, 4, 128)         0         \n",
      "_________________________________________________________________\n",
      "flatten_2 (Flatten)          (None, 2048)              0         \n",
      "_________________________________________________________________\n",
      "dense_4 (Dense)              (None, 256)               524544    \n",
      "_________________________________________________________________\n",
      "dropout_3 (Dropout)          (None, 256)               0         \n",
      "_________________________________________________________________\n",
      "dense_5 (Dense)              (None, 256)               65792     \n",
      "_________________________________________________________________\n",
      "dropout_4 (Dropout)          (None, 256)               0         \n",
      "_________________________________________________________________\n",
      "dense_6 (Dense)              (None, 6)                 1542      \n",
      "=================================================================\n",
      "Total params: 1,265,830\n",
      "Trainable params: 1,265,830\n",
      "Non-trainable params: 0\n",
      "_________________________________________________________________\n"
     ]
    }
   ],
   "source": [
    "# build the model\n",
    "model = conv_model()\n",
    "model.summary()"
   ]
  },
  {
   "cell_type": "code",
   "execution_count": 9,
   "metadata": {
    "collapsed": true
   },
   "outputs": [],
   "source": [
    "# tensorboard callback\n",
    "tb_callback = callbacks.TensorBoard(log_dir=\"/data/body_part_classification/tensorboard/2nd_model\",\n",
    "                                    histogram_freq=0, write_graph=True,\n",
    "                                    write_images=True)"
   ]
  },
  {
   "cell_type": "code",
   "execution_count": 10,
   "metadata": {},
   "outputs": [
    {
     "name": "stdout",
     "output_type": "stream",
     "text": [
      "Train on 33875 samples, validate on 14519 samples\n",
      "Epoch 1/100\n",
      "137s - loss: 0.4334 - acc: 0.8434 - val_loss: 0.1194 - val_acc: 0.9722\n",
      "Epoch 2/100\n",
      "125s - loss: 0.1205 - acc: 0.9705 - val_loss: 0.0926 - val_acc: 0.9750\n",
      "Epoch 3/100\n",
      "124s - loss: 0.1043 - acc: 0.9751 - val_loss: 0.0832 - val_acc: 0.9781\n",
      "Epoch 4/100\n",
      "124s - loss: 0.0832 - acc: 0.9796 - val_loss: 0.0813 - val_acc: 0.9800\n",
      "Epoch 5/100\n",
      "124s - loss: 0.0756 - acc: 0.9816 - val_loss: 0.0818 - val_acc: 0.9818\n",
      "Epoch 6/100\n",
      "124s - loss: 0.0659 - acc: 0.9822 - val_loss: 0.0747 - val_acc: 0.9820\n",
      "Epoch 7/100\n",
      "124s - loss: 0.0649 - acc: 0.9833 - val_loss: 0.0924 - val_acc: 0.9800\n",
      "Epoch 8/100\n",
      "123s - loss: 0.0565 - acc: 0.9847 - val_loss: 0.0771 - val_acc: 0.9820\n",
      "Epoch 9/100\n",
      "123s - loss: 0.0530 - acc: 0.9849 - val_loss: 0.0707 - val_acc: 0.9834\n",
      "Epoch 10/100\n",
      "123s - loss: 0.0479 - acc: 0.9868 - val_loss: 0.0770 - val_acc: 0.9822\n",
      "Epoch 11/100\n",
      "123s - loss: 0.0433 - acc: 0.9871 - val_loss: 0.0830 - val_acc: 0.9810\n",
      "Epoch 12/100\n",
      "123s - loss: 0.0396 - acc: 0.9881 - val_loss: 0.0683 - val_acc: 0.9824\n",
      "Epoch 13/100\n",
      "123s - loss: 0.0378 - acc: 0.9887 - val_loss: 0.0932 - val_acc: 0.9806\n",
      "Epoch 14/100\n",
      "123s - loss: 0.0405 - acc: 0.9881 - val_loss: 0.0732 - val_acc: 0.9833\n",
      "Epoch 15/100\n",
      "123s - loss: 0.0354 - acc: 0.9900 - val_loss: 0.0717 - val_acc: 0.9841\n",
      "Epoch 16/100\n",
      "123s - loss: 0.0319 - acc: 0.9907 - val_loss: 0.0804 - val_acc: 0.9813\n",
      "Epoch 17/100\n",
      "123s - loss: 0.0317 - acc: 0.9905 - val_loss: 0.0731 - val_acc: 0.9811\n",
      "Epoch 18/100\n",
      "122s - loss: 0.0335 - acc: 0.9898 - val_loss: 0.0712 - val_acc: 0.9835\n",
      "Epoch 19/100\n",
      "122s - loss: 0.0248 - acc: 0.9923 - val_loss: 0.0865 - val_acc: 0.9804\n",
      "Epoch 20/100\n",
      "122s - loss: 0.0222 - acc: 0.9926 - val_loss: 0.0965 - val_acc: 0.9827\n",
      "Epoch 21/100\n",
      "122s - loss: 0.0319 - acc: 0.9906 - val_loss: 0.0732 - val_acc: 0.9844\n",
      "Epoch 22/100\n",
      "122s - loss: 0.0197 - acc: 0.9937 - val_loss: 0.0975 - val_acc: 0.9820\n",
      "Epoch 23/100\n",
      "122s - loss: 0.0277 - acc: 0.9913 - val_loss: 0.0868 - val_acc: 0.9846\n",
      "Epoch 24/100\n",
      "122s - loss: 0.0200 - acc: 0.9942 - val_loss: 0.0755 - val_acc: 0.9820\n",
      "Epoch 25/100\n",
      "122s - loss: 0.0181 - acc: 0.9944 - val_loss: 0.0995 - val_acc: 0.9851\n",
      "Epoch 26/100\n",
      "122s - loss: 0.0200 - acc: 0.9938 - val_loss: 0.1049 - val_acc: 0.9827\n",
      "Epoch 27/100\n",
      "122s - loss: 0.0238 - acc: 0.9919 - val_loss: 0.0820 - val_acc: 0.9833\n",
      "Epoch 28/100\n",
      "122s - loss: 0.0193 - acc: 0.9945 - val_loss: 0.1262 - val_acc: 0.9829\n",
      "Epoch 29/100\n",
      "122s - loss: 0.0202 - acc: 0.9939 - val_loss: 0.0877 - val_acc: 0.9834\n",
      "Epoch 30/100\n",
      "122s - loss: 0.0167 - acc: 0.9950 - val_loss: 0.0879 - val_acc: 0.9840\n",
      "Epoch 31/100\n",
      "122s - loss: 0.0146 - acc: 0.9952 - val_loss: 0.0940 - val_acc: 0.9821\n",
      "Epoch 32/100\n",
      "122s - loss: 0.0213 - acc: 0.9939 - val_loss: 0.0981 - val_acc: 0.9823\n",
      "Epoch 33/100\n",
      "122s - loss: 0.0120 - acc: 0.9961 - val_loss: 0.1208 - val_acc: 0.9835\n",
      "Epoch 34/100\n",
      "122s - loss: 0.0188 - acc: 0.9949 - val_loss: 0.0959 - val_acc: 0.9837\n",
      "Epoch 35/100\n",
      "122s - loss: 0.0132 - acc: 0.9963 - val_loss: 0.0944 - val_acc: 0.9820\n",
      "Epoch 36/100\n",
      "121s - loss: 0.0168 - acc: 0.9953 - val_loss: 0.1173 - val_acc: 0.9835\n",
      "Epoch 37/100\n",
      "122s - loss: 0.0111 - acc: 0.9965 - val_loss: 0.1109 - val_acc: 0.9842\n",
      "Epoch 38/100\n",
      "122s - loss: 0.0164 - acc: 0.9955 - val_loss: 0.1167 - val_acc: 0.9840\n",
      "Epoch 39/100\n",
      "122s - loss: 0.0169 - acc: 0.9952 - val_loss: 0.1087 - val_acc: 0.9842\n",
      "Epoch 40/100\n",
      "122s - loss: 0.0137 - acc: 0.9960 - val_loss: 0.1110 - val_acc: 0.9835\n",
      "Epoch 41/100\n",
      "122s - loss: 0.0139 - acc: 0.9957 - val_loss: 0.1213 - val_acc: 0.9839\n",
      "Epoch 42/100\n",
      "122s - loss: 0.0382 - acc: 0.9900 - val_loss: 0.1050 - val_acc: 0.9839\n",
      "Epoch 43/100\n",
      "122s - loss: 0.0132 - acc: 0.9959 - val_loss: 0.0993 - val_acc: 0.9839\n",
      "Epoch 44/100\n",
      "122s - loss: 0.0137 - acc: 0.9965 - val_loss: 0.0972 - val_acc: 0.9851\n",
      "Epoch 45/100\n",
      "121s - loss: 0.0111 - acc: 0.9967 - val_loss: 0.0953 - val_acc: 0.9844\n",
      "Epoch 46/100\n",
      "121s - loss: 0.0086 - acc: 0.9978 - val_loss: 0.1333 - val_acc: 0.9845\n",
      "Epoch 47/100\n",
      "122s - loss: 0.0117 - acc: 0.9965 - val_loss: 0.1378 - val_acc: 0.9837\n",
      "Epoch 48/100\n",
      "122s - loss: 0.0137 - acc: 0.9965 - val_loss: 0.1895 - val_acc: 0.9784\n",
      "Epoch 49/100\n",
      "122s - loss: 0.0274 - acc: 0.9937 - val_loss: 0.2026 - val_acc: 0.9806\n",
      "Epoch 50/100\n",
      "122s - loss: 0.0185 - acc: 0.9946 - val_loss: 0.1348 - val_acc: 0.9822\n",
      "Epoch 51/100\n",
      "122s - loss: 0.0126 - acc: 0.9966 - val_loss: 0.1464 - val_acc: 0.9833\n",
      "Epoch 52/100\n",
      "122s - loss: 0.0096 - acc: 0.9976 - val_loss: 0.1167 - val_acc: 0.9831\n",
      "Epoch 53/100\n",
      "122s - loss: 0.0155 - acc: 0.9958 - val_loss: 0.1223 - val_acc: 0.9832\n",
      "Epoch 54/100\n",
      "122s - loss: 0.0104 - acc: 0.9971 - val_loss: 0.1109 - val_acc: 0.9844\n",
      "Epoch 55/100\n",
      "122s - loss: 0.0111 - acc: 0.9973 - val_loss: 0.1108 - val_acc: 0.9835\n",
      "Epoch 56/100\n",
      "121s - loss: 0.0108 - acc: 0.9973 - val_loss: 0.1247 - val_acc: 0.9833\n",
      "Epoch 57/100\n",
      "121s - loss: 0.0436 - acc: 0.9909 - val_loss: 0.1149 - val_acc: 0.9839\n",
      "Epoch 58/100\n",
      "121s - loss: 0.0128 - acc: 0.9965 - val_loss: 0.1087 - val_acc: 0.9833\n",
      "Epoch 59/100\n",
      "121s - loss: 0.0102 - acc: 0.9971 - val_loss: 0.1218 - val_acc: 0.9837\n",
      "Epoch 60/100\n",
      "121s - loss: 0.0051 - acc: 0.9988 - val_loss: 0.1058 - val_acc: 0.9811\n",
      "Epoch 61/100\n",
      "121s - loss: 0.0137 - acc: 0.9969 - val_loss: 0.1506 - val_acc: 0.9813\n",
      "Epoch 62/100\n",
      "121s - loss: 0.0179 - acc: 0.9956 - val_loss: 0.1607 - val_acc: 0.9831\n",
      "Epoch 63/100\n",
      "122s - loss: 0.0130 - acc: 0.9965 - val_loss: 0.1427 - val_acc: 0.9851\n",
      "Epoch 64/100\n",
      "122s - loss: 0.0079 - acc: 0.9978 - val_loss: 0.1277 - val_acc: 0.9856\n",
      "Epoch 65/100\n",
      "121s - loss: 0.0105 - acc: 0.9973 - val_loss: 0.1246 - val_acc: 0.9826\n",
      "Epoch 66/100\n",
      "122s - loss: 0.0263 - acc: 0.9941 - val_loss: 0.1249 - val_acc: 0.9829\n",
      "Epoch 67/100\n",
      "122s - loss: 0.0144 - acc: 0.9964 - val_loss: 0.1324 - val_acc: 0.9825\n",
      "Epoch 68/100\n",
      "121s - loss: 0.0149 - acc: 0.9963 - val_loss: 0.1293 - val_acc: 0.9826\n",
      "Epoch 69/100\n",
      "121s - loss: 0.0066 - acc: 0.9982 - val_loss: 0.1445 - val_acc: 0.9842\n",
      "Epoch 70/100\n",
      "121s - loss: 0.0137 - acc: 0.9964 - val_loss: 0.1474 - val_acc: 0.9751\n",
      "Epoch 71/100\n",
      "121s - loss: 0.0170 - acc: 0.9952 - val_loss: 0.1253 - val_acc: 0.9842\n",
      "Epoch 72/100\n",
      "121s - loss: 0.0103 - acc: 0.9974 - val_loss: 0.1232 - val_acc: 0.9846\n",
      "Epoch 73/100\n",
      "121s - loss: 0.0075 - acc: 0.9981 - val_loss: 0.1432 - val_acc: 0.9854\n",
      "Epoch 74/100\n",
      "121s - loss: 0.0025 - acc: 0.9994 - val_loss: 0.1640 - val_acc: 0.9838\n",
      "Epoch 75/100\n",
      "121s - loss: 0.0125 - acc: 0.9970 - val_loss: 0.1171 - val_acc: 0.9839\n",
      "Epoch 76/100\n",
      "121s - loss: 0.0119 - acc: 0.9974 - val_loss: 0.1437 - val_acc: 0.9822\n",
      "Epoch 77/100\n",
      "121s - loss: 0.0349 - acc: 0.9929 - val_loss: 0.1192 - val_acc: 0.9833\n",
      "Epoch 78/100\n",
      "121s - loss: 0.0160 - acc: 0.9958 - val_loss: 0.1246 - val_acc: 0.9848\n",
      "Epoch 79/100\n",
      "121s - loss: 0.0097 - acc: 0.9980 - val_loss: 0.1244 - val_acc: 0.9846\n",
      "Epoch 80/100\n",
      "121s - loss: 0.0045 - acc: 0.9986 - val_loss: 0.1368 - val_acc: 0.9848\n",
      "Epoch 81/100\n",
      "121s - loss: 0.0073 - acc: 0.9980 - val_loss: 0.1740 - val_acc: 0.9841\n",
      "Epoch 82/100\n",
      "121s - loss: 0.0075 - acc: 0.9980 - val_loss: 0.1512 - val_acc: 0.9813\n",
      "Epoch 83/100\n",
      "121s - loss: 0.0103 - acc: 0.9973 - val_loss: 0.1470 - val_acc: 0.9845\n",
      "Epoch 84/100\n",
      "121s - loss: 0.0069 - acc: 0.9983 - val_loss: 0.1422 - val_acc: 0.9834\n",
      "Epoch 85/100\n",
      "121s - loss: 0.0121 - acc: 0.9971 - val_loss: 0.1391 - val_acc: 0.9834\n",
      "Epoch 86/100\n",
      "121s - loss: 0.0237 - acc: 0.9957 - val_loss: 0.1869 - val_acc: 0.9795\n",
      "Epoch 87/100\n",
      "121s - loss: 0.0217 - acc: 0.9949 - val_loss: 0.1439 - val_acc: 0.9833\n",
      "Epoch 88/100\n",
      "122s - loss: 0.0047 - acc: 0.9988 - val_loss: 0.1448 - val_acc: 0.9848\n",
      "Epoch 89/100\n",
      "121s - loss: 0.0108 - acc: 0.9973 - val_loss: 0.1423 - val_acc: 0.9836\n",
      "Epoch 90/100\n",
      "121s - loss: 0.0429 - acc: 0.9932 - val_loss: 0.1343 - val_acc: 0.9809\n",
      "Epoch 91/100\n",
      "121s - loss: 0.0294 - acc: 0.9942 - val_loss: 0.1124 - val_acc: 0.9850\n",
      "Epoch 92/100\n",
      "121s - loss: 0.0087 - acc: 0.9976 - val_loss: 0.1152 - val_acc: 0.9853\n",
      "Epoch 93/100\n",
      "121s - loss: 0.0069 - acc: 0.9982 - val_loss: 0.1469 - val_acc: 0.9842\n",
      "Epoch 94/100\n",
      "121s - loss: 0.0031 - acc: 0.9991 - val_loss: 0.1431 - val_acc: 0.9845\n",
      "Epoch 95/100\n",
      "121s - loss: 0.0085 - acc: 0.9978 - val_loss: 0.1654 - val_acc: 0.9851\n",
      "Epoch 96/100\n",
      "121s - loss: 0.0070 - acc: 0.9986 - val_loss: 0.1584 - val_acc: 0.9833\n",
      "Epoch 97/100\n",
      "121s - loss: 0.0072 - acc: 0.9981 - val_loss: 0.1396 - val_acc: 0.9852\n",
      "Epoch 98/100\n"
     ]
    },
    {
     "name": "stdout",
     "output_type": "stream",
     "text": [
      "121s - loss: 0.0061 - acc: 0.9987 - val_loss: 0.1487 - val_acc: 0.9841\n",
      "Epoch 99/100\n",
      "121s - loss: 0.0111 - acc: 0.9972 - val_loss: 0.1578 - val_acc: 0.9829\n",
      "Epoch 100/100\n",
      "121s - loss: 0.0141 - acc: 0.9970 - val_loss: 0.1879 - val_acc: 0.9837\n"
     ]
    },
    {
     "data": {
      "text/plain": [
       "<tensorflow.contrib.keras.python.keras.callbacks.History at 0x7f821bfffeb8>"
      ]
     },
     "execution_count": 10,
     "metadata": {},
     "output_type": "execute_result"
    }
   ],
   "source": [
    "# Fit the model\n",
    "model.fit(x=img_train, y=labels_train, batch_size=100, epochs=100, verbose=2,\n",
    "          callbacks=[tb_callback], validation_data=(img_test, labels_test))"
   ]
  },
  {
   "cell_type": "code",
   "execution_count": 11,
   "metadata": {},
   "outputs": [
    {
     "name": "stdout",
     "output_type": "stream",
     "text": [
      "Error: 1.63%\n"
     ]
    }
   ],
   "source": [
    "# Final evaluation of the model\n",
    "scores = model.evaluate(img_test, labels_test, verbose=0)\n",
    "print(\"Error: %.2f%%\" % (100 - scores[1] * 100))"
   ]
  },
  {
   "cell_type": "code",
   "execution_count": 12,
   "metadata": {
    "collapsed": true
   },
   "outputs": [],
   "source": [
    "# Save the model\n",
    "model.save('/data/body_part_classification/2nd_model.h5')"
   ]
  },
  {
   "cell_type": "code",
   "execution_count": null,
   "metadata": {
    "collapsed": true
   },
   "outputs": [],
   "source": []
  }
 ],
 "metadata": {
  "kernelspec": {
   "display_name": "Python 3",
   "language": "python",
   "name": "python3"
  },
  "language_info": {
   "codemirror_mode": {
    "name": "ipython",
    "version": 3
   },
   "file_extension": ".py",
   "mimetype": "text/x-python",
   "name": "python",
   "nbconvert_exporter": "python",
   "pygments_lexer": "ipython3",
   "version": "3.6.2"
  }
 },
 "nbformat": 4,
 "nbformat_minor": 1
}
