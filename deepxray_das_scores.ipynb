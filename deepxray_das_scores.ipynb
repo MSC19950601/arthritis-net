{
 "cells": [
  {
   "cell_type": "markdown",
   "metadata": {
    "collapsed": true
   },
   "source": [
    "# Automatic scoring of x-ray images"
   ]
  },
  {
   "cell_type": "markdown",
   "metadata": {},
   "source": [
    "Import dependencies"
   ]
  },
  {
   "cell_type": "code",
   "execution_count": 1,
   "metadata": {},
   "outputs": [],
   "source": [
    "import tensorflow as tf\n",
    "import pandas as pd\n",
    "import numpy as np\n",
    "import matplotlib.pyplot as plt\n",
    "import os\n",
    "\n",
    "# PIL to open & manipulate images\n",
    "from PIL import Image, ImageOps, ImageChops\n",
    "\n",
    "# for messages in loops\n",
    "from IPython.display import clear_output\n",
    "\n",
    "# to save arrays\n",
    "import h5py\n",
    "\n",
    "# for folder-timestamp\n",
    "from datetime import datetime\n",
    "\n",
    "# for train/test split\n",
    "from sklearn.model_selection import train_test_split\n",
    "# for one-hot encoding\n",
    "from sklearn.preprocessing import LabelBinarizer\n",
    "# for class weights\n",
    "from sklearn.utils import class_weight\n",
    "# for model evaluation\n",
    "from sklearn.metrics import confusion_matrix, classification_report\n",
    "# for efficient loops\n",
    "import itertools\n",
    "\n",
    "# keras\n",
    "from tensorflow.python.keras import backend as K\n",
    "from tensorflow.python.keras.utils import HDF5Matrix\n",
    "from tensorflow.python.keras.models import Sequential\n",
    "from tensorflow.python.keras.layers import Conv2D, MaxPooling2D, Flatten, Dense, \\\n",
    "    Dropout, Lambda, Activation, BatchNormalization\n",
    "from tensorflow.python.keras.preprocessing.image import ImageDataGenerator\n",
    "from tensorflow.python.keras import callbacks\n"
   ]
  },
  {
   "cell_type": "markdown",
   "metadata": {},
   "source": [
    "Define image format & random seeds"
   ]
  },
  {
   "cell_type": "code",
   "execution_count": 2,
   "metadata": {},
   "outputs": [],
   "source": [
    "# image format -> (rows, cols, channels)\n",
    "K.set_image_data_format(\"channels_last\")\n",
    "# fix random seed for reproducibility\n",
    "seed = 1\n",
    "np.random.seed(seed)\n",
    "tf.set_random_seed(seed)"
   ]
  },
  {
   "cell_type": "code",
   "execution_count": 3,
   "metadata": {},
   "outputs": [
    {
     "data": {
      "text/html": [
       "<div>\n",
       "<style scoped>\n",
       "    .dataframe tbody tr th:only-of-type {\n",
       "        vertical-align: middle;\n",
       "    }\n",
       "\n",
       "    .dataframe tbody tr th {\n",
       "        vertical-align: top;\n",
       "    }\n",
       "\n",
       "    .dataframe thead th {\n",
       "        text-align: right;\n",
       "    }\n",
       "</style>\n",
       "<table border=\"1\" class=\"dataframe\">\n",
       "  <thead>\n",
       "    <tr style=\"text-align: right;\">\n",
       "      <th></th>\n",
       "      <th>id_x</th>\n",
       "      <th>patient_id</th>\n",
       "      <th>date_x</th>\n",
       "      <th>accession_no</th>\n",
       "      <th>scoring_dates</th>\n",
       "      <th>scoring_types</th>\n",
       "      <th>study_iuid</th>\n",
       "      <th>series_iuid</th>\n",
       "      <th>sop_iuid</th>\n",
       "      <th>body_part</th>\n",
       "      <th>...</th>\n",
       "      <th>foot_left_3</th>\n",
       "      <th>foot_left_4</th>\n",
       "      <th>foot_left_5</th>\n",
       "      <th>foot_right_1</th>\n",
       "      <th>foot_right_2</th>\n",
       "      <th>foot_right_3</th>\n",
       "      <th>foot_right_4</th>\n",
       "      <th>foot_right_5</th>\n",
       "      <th>rau_score</th>\n",
       "      <th>creation_date</th>\n",
       "    </tr>\n",
       "  </thead>\n",
       "  <tbody>\n",
       "    <tr>\n",
       "      <th>1</th>\n",
       "      <td>2</td>\n",
       "      <td>1229</td>\n",
       "      <td>2008-08-02</td>\n",
       "      <td>570235</td>\n",
       "      <td>2008-08-02</td>\n",
       "      <td>rau</td>\n",
       "      <td>1.2.276.0.41.10.172.2.26.20080728.66320.2.570235</td>\n",
       "      <td>1.2.392.200046.100.2.1.200050.55991.2008072914...</td>\n",
       "      <td>1.2.392.200046.100.2.1.200050.55991.2008072914...</td>\n",
       "      <td>HAND_BOTH</td>\n",
       "      <td>...</td>\n",
       "      <td>5.0</td>\n",
       "      <td>5.0</td>\n",
       "      <td>15.0</td>\n",
       "      <td>0.0</td>\n",
       "      <td>0.0</td>\n",
       "      <td>5.0</td>\n",
       "      <td>10.0</td>\n",
       "      <td>10.0</td>\n",
       "      <td>33</td>\n",
       "      <td>2010-07-12</td>\n",
       "    </tr>\n",
       "    <tr>\n",
       "      <th>3</th>\n",
       "      <td>32486</td>\n",
       "      <td>5776</td>\n",
       "      <td>2006-05-11</td>\n",
       "      <td>1</td>\n",
       "      <td>2006-05-11</td>\n",
       "      <td>rau</td>\n",
       "      <td>1.2.840.113619.6.95.31.0.3.4.1.4099.13.1290030</td>\n",
       "      <td>1.3.46.670589.26.400122.2.20060329.163703.26797</td>\n",
       "      <td>1.2.840.114257.1.8062006.85706.1.1.1</td>\n",
       "      <td>HAND_LEFT</td>\n",
       "      <td>...</td>\n",
       "      <td>0.0</td>\n",
       "      <td>0.0</td>\n",
       "      <td>0.0</td>\n",
       "      <td>0.0</td>\n",
       "      <td>0.0</td>\n",
       "      <td>0.0</td>\n",
       "      <td>0.0</td>\n",
       "      <td>5.0</td>\n",
       "      <td>10</td>\n",
       "      <td>2010-07-12</td>\n",
       "    </tr>\n",
       "    <tr>\n",
       "      <th>4</th>\n",
       "      <td>10</td>\n",
       "      <td>469</td>\n",
       "      <td>1983-11-09</td>\n",
       "      <td>NaN</td>\n",
       "      <td>2012-08-21</td>\n",
       "      <td>rau</td>\n",
       "      <td>1.2.276.0.7230010.3.1.2.0.22382.1278840446.382350</td>\n",
       "      <td>1.2.276.0.7230010.3.1.3.0.22382.1278840446.382349</td>\n",
       "      <td>1.2.276.0.7230010.3.1.4.0.22382.1278840446.382351</td>\n",
       "      <td>HAND_BOTH</td>\n",
       "      <td>...</td>\n",
       "      <td>NaN</td>\n",
       "      <td>NaN</td>\n",
       "      <td>NaN</td>\n",
       "      <td>NaN</td>\n",
       "      <td>NaN</td>\n",
       "      <td>NaN</td>\n",
       "      <td>NaN</td>\n",
       "      <td>NaN</td>\n",
       "      <td>16</td>\n",
       "      <td>2012-08-21</td>\n",
       "    </tr>\n",
       "    <tr>\n",
       "      <th>6</th>\n",
       "      <td>12</td>\n",
       "      <td>451</td>\n",
       "      <td>1987-02-13</td>\n",
       "      <td>NaN</td>\n",
       "      <td>2012-08-27</td>\n",
       "      <td>rau</td>\n",
       "      <td>1.2.276.0.7230010.3.1.2.0.22391.1278840447.356049</td>\n",
       "      <td>1.2.276.0.7230010.3.1.3.0.22400.1278840448.221664</td>\n",
       "      <td>1.2.276.0.7230010.3.1.4.0.22400.1278840448.221665</td>\n",
       "      <td>HAND_LEFT</td>\n",
       "      <td>...</td>\n",
       "      <td>NaN</td>\n",
       "      <td>NaN</td>\n",
       "      <td>NaN</td>\n",
       "      <td>NaN</td>\n",
       "      <td>NaN</td>\n",
       "      <td>NaN</td>\n",
       "      <td>NaN</td>\n",
       "      <td>NaN</td>\n",
       "      <td>62</td>\n",
       "      <td>2012-08-27</td>\n",
       "    </tr>\n",
       "    <tr>\n",
       "      <th>7</th>\n",
       "      <td>13</td>\n",
       "      <td>446</td>\n",
       "      <td>1987-08-11</td>\n",
       "      <td>NaN</td>\n",
       "      <td>2012-08-22</td>\n",
       "      <td>rau</td>\n",
       "      <td>1.2.276.0.7230010.3.1.2.0.22409.1278840449.122838</td>\n",
       "      <td>1.2.276.0.7230010.3.1.3.0.22409.1278840449.122837</td>\n",
       "      <td>1.2.276.0.7230010.3.1.4.0.22409.1278840449.122839</td>\n",
       "      <td>HAND_BOTH</td>\n",
       "      <td>...</td>\n",
       "      <td>NaN</td>\n",
       "      <td>NaN</td>\n",
       "      <td>NaN</td>\n",
       "      <td>NaN</td>\n",
       "      <td>NaN</td>\n",
       "      <td>NaN</td>\n",
       "      <td>NaN</td>\n",
       "      <td>NaN</td>\n",
       "      <td>3</td>\n",
       "      <td>2012-08-22</td>\n",
       "    </tr>\n",
       "  </tbody>\n",
       "</table>\n",
       "<p>5 rows × 50 columns</p>\n",
       "</div>"
      ],
      "text/plain": [
       "    id_x  patient_id      date_x accession_no scoring_dates scoring_types  \\\n",
       "1      2        1229  2008-08-02       570235    2008-08-02           rau   \n",
       "3  32486        5776  2006-05-11            1    2006-05-11           rau   \n",
       "4     10         469  1983-11-09          NaN    2012-08-21           rau   \n",
       "6     12         451  1987-02-13          NaN    2012-08-27           rau   \n",
       "7     13         446  1987-08-11          NaN    2012-08-22           rau   \n",
       "\n",
       "                                          study_iuid  \\\n",
       "1   1.2.276.0.41.10.172.2.26.20080728.66320.2.570235   \n",
       "3     1.2.840.113619.6.95.31.0.3.4.1.4099.13.1290030   \n",
       "4  1.2.276.0.7230010.3.1.2.0.22382.1278840446.382350   \n",
       "6  1.2.276.0.7230010.3.1.2.0.22391.1278840447.356049   \n",
       "7  1.2.276.0.7230010.3.1.2.0.22409.1278840449.122838   \n",
       "\n",
       "                                         series_iuid  \\\n",
       "1  1.2.392.200046.100.2.1.200050.55991.2008072914...   \n",
       "3    1.3.46.670589.26.400122.2.20060329.163703.26797   \n",
       "4  1.2.276.0.7230010.3.1.3.0.22382.1278840446.382349   \n",
       "6  1.2.276.0.7230010.3.1.3.0.22400.1278840448.221664   \n",
       "7  1.2.276.0.7230010.3.1.3.0.22409.1278840449.122837   \n",
       "\n",
       "                                            sop_iuid  body_part  \\\n",
       "1  1.2.392.200046.100.2.1.200050.55991.2008072914...  HAND_BOTH   \n",
       "3               1.2.840.114257.1.8062006.85706.1.1.1  HAND_LEFT   \n",
       "4  1.2.276.0.7230010.3.1.4.0.22382.1278840446.382351  HAND_BOTH   \n",
       "6  1.2.276.0.7230010.3.1.4.0.22400.1278840448.221665  HAND_LEFT   \n",
       "7  1.2.276.0.7230010.3.1.4.0.22409.1278840449.122839  HAND_BOTH   \n",
       "\n",
       "       ...        foot_left_3 foot_left_4 foot_left_5 foot_right_1  \\\n",
       "1      ...                5.0         5.0        15.0          0.0   \n",
       "3      ...                0.0         0.0         0.0          0.0   \n",
       "4      ...                NaN         NaN         NaN          NaN   \n",
       "6      ...                NaN         NaN         NaN          NaN   \n",
       "7      ...                NaN         NaN         NaN          NaN   \n",
       "\n",
       "   foot_right_2 foot_right_3  foot_right_4  foot_right_5  rau_score  \\\n",
       "1           0.0          5.0          10.0          10.0         33   \n",
       "3           0.0          0.0           0.0           5.0         10   \n",
       "4           NaN          NaN           NaN           NaN         16   \n",
       "6           NaN          NaN           NaN           NaN         62   \n",
       "7           NaN          NaN           NaN           NaN          3   \n",
       "\n",
       "   creation_date  \n",
       "1     2010-07-12  \n",
       "3     2010-07-12  \n",
       "4     2012-08-21  \n",
       "6     2012-08-27  \n",
       "7     2012-08-22  \n",
       "\n",
       "[5 rows x 50 columns]"
      ]
     },
     "execution_count": 3,
     "metadata": {},
     "output_type": "execute_result"
    }
   ],
   "source": [
    "df = pd.read_csv(filepath_or_buffer=\"/data/deepxray/data/rau_data/merged.csv\")\n",
    "#df = pd.read_csv(filepath_or_buffer=\"/Volumes/deepxray/data/rau_data/merged.csv\")\n",
    "df = df.loc[df['body_part'].isin([\"HAND_LEFT\", \"HAND_BOTH\"])]\n",
    "df.head()"
   ]
  },
  {
   "cell_type": "code",
   "execution_count": 12,
   "metadata": {},
   "outputs": [
    {
     "data": {
      "text/html": [
       "<div>\n",
       "<style scoped>\n",
       "    .dataframe tbody tr th:only-of-type {\n",
       "        vertical-align: middle;\n",
       "    }\n",
       "\n",
       "    .dataframe tbody tr th {\n",
       "        vertical-align: top;\n",
       "    }\n",
       "\n",
       "    .dataframe thead th {\n",
       "        text-align: right;\n",
       "    }\n",
       "</style>\n",
       "<table border=\"1\" class=\"dataframe\">\n",
       "  <thead>\n",
       "    <tr style=\"text-align: right;\">\n",
       "      <th></th>\n",
       "      <th>patient_id</th>\n",
       "      <th>date</th>\n",
       "      <th>physician_global_disease_activity</th>\n",
       "      <th>global_patient_estimate_disease_activity</th>\n",
       "      <th>das28bsr_score</th>\n",
       "      <th>das283crp_score</th>\n",
       "    </tr>\n",
       "  </thead>\n",
       "  <tbody>\n",
       "    <tr>\n",
       "      <th>0</th>\n",
       "      <td>1</td>\n",
       "      <td>2004-10-19</td>\n",
       "      <td>8.0</td>\n",
       "      <td>NaN</td>\n",
       "      <td>6.6</td>\n",
       "      <td>NaN</td>\n",
       "    </tr>\n",
       "    <tr>\n",
       "      <th>1</th>\n",
       "      <td>2</td>\n",
       "      <td>2001-10-25</td>\n",
       "      <td>4.0</td>\n",
       "      <td>NaN</td>\n",
       "      <td>6.3</td>\n",
       "      <td>NaN</td>\n",
       "    </tr>\n",
       "    <tr>\n",
       "      <th>2</th>\n",
       "      <td>2</td>\n",
       "      <td>2001-11-29</td>\n",
       "      <td>NaN</td>\n",
       "      <td>NaN</td>\n",
       "      <td>4.7</td>\n",
       "      <td>NaN</td>\n",
       "    </tr>\n",
       "    <tr>\n",
       "      <th>3</th>\n",
       "      <td>2</td>\n",
       "      <td>2002-03-25</td>\n",
       "      <td>NaN</td>\n",
       "      <td>NaN</td>\n",
       "      <td>6.5</td>\n",
       "      <td>NaN</td>\n",
       "    </tr>\n",
       "    <tr>\n",
       "      <th>4</th>\n",
       "      <td>2</td>\n",
       "      <td>2002-09-26</td>\n",
       "      <td>NaN</td>\n",
       "      <td>NaN</td>\n",
       "      <td>3.9</td>\n",
       "      <td>NaN</td>\n",
       "    </tr>\n",
       "  </tbody>\n",
       "</table>\n",
       "</div>"
      ],
      "text/plain": [
       "   patient_id        date  physician_global_disease_activity  \\\n",
       "0           1  2004-10-19                                8.0   \n",
       "1           2  2001-10-25                                4.0   \n",
       "2           2  2001-11-29                                NaN   \n",
       "3           2  2002-03-25                                NaN   \n",
       "4           2  2002-09-26                                NaN   \n",
       "\n",
       "   global_patient_estimate_disease_activity  das28bsr_score  das283crp_score  \n",
       "0                                       NaN             6.6              NaN  \n",
       "1                                       NaN             6.3              NaN  \n",
       "2                                       NaN             4.7              NaN  \n",
       "3                                       NaN             6.5              NaN  \n",
       "4                                       NaN             3.9              NaN  "
      ]
     },
     "execution_count": 12,
     "metadata": {},
     "output_type": "execute_result"
    }
   ],
   "source": [
    "clinical = pd.read_csv(filepath_or_buffer=\"/data/deepxray/data/rau_data/clinical_scores.csv\")\n",
    "clinical = clinical.loc[pd.notnull(clinical['das28bsr_score'])]\n",
    "clinical.head()"
   ]
  },
  {
   "cell_type": "code",
   "execution_count": 13,
   "metadata": {},
   "outputs": [
    {
     "name": "stdout",
     "output_type": "stream",
     "text": [
      "(55770, 6)\n"
     ]
    }
   ],
   "source": [
    "print(clinical.shape)"
   ]
  },
  {
   "cell_type": "code",
   "execution_count": 14,
   "metadata": {},
   "outputs": [],
   "source": [
    "df = df.merge(right=clinical, left_on=[\"patient_id\", \"date_x\"], right_on=[\"patient_id\", \"date\"])"
   ]
  },
  {
   "cell_type": "code",
   "execution_count": 15,
   "metadata": {},
   "outputs": [
    {
     "data": {
      "text/html": [
       "<div>\n",
       "<style scoped>\n",
       "    .dataframe tbody tr th:only-of-type {\n",
       "        vertical-align: middle;\n",
       "    }\n",
       "\n",
       "    .dataframe tbody tr th {\n",
       "        vertical-align: top;\n",
       "    }\n",
       "\n",
       "    .dataframe thead th {\n",
       "        text-align: right;\n",
       "    }\n",
       "</style>\n",
       "<table border=\"1\" class=\"dataframe\">\n",
       "  <thead>\n",
       "    <tr style=\"text-align: right;\">\n",
       "      <th></th>\n",
       "      <th>id_x</th>\n",
       "      <th>patient_id</th>\n",
       "      <th>date_x</th>\n",
       "      <th>accession_no</th>\n",
       "      <th>scoring_dates</th>\n",
       "      <th>scoring_types</th>\n",
       "      <th>study_iuid</th>\n",
       "      <th>series_iuid</th>\n",
       "      <th>sop_iuid</th>\n",
       "      <th>body_part</th>\n",
       "      <th>...</th>\n",
       "      <th>foot_right_3</th>\n",
       "      <th>foot_right_4</th>\n",
       "      <th>foot_right_5</th>\n",
       "      <th>rau_score</th>\n",
       "      <th>creation_date</th>\n",
       "      <th>date</th>\n",
       "      <th>physician_global_disease_activity</th>\n",
       "      <th>global_patient_estimate_disease_activity</th>\n",
       "      <th>das28bsr_score</th>\n",
       "      <th>das283crp_score</th>\n",
       "    </tr>\n",
       "  </thead>\n",
       "  <tbody>\n",
       "    <tr>\n",
       "      <th>0</th>\n",
       "      <td>2</td>\n",
       "      <td>1229</td>\n",
       "      <td>2008-08-02</td>\n",
       "      <td>570235</td>\n",
       "      <td>2008-08-02</td>\n",
       "      <td>rau</td>\n",
       "      <td>1.2.276.0.41.10.172.2.26.20080728.66320.2.570235</td>\n",
       "      <td>1.2.392.200046.100.2.1.200050.55991.2008072914...</td>\n",
       "      <td>1.2.392.200046.100.2.1.200050.55991.2008072914...</td>\n",
       "      <td>HAND_BOTH</td>\n",
       "      <td>...</td>\n",
       "      <td>5.0</td>\n",
       "      <td>10.0</td>\n",
       "      <td>10.0</td>\n",
       "      <td>33</td>\n",
       "      <td>2010-07-12</td>\n",
       "      <td>2008-08-02</td>\n",
       "      <td>NaN</td>\n",
       "      <td>NaN</td>\n",
       "      <td>4.3</td>\n",
       "      <td>4.1</td>\n",
       "    </tr>\n",
       "    <tr>\n",
       "      <th>1</th>\n",
       "      <td>32486</td>\n",
       "      <td>5776</td>\n",
       "      <td>2006-05-11</td>\n",
       "      <td>1</td>\n",
       "      <td>2006-05-11</td>\n",
       "      <td>rau</td>\n",
       "      <td>1.2.840.113619.6.95.31.0.3.4.1.4099.13.1290030</td>\n",
       "      <td>1.3.46.670589.26.400122.2.20060329.163703.26797</td>\n",
       "      <td>1.2.840.114257.1.8062006.85706.1.1.1</td>\n",
       "      <td>HAND_LEFT</td>\n",
       "      <td>...</td>\n",
       "      <td>0.0</td>\n",
       "      <td>0.0</td>\n",
       "      <td>5.0</td>\n",
       "      <td>10</td>\n",
       "      <td>2010-07-12</td>\n",
       "      <td>2006-05-11</td>\n",
       "      <td>5.0</td>\n",
       "      <td>NaN</td>\n",
       "      <td>5.7</td>\n",
       "      <td>NaN</td>\n",
       "    </tr>\n",
       "    <tr>\n",
       "      <th>2</th>\n",
       "      <td>37</td>\n",
       "      <td>1478</td>\n",
       "      <td>1997-12-17</td>\n",
       "      <td>NaN</td>\n",
       "      <td>1997-12-17</td>\n",
       "      <td>rau</td>\n",
       "      <td>1.2.276.0.7230010.3.1.2.0.22630.1278840471.831939</td>\n",
       "      <td>1.2.276.0.7230010.3.1.3.0.22630.1278840471.831938</td>\n",
       "      <td>1.2.276.0.7230010.3.1.4.0.22630.1278840471.831940</td>\n",
       "      <td>HAND_BOTH</td>\n",
       "      <td>...</td>\n",
       "      <td>0.0</td>\n",
       "      <td>0.0</td>\n",
       "      <td>0.0</td>\n",
       "      <td>1</td>\n",
       "      <td>2010-07-12</td>\n",
       "      <td>1997-12-17</td>\n",
       "      <td>0.0</td>\n",
       "      <td>NaN</td>\n",
       "      <td>2.1</td>\n",
       "      <td>NaN</td>\n",
       "    </tr>\n",
       "    <tr>\n",
       "      <th>3</th>\n",
       "      <td>41</td>\n",
       "      <td>1756</td>\n",
       "      <td>1997-12-17</td>\n",
       "      <td>NaN</td>\n",
       "      <td>1997-12-17</td>\n",
       "      <td>rau</td>\n",
       "      <td>1.2.276.0.7230010.3.1.2.0.22667.1278840473.756142</td>\n",
       "      <td>1.2.276.0.7230010.3.1.3.0.22667.1278840473.756141</td>\n",
       "      <td>1.2.276.0.7230010.3.1.4.0.22667.1278840473.756143</td>\n",
       "      <td>HAND_BOTH</td>\n",
       "      <td>...</td>\n",
       "      <td>70.0</td>\n",
       "      <td>30.0</td>\n",
       "      <td>10.0</td>\n",
       "      <td>94</td>\n",
       "      <td>2010-07-12</td>\n",
       "      <td>1997-12-17</td>\n",
       "      <td>3.0</td>\n",
       "      <td>NaN</td>\n",
       "      <td>1.4</td>\n",
       "      <td>NaN</td>\n",
       "    </tr>\n",
       "    <tr>\n",
       "      <th>4</th>\n",
       "      <td>42</td>\n",
       "      <td>1756</td>\n",
       "      <td>1997-12-17</td>\n",
       "      <td>NaN</td>\n",
       "      <td>1997-12-17</td>\n",
       "      <td>rau</td>\n",
       "      <td>1.2.276.0.7230010.3.1.2.0.22667.1278840473.756142</td>\n",
       "      <td>1.2.276.0.7230010.3.1.3.0.22688.1278840474.814986</td>\n",
       "      <td>1.2.276.0.7230010.3.1.4.0.22688.1278840474.814987</td>\n",
       "      <td>HAND_BOTH</td>\n",
       "      <td>...</td>\n",
       "      <td>70.0</td>\n",
       "      <td>30.0</td>\n",
       "      <td>10.0</td>\n",
       "      <td>94</td>\n",
       "      <td>2010-07-12</td>\n",
       "      <td>1997-12-17</td>\n",
       "      <td>3.0</td>\n",
       "      <td>NaN</td>\n",
       "      <td>1.4</td>\n",
       "      <td>NaN</td>\n",
       "    </tr>\n",
       "  </tbody>\n",
       "</table>\n",
       "<p>5 rows × 55 columns</p>\n",
       "</div>"
      ],
      "text/plain": [
       "    id_x  patient_id      date_x accession_no scoring_dates scoring_types  \\\n",
       "0      2        1229  2008-08-02       570235    2008-08-02           rau   \n",
       "1  32486        5776  2006-05-11            1    2006-05-11           rau   \n",
       "2     37        1478  1997-12-17          NaN    1997-12-17           rau   \n",
       "3     41        1756  1997-12-17          NaN    1997-12-17           rau   \n",
       "4     42        1756  1997-12-17          NaN    1997-12-17           rau   \n",
       "\n",
       "                                          study_iuid  \\\n",
       "0   1.2.276.0.41.10.172.2.26.20080728.66320.2.570235   \n",
       "1     1.2.840.113619.6.95.31.0.3.4.1.4099.13.1290030   \n",
       "2  1.2.276.0.7230010.3.1.2.0.22630.1278840471.831939   \n",
       "3  1.2.276.0.7230010.3.1.2.0.22667.1278840473.756142   \n",
       "4  1.2.276.0.7230010.3.1.2.0.22667.1278840473.756142   \n",
       "\n",
       "                                         series_iuid  \\\n",
       "0  1.2.392.200046.100.2.1.200050.55991.2008072914...   \n",
       "1    1.3.46.670589.26.400122.2.20060329.163703.26797   \n",
       "2  1.2.276.0.7230010.3.1.3.0.22630.1278840471.831938   \n",
       "3  1.2.276.0.7230010.3.1.3.0.22667.1278840473.756141   \n",
       "4  1.2.276.0.7230010.3.1.3.0.22688.1278840474.814986   \n",
       "\n",
       "                                            sop_iuid  body_part  \\\n",
       "0  1.2.392.200046.100.2.1.200050.55991.2008072914...  HAND_BOTH   \n",
       "1               1.2.840.114257.1.8062006.85706.1.1.1  HAND_LEFT   \n",
       "2  1.2.276.0.7230010.3.1.4.0.22630.1278840471.831940  HAND_BOTH   \n",
       "3  1.2.276.0.7230010.3.1.4.0.22667.1278840473.756143  HAND_BOTH   \n",
       "4  1.2.276.0.7230010.3.1.4.0.22688.1278840474.814987  HAND_BOTH   \n",
       "\n",
       "        ...         foot_right_3 foot_right_4 foot_right_5 rau_score  \\\n",
       "0       ...                  5.0         10.0         10.0        33   \n",
       "1       ...                  0.0          0.0          5.0        10   \n",
       "2       ...                  0.0          0.0          0.0         1   \n",
       "3       ...                 70.0         30.0         10.0        94   \n",
       "4       ...                 70.0         30.0         10.0        94   \n",
       "\n",
       "   creation_date        date  physician_global_disease_activity  \\\n",
       "0     2010-07-12  2008-08-02                                NaN   \n",
       "1     2010-07-12  2006-05-11                                5.0   \n",
       "2     2010-07-12  1997-12-17                                0.0   \n",
       "3     2010-07-12  1997-12-17                                3.0   \n",
       "4     2010-07-12  1997-12-17                                3.0   \n",
       "\n",
       "   global_patient_estimate_disease_activity  das28bsr_score  das283crp_score  \n",
       "0                                       NaN             4.3              4.1  \n",
       "1                                       NaN             5.7              NaN  \n",
       "2                                       NaN             2.1              NaN  \n",
       "3                                       NaN             1.4              NaN  \n",
       "4                                       NaN             1.4              NaN  \n",
       "\n",
       "[5 rows x 55 columns]"
      ]
     },
     "execution_count": 15,
     "metadata": {},
     "output_type": "execute_result"
    }
   ],
   "source": [
    "df.head()"
   ]
  },
  {
   "cell_type": "code",
   "execution_count": 17,
   "metadata": {},
   "outputs": [
    {
     "data": {
      "text/plain": [
       "(12232, 55)"
      ]
     },
     "execution_count": 17,
     "metadata": {},
     "output_type": "execute_result"
    }
   ],
   "source": [
    "df.shape"
   ]
  },
  {
   "cell_type": "code",
   "execution_count": 27,
   "metadata": {},
   "outputs": [],
   "source": [
    "names = df[\"sop_iuid\"].as_matrix()"
   ]
  },
  {
   "cell_type": "code",
   "execution_count": 20,
   "metadata": {
    "scrolled": true
   },
   "outputs": [
    {
     "data": {
      "image/png": "[encoded data removed]",
      "text/plain": [
       "<matplotlib.figure.Figure at 0x7f4dc6db4208>"
      ]
     },
     "metadata": {},
     "output_type": "display_data"
    }
   ],
   "source": [
    "plt.hist(round(df['das28bsr_score'], 0))\n",
    "plt.show()"
   ]
  },
  {
   "cell_type": "code",
   "execution_count": 24,
   "metadata": {},
   "outputs": [],
   "source": [
    "root = \"/data\"\n",
    "#root = \"/Volumes\"\n",
    "dirname = \"deepxray/joint_detection/output\"\n",
    "\n",
    "# function to load and preprocess the image\n",
    "def preprocess_img(xray_name, joint_name):\n",
    "    # folder name\n",
    "    folder_name = \"predictions_extract_\" + joint_name\n",
    "    # file name\n",
    "    file_name = xray_name + \"_\" + joint_name + \".jpg\"\n",
    "    \n",
    "    # read image\n",
    "    image = Image.open(fp=os.path.join(root, dirname, folder_name, file_name))\n",
    "    \n",
    "    # turn into np array\n",
    "    data = np.asarray(a=image, dtype=\"uint8\")\n",
    "    return(data)"
   ]
  },
  {
   "cell_type": "code",
   "execution_count": 25,
   "metadata": {},
   "outputs": [],
   "source": [
    "# get das-score from dataframe\n",
    "def get_score(index):\n",
    "    score = df['das28bsr_score'].as_matrix()[index]\n",
    "    return(score)"
   ]
  },
  {
   "cell_type": "code",
   "execution_count": 30,
   "metadata": {},
   "outputs": [],
   "source": [
    "# get patient_id from dataframe\n",
    "def get_pid(index):\n",
    "    pid = df[\"patient_id\"].as_matrix()[index]\n",
    "    return(pid)"
   ]
  },
  {
   "cell_type": "code",
   "execution_count": 31,
   "metadata": {},
   "outputs": [
    {
     "name": "stdout",
     "output_type": "stream",
     "text": [
      "hand_left_1 -> pip5\n",
      "hand_left_2 -> mcp5\n",
      "hand_left_3 -> pip4\n",
      "hand_left_4 -> mcp4\n",
      "hand_left_5 -> pip3\n",
      "hand_left_6 -> mcp3\n",
      "hand_left_7 -> mcp2\n",
      "hand_left_8 -> pip2\n",
      "hand_left_9 -> mcp1\n",
      "hand_left_10 -> pip1\n"
     ]
    }
   ],
   "source": [
    "# joint names in dataframe\n",
    "joint_numbers = [\"hand_left_1\", \"hand_left_2\", \"hand_left_3\", \"hand_left_4\", \"hand_left_5\", \n",
    "                 \"hand_left_6\", \"hand_left_7\", \"hand_left_8\", \"hand_left_9\", \"hand_left_10\"]\n",
    "# corresponding joint names in image names\n",
    "joint_names = [\"pip5\", \"mcp5\", \"pip4\", \"mcp4\", \"pip3\", \"mcp3\", \"mcp2\", \"pip2\", \"mcp1\", \"pip1\"]\n",
    "\n",
    "\n",
    "for i in range(10):\n",
    "    print(joint_numbers[i] + \" -> \" + joint_names[i])"
   ]
  },
  {
   "cell_type": "code",
   "execution_count": null,
   "metadata": {},
   "outputs": [
    {
     "name": "stdout",
     "output_type": "stream",
     "text": [
      "Importing images, 98.10 % finished\n"
     ]
    }
   ],
   "source": [
    "images = []\n",
    "labels = []\n",
    "patients = []\n",
    "n_img = names.shape[0]\n",
    "\n",
    "for i, xray_name in enumerate(names):\n",
    "    if (i % 100) == 0:\n",
    "        clear_output()\n",
    "        print(\"Importing images, {0:.2f} % finished\".format(i/n_img*100))\n",
    "        \n",
    "    for joint in range(10):\n",
    "        try:\n",
    "            img = preprocess_img(xray_name, joint_names[joint])\n",
    "        except Exception: \n",
    "            pass\n",
    "        else:\n",
    "            lbl = get_score(i)\n",
    "            if np.isnan(lbl):\n",
    "                continue\n",
    "            else:\n",
    "                images.append(img)\n",
    "                labels.append(lbl)\n",
    "                patients.append(get_pid(i))"
   ]
  },
  {
   "cell_type": "code",
   "execution_count": 33,
   "metadata": {},
   "outputs": [
    {
     "name": "stdout",
     "output_type": "stream",
     "text": [
      "(62649, 150, 150)\n",
      "(62649,)\n",
      "(62649,)\n"
     ]
    }
   ],
   "source": [
    "images = np.array(images)\n",
    "labels = np.array(labels)\n",
    "patients = np.array(patients)\n",
    "print(images.shape)\n",
    "print(labels.shape)\n",
    "print(patients.shape)"
   ]
  },
  {
   "cell_type": "code",
   "execution_count": 34,
   "metadata": {},
   "outputs": [
    {
     "data": {
      "image/png": "[encoded data removed]",
      "text/plain": [
       "<matplotlib.figure.Figure at 0x7f4dc049e518>"
      ]
     },
     "metadata": {},
     "output_type": "display_data"
    },
    {
     "data": {
      "image/png": "[encoded data removed]",
      "text/plain": [
       "<matplotlib.figure.Figure at 0x7f4dbefb4cc0>"
      ]
     },
     "metadata": {},
     "output_type": "display_data"
    },
    {
     "data": {
      "image/png": "[encoded data removed]",
      "text/plain": [
       "<matplotlib.figure.Figure at 0x7f4dbcd77f28>"
      ]
     },
     "metadata": {},
     "output_type": "display_data"
    }
   ],
   "source": [
    "for i in range(3):    \n",
    "    plt.imshow(images[i].squeeze(), cmap='gray')\n",
    "    plt.show()"
   ]
  },
  {
   "cell_type": "code",
   "execution_count": 35,
   "metadata": {},
   "outputs": [],
   "source": [
    "with h5py.File('/data/joint_scoring/img_array_das.h5', 'w') as hf:\n",
    "    hf.create_dataset(\"img_array\",  data=images)\n",
    "    \n",
    "with h5py.File('/data/joint_scoring/lbl_array_das.h5', 'w') as hf:\n",
    "    hf.create_dataset(\"lbl_array\",  data=labels)\n",
    "    \n",
    "with h5py.File('/data/joint_scoring/pid_array_das.h5', 'w') as hf:\n",
    "    hf.create_dataset(\"pid_array\",  data=patients)"
   ]
  },
  {
   "cell_type": "code",
   "execution_count": null,
   "metadata": {},
   "outputs": [],
   "source": [
    "with h5py.File('/data/joint_scoring/img_array.h5', 'r') as hf:\n",
    "    images = hf['img_array_das'][:]\n",
    "    \n",
    "with h5py.File('/data/joint_scoring/lbl_array.h5', 'r') as hf:\n",
    "    labels = hf['lbl_array_das'][:]\n",
    "    \n",
    "with h5py.File('/data/joint_scoring/pid_array.h5', 'r') as hf:\n",
    "    patients = hf['pid_array_das'][:]"
   ]
  },
  {
   "cell_type": "code",
   "execution_count": 36,
   "metadata": {},
   "outputs": [],
   "source": [
    "images = images.reshape(images.shape[0], images.shape[1], images.shape[2], 1)"
   ]
  },
  {
   "cell_type": "code",
   "execution_count": 40,
   "metadata": {},
   "outputs": [
    {
     "data": {
      "text/plain": [
       "array([4, 4, 4, ..., 2, 2, 2])"
      ]
     },
     "execution_count": 40,
     "metadata": {},
     "output_type": "execute_result"
    }
   ],
   "source": [
    "labels = np.round(labels, 0)\n",
    "labels = labels.astype(\"int\")\n",
    "labels"
   ]
  },
  {
   "cell_type": "code",
   "execution_count": 41,
   "metadata": {},
   "outputs": [
    {
     "name": "stdout",
     "output_type": "stream",
     "text": [
      "Creating test/train/validation split, 99.92 % finished\n"
     ]
    }
   ],
   "source": [
    "img_train = []\n",
    "labels_train = []\n",
    "patients_train = []\n",
    "\n",
    "img_test = []\n",
    "labels_test = []\n",
    "patients_test = []\n",
    "\n",
    "img_val = []\n",
    "labels_val = []\n",
    "patients_val = []\n",
    "\n",
    "indices = np.random.permutation(images.shape[0])\n",
    "images = images[indices]\n",
    "labels = labels[indices]\n",
    "patients = patients[indices]\n",
    "\n",
    "for i in range(labels.shape[0]):\n",
    "    \n",
    "    if (i % 100) == 0:\n",
    "        clear_output()\n",
    "        print(\"Creating test/train/validation split, {0:.2f} % finished\".format(i/labels.shape[0]*100))\n",
    "    \n",
    "    if patients[i] in patients_train:\n",
    "        img_train.append(images[i])\n",
    "        labels_train.append(labels[i])\n",
    "        patients_train.append(patients[i])\n",
    "    elif patients[i] in patients_test:\n",
    "        img_test.append(images[i])\n",
    "        labels_test.append(labels[i])\n",
    "        patients_test.append(patients[i])\n",
    "    elif patients[i] in patients_val:\n",
    "        img_val.append(images[i])\n",
    "        labels_val.append(labels[i])\n",
    "        patients_val.append(patients[i])\n",
    "    else:\n",
    "        choice = np.random.choice(a=3, p=[0.7, 0.2, 0.1])\n",
    "        if choice == 0:\n",
    "            img_train.append(images[i])\n",
    "            labels_train.append(labels[i])\n",
    "            patients_train.append(patients[i])\n",
    "        elif choice == 1:\n",
    "            img_test.append(images[i])\n",
    "            labels_test.append(labels[i])\n",
    "            patients_test.append(patients[i])\n",
    "        else:\n",
    "            img_val.append(images[i])\n",
    "            labels_val.append(labels[i])\n",
    "            patients_val.append(patients[i])"
   ]
  },
  {
   "cell_type": "code",
   "execution_count": 45,
   "metadata": {},
   "outputs": [],
   "source": [
    "img_train = np.array(img_train)\n",
    "labels_train = np.array(labels_train)\n",
    "patients_train = np.array(patients_train)\n",
    "\n",
    "img_test = np.array(img_test)\n",
    "labels_test = np.array(labels_test)\n",
    "patients_test = np.array(patients_test)\n",
    "\n",
    "img_val = np.array(img_val)\n",
    "labels_val = np.array(labels_val)\n",
    "patients_val = np.array(labels_val)"
   ]
  },
  {
   "cell_type": "code",
   "execution_count": 46,
   "metadata": {},
   "outputs": [],
   "source": [
    "with h5py.File('/data/joint_scoring/img_train_das.h5', 'w') as hf:\n",
    "    hf.create_dataset(\"img_train_das\",  data=img_train)\n",
    "with h5py.File('/data/joint_scoring/img_test_das.h5', 'w') as hf:\n",
    "    hf.create_dataset(\"img_test_das\",  data=img_test)\n",
    "with h5py.File('/data/joint_scoring/img_val_das.h5', 'w') as hf:\n",
    "    hf.create_dataset(\"img_val_das\",  data=img_val)\n",
    "\n",
    "with h5py.File('/data/joint_scoring/labels_train_das.h5', 'w') as hf:\n",
    "    hf.create_dataset(\"labels_train_das\",  data=labels_train)\n",
    "with h5py.File('/data/joint_scoring/labels_test_das.h5', 'w') as hf:\n",
    "    hf.create_dataset(\"labels_test_das\",  data=labels_test)\n",
    "with h5py.File('/data/joint_scoring/labels_val_das.h5', 'w') as hf:\n",
    "    hf.create_dataset(\"labels_val_das\",  data=labels_val)\n",
    "    \n",
    "with h5py.File('/data/joint_scoring/patients_train_das.h5', 'w') as hf:\n",
    "    hf.create_dataset(\"patients_train_das\",  data=patients_train)\n",
    "with h5py.File('/data/joint_scoring/patients_test_das.h5', 'w') as hf:\n",
    "    hf.create_dataset(\"patients_test_das\",  data=patients_test)\n",
    "with h5py.File('/data/joint_scoring/patients_val_das.h5', 'w') as hf:\n",
    "    hf.create_dataset(\"patients_val_das\",  data=patients_val)"
   ]
  },
  {
   "cell_type": "code",
   "execution_count": 151,
   "metadata": {},
   "outputs": [],
   "source": [
    "with h5py.File('/data/joint_scoring/labels_train_das.h5', 'r') as hf:\n",
    "    labels_train = hf['labels_train_das'][:]\n",
    "\n",
    "with h5py.File('/data/joint_scoring/labels_test_das.h5', 'r') as hf:\n",
    "    labels_test = hf['labels_test_das'][:]\n",
    "    \n",
    "with h5py.File('/data/joint_scoring/labels_val_das.h5', 'r') as hf:\n",
    "    labels_val = hf['labels_val_das'][:]"
   ]
  },
  {
   "cell_type": "code",
   "execution_count": 152,
   "metadata": {},
   "outputs": [],
   "source": [
    "labels_train[labels_train == 9] = 8\n",
    "labels_test[labels_test == 9] = 8\n",
    "labels_val[labels_val == 9] = 8"
   ]
  },
  {
   "cell_type": "code",
   "execution_count": 153,
   "metadata": {},
   "outputs": [
    {
     "name": "stdout",
     "output_type": "stream",
     "text": [
      "[0 1 2 3 4 5 6 7 8]\n",
      "[0 1 2 3 4 5 6 7 8]\n",
      "[0 1 2 3 4 5 6 7 8]\n"
     ]
    }
   ],
   "source": [
    "print(np.unique(labels_train))\n",
    "print(np.unique(labels_test))\n",
    "print(np.unique(labels_val))"
   ]
  },
  {
   "cell_type": "code",
   "execution_count": 154,
   "metadata": {},
   "outputs": [
    {
     "name": "stdout",
     "output_type": "stream",
     "text": [
      "48.7440758294\n",
      "{0: 18.3113645965357, 1: 1.7230371695487974, 2: 0.46824393669313458, 3: 0.47928830502476999, 4: 0.488575518807841, 5: 0.83594669135373878, 6: 1.4598026337947527, 7: 5.8445253505933117, 8: 22.824117956819379}\n"
     ]
    }
   ],
   "source": [
    "# define class weights because of imbalance\n",
    "weights = class_weight.compute_class_weight(class_weight='balanced', \n",
    "                                                 classes=np.unique(labels_train), \n",
    "                                                 y=labels_train)\n",
    "\n",
    "print(max(weights)/min(weights))\n",
    "\n",
    "weights = dict(enumerate(weights))\n",
    "print(weights)"
   ]
  },
  {
   "cell_type": "code",
   "execution_count": 155,
   "metadata": {},
   "outputs": [],
   "source": [
    "# model.fit does not work with class_weights for a HDF5 Matrix\n",
    "# therefore, create sample weights\n",
    "\n",
    "sample_weights = [ weights[x] for x in labels_train ]\n",
    "\n",
    "sample_weights = np.array(sample_weights)"
   ]
  },
  {
   "cell_type": "code",
   "execution_count": 156,
   "metadata": {},
   "outputs": [
    {
     "name": "stdout",
     "output_type": "stream",
     "text": [
      "9\n"
     ]
    }
   ],
   "source": [
    "# one hot encode outputs\n",
    "labels_train_onehot = LabelBinarizer().fit_transform(labels_train)\n",
    "labels_test_onehot = LabelBinarizer().fit_transform(labels_test)\n",
    "labels_val_onehot = LabelBinarizer().fit_transform(labels_val)\n",
    "num_classes = labels_train_onehot.shape[1]\n",
    "print(num_classes)"
   ]
  },
  {
   "cell_type": "code",
   "execution_count": 157,
   "metadata": {},
   "outputs": [
    {
     "data": {
      "text/plain": [
       "(43343, 9)"
      ]
     },
     "execution_count": 157,
     "metadata": {},
     "output_type": "execute_result"
    }
   ],
   "source": [
    "labels_train_onehot.shape"
   ]
  },
  {
   "cell_type": "code",
   "execution_count": 158,
   "metadata": {},
   "outputs": [
    {
     "data": {
      "text/plain": [
       "array([0, 0, 0, 1, 0, 0, 0, 0, 0])"
      ]
     },
     "execution_count": 158,
     "metadata": {},
     "output_type": "execute_result"
    }
   ],
   "source": [
    "labels_train_onehot[0]"
   ]
  },
  {
   "cell_type": "code",
   "execution_count": 159,
   "metadata": {},
   "outputs": [],
   "source": [
    "with h5py.File('/data/joint_scoring/labels_train_onehot_das.h5', 'w') as hf:\n",
    "    hf.create_dataset(\"labels_train_onehot_das\",  data=labels_train_onehot)\n",
    "with h5py.File('/data/joint_scoring/labels_test_onehot_das.h5', 'w') as hf:\n",
    "    hf.create_dataset(\"labels_test_onehot_das\",  data=labels_test_onehot)\n",
    "with h5py.File('/data/joint_scoring/labels_val_onehot_das.h5', 'w') as hf:\n",
    "    hf.create_dataset(\"labels_val_onehot_das\",  data=labels_val_onehot)"
   ]
  },
  {
   "cell_type": "markdown",
   "metadata": {},
   "source": [
    "Import data as HDF5 Matrix"
   ]
  },
  {
   "cell_type": "code",
   "execution_count": 160,
   "metadata": {},
   "outputs": [],
   "source": [
    "img_train = HDF5Matrix('/data/joint_scoring/img_train_das.h5', 'img_train_das')\n",
    "img_test = HDF5Matrix('/data/joint_scoring/img_test_das.h5', 'img_test_das')\n",
    "\n",
    "labels_train = HDF5Matrix('/data/joint_scoring/labels_train_onehot_das.h5', 'labels_train_onehot_das')\n",
    "labels_test = HDF5Matrix('/data/joint_scoring/labels_test_onehot_das.h5', 'labels_test_onehot_das')"
   ]
  },
  {
   "cell_type": "code",
   "execution_count": 161,
   "metadata": {},
   "outputs": [
    {
     "data": {
      "text/plain": [
       "(43343, 10)"
      ]
     },
     "execution_count": 161,
     "metadata": {},
     "output_type": "execute_result"
    }
   ],
   "source": [
    "labels_train.shape"
   ]
  },
  {
   "cell_type": "code",
   "execution_count": 162,
   "metadata": {},
   "outputs": [
    {
     "data": {
      "text/plain": [
       "array([0, 0, 0, 1, 0, 0, 0, 0, 0, 0])"
      ]
     },
     "execution_count": 162,
     "metadata": {},
     "output_type": "execute_result"
    }
   ],
   "source": [
    "labels_train[0]"
   ]
  },
  {
   "cell_type": "markdown",
   "metadata": {},
   "source": [
    "## 2. Model"
   ]
  },
  {
   "cell_type": "code",
   "execution_count": 108,
   "metadata": {},
   "outputs": [],
   "source": [
    "def conv_model():\n",
    "    # create model\n",
    "    model = Sequential()\n",
    "    model.add(Lambda(lambda x: x / 255., input_shape=(150, 150, 1)))\n",
    "    model.add(Conv2D(filters=32, kernel_size=(3, 3), padding=\"same\", kernel_initializer=\"he_normal\"))\n",
    "    model.add(BatchNormalization())\n",
    "    model.add(Activation(\"relu\"))\n",
    "    model.add(Conv2D(filters=32, kernel_size=(3, 3), padding=\"same\", kernel_initializer=\"he_normal\"))\n",
    "    model.add(BatchNormalization())\n",
    "    model.add(Activation(\"relu\"))\n",
    "    model.add(MaxPooling2D(pool_size=(2, 2)))\n",
    "    model.add(Conv2D(filters=32, kernel_size=(3, 3), padding=\"same\", kernel_initializer=\"he_normal\"))\n",
    "    model.add(BatchNormalization())\n",
    "    model.add(Activation(\"relu\"))\n",
    "    model.add(Conv2D(filters=32, kernel_size=(3, 3), padding=\"same\", kernel_initializer=\"he_normal\"))\n",
    "    model.add(BatchNormalization())\n",
    "    model.add(Activation(\"relu\"))\n",
    "    model.add(MaxPooling2D(pool_size=(2, 2)))\n",
    "    model.add(Conv2D(filters=64, kernel_size=(3, 3), padding=\"same\", kernel_initializer=\"he_normal\"))\n",
    "    model.add(BatchNormalization())\n",
    "    model.add(Activation(\"relu\"))\n",
    "    model.add(Conv2D(filters=64, kernel_size=(3, 3), padding=\"same\", kernel_initializer=\"he_normal\"))\n",
    "    model.add(BatchNormalization())\n",
    "    model.add(Activation(\"relu\"))\n",
    "    model.add(MaxPooling2D(pool_size=(2, 2)))\n",
    "    model.add(Conv2D(filters=64, kernel_size=(3, 3), padding=\"same\", kernel_initializer=\"he_normal\"))\n",
    "    model.add(BatchNormalization())\n",
    "    model.add(Activation(\"relu\"))\n",
    "    model.add(Conv2D(filters=64, kernel_size=(3, 3), padding=\"same\", kernel_initializer=\"he_normal\"))\n",
    "    model.add(BatchNormalization())\n",
    "    model.add(Activation(\"relu\"))\n",
    "    model.add(MaxPooling2D(pool_size=(2, 2)))\n",
    "    model.add(Conv2D(filters=128, kernel_size=(3, 3), padding=\"same\", kernel_initializer=\"he_normal\"))\n",
    "    model.add(BatchNormalization())\n",
    "    model.add(Activation(\"relu\"))\n",
    "    model.add(Conv2D(filters=128, kernel_size=(3, 3), padding=\"same\", kernel_initializer=\"he_normal\"))\n",
    "    model.add(BatchNormalization())\n",
    "    model.add(Activation(\"relu\"))\n",
    "    model.add(MaxPooling2D(pool_size=(2, 2)))\n",
    "    model.add(Conv2D(filters=128, kernel_size=(3, 3), padding=\"same\", kernel_initializer=\"he_normal\"))\n",
    "    model.add(BatchNormalization())\n",
    "    model.add(Activation(\"relu\"))\n",
    "    model.add(Conv2D(filters=128, kernel_size=(3, 3), padding=\"same\", kernel_initializer=\"he_normal\"))\n",
    "    model.add(BatchNormalization())\n",
    "    model.add(Activation(\"relu\"))\n",
    "    model.add(MaxPooling2D(pool_size=(2, 2)))\n",
    "    model.add(Flatten())\n",
    "    model.add(Dense(units=256, kernel_initializer=\"he_normal\"))\n",
    "    model.add(BatchNormalization())\n",
    "    model.add(Activation(\"relu\"))\n",
    "    model.add(Dropout(rate=0.5))\n",
    "    model.add(Dense(units=256, kernel_initializer=\"he_normal\"))\n",
    "    model.add(BatchNormalization())\n",
    "    model.add(Activation(\"relu\"))\n",
    "    model.add(Dropout(rate=0.5))\n",
    "    model.add(Dense(units=num_classes, activation=\"softmax\",\n",
    "                    kernel_initializer=\"he_normal\"))\n",
    "\n",
    "    # Compile model\n",
    "    model.compile(optimizer=\"adam\", loss=\"categorical_crossentropy\",\n",
    "                  metrics=[\"accuracy\"])\n",
    "\n",
    "    return model"
   ]
  },
  {
   "cell_type": "code",
   "execution_count": 109,
   "metadata": {},
   "outputs": [
    {
     "name": "stdout",
     "output_type": "stream",
     "text": [
      "_________________________________________________________________\n",
      "Layer (type)                 Output Shape              Param #   \n",
      "=================================================================\n",
      "lambda_6 (Lambda)            (None, 150, 150, 1)       0         \n",
      "_________________________________________________________________\n",
      "conv2d_61 (Conv2D)           (None, 150, 150, 32)      320       \n",
      "_________________________________________________________________\n",
      "batch_normalization_71 (Batc (None, 150, 150, 32)      128       \n",
      "_________________________________________________________________\n",
      "activation_71 (Activation)   (None, 150, 150, 32)      0         \n",
      "_________________________________________________________________\n",
      "conv2d_62 (Conv2D)           (None, 150, 150, 32)      9248      \n",
      "_________________________________________________________________\n",
      "batch_normalization_72 (Batc (None, 150, 150, 32)      128       \n",
      "_________________________________________________________________\n",
      "activation_72 (Activation)   (None, 150, 150, 32)      0         \n",
      "_________________________________________________________________\n",
      "max_pooling2d_31 (MaxPooling (None, 75, 75, 32)        0         \n",
      "_________________________________________________________________\n",
      "conv2d_63 (Conv2D)           (None, 75, 75, 32)        9248      \n",
      "_________________________________________________________________\n",
      "batch_normalization_73 (Batc (None, 75, 75, 32)        128       \n",
      "_________________________________________________________________\n",
      "activation_73 (Activation)   (None, 75, 75, 32)        0         \n",
      "_________________________________________________________________\n",
      "conv2d_64 (Conv2D)           (None, 75, 75, 32)        9248      \n",
      "_________________________________________________________________\n",
      "batch_normalization_74 (Batc (None, 75, 75, 32)        128       \n",
      "_________________________________________________________________\n",
      "activation_74 (Activation)   (None, 75, 75, 32)        0         \n",
      "_________________________________________________________________\n",
      "max_pooling2d_32 (MaxPooling (None, 37, 37, 32)        0         \n",
      "_________________________________________________________________\n",
      "conv2d_65 (Conv2D)           (None, 37, 37, 64)        18496     \n",
      "_________________________________________________________________\n",
      "batch_normalization_75 (Batc (None, 37, 37, 64)        256       \n",
      "_________________________________________________________________\n",
      "activation_75 (Activation)   (None, 37, 37, 64)        0         \n",
      "_________________________________________________________________\n",
      "conv2d_66 (Conv2D)           (None, 37, 37, 64)        36928     \n",
      "_________________________________________________________________\n",
      "batch_normalization_76 (Batc (None, 37, 37, 64)        256       \n",
      "_________________________________________________________________\n",
      "activation_76 (Activation)   (None, 37, 37, 64)        0         \n",
      "_________________________________________________________________\n",
      "max_pooling2d_33 (MaxPooling (None, 18, 18, 64)        0         \n",
      "_________________________________________________________________\n",
      "conv2d_67 (Conv2D)           (None, 18, 18, 64)        36928     \n",
      "_________________________________________________________________\n",
      "batch_normalization_77 (Batc (None, 18, 18, 64)        256       \n",
      "_________________________________________________________________\n",
      "activation_77 (Activation)   (None, 18, 18, 64)        0         \n",
      "_________________________________________________________________\n",
      "conv2d_68 (Conv2D)           (None, 18, 18, 64)        36928     \n",
      "_________________________________________________________________\n",
      "batch_normalization_78 (Batc (None, 18, 18, 64)        256       \n",
      "_________________________________________________________________\n",
      "activation_78 (Activation)   (None, 18, 18, 64)        0         \n",
      "_________________________________________________________________\n",
      "max_pooling2d_34 (MaxPooling (None, 9, 9, 64)          0         \n",
      "_________________________________________________________________\n",
      "conv2d_69 (Conv2D)           (None, 9, 9, 128)         73856     \n",
      "_________________________________________________________________\n",
      "batch_normalization_79 (Batc (None, 9, 9, 128)         512       \n",
      "_________________________________________________________________\n",
      "activation_79 (Activation)   (None, 9, 9, 128)         0         \n",
      "_________________________________________________________________\n",
      "conv2d_70 (Conv2D)           (None, 9, 9, 128)         147584    \n",
      "_________________________________________________________________\n",
      "batch_normalization_80 (Batc (None, 9, 9, 128)         512       \n",
      "_________________________________________________________________\n",
      "activation_80 (Activation)   (None, 9, 9, 128)         0         \n",
      "_________________________________________________________________\n",
      "max_pooling2d_35 (MaxPooling (None, 4, 4, 128)         0         \n",
      "_________________________________________________________________\n",
      "conv2d_71 (Conv2D)           (None, 4, 4, 128)         147584    \n",
      "_________________________________________________________________\n",
      "batch_normalization_81 (Batc (None, 4, 4, 128)         512       \n",
      "_________________________________________________________________\n",
      "activation_81 (Activation)   (None, 4, 4, 128)         0         \n",
      "_________________________________________________________________\n",
      "conv2d_72 (Conv2D)           (None, 4, 4, 128)         147584    \n",
      "_________________________________________________________________\n",
      "batch_normalization_82 (Batc (None, 4, 4, 128)         512       \n",
      "_________________________________________________________________\n",
      "activation_82 (Activation)   (None, 4, 4, 128)         0         \n",
      "_________________________________________________________________\n",
      "max_pooling2d_36 (MaxPooling (None, 2, 2, 128)         0         \n",
      "_________________________________________________________________\n",
      "flatten_6 (Flatten)          (None, 512)               0         \n",
      "_________________________________________________________________\n",
      "dense_16 (Dense)             (None, 256)               131328    \n",
      "_________________________________________________________________\n",
      "batch_normalization_83 (Batc (None, 256)               1024      \n",
      "_________________________________________________________________\n",
      "activation_83 (Activation)   (None, 256)               0         \n",
      "_________________________________________________________________\n",
      "dropout_11 (Dropout)         (None, 256)               0         \n",
      "_________________________________________________________________\n",
      "dense_17 (Dense)             (None, 256)               65792     \n",
      "_________________________________________________________________\n",
      "batch_normalization_84 (Batc (None, 256)               1024      \n",
      "_________________________________________________________________\n",
      "activation_84 (Activation)   (None, 256)               0         \n",
      "_________________________________________________________________\n",
      "dropout_12 (Dropout)         (None, 256)               0         \n",
      "_________________________________________________________________\n",
      "dense_18 (Dense)             (None, 9)                 2313      \n",
      "=================================================================\n",
      "Total params: 879,017\n",
      "Trainable params: 876,201\n",
      "Non-trainable params: 2,816\n",
      "_________________________________________________________________\n"
     ]
    }
   ],
   "source": [
    "# build the model\n",
    "model = conv_model()\n",
    "model.summary()"
   ]
  },
  {
   "cell_type": "code",
   "execution_count": 55,
   "metadata": {},
   "outputs": [],
   "source": [
    "# create log directory\n",
    "now = datetime.now\n",
    "new_folder = '{}'.format(now().strftime('%Y%m%d_%H%M%S'))"
   ]
  },
  {
   "cell_type": "code",
   "execution_count": 56,
   "metadata": {},
   "outputs": [
    {
     "name": "stdout",
     "output_type": "stream",
     "text": [
      "20171204_101221\n"
     ]
    }
   ],
   "source": [
    "print(new_folder)"
   ]
  },
  {
   "cell_type": "code",
   "execution_count": 57,
   "metadata": {},
   "outputs": [],
   "source": [
    "desc = \"Predicting DAS scores\"\n",
    "\n",
    "with open(\"/data/joint_scoring/readme.txt\", \"a\") as myfile:\n",
    "    myfile.write(\"\\n\" + new_folder + \"    \" + desc)"
   ]
  },
  {
   "cell_type": "code",
   "execution_count": 58,
   "metadata": {},
   "outputs": [],
   "source": [
    "# tensorboard callback\n",
    "tb_callback = callbacks.TensorBoard(log_dir=\"/data/joint_scoring/tensorboard/\" + new_folder,\n",
    "                                    histogram_freq=0, write_graph=True,\n",
    "                                    write_images=True)"
   ]
  },
  {
   "cell_type": "code",
   "execution_count": 163,
   "metadata": {
    "scrolled": false
   },
   "outputs": [
    {
     "name": "stdout",
     "output_type": "stream",
     "text": [
      "Train on 43343 samples, validate on 13122 samples\n",
      "Epoch 1/25\n",
      "43343/43343 [==============================] - 91s - loss: 2.3775 - acc: 0.1028 - val_loss: 2.2542 - val_acc: 0.0730\n",
      "Epoch 2/25\n",
      "43343/43343 [==============================] - 89s - loss: 2.2375 - acc: 0.0800 - val_loss: 2.1619 - val_acc: 0.0546\n",
      "Epoch 3/25\n",
      "43343/43343 [==============================] - 89s - loss: 2.1918 - acc: 0.0650 - val_loss: 2.1846 - val_acc: 0.0275\n",
      "Epoch 4/25\n",
      "43343/43343 [==============================] - 89s - loss: 2.1672 - acc: 0.0613 - val_loss: 2.2136 - val_acc: 0.1061\n",
      "Epoch 5/25\n",
      "43343/43343 [==============================] - 89s - loss: 2.1538 - acc: 0.0576 - val_loss: 2.1831 - val_acc: 0.0341\n",
      "Epoch 6/25\n",
      "43343/43343 [==============================] - 89s - loss: 2.1366 - acc: 0.0614 - val_loss: 2.2594 - val_acc: 0.0163\n",
      "Epoch 7/25\n",
      "43343/43343 [==============================] - 89s - loss: 2.1484 - acc: 0.0595 - val_loss: 2.1444 - val_acc: 0.0434\n",
      "Epoch 8/25\n",
      "43343/43343 [==============================] - 89s - loss: 2.1379 - acc: 0.0512 - val_loss: 2.7122 - val_acc: 0.1435\n",
      "Epoch 9/25\n",
      "43343/43343 [==============================] - 89s - loss: 2.1404 - acc: 0.0579 - val_loss: 2.2093 - val_acc: 0.0101\n",
      "Epoch 10/25\n",
      "43343/43343 [==============================] - 89s - loss: 2.1420 - acc: 0.0476 - val_loss: 2.2154 - val_acc: 0.0376\n",
      "Epoch 11/25\n",
      "43343/43343 [==============================] - 89s - loss: 2.1288 - acc: 0.0519 - val_loss: 2.1697 - val_acc: 0.0473\n",
      "Epoch 12/25\n",
      "43343/43343 [==============================] - 89s - loss: 2.1227 - acc: 0.0521 - val_loss: 2.2315 - val_acc: 0.0209\n",
      "Epoch 13/25\n",
      "43343/43343 [==============================] - 89s - loss: 2.1076 - acc: 0.0558 - val_loss: 2.1695 - val_acc: 0.0395\n",
      "Epoch 14/25\n",
      "43343/43343 [==============================] - 89s - loss: 2.1165 - acc: 0.0525 - val_loss: 2.1281 - val_acc: 0.0589\n",
      "Epoch 15/25\n",
      "43343/43343 [==============================] - 89s - loss: 2.1111 - acc: 0.0524 - val_loss: 2.1301 - val_acc: 0.0724\n",
      "Epoch 16/25\n",
      "43343/43343 [==============================] - 89s - loss: 2.1015 - acc: 0.0562 - val_loss: 2.1916 - val_acc: 0.0491\n",
      "Epoch 17/25\n",
      "43343/43343 [==============================] - 88s - loss: 2.0876 - acc: 0.0576 - val_loss: 2.3051 - val_acc: 0.0453\n",
      "Epoch 19/25\n",
      "43343/43343 [==============================] - 89s - loss: 2.0889 - acc: 0.0593 - val_loss: 2.1898 - val_acc: 0.0564\n",
      "Epoch 20/25\n",
      "43343/43343 [==============================] - 88s - loss: 2.0763 - acc: 0.0527 - val_loss: 2.2458 - val_acc: 0.0427\n",
      "Epoch 21/25\n",
      "43343/43343 [==============================] - 88s - loss: 2.0647 - acc: 0.0543 - val_loss: 2.2308 - val_acc: 0.0339\n",
      "Epoch 22/25\n",
      "43343/43343 [==============================] - 88s - loss: 2.0540 - acc: 0.0566 - val_loss: 2.2205 - val_acc: 0.0418\n",
      "Epoch 23/25\n",
      "43343/43343 [==============================] - 89s - loss: 2.0403 - acc: 0.0650 - val_loss: 2.1855 - val_acc: 0.0426\n",
      "Epoch 24/25\n",
      "43343/43343 [==============================] - 89s - loss: 2.0221 - acc: 0.0715 - val_loss: 2.1848 - val_acc: 0.0950\n",
      "Epoch 25/25\n",
      "43343/43343 [==============================] - 89s - loss: 2.0098 - acc: 0.0723 - val_loss: 2.1578 - val_acc: 0.0777\n"
     ]
    },
    {
     "data": {
      "text/plain": [
       "<tensorflow.python.keras._impl.keras.callbacks.History at 0x7f4e4d9cbb38>"
      ]
     },
     "execution_count": 163,
     "metadata": {},
     "output_type": "execute_result"
    }
   ],
   "source": [
    "# Fit the model\n",
    "model.fit(x=img_train, y=labels_train_onehot, batch_size=100, epochs=25, verbose=1,\n",
    "          callbacks=[tb_callback], validation_data=(img_test, labels_test_onehot),\n",
    "          shuffle=\"batch\", sample_weight=sample_weights)"
   ]
  },
  {
   "cell_type": "code",
   "execution_count": 164,
   "metadata": {},
   "outputs": [
    {
     "name": "stdout",
     "output_type": "stream",
     "text": [
      "Error: 92.23%\n"
     ]
    }
   ],
   "source": [
    "# Final evaluation of the model\n",
    "scores = model.evaluate(img_test, labels_test, verbose=0)\n",
    "print(\"Error: %.2f%%\" % (100 - scores[1] * 100))"
   ]
  },
  {
   "cell_type": "code",
   "execution_count": 165,
   "metadata": {},
   "outputs": [],
   "source": [
    "# Save the model\n",
    "model.save(\"/data/joint_scoring/models/\" + new_folder + \".h5\")"
   ]
  },
  {
   "cell_type": "code",
   "execution_count": 166,
   "metadata": {},
   "outputs": [
    {
     "name": "stdout",
     "output_type": "stream",
     "text": [
      "13088/13122 [============================>.] - ETA: 0s             precision    recall  f1-score   support\n",
      "\n",
      "          0       0.01      0.53      0.03        95\n",
      "          1       0.10      0.20      0.13       880\n",
      "          2       0.29      0.10      0.15      3234\n",
      "          3       0.23      0.09      0.13      2903\n",
      "          4       1.00      0.00      0.00      3319\n",
      "          5       0.00      0.00      0.00      1223\n",
      "          6       0.09      0.13      0.10      1119\n",
      "          7       0.03      0.11      0.05       271\n",
      "          8       0.01      0.46      0.02        78\n",
      "\n",
      "avg / total       0.39      0.08      0.08     13122\n",
      "\n",
      "[[ 50  10   8   4   0   0  15   2   6]\n",
      " [279 174  78  91   0   0  79  41 138]\n",
      " [867 519 327 303   0   2 473 161 582]\n",
      " [761 431 298 257   0   2 381 156 617]\n",
      " [881 399 261 262   1   0 385 220 910]\n",
      " [235 105  70  91   0   0 166 130 426]\n",
      " [221  89  86  83   0   1 146 123 370]\n",
      " [ 45   8  14  30   0   0  24  29 121]\n",
      " [  8   2   4   2   0   1   9  16  36]]\n"
     ]
    }
   ],
   "source": [
    "from sklearn.metrics import confusion_matrix, classification_report\n",
    "pred = model.predict_classes(img_test)\n",
    "p = model.predict_proba(img_test)\n",
    "\n",
    "print(classification_report(np.argmax(labels_test, axis=1), pred))\n",
    "cnf_matrix = confusion_matrix(np.argmax(labels_test, axis=1), pred)\n",
    "print(cnf_matrix)"
   ]
  },
  {
   "cell_type": "code",
   "execution_count": 167,
   "metadata": {},
   "outputs": [
    {
     "name": "stdout",
     "output_type": "stream",
     "text": [
      "Confusion matrix, without normalization\n",
      "[[ 50  10   8   4   0   0  15   2   6]\n",
      " [279 174  78  91   0   0  79  41 138]\n",
      " [867 519 327 303   0   2 473 161 582]\n",
      " [761 431 298 257   0   2 381 156 617]\n",
      " [881 399 261 262   1   0 385 220 910]\n",
      " [235 105  70  91   0   0 166 130 426]\n",
      " [221  89  86  83   0   1 146 123 370]\n",
      " [ 45   8  14  30   0   0  24  29 121]\n",
      " [  8   2   4   2   0   1   9  16  36]]\n",
      "Normalized confusion matrix\n",
      "[[  5.26315789e-01   1.05263158e-01   8.42105263e-02   4.21052632e-02\n",
      "    0.00000000e+00   0.00000000e+00   1.57894737e-01   2.10526316e-02\n",
      "    6.31578947e-02]\n",
      " [  3.17045455e-01   1.97727273e-01   8.86363636e-02   1.03409091e-01\n",
      "    0.00000000e+00   0.00000000e+00   8.97727273e-02   4.65909091e-02\n",
      "    1.56818182e-01]\n",
      " [  2.68089054e-01   1.60482375e-01   1.01113173e-01   9.36920223e-02\n",
      "    0.00000000e+00   6.18429190e-04   1.46258503e-01   4.97835498e-02\n",
      "    1.79962894e-01]\n",
      " [  2.62142611e-01   1.48467103e-01   1.02652429e-01   8.85291078e-02\n",
      "    0.00000000e+00   6.88942473e-04   1.31243541e-01   5.37375129e-02\n",
      "    2.12538753e-01]\n",
      " [  2.65441398e-01   1.20216933e-01   7.86381440e-02   7.89394396e-02\n",
      "    3.01295571e-04   0.00000000e+00   1.15998795e-01   6.62850256e-02\n",
      "    2.74178970e-01]\n",
      " [  1.92150450e-01   8.58544563e-02   5.72363042e-02   7.44071954e-02\n",
      "    0.00000000e+00   0.00000000e+00   1.35731807e-01   1.06295993e-01\n",
      "    3.48323794e-01]\n",
      " [  1.97497766e-01   7.95352994e-02   7.68543342e-02   7.41733691e-02\n",
      "    0.00000000e+00   8.93655049e-04   1.30473637e-01   1.09919571e-01\n",
      "    3.30652368e-01]\n",
      " [  1.66051661e-01   2.95202952e-02   5.16605166e-02   1.10701107e-01\n",
      "    0.00000000e+00   0.00000000e+00   8.85608856e-02   1.07011070e-01\n",
      "    4.46494465e-01]\n",
      " [  1.02564103e-01   2.56410256e-02   5.12820513e-02   2.56410256e-02\n",
      "    0.00000000e+00   1.28205128e-02   1.15384615e-01   2.05128205e-01\n",
      "    4.61538462e-01]]\n"
     ]
    },
    {
     "data": {
      "image/png": "[encoded data removed]",
      "text/plain": [
       "<matplotlib.figure.Figure at 0x7f4db248d908>"
      ]
     },
     "metadata": {},
     "output_type": "display_data"
    },
    {
     "data": {
      "image/png": "[encoded data removed]",
      "text/plain": [
       "<matplotlib.figure.Figure at 0x7f4db248df60>"
      ]
     },
     "metadata": {},
     "output_type": "display_data"
    }
   ],
   "source": [
    "def plot_confusion_matrix(cm, classes,\n",
    "                          normalize=False,\n",
    "                          title='Confusion matrix',\n",
    "                          cmap=plt.cm.Blues):\n",
    "    \"\"\"\n",
    "    This function prints and plots the confusion matrix.\n",
    "    Normalization can be applied by setting `normalize=True`.\n",
    "    \"\"\"\n",
    "    if normalize:\n",
    "        cm = cm.astype('float') / cm.sum(axis=1)[:, np.newaxis]\n",
    "        print(\"Normalized confusion matrix\")\n",
    "    else:\n",
    "        print('Confusion matrix, without normalization')\n",
    "\n",
    "    print(cm)\n",
    "\n",
    "    plt.imshow(cm, interpolation='nearest', cmap=cmap)\n",
    "    plt.title(title)\n",
    "    plt.colorbar()\n",
    "    tick_marks = np.arange(len(classes))\n",
    "    plt.xticks(tick_marks, classes, rotation=45)\n",
    "    plt.yticks(tick_marks, classes)\n",
    "\n",
    "    fmt = '.2f' if normalize else 'd'\n",
    "    thresh = cm.max() / 2.\n",
    "    for i, j in itertools.product(range(cm.shape[0]), range(cm.shape[1])):\n",
    "        plt.text(j, i, format(cm[i, j], fmt),\n",
    "                 horizontalalignment=\"center\",\n",
    "                 color=\"white\" if cm[i, j] > thresh else \"black\")\n",
    "\n",
    "    plt.tight_layout()\n",
    "    plt.ylabel('True label')\n",
    "    plt.xlabel('Predicted label')\n",
    "\n",
    "# Plot non-normalized confusion matrix\n",
    "plt.figure()\n",
    "plot_confusion_matrix(cnf_matrix, classes=range(num_classes),\n",
    "                      title='Confusion matrix, without normalization')\n",
    "\n",
    "# Plot normalized confusion matrix\n",
    "plt.figure()\n",
    "plot_confusion_matrix(cnf_matrix, classes=range(num_classes), normalize=True,\n",
    "                      title='Normalized confusion matrix')\n",
    "\n",
    "plt.show()"
   ]
  },
  {
   "cell_type": "code",
   "execution_count": 168,
   "metadata": {},
   "outputs": [
    {
     "name": "stdout",
     "output_type": "stream",
     "text": [
      "Mean accuracy per class\n",
      "0.179223311884\n"
     ]
    }
   ],
   "source": [
    "cm = cnf_matrix.astype('float') / cnf_matrix.sum(axis=1)[:, np.newaxis]\n",
    "print(\"Mean accuracy per class\")\n",
    "print(np.mean(np.diag(cm)))"
   ]
  },
  {
   "cell_type": "code",
   "execution_count": 169,
   "metadata": {},
   "outputs": [
    {
     "name": "stdout",
     "output_type": "stream",
     "text": [
      "Mean accuracy in the correct class or +- 1\n",
      "0.394049959665\n"
     ]
    }
   ],
   "source": [
    "upper = np.diag(cm, 1)\n",
    "upper = np.append(upper, 0)\n",
    "diagonal = np.diag(cm)\n",
    "lower = np.diag(cm, -1)\n",
    "lower = np.append(0, lower)\n",
    "\n",
    "arr = np.vstack((upper, diagonal, lower))\n",
    "print(\"Mean accuracy in the correct class or +- 1\")\n",
    "print(arr.sum(axis=0).mean())"
   ]
  },
  {
   "cell_type": "code",
   "execution_count": 171,
   "metadata": {},
   "outputs": [],
   "source": [
    "from nbconvert import HTMLExporter\n",
    "import codecs\n",
    "import nbformat\n",
    "exporter = HTMLExporter()\n",
    "output_notebook = nbformat.read('deepxray_das_scores.ipynb', as_version=4)\n",
    "output, resources = exporter.from_notebook_node(output_notebook)\n",
    "codecs.open(\"/data/joint_scoring/notebooks/\" + new_folder + \".html\", 'w', encoding='utf-8').write(output)"
   ]
  },
  {
   "cell_type": "code",
   "execution_count": null,
   "metadata": {},
   "outputs": [],
   "source": []
  },
  {
   "cell_type": "code",
   "execution_count": null,
   "metadata": {},
   "outputs": [],
   "source": []
  },
  {
   "cell_type": "code",
   "execution_count": null,
   "metadata": {},
   "outputs": [],
   "source": []
  }
 ],
 "metadata": {
  "kernelspec": {
   "display_name": "Python 3",
   "language": "python",
   "name": "python3"
  },
  "language_info": {
   "codemirror_mode": {
    "name": "ipython",
    "version": 3
   },
   "file_extension": ".py",
   "mimetype": "text/x-python",
   "name": "python",
   "nbconvert_exporter": "python",
   "pygments_lexer": "ipython3",
   "version": "3.5.2"
  }
 },
 "nbformat": 4,
 "nbformat_minor": 1
}
